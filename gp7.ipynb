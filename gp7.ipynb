{
 "cells": [
  {
   "cell_type": "markdown",
   "metadata": {
    "colab_type": "text",
    "id": "e4VZNmDrpXKX"
   },
   "source": [
    "## Environment setup"
   ]
  },
  {
   "cell_type": "code",
   "execution_count": 2,
   "metadata": {
    "colab": {},
    "colab_type": "code",
    "id": "5i-2ZI6_pXKc"
   },
   "outputs": [
    {
     "ename": "FileNotFoundError",
     "evalue": "[Errno 2] File b'Airplane_Crashes_and_Fatalities_Since_1908.csv' does not exist: b'Airplane_Crashes_and_Fatalities_Since_1908.csv'",
     "output_type": "error",
     "traceback": [
      "\u001b[1;31m---------------------------------------------------------------------------\u001b[0m",
      "\u001b[1;31mFileNotFoundError\u001b[0m                         Traceback (most recent call last)",
      "\u001b[1;32m<ipython-input-2-6c34d30245fb>\u001b[0m in \u001b[0;36m<module>\u001b[1;34m\u001b[0m\n\u001b[0;32m     13\u001b[0m \u001b[1;33m\u001b[0m\u001b[0m\n\u001b[0;32m     14\u001b[0m \u001b[1;31m#read in and filter data\u001b[0m\u001b[1;33m\u001b[0m\u001b[1;33m\u001b[0m\u001b[1;33m\u001b[0m\u001b[0m\n\u001b[1;32m---> 15\u001b[1;33m \u001b[0mcrashes\u001b[0m \u001b[1;33m=\u001b[0m \u001b[0mpd\u001b[0m\u001b[1;33m.\u001b[0m\u001b[0mread_csv\u001b[0m\u001b[1;33m(\u001b[0m\u001b[1;34m\"Airplane_Crashes_and_Fatalities_Since_1908.csv\"\u001b[0m\u001b[1;33m)\u001b[0m\u001b[1;33m\u001b[0m\u001b[1;33m\u001b[0m\u001b[0m\n\u001b[0m\u001b[0;32m     16\u001b[0m \u001b[0mcrashes\u001b[0m \u001b[1;33m=\u001b[0m \u001b[0mcrashes\u001b[0m\u001b[1;33m.\u001b[0m\u001b[0mtail\u001b[0m\u001b[1;33m(\u001b[0m\u001b[1;36m579\u001b[0m\u001b[1;33m)\u001b[0m \u001b[1;31m#limit to 2000s\u001b[0m\u001b[1;33m\u001b[0m\u001b[1;33m\u001b[0m\u001b[0m\n\u001b[0;32m     17\u001b[0m \u001b[1;33m\u001b[0m\u001b[0m\n",
      "\u001b[1;32m~\\Anaconda3\\lib\\site-packages\\pandas\\io\\parsers.py\u001b[0m in \u001b[0;36mparser_f\u001b[1;34m(filepath_or_buffer, sep, delimiter, header, names, index_col, usecols, squeeze, prefix, mangle_dupe_cols, dtype, engine, converters, true_values, false_values, skipinitialspace, skiprows, skipfooter, nrows, na_values, keep_default_na, na_filter, verbose, skip_blank_lines, parse_dates, infer_datetime_format, keep_date_col, date_parser, dayfirst, iterator, chunksize, compression, thousands, decimal, lineterminator, quotechar, quoting, doublequote, escapechar, comment, encoding, dialect, tupleize_cols, error_bad_lines, warn_bad_lines, delim_whitespace, low_memory, memory_map, float_precision)\u001b[0m\n\u001b[0;32m    700\u001b[0m                     skip_blank_lines=skip_blank_lines)\n\u001b[0;32m    701\u001b[0m \u001b[1;33m\u001b[0m\u001b[0m\n\u001b[1;32m--> 702\u001b[1;33m         \u001b[1;32mreturn\u001b[0m \u001b[0m_read\u001b[0m\u001b[1;33m(\u001b[0m\u001b[0mfilepath_or_buffer\u001b[0m\u001b[1;33m,\u001b[0m \u001b[0mkwds\u001b[0m\u001b[1;33m)\u001b[0m\u001b[1;33m\u001b[0m\u001b[1;33m\u001b[0m\u001b[0m\n\u001b[0m\u001b[0;32m    703\u001b[0m \u001b[1;33m\u001b[0m\u001b[0m\n\u001b[0;32m    704\u001b[0m     \u001b[0mparser_f\u001b[0m\u001b[1;33m.\u001b[0m\u001b[0m__name__\u001b[0m \u001b[1;33m=\u001b[0m \u001b[0mname\u001b[0m\u001b[1;33m\u001b[0m\u001b[1;33m\u001b[0m\u001b[0m\n",
      "\u001b[1;32m~\\Anaconda3\\lib\\site-packages\\pandas\\io\\parsers.py\u001b[0m in \u001b[0;36m_read\u001b[1;34m(filepath_or_buffer, kwds)\u001b[0m\n\u001b[0;32m    427\u001b[0m \u001b[1;33m\u001b[0m\u001b[0m\n\u001b[0;32m    428\u001b[0m     \u001b[1;31m# Create the parser.\u001b[0m\u001b[1;33m\u001b[0m\u001b[1;33m\u001b[0m\u001b[1;33m\u001b[0m\u001b[0m\n\u001b[1;32m--> 429\u001b[1;33m     \u001b[0mparser\u001b[0m \u001b[1;33m=\u001b[0m \u001b[0mTextFileReader\u001b[0m\u001b[1;33m(\u001b[0m\u001b[0mfilepath_or_buffer\u001b[0m\u001b[1;33m,\u001b[0m \u001b[1;33m**\u001b[0m\u001b[0mkwds\u001b[0m\u001b[1;33m)\u001b[0m\u001b[1;33m\u001b[0m\u001b[1;33m\u001b[0m\u001b[0m\n\u001b[0m\u001b[0;32m    430\u001b[0m \u001b[1;33m\u001b[0m\u001b[0m\n\u001b[0;32m    431\u001b[0m     \u001b[1;32mif\u001b[0m \u001b[0mchunksize\u001b[0m \u001b[1;32mor\u001b[0m \u001b[0miterator\u001b[0m\u001b[1;33m:\u001b[0m\u001b[1;33m\u001b[0m\u001b[1;33m\u001b[0m\u001b[0m\n",
      "\u001b[1;32m~\\Anaconda3\\lib\\site-packages\\pandas\\io\\parsers.py\u001b[0m in \u001b[0;36m__init__\u001b[1;34m(self, f, engine, **kwds)\u001b[0m\n\u001b[0;32m    893\u001b[0m             \u001b[0mself\u001b[0m\u001b[1;33m.\u001b[0m\u001b[0moptions\u001b[0m\u001b[1;33m[\u001b[0m\u001b[1;34m'has_index_names'\u001b[0m\u001b[1;33m]\u001b[0m \u001b[1;33m=\u001b[0m \u001b[0mkwds\u001b[0m\u001b[1;33m[\u001b[0m\u001b[1;34m'has_index_names'\u001b[0m\u001b[1;33m]\u001b[0m\u001b[1;33m\u001b[0m\u001b[1;33m\u001b[0m\u001b[0m\n\u001b[0;32m    894\u001b[0m \u001b[1;33m\u001b[0m\u001b[0m\n\u001b[1;32m--> 895\u001b[1;33m         \u001b[0mself\u001b[0m\u001b[1;33m.\u001b[0m\u001b[0m_make_engine\u001b[0m\u001b[1;33m(\u001b[0m\u001b[0mself\u001b[0m\u001b[1;33m.\u001b[0m\u001b[0mengine\u001b[0m\u001b[1;33m)\u001b[0m\u001b[1;33m\u001b[0m\u001b[1;33m\u001b[0m\u001b[0m\n\u001b[0m\u001b[0;32m    896\u001b[0m \u001b[1;33m\u001b[0m\u001b[0m\n\u001b[0;32m    897\u001b[0m     \u001b[1;32mdef\u001b[0m \u001b[0mclose\u001b[0m\u001b[1;33m(\u001b[0m\u001b[0mself\u001b[0m\u001b[1;33m)\u001b[0m\u001b[1;33m:\u001b[0m\u001b[1;33m\u001b[0m\u001b[1;33m\u001b[0m\u001b[0m\n",
      "\u001b[1;32m~\\Anaconda3\\lib\\site-packages\\pandas\\io\\parsers.py\u001b[0m in \u001b[0;36m_make_engine\u001b[1;34m(self, engine)\u001b[0m\n\u001b[0;32m   1120\u001b[0m     \u001b[1;32mdef\u001b[0m \u001b[0m_make_engine\u001b[0m\u001b[1;33m(\u001b[0m\u001b[0mself\u001b[0m\u001b[1;33m,\u001b[0m \u001b[0mengine\u001b[0m\u001b[1;33m=\u001b[0m\u001b[1;34m'c'\u001b[0m\u001b[1;33m)\u001b[0m\u001b[1;33m:\u001b[0m\u001b[1;33m\u001b[0m\u001b[1;33m\u001b[0m\u001b[0m\n\u001b[0;32m   1121\u001b[0m         \u001b[1;32mif\u001b[0m \u001b[0mengine\u001b[0m \u001b[1;33m==\u001b[0m \u001b[1;34m'c'\u001b[0m\u001b[1;33m:\u001b[0m\u001b[1;33m\u001b[0m\u001b[1;33m\u001b[0m\u001b[0m\n\u001b[1;32m-> 1122\u001b[1;33m             \u001b[0mself\u001b[0m\u001b[1;33m.\u001b[0m\u001b[0m_engine\u001b[0m \u001b[1;33m=\u001b[0m \u001b[0mCParserWrapper\u001b[0m\u001b[1;33m(\u001b[0m\u001b[0mself\u001b[0m\u001b[1;33m.\u001b[0m\u001b[0mf\u001b[0m\u001b[1;33m,\u001b[0m \u001b[1;33m**\u001b[0m\u001b[0mself\u001b[0m\u001b[1;33m.\u001b[0m\u001b[0moptions\u001b[0m\u001b[1;33m)\u001b[0m\u001b[1;33m\u001b[0m\u001b[1;33m\u001b[0m\u001b[0m\n\u001b[0m\u001b[0;32m   1123\u001b[0m         \u001b[1;32melse\u001b[0m\u001b[1;33m:\u001b[0m\u001b[1;33m\u001b[0m\u001b[1;33m\u001b[0m\u001b[0m\n\u001b[0;32m   1124\u001b[0m             \u001b[1;32mif\u001b[0m \u001b[0mengine\u001b[0m \u001b[1;33m==\u001b[0m \u001b[1;34m'python'\u001b[0m\u001b[1;33m:\u001b[0m\u001b[1;33m\u001b[0m\u001b[1;33m\u001b[0m\u001b[0m\n",
      "\u001b[1;32m~\\Anaconda3\\lib\\site-packages\\pandas\\io\\parsers.py\u001b[0m in \u001b[0;36m__init__\u001b[1;34m(self, src, **kwds)\u001b[0m\n\u001b[0;32m   1851\u001b[0m         \u001b[0mkwds\u001b[0m\u001b[1;33m[\u001b[0m\u001b[1;34m'usecols'\u001b[0m\u001b[1;33m]\u001b[0m \u001b[1;33m=\u001b[0m \u001b[0mself\u001b[0m\u001b[1;33m.\u001b[0m\u001b[0musecols\u001b[0m\u001b[1;33m\u001b[0m\u001b[1;33m\u001b[0m\u001b[0m\n\u001b[0;32m   1852\u001b[0m \u001b[1;33m\u001b[0m\u001b[0m\n\u001b[1;32m-> 1853\u001b[1;33m         \u001b[0mself\u001b[0m\u001b[1;33m.\u001b[0m\u001b[0m_reader\u001b[0m \u001b[1;33m=\u001b[0m \u001b[0mparsers\u001b[0m\u001b[1;33m.\u001b[0m\u001b[0mTextReader\u001b[0m\u001b[1;33m(\u001b[0m\u001b[0msrc\u001b[0m\u001b[1;33m,\u001b[0m \u001b[1;33m**\u001b[0m\u001b[0mkwds\u001b[0m\u001b[1;33m)\u001b[0m\u001b[1;33m\u001b[0m\u001b[1;33m\u001b[0m\u001b[0m\n\u001b[0m\u001b[0;32m   1854\u001b[0m         \u001b[0mself\u001b[0m\u001b[1;33m.\u001b[0m\u001b[0munnamed_cols\u001b[0m \u001b[1;33m=\u001b[0m \u001b[0mself\u001b[0m\u001b[1;33m.\u001b[0m\u001b[0m_reader\u001b[0m\u001b[1;33m.\u001b[0m\u001b[0munnamed_cols\u001b[0m\u001b[1;33m\u001b[0m\u001b[1;33m\u001b[0m\u001b[0m\n\u001b[0;32m   1855\u001b[0m \u001b[1;33m\u001b[0m\u001b[0m\n",
      "\u001b[1;32mpandas/_libs/parsers.pyx\u001b[0m in \u001b[0;36mpandas._libs.parsers.TextReader.__cinit__\u001b[1;34m()\u001b[0m\n",
      "\u001b[1;32mpandas/_libs/parsers.pyx\u001b[0m in \u001b[0;36mpandas._libs.parsers.TextReader._setup_parser_source\u001b[1;34m()\u001b[0m\n",
      "\u001b[1;31mFileNotFoundError\u001b[0m: [Errno 2] File b'Airplane_Crashes_and_Fatalities_Since_1908.csv' does not exist: b'Airplane_Crashes_and_Fatalities_Since_1908.csv'"
     ]
    }
   ],
   "source": [
    "import numpy as np\n",
    "import os\n",
    "import sys\n",
    "from datetime import date,timedelta,datetime\n",
    "import matplotlib.gridspec as gridspec\n",
    "import pandas as pd\n",
    "from sklearn import preprocessing \n",
    "import math\n",
    "import scipy.stats as stats\n",
    "import matplotlib.pyplot as plt\n",
    "import seaborn as sns\n",
    "\n",
    "\n",
    "#read in and filter data\n",
    "crashes = pd.read_csv(\"Airplane_Crashes_and_Fatalities_Since_1908.csv\")\n",
    "crashes = crashes.tail(579) #limit to 2000s\n",
    "\n",
    "#build relevant dataframe\n",
    "op = crashes.loc[:, \"Operator\"]\n",
    "ab = crashes.loc[:, \"Aboard\"]\n",
    "ft = crashes.loc[:, \"Fatalities\"]\n",
    "gd = crashes.loc[:, \"Ground\"]\n",
    "tp = crashes.loc[:, \"Type\"]\n",
    "\n",
    "rel = pd.DataFrame()\n",
    "rel[\"airline\"] = op\n",
    "rel[\"count\"] = 1\n",
    "rel[\"aboard\"] = ab\n",
    "rel[\"fatalities\"] = ft\n",
    "rel[\"bystanderFatalities\"] = gd\n",
    "rel[\"aircraftType\"] = tp\n",
    "\n",
    "#remove duplicates and sum values\n",
    "cld = rel.groupby(rel.airline).sum()\n",
    "typ = rel.groupby(rel.aircraftType).sum()\n",
    "\n",
    "#extrapolate data\n",
    "rto = cld.fatalities/cld.aboard\n",
    "cld[\"percentageDead\"] = rto\n",
    "tot = cld.fatalities+cld.bystanderFatalities\n",
    "cld[\"totalFatalities\"] = tot\n",
    "trto = typ.fatalities/typ.aboard\n",
    "typ[\"percentageDead\"] = trto\n",
    "ttot = typ.fatalities+typ.bystanderFatalities\n",
    "typ[\"totalFatalities\"] = ttot\n",
    "\n",
    "#set graph size\n",
    "plt.rcParams['figure.figsize'] = (12.0, 8.0)\n",
    "\n",
    "\n",
    "plt.figure(7)\n",
    "ax = plt.subplot(111)\n",
    "cld.plot(kind='scatter', x='count', y='totalFatalities',ax=ax, c='percentageDead', title='number of fatalities by number of crashes (excl. 9/11) ')\n",
    "ax.set_xlim(0,6)\n",
    "ax.set_ylim(0,400)"
   ]
  },
  {
   "cell_type": "code",
   "execution_count": null,
   "metadata": {
    "colab": {},
    "colab_type": "code",
    "id": "tO7MCIimpXKn"
   },
   "outputs": [],
   "source": [
    "df=pd.read_csv(\"Airplane_Crashes_and_Fatalities_since_1908.csv\")"
   ]
  },
  {
   "cell_type": "markdown",
   "metadata": {
    "colab_type": "text",
    "id": "HLsdiU2RpXKu"
   },
   "source": [
    "## Getting familiar with the dataset"
   ]
  },
  {
   "cell_type": "code",
   "execution_count": 0,
   "metadata": {
    "colab": {},
    "colab_type": "code",
    "id": "8kU4bHfzpXKv",
    "outputId": "a5420d46-cf8f-496a-f3e3-e4bdb6ad2bf5"
   },
   "outputs": [
    {
     "data": {
      "text/plain": [
       "Index(['Date', 'Time', 'Location', 'Operator', 'Flight #', 'Route', 'Type',\n",
       "       'Registration', 'cn/In', 'Aboard', 'Fatalities', 'Ground', 'Summary'],\n",
       "      dtype='object')"
      ]
     },
     "execution_count": 80,
     "metadata": {
      "tags": []
     },
     "output_type": "execute_result"
    }
   ],
   "source": [
    "df.columns"
   ]
  },
  {
   "cell_type": "code",
   "execution_count": 0,
   "metadata": {
    "colab": {},
    "colab_type": "code",
    "id": "ymW8DdaWpXK4",
    "outputId": "eb9bc21d-d952-40ea-dc67-c81c915004f0"
   },
   "outputs": [
    {
     "data": {
      "text/html": [
       "<div>\n",
       "<style scoped>\n",
       "    .dataframe tbody tr th:only-of-type {\n",
       "        vertical-align: middle;\n",
       "    }\n",
       "\n",
       "    .dataframe tbody tr th {\n",
       "        vertical-align: top;\n",
       "    }\n",
       "\n",
       "    .dataframe thead th {\n",
       "        text-align: right;\n",
       "    }\n",
       "</style>\n",
       "<table border=\"1\" class=\"dataframe\">\n",
       "  <thead>\n",
       "    <tr style=\"text-align: right;\">\n",
       "      <th></th>\n",
       "      <th>Date</th>\n",
       "      <th>Time</th>\n",
       "      <th>Location</th>\n",
       "      <th>Operator</th>\n",
       "      <th>Flight #</th>\n",
       "      <th>Route</th>\n",
       "      <th>Type</th>\n",
       "      <th>Registration</th>\n",
       "      <th>cn/In</th>\n",
       "      <th>Aboard</th>\n",
       "      <th>Fatalities</th>\n",
       "      <th>Ground</th>\n",
       "      <th>Summary</th>\n",
       "    </tr>\n",
       "  </thead>\n",
       "  <tbody>\n",
       "    <tr>\n",
       "      <td>0</td>\n",
       "      <td>09/17/1908</td>\n",
       "      <td>17:18</td>\n",
       "      <td>Fort Myer, Virginia</td>\n",
       "      <td>Military - U.S. Army</td>\n",
       "      <td>NaN</td>\n",
       "      <td>Demonstration</td>\n",
       "      <td>Wright Flyer III</td>\n",
       "      <td>NaN</td>\n",
       "      <td>1</td>\n",
       "      <td>2.0</td>\n",
       "      <td>1.0</td>\n",
       "      <td>0.0</td>\n",
       "      <td>During a demonstration flight, a U.S. Army fly...</td>\n",
       "    </tr>\n",
       "    <tr>\n",
       "      <td>1</td>\n",
       "      <td>07/12/1912</td>\n",
       "      <td>06:30</td>\n",
       "      <td>AtlantiCity, New Jersey</td>\n",
       "      <td>Military - U.S. Navy</td>\n",
       "      <td>NaN</td>\n",
       "      <td>Test flight</td>\n",
       "      <td>Dirigible</td>\n",
       "      <td>NaN</td>\n",
       "      <td>NaN</td>\n",
       "      <td>5.0</td>\n",
       "      <td>5.0</td>\n",
       "      <td>0.0</td>\n",
       "      <td>First U.S. dirigible Akron exploded just offsh...</td>\n",
       "    </tr>\n",
       "    <tr>\n",
       "      <td>2</td>\n",
       "      <td>08/06/1913</td>\n",
       "      <td>NaN</td>\n",
       "      <td>Victoria, British Columbia, Canada</td>\n",
       "      <td>Private</td>\n",
       "      <td>-</td>\n",
       "      <td>NaN</td>\n",
       "      <td>Curtiss seaplane</td>\n",
       "      <td>NaN</td>\n",
       "      <td>NaN</td>\n",
       "      <td>1.0</td>\n",
       "      <td>1.0</td>\n",
       "      <td>0.0</td>\n",
       "      <td>The first fatal airplane accident in Canada oc...</td>\n",
       "    </tr>\n",
       "    <tr>\n",
       "      <td>3</td>\n",
       "      <td>09/09/1913</td>\n",
       "      <td>18:30</td>\n",
       "      <td>Over the North Sea</td>\n",
       "      <td>Military - German Navy</td>\n",
       "      <td>NaN</td>\n",
       "      <td>NaN</td>\n",
       "      <td>Zeppelin L-1 (airship)</td>\n",
       "      <td>NaN</td>\n",
       "      <td>NaN</td>\n",
       "      <td>20.0</td>\n",
       "      <td>14.0</td>\n",
       "      <td>0.0</td>\n",
       "      <td>The airship flew into a thunderstorm and encou...</td>\n",
       "    </tr>\n",
       "    <tr>\n",
       "      <td>4</td>\n",
       "      <td>10/17/1913</td>\n",
       "      <td>10:30</td>\n",
       "      <td>Near Johannisthal, Germany</td>\n",
       "      <td>Military - German Navy</td>\n",
       "      <td>NaN</td>\n",
       "      <td>NaN</td>\n",
       "      <td>Zeppelin L-2 (airship)</td>\n",
       "      <td>NaN</td>\n",
       "      <td>NaN</td>\n",
       "      <td>30.0</td>\n",
       "      <td>30.0</td>\n",
       "      <td>0.0</td>\n",
       "      <td>Hydrogen gas which was being vented was sucked...</td>\n",
       "    </tr>\n",
       "  </tbody>\n",
       "</table>\n",
       "</div>"
      ],
      "text/plain": [
       "         Date   Time                            Location  \\\n",
       "0  09/17/1908  17:18                 Fort Myer, Virginia   \n",
       "1  07/12/1912  06:30             AtlantiCity, New Jersey   \n",
       "2  08/06/1913    NaN  Victoria, British Columbia, Canada   \n",
       "3  09/09/1913  18:30                  Over the North Sea   \n",
       "4  10/17/1913  10:30          Near Johannisthal, Germany   \n",
       "\n",
       "                 Operator Flight #          Route                    Type  \\\n",
       "0    Military - U.S. Army      NaN  Demonstration        Wright Flyer III   \n",
       "1    Military - U.S. Navy      NaN    Test flight               Dirigible   \n",
       "2                 Private        -            NaN        Curtiss seaplane   \n",
       "3  Military - German Navy      NaN            NaN  Zeppelin L-1 (airship)   \n",
       "4  Military - German Navy      NaN            NaN  Zeppelin L-2 (airship)   \n",
       "\n",
       "  Registration cn/In  Aboard  Fatalities  Ground  \\\n",
       "0          NaN     1     2.0         1.0     0.0   \n",
       "1          NaN   NaN     5.0         5.0     0.0   \n",
       "2          NaN   NaN     1.0         1.0     0.0   \n",
       "3          NaN   NaN    20.0        14.0     0.0   \n",
       "4          NaN   NaN    30.0        30.0     0.0   \n",
       "\n",
       "                                             Summary  \n",
       "0  During a demonstration flight, a U.S. Army fly...  \n",
       "1  First U.S. dirigible Akron exploded just offsh...  \n",
       "2  The first fatal airplane accident in Canada oc...  \n",
       "3  The airship flew into a thunderstorm and encou...  \n",
       "4  Hydrogen gas which was being vented was sucked...  "
      ]
     },
     "execution_count": 81,
     "metadata": {
      "tags": []
     },
     "output_type": "execute_result"
    }
   ],
   "source": [
    "df.head()"
   ]
  },
  {
   "cell_type": "code",
   "execution_count": 0,
   "metadata": {
    "colab": {},
    "colab_type": "code",
    "id": "IctLcbvPpXK-",
    "outputId": "11134c69-193c-4693-c687-78e4bf10c90e"
   },
   "outputs": [
    {
     "data": {
      "text/html": [
       "<div>\n",
       "<style scoped>\n",
       "    .dataframe tbody tr th:only-of-type {\n",
       "        vertical-align: middle;\n",
       "    }\n",
       "\n",
       "    .dataframe tbody tr th {\n",
       "        vertical-align: top;\n",
       "    }\n",
       "\n",
       "    .dataframe thead th {\n",
       "        text-align: right;\n",
       "    }\n",
       "</style>\n",
       "<table border=\"1\" class=\"dataframe\">\n",
       "  <thead>\n",
       "    <tr style=\"text-align: right;\">\n",
       "      <th></th>\n",
       "      <th>Aboard</th>\n",
       "      <th>Fatalities</th>\n",
       "      <th>Ground</th>\n",
       "    </tr>\n",
       "  </thead>\n",
       "  <tbody>\n",
       "    <tr>\n",
       "      <td>count</td>\n",
       "      <td>5246.000000</td>\n",
       "      <td>5256.000000</td>\n",
       "      <td>5246.000000</td>\n",
       "    </tr>\n",
       "    <tr>\n",
       "      <td>mean</td>\n",
       "      <td>27.554518</td>\n",
       "      <td>20.068303</td>\n",
       "      <td>1.608845</td>\n",
       "    </tr>\n",
       "    <tr>\n",
       "      <td>std</td>\n",
       "      <td>43.076711</td>\n",
       "      <td>33.199952</td>\n",
       "      <td>53.987827</td>\n",
       "    </tr>\n",
       "    <tr>\n",
       "      <td>min</td>\n",
       "      <td>0.000000</td>\n",
       "      <td>0.000000</td>\n",
       "      <td>0.000000</td>\n",
       "    </tr>\n",
       "    <tr>\n",
       "      <td>25%</td>\n",
       "      <td>5.000000</td>\n",
       "      <td>3.000000</td>\n",
       "      <td>0.000000</td>\n",
       "    </tr>\n",
       "    <tr>\n",
       "      <td>50%</td>\n",
       "      <td>13.000000</td>\n",
       "      <td>9.000000</td>\n",
       "      <td>0.000000</td>\n",
       "    </tr>\n",
       "    <tr>\n",
       "      <td>75%</td>\n",
       "      <td>30.000000</td>\n",
       "      <td>23.000000</td>\n",
       "      <td>0.000000</td>\n",
       "    </tr>\n",
       "    <tr>\n",
       "      <td>max</td>\n",
       "      <td>644.000000</td>\n",
       "      <td>583.000000</td>\n",
       "      <td>2750.000000</td>\n",
       "    </tr>\n",
       "  </tbody>\n",
       "</table>\n",
       "</div>"
      ],
      "text/plain": [
       "            Aboard   Fatalities       Ground\n",
       "count  5246.000000  5256.000000  5246.000000\n",
       "mean     27.554518    20.068303     1.608845\n",
       "std      43.076711    33.199952    53.987827\n",
       "min       0.000000     0.000000     0.000000\n",
       "25%       5.000000     3.000000     0.000000\n",
       "50%      13.000000     9.000000     0.000000\n",
       "75%      30.000000    23.000000     0.000000\n",
       "max     644.000000   583.000000  2750.000000"
      ]
     },
     "execution_count": 82,
     "metadata": {
      "tags": []
     },
     "output_type": "execute_result"
    }
   ],
   "source": [
    "df.describe()"
   ]
  },
  {
   "cell_type": "code",
   "execution_count": 0,
   "metadata": {
    "colab": {},
    "colab_type": "code",
    "id": "e6N-BRPApXLC",
    "outputId": "6c48e3f6-4244-439d-8dd3-a41170b3b2f5"
   },
   "outputs": [
    {
     "data": {
      "text/plain": [
       "(5268, 13)"
      ]
     },
     "execution_count": 83,
     "metadata": {
      "tags": []
     },
     "output_type": "execute_result"
    }
   ],
   "source": [
    "df.shape"
   ]
  },
  {
   "cell_type": "code",
   "execution_count": 0,
   "metadata": {
    "colab": {},
    "colab_type": "code",
    "id": "4E7Un2ZtpXLG",
    "outputId": "31a73955-db77-4652-a703-bfb8fe906325"
   },
   "outputs": [
    {
     "data": {
      "text/plain": [
       "Date               0\n",
       "Time            2219\n",
       "Location          20\n",
       "Operator          18\n",
       "Flight #        4199\n",
       "Route           1706\n",
       "Type              27\n",
       "Registration     335\n",
       "cn/In           1228\n",
       "Aboard            22\n",
       "Fatalities        12\n",
       "Ground            22\n",
       "Summary          390\n",
       "dtype: int64"
      ]
     },
     "execution_count": 84,
     "metadata": {
      "tags": []
     },
     "output_type": "execute_result"
    }
   ],
   "source": [
    "df.isnull().sum()"
   ]
  },
  {
   "cell_type": "markdown",
   "metadata": {
    "colab_type": "text",
    "id": "LDtDFb9JpXLK"
   },
   "source": [
    "## Data Cleaning"
   ]
  },
  {
   "cell_type": "code",
   "execution_count": 0,
   "metadata": {
    "colab": {},
    "colab_type": "code",
    "id": "SQ0-FGvIpXLM",
    "outputId": "5050f77d-127a-4640-8743-e0df08bc19ac"
   },
   "outputs": [
    {
     "data": {
      "text/plain": [
       "(5268, 13)"
      ]
     },
     "execution_count": 85,
     "metadata": {
      "tags": []
     },
     "output_type": "execute_result"
    }
   ],
   "source": [
    "df.shape"
   ]
  },
  {
   "cell_type": "code",
   "execution_count": 0,
   "metadata": {
    "colab": {},
    "colab_type": "code",
    "id": "E0ScbnP7pXLP",
    "outputId": "4c80dad4-de3f-413e-fbc8-093dffb7f3f2"
   },
   "outputs": [
    {
     "data": {
      "text/plain": [
       "(944, 13)"
      ]
     },
     "execution_count": 86,
     "metadata": {
      "tags": []
     },
     "output_type": "execute_result"
    }
   ],
   "source": [
    "df.dropna(how='any').shape"
   ]
  },
  {
   "cell_type": "code",
   "execution_count": 0,
   "metadata": {
    "colab": {},
    "colab_type": "code",
    "id": "ofo8B_9wpXLT",
    "outputId": "d6f8da2a-1701-4eed-86a5-08158737cf7f"
   },
   "outputs": [
    {
     "data": {
      "text/plain": [
       "(5268, 13)"
      ]
     },
     "execution_count": 87,
     "metadata": {
      "tags": []
     },
     "output_type": "execute_result"
    }
   ],
   "source": [
    "df.dropna(how='all').shape"
   ]
  },
  {
   "cell_type": "code",
   "execution_count": 0,
   "metadata": {
    "colab": {},
    "colab_type": "code",
    "id": "UEbjVWJopXLW",
    "outputId": "4b47c140-b746-453f-9c2b-7643a7b2d668"
   },
   "outputs": [
    {
     "data": {
      "text/plain": [
       "(974, 13)"
      ]
     },
     "execution_count": 88,
     "metadata": {
      "tags": []
     },
     "output_type": "execute_result"
    }
   ],
   "source": [
    "df.dropna(subset=['Time','Flight #','Registration','cn/In','Summary'],how='any').shape"
   ]
  },
  {
   "cell_type": "code",
   "execution_count": 0,
   "metadata": {
    "colab": {},
    "colab_type": "code",
    "id": "vUR-vO4ipXLb"
   },
   "outputs": [],
   "source": [
    "df=df.drop(columns=['Time','Flight #','Registration','cn/In','Summary'])"
   ]
  },
  {
   "cell_type": "code",
   "execution_count": 0,
   "metadata": {
    "colab": {},
    "colab_type": "code",
    "id": "_kUfRpgnpXLf",
    "outputId": "d18ace7e-f70c-48d0-8af8-916e611eb760"
   },
   "outputs": [
    {
     "data": {
      "text/plain": [
       "Moscow, Russia                                  15\n",
       "Sao Paulo, Brazil                               15\n",
       "Rio de Janeiro, Brazil                          14\n",
       "Anchorage, Alaska                               13\n",
       "Manila, Philippines                             13\n",
       "                                                ..\n",
       "Piura, Peru                                      1\n",
       "San Dimas, California                            1\n",
       "Leeward Point Airfield, Guantanamo Bay, Cuba     1\n",
       "Flamanville, France                              1\n",
       "Berkeley Springs, West Virginia                  1\n",
       "Name: Location, Length: 4303, dtype: int64"
      ]
     },
     "execution_count": 90,
     "metadata": {
      "tags": []
     },
     "output_type": "execute_result"
    }
   ],
   "source": [
    "df['Location'].value_counts()"
   ]
  },
  {
   "cell_type": "code",
   "execution_count": 0,
   "metadata": {
    "colab": {},
    "colab_type": "code",
    "id": "0sUifHWFpXLj",
    "outputId": "505042f3-aed7-466f-fb3c-cebd29523302"
   },
   "outputs": [
    {
     "data": {
      "text/plain": [
       "NaN                                             20\n",
       "Moscow, Russia                                  15\n",
       "Sao Paulo, Brazil                               15\n",
       "Rio de Janeiro, Brazil                          14\n",
       "Bogota, Colombia                                13\n",
       "                                                ..\n",
       "Piura, Peru                                      1\n",
       "San Dimas, California                            1\n",
       "Leeward Point Airfield, Guantanamo Bay, Cuba     1\n",
       "Flamanville, France                              1\n",
       "Loma Linda, Colombia                             1\n",
       "Name: Location, Length: 4304, dtype: int64"
      ]
     },
     "execution_count": 91,
     "metadata": {
      "tags": []
     },
     "output_type": "execute_result"
    }
   ],
   "source": [
    "df['Location'].value_counts(dropna=False)"
   ]
  },
  {
   "cell_type": "code",
   "execution_count": 0,
   "metadata": {
    "colab": {},
    "colab_type": "code",
    "id": "XalPlPMjpXLo",
    "outputId": "c76cef9f-f369-4ada-c60b-3938663e12f1"
   },
   "outputs": [
    {
     "name": "stdout",
     "output_type": "stream",
     "text": [
      "27.554517727792604\n"
     ]
    }
   ],
   "source": [
    "print(df.Aboard.mean())"
   ]
  },
  {
   "cell_type": "code",
   "execution_count": 0,
   "metadata": {
    "colab": {},
    "colab_type": "code",
    "id": "pWvqfVdcpXLu"
   },
   "outputs": [],
   "source": [
    "df['Aboard'].fillna(value=df.Aboard.mean(),inplace=True)"
   ]
  },
  {
   "cell_type": "code",
   "execution_count": 0,
   "metadata": {
    "colab": {},
    "colab_type": "code",
    "id": "CE7qaUp6pXLx"
   },
   "outputs": [],
   "source": [
    "df['Ground'].fillna(0,inplace=True)"
   ]
  },
  {
   "cell_type": "code",
   "execution_count": 0,
   "metadata": {
    "colab": {},
    "colab_type": "code",
    "id": "QpSlMv93pXL0",
    "outputId": "5d8316b0-45e0-4a9b-f509-24a27964ee49"
   },
   "outputs": [
    {
     "data": {
      "text/plain": [
       "0         1.0\n",
       "1         5.0\n",
       "2         1.0\n",
       "3        14.0\n",
       "4        30.0\n",
       "        ...  \n",
       "5263     98.0\n",
       "5264      4.0\n",
       "5265    228.0\n",
       "5266      1.0\n",
       "5267     13.0\n",
       "Name: Fatalities, Length: 5268, dtype: float64"
      ]
     },
     "execution_count": 95,
     "metadata": {
      "tags": []
     },
     "output_type": "execute_result"
    }
   ],
   "source": [
    "df['Fatalities'].fillna(df['Aboard'])"
   ]
  },
  {
   "cell_type": "code",
   "execution_count": 0,
   "metadata": {
    "colab": {},
    "colab_type": "code",
    "id": "iolSJ37YpXL4",
    "outputId": "a872f476-f875-4538-99fd-cde70d265864"
   },
   "outputs": [
    {
     "data": {
      "text/plain": [
       "0       09/17/1908\n",
       "1       07/12/1912\n",
       "2       08/06/1913\n",
       "3       09/09/1913\n",
       "4       10/17/1913\n",
       "           ...    \n",
       "5263    05/20/2009\n",
       "5264    05/26/2009\n",
       "5265    06/01/2009\n",
       "5266    06/07/2009\n",
       "5267    06/08/2009\n",
       "Name: Date, Length: 5268, dtype: object"
      ]
     },
     "execution_count": 96,
     "metadata": {
      "tags": []
     },
     "output_type": "execute_result"
    }
   ],
   "source": [
    "df['Date'].fillna(method='pad')"
   ]
  },
  {
   "cell_type": "code",
   "execution_count": 0,
   "metadata": {
    "colab": {},
    "colab_type": "code",
    "id": "uX3ldA-jpXL9",
    "outputId": "fa88e178-01b6-43f6-d2fa-98857dc3821d"
   },
   "outputs": [
    {
     "data": {
      "text/plain": [
       "Date             0\n",
       "Location        20\n",
       "Operator         0\n",
       "Route         1706\n",
       "Type            27\n",
       "Aboard           0\n",
       "Fatalities      12\n",
       "Ground           0\n",
       "dtype: int64"
      ]
     },
     "execution_count": 97,
     "metadata": {
      "tags": []
     },
     "output_type": "execute_result"
    }
   ],
   "source": [
    "df['Operator'].value_counts()\n",
    "\n",
    "df.Operator.ffill(axis='rows',inplace=True)\n",
    "\n",
    "df.isnull().sum()"
   ]
  },
  {
   "cell_type": "code",
   "execution_count": 0,
   "metadata": {
    "colab": {},
    "colab_type": "code",
    "id": "lbQaVvHopXMH",
    "outputId": "56b6216a-ecf4-4d2a-8bbc-7af0cd3e28a0"
   },
   "outputs": [
    {
     "data": {
      "text/plain": [
       "Date             0\n",
       "Location         0\n",
       "Operator         0\n",
       "Route         1706\n",
       "Type            27\n",
       "Aboard           0\n",
       "Fatalities      12\n",
       "Ground           0\n",
       "dtype: int64"
      ]
     },
     "execution_count": 98,
     "metadata": {
      "tags": []
     },
     "output_type": "execute_result"
    }
   ],
   "source": [
    "df['Location'].value_counts()\n",
    "\n",
    "df.Location.ffill(axis='rows',inplace=True)\n",
    "\n",
    "df.isnull().sum()\n"
   ]
  },
  {
   "cell_type": "code",
   "execution_count": 0,
   "metadata": {
    "colab": {},
    "colab_type": "code",
    "id": "nHamEw4DpXMM",
    "outputId": "bd278fa0-3df3-45de-b861-dbfa5b76900e"
   },
   "outputs": [
    {
     "data": {
      "text/plain": [
       "Date           0\n",
       "Location       0\n",
       "Operator       0\n",
       "Route          0\n",
       "Type          27\n",
       "Aboard         0\n",
       "Fatalities    12\n",
       "Ground         0\n",
       "dtype: int64"
      ]
     },
     "execution_count": 99,
     "metadata": {
      "tags": []
     },
     "output_type": "execute_result"
    }
   ],
   "source": [
    "df['Route'].value_counts()\n",
    "\n",
    "df.Route.ffill(axis='rows',inplace=True)\n",
    "\n",
    "df.isnull().sum()"
   ]
  },
  {
   "cell_type": "code",
   "execution_count": 0,
   "metadata": {
    "colab": {},
    "colab_type": "code",
    "id": "ewUzAZCHpXMQ",
    "outputId": "b71de008-c09a-48a3-aa68-d1ac7674b576"
   },
   "outputs": [
    {
     "data": {
      "text/plain": [
       "Date           0\n",
       "Location       0\n",
       "Operator       0\n",
       "Route          0\n",
       "Type           0\n",
       "Aboard         0\n",
       "Fatalities    12\n",
       "Ground         0\n",
       "dtype: int64"
      ]
     },
     "execution_count": 100,
     "metadata": {
      "tags": []
     },
     "output_type": "execute_result"
    }
   ],
   "source": [
    "df.Type.ffill(axis='rows',inplace=True)\n",
    "df.isnull().sum()"
   ]
  },
  {
   "cell_type": "code",
   "execution_count": 0,
   "metadata": {
    "colab": {},
    "colab_type": "code",
    "id": "TMBeG2GkpXMU",
    "outputId": "695e9ed8-c6e4-40e9-eabf-4fcc7c190b4f"
   },
   "outputs": [
    {
     "data": {
      "text/plain": [
       "Date          0\n",
       "Location      0\n",
       "Operator      0\n",
       "Route         0\n",
       "Type          0\n",
       "Aboard        0\n",
       "Fatalities    0\n",
       "Ground        0\n",
       "dtype: int64"
      ]
     },
     "execution_count": 101,
     "metadata": {
      "tags": []
     },
     "output_type": "execute_result"
    }
   ],
   "source": [
    "df.loc[df['Fatalities'].isnull(),'Fatalities']=df['Aboard']\n",
    "df.isnull().sum()"
   ]
  },
  {
   "cell_type": "code",
   "execution_count": 0,
   "metadata": {
    "colab": {},
    "colab_type": "code",
    "id": "Gi1jPFsdpXMW",
    "outputId": "0fe55b1b-afca-43e1-c00c-3aaaddd9cfcc"
   },
   "outputs": [
    {
     "data": {
      "text/html": [
       "<div>\n",
       "<style scoped>\n",
       "    .dataframe tbody tr th:only-of-type {\n",
       "        vertical-align: middle;\n",
       "    }\n",
       "\n",
       "    .dataframe tbody tr th {\n",
       "        vertical-align: top;\n",
       "    }\n",
       "\n",
       "    .dataframe thead th {\n",
       "        text-align: right;\n",
       "    }\n",
       "</style>\n",
       "<table border=\"1\" class=\"dataframe\">\n",
       "  <thead>\n",
       "    <tr style=\"text-align: right;\">\n",
       "      <th></th>\n",
       "      <th>Date</th>\n",
       "      <th>Location</th>\n",
       "      <th>Operator</th>\n",
       "      <th>Route</th>\n",
       "      <th>Type</th>\n",
       "      <th>Aboard</th>\n",
       "      <th>Fatalities</th>\n",
       "      <th>Ground</th>\n",
       "    </tr>\n",
       "  </thead>\n",
       "  <tbody>\n",
       "    <tr>\n",
       "      <td>0</td>\n",
       "      <td>09/17/1908</td>\n",
       "      <td>Fort Myer, Virginia</td>\n",
       "      <td>Military - U.S. Army</td>\n",
       "      <td>Demonstration</td>\n",
       "      <td>Wright Flyer III</td>\n",
       "      <td>2.0</td>\n",
       "      <td>1.0</td>\n",
       "      <td>0.0</td>\n",
       "    </tr>\n",
       "    <tr>\n",
       "      <td>1</td>\n",
       "      <td>07/12/1912</td>\n",
       "      <td>AtlantiCity, New Jersey</td>\n",
       "      <td>Military - U.S. Navy</td>\n",
       "      <td>Test flight</td>\n",
       "      <td>Dirigible</td>\n",
       "      <td>5.0</td>\n",
       "      <td>5.0</td>\n",
       "      <td>0.0</td>\n",
       "    </tr>\n",
       "    <tr>\n",
       "      <td>2</td>\n",
       "      <td>08/06/1913</td>\n",
       "      <td>Victoria, British Columbia, Canada</td>\n",
       "      <td>Private</td>\n",
       "      <td>Test flight</td>\n",
       "      <td>Curtiss seaplane</td>\n",
       "      <td>1.0</td>\n",
       "      <td>1.0</td>\n",
       "      <td>0.0</td>\n",
       "    </tr>\n",
       "    <tr>\n",
       "      <td>3</td>\n",
       "      <td>09/09/1913</td>\n",
       "      <td>Over the North Sea</td>\n",
       "      <td>Military - German Navy</td>\n",
       "      <td>Test flight</td>\n",
       "      <td>Zeppelin L-1 (airship)</td>\n",
       "      <td>20.0</td>\n",
       "      <td>14.0</td>\n",
       "      <td>0.0</td>\n",
       "    </tr>\n",
       "    <tr>\n",
       "      <td>4</td>\n",
       "      <td>10/17/1913</td>\n",
       "      <td>Near Johannisthal, Germany</td>\n",
       "      <td>Military - German Navy</td>\n",
       "      <td>Test flight</td>\n",
       "      <td>Zeppelin L-2 (airship)</td>\n",
       "      <td>30.0</td>\n",
       "      <td>30.0</td>\n",
       "      <td>0.0</td>\n",
       "    </tr>\n",
       "    <tr>\n",
       "      <td>...</td>\n",
       "      <td>...</td>\n",
       "      <td>...</td>\n",
       "      <td>...</td>\n",
       "      <td>...</td>\n",
       "      <td>...</td>\n",
       "      <td>...</td>\n",
       "      <td>...</td>\n",
       "      <td>...</td>\n",
       "    </tr>\n",
       "    <tr>\n",
       "      <td>5263</td>\n",
       "      <td>05/20/2009</td>\n",
       "      <td>Near Madiun, Indonesia</td>\n",
       "      <td>Military - Indonesian Air Force</td>\n",
       "      <td>Jakarta - Maduin</td>\n",
       "      <td>Lockheed C-130 Hercules</td>\n",
       "      <td>112.0</td>\n",
       "      <td>98.0</td>\n",
       "      <td>2.0</td>\n",
       "    </tr>\n",
       "    <tr>\n",
       "      <td>5264</td>\n",
       "      <td>05/26/2009</td>\n",
       "      <td>Near Isiro, DemocratiRepubliCongo</td>\n",
       "      <td>Service Air</td>\n",
       "      <td>Goma - Isiro</td>\n",
       "      <td>Antonov An-26</td>\n",
       "      <td>4.0</td>\n",
       "      <td>4.0</td>\n",
       "      <td>0.0</td>\n",
       "    </tr>\n",
       "    <tr>\n",
       "      <td>5265</td>\n",
       "      <td>06/01/2009</td>\n",
       "      <td>AtlantiOcean, 570 miles northeast of Natal, Br...</td>\n",
       "      <td>Air France</td>\n",
       "      <td>Rio de Janeiro - Paris</td>\n",
       "      <td>Airbus A330-203</td>\n",
       "      <td>228.0</td>\n",
       "      <td>228.0</td>\n",
       "      <td>0.0</td>\n",
       "    </tr>\n",
       "    <tr>\n",
       "      <td>5266</td>\n",
       "      <td>06/07/2009</td>\n",
       "      <td>Near Port Hope Simpson, Newfoundland, Canada</td>\n",
       "      <td>Strait Air</td>\n",
       "      <td>Lourdes de BlanSablon - Port Hope Simpson</td>\n",
       "      <td>Britten-Norman BN-2A-27 Islander</td>\n",
       "      <td>1.0</td>\n",
       "      <td>1.0</td>\n",
       "      <td>0.0</td>\n",
       "    </tr>\n",
       "    <tr>\n",
       "      <td>5267</td>\n",
       "      <td>06/08/2009</td>\n",
       "      <td>State of Arunachal Pradesh, India</td>\n",
       "      <td>Military - Indian Air Force</td>\n",
       "      <td>Mechuka for Jorhat</td>\n",
       "      <td>Antonov An-32</td>\n",
       "      <td>13.0</td>\n",
       "      <td>13.0</td>\n",
       "      <td>0.0</td>\n",
       "    </tr>\n",
       "  </tbody>\n",
       "</table>\n",
       "<p>5268 rows × 8 columns</p>\n",
       "</div>"
      ],
      "text/plain": [
       "            Date                                           Location  \\\n",
       "0     09/17/1908                                Fort Myer, Virginia   \n",
       "1     07/12/1912                            AtlantiCity, New Jersey   \n",
       "2     08/06/1913                 Victoria, British Columbia, Canada   \n",
       "3     09/09/1913                                 Over the North Sea   \n",
       "4     10/17/1913                         Near Johannisthal, Germany   \n",
       "...          ...                                                ...   \n",
       "5263  05/20/2009                             Near Madiun, Indonesia   \n",
       "5264  05/26/2009                  Near Isiro, DemocratiRepubliCongo   \n",
       "5265  06/01/2009  AtlantiOcean, 570 miles northeast of Natal, Br...   \n",
       "5266  06/07/2009       Near Port Hope Simpson, Newfoundland, Canada   \n",
       "5267  06/08/2009                  State of Arunachal Pradesh, India   \n",
       "\n",
       "                             Operator  \\\n",
       "0                Military - U.S. Army   \n",
       "1                Military - U.S. Navy   \n",
       "2                             Private   \n",
       "3              Military - German Navy   \n",
       "4              Military - German Navy   \n",
       "...                               ...   \n",
       "5263  Military - Indonesian Air Force   \n",
       "5264                      Service Air   \n",
       "5265                       Air France   \n",
       "5266                       Strait Air   \n",
       "5267      Military - Indian Air Force   \n",
       "\n",
       "                                          Route  \\\n",
       "0                                 Demonstration   \n",
       "1                                   Test flight   \n",
       "2                                   Test flight   \n",
       "3                                   Test flight   \n",
       "4                                   Test flight   \n",
       "...                                         ...   \n",
       "5263                           Jakarta - Maduin   \n",
       "5264                               Goma - Isiro   \n",
       "5265                     Rio de Janeiro - Paris   \n",
       "5266  Lourdes de BlanSablon - Port Hope Simpson   \n",
       "5267                         Mechuka for Jorhat   \n",
       "\n",
       "                                  Type  Aboard  Fatalities  Ground  \n",
       "0                     Wright Flyer III     2.0         1.0     0.0  \n",
       "1                            Dirigible     5.0         5.0     0.0  \n",
       "2                     Curtiss seaplane     1.0         1.0     0.0  \n",
       "3               Zeppelin L-1 (airship)    20.0        14.0     0.0  \n",
       "4               Zeppelin L-2 (airship)    30.0        30.0     0.0  \n",
       "...                                ...     ...         ...     ...  \n",
       "5263           Lockheed C-130 Hercules   112.0        98.0     2.0  \n",
       "5264                     Antonov An-26     4.0         4.0     0.0  \n",
       "5265                   Airbus A330-203   228.0       228.0     0.0  \n",
       "5266  Britten-Norman BN-2A-27 Islander     1.0         1.0     0.0  \n",
       "5267                     Antonov An-32    13.0        13.0     0.0  \n",
       "\n",
       "[5268 rows x 8 columns]"
      ]
     },
     "execution_count": 102,
     "metadata": {
      "tags": []
     },
     "output_type": "execute_result"
    }
   ],
   "source": [
    "df"
   ]
  },
  {
   "cell_type": "markdown",
   "metadata": {
    "colab_type": "text",
    "id": "Bjpmq7N2pXMZ"
   },
   "source": [
    "## Data Visualisation"
   ]
  },
  {
   "cell_type": "code",
   "execution_count": null,
   "metadata": {
    "colab": {},
    "colab_type": "code",
    "id": "_7BVkH09pXMa"
   },
   "outputs": [],
   "source": [
    "dataset = pd.read_csv(\"Airplane_Crashes_and_Fatalities_Since_1908.csv\")\n",
    "dataset.shape\n",
    "dataset.head()\n",
    "dataset.columns = dataset.columns.str.lower()\n",
    "dataset.head()\n",
    "dataset.info()\n",
    "operator = dataset['operator'].value_counts()\n",
    "operator\n",
    "locations = dataset['location'].value_counts()\n",
    "locations\n",
    "time = dataset['time'].value_counts()\n",
    "print(time[time == 1].count())\n",
    "print(time[time == 2].count())\n",
    "print(time[time == 3].count())\n",
    "print(time[time == 4].count())\n",
    "print(time[time == 5].count())\n",
    "time_count = time[time >4]\n",
    "\n",
    "plt.figure(figsize=(10,8))\n",
    "time_count.plot()\n",
    "plt.ylabel(\"Frequency\")\n",
    "plt.xlabel(\"time count\")\n",
    "plt.grid(axis='y', alpha=0.75)\n",
    "plt.show()\n"
   ]
  },
  {
   "cell_type": "code",
   "execution_count": 0,
   "metadata": {
    "colab": {},
    "colab_type": "code",
    "id": "TKqZHlLm1UKO"
   },
   "outputs": [],
   "source": [
    "df.Operator = df.Operator.str.upper()\n",
    "df.Operator = df.Operator.replace('A B AEROTRANSPORT', 'AB AEROTRANSPORT')\n",
    "Total_by_Op = df.groupby('Operator')[['Operator']].count()\n",
    "Total_by_Op = Total_by_Op.rename(columns={\"Operator\": \"Count\"})\n",
    "Total_by_Op = Total_by_Op.sort_values(by='Count', ascending=False).head(15)\n",
    "plt.figure(figsize=(12,6))\n",
    "sns.barplot(y=Total_by_Op.index, x=\"Count\", data=Total_by_Op, palette=\"gist_heat\", orient='h')\n",
    "plt.xlabel('Count', fontsize=11)\n",
    "plt.ylabel('Operator', fontsize=11)\n",
    "plt.title('Total Count by Opeartor', loc='Center', fontsize=14)\n",
    "plt.show()\n"
   ]
  },
  {
   "cell_type": "code",
   "execution_count": 0,
   "metadata": {
    "colab": {},
    "colab_type": "code",
    "id": "UpzRhD6I1ZpV"
   },
   "outputs": [],
   "source": [
    "Prop_by_Op = df.groupby('Operator')[['Fatalities']].sum()\n",
    "Prop_by_Op = Prop_by_Op.rename(columns={\"Operator\": \"Fatalities\"})\n",
    "Prop_by_Op = Prop_by_Op.sort_values(by='Fatalities', ascending=False)\n",
    "Prop_by_OpTOP = Prop_by_Op.head(15)\n",
    "\n",
    "plt.figure(figsize=(12,6))\n",
    "sns.barplot(y=Prop_by_OpTOP.index, x=\"Fatalities\", data=Prop_by_OpTOP, palette=\"gist_gray\", orient='h')\n",
    "plt.xlabel('Fatalities', fontsize=11)\n",
    "plt.ylabel('Operator', fontsize=11)\n",
    "plt.title('Total Fatalities by Opeartor', loc='Center', fontsize=14)\n",
    "plt.show()\n"
   ]
  },
  {
   "cell_type": "code",
   "execution_count": 0,
   "metadata": {
    "colab": {},
    "colab_type": "code",
    "id": "xwqD05lq1gwP"
   },
   "outputs": [],
   "source": [
    "for time in time_count.index:\n",
    "    time_data = dataset[dataset['time'] == time][['time','location','operator','route']]\n",
    "    time_data_freq = time_data['operator'].value_counts()\n",
    "    air_force = time_data_freq.index.str.contains(\"Air Force\",regex=True)\n",
    "    air_force_count = time_data['operator'].value_counts()[air_force].count()\n",
    "    private_air_count = time_data['operator'].value_counts().count()-time_data['operator'].value_counts()[air_force].count()\n",
    "    acc_dic = {\"time\": time, \"Air Force\":air_force_count,\"private air company\": private_air_count}\n",
    "    accident_data.append(acc_dic)\n",
    "    if air_force_count > private_air_count:\n",
    "        accident_data1_bool.append(\"Air Force\")\n",
    "    else:\n",
    "        accident_data_bool.append(\"Private Air\")\n",
    "       \n",
    "       \n",
    "        accident_data[0:10]\n",
    "       \n",
    "accident_data_bool_ser = pd.Series(accident_data_bool)\n",
    "accident_data_bool_ser.value_counts().plot.bar(figsize=(5,4), rot=45)\n",
    "plt.ylabel(\"Occurrence Count\")\n",
    "plt.xlabel(\" Private air company\")\n",
    "plt.title(\"Frequency Graph for Private air company and Air Force\")\n",
    "plt.show()"
   ]
  },
  {
   "cell_type": "code",
   "execution_count": 0,
   "metadata": {
    "colab": {},
    "colab_type": "code",
    "id": "A1kPKyGb1z9k"
   },
   "outputs": [],
   "source": [
    "#read in and filter data\n",
    "crashes = pd.read_csv(\"Airplane_Crashes_and_Fatalities_Since_1908.csv\")\n",
    "crashes = crashes.tail(579) #limit to 2000s\n",
    "\n",
    "#build relevant dataframe\n",
    "op = crashes.loc[:, \"Operator\"]\n",
    "ab = crashes.loc[:, \"Aboard\"]\n",
    "ft = crashes.loc[:, \"Fatalities\"]\n",
    "gd = crashes.loc[:, \"Ground\"]\n",
    "tp = crashes.loc[:, \"Type\"]\n",
    "\n",
    "rel = pd.DataFrame()\n",
    "rel[\"airline\"] = op\n",
    "rel[\"count\"] = 1\n",
    "rel[\"aboard\"] = ab\n",
    "rel[\"fatalities\"] = ft\n",
    "rel[\"bystanderFatalities\"] = gd\n",
    "rel[\"aircraftType\"] = tp\n",
    "\n",
    "#remove duplicates and sum values\n",
    "cld = rel.groupby(rel.airline).sum()\n",
    "typ = rel.groupby(rel.aircraftType).sum()\n",
    "\n",
    "#extrapolate data\n",
    "rto = cld.fatalities/cld.aboard\n",
    "cld[\"percentageDead\"] = rto\n",
    "tot = cld.fatalities+cld.bystanderFatalities\n",
    "cld[\"totalFatalities\"] = tot\n",
    "trto = typ.fatalities/typ.aboard\n",
    "typ[\"percentageDead\"] = trto\n",
    "ttot = typ.fatalities+typ.bystanderFatalities\n",
    "typ[\"totalFatalities\"] = ttot\n",
    "\n",
    "#set graph size\n",
    "plt.rcParams['figure.figsize'] = (12.0, 8.0)\n",
    "\n",
    "\n",
    "plt.figure(7)\n",
    "ax = plt.subplot(111)\n",
    "cld.plot(kind='scatter', x='count', y='totalFatalities',ax=ax, c='percentageDead', title='number of fatalities by number of crashes (excl. 9/11) ')\n",
    "ax.set_xlim(0,6)\n",
    "ax.set_ylim(0,400)"
   ]
  },
  {
   "cell_type": "markdown",
   "metadata": {
    "colab_type": "text",
    "id": "XkHG43YLpXMe"
   },
   "source": [
    "## Data Normalization"
   ]
  },
  {
   "cell_type": "code",
   "execution_count": 0,
   "metadata": {
    "colab": {},
    "colab_type": "code",
    "id": "81iHxwIipXMf",
    "outputId": "afc3bb9b-30f7-4e32-a9d2-297e486ad45a"
   },
   "outputs": [
    {
     "name": "stdout",
     "output_type": "stream",
     "text": [
      "Before Normalization X values are \n",
      "\n"
     ]
    },
    {
     "data": {
      "text/plain": [
       "0         1.0\n",
       "1         5.0\n",
       "2         1.0\n",
       "3        14.0\n",
       "4        30.0\n",
       "        ...  \n",
       "5263     98.0\n",
       "5264      4.0\n",
       "5265    228.0\n",
       "5266      1.0\n",
       "5267     13.0\n",
       "Name: Fatalities, Length: 5268, dtype: float64"
      ]
     },
     "execution_count": 26,
     "metadata": {
      "tags": []
     },
     "output_type": "execute_result"
    }
   ],
   "source": [
    "print(\"Before Normalization X values are \\n\")\n",
    "df[\"Fatalities\"]"
   ]
  },
  {
   "cell_type": "code",
   "execution_count": 0,
   "metadata": {
    "colab": {},
    "colab_type": "code",
    "id": "D1ezLfy6pXMi",
    "outputId": "b4545482-586a-4650-d7b2-1ef6e1f4db93"
   },
   "outputs": [
    {
     "name": "stdout",
     "output_type": "stream",
     "text": [
      "Mean: 20.08535577310811\n",
      "Median: 9.0\n",
      "Variance: 1099.8529463212901\n",
      "Standard Deviation 33.16403091183715\n"
     ]
    }
   ],
   "source": [
    "print(\"Mean:\",df[\"Fatalities\"].mean())\n",
    "print(\"Median:\",df[\"Fatalities\"].median())\n",
    "print(\"Variance:\",df[\"Fatalities\"].var())\n",
    "print(\"Standard Deviation\",math.sqrt(df[\"Fatalities\"].var()))"
   ]
  },
  {
   "cell_type": "code",
   "execution_count": 0,
   "metadata": {
    "colab": {},
    "colab_type": "code",
    "id": "JCn7rsZ7pXMl",
    "outputId": "60b31f14-f3c1-4147-b48f-9dac561828df"
   },
   "outputs": [
    {
     "data": {
      "text/plain": [
       "<matplotlib.axes._subplots.AxesSubplot at 0xf304290>"
      ]
     },
     "execution_count": 29,
     "metadata": {
      "tags": []
     },
     "output_type": "execute_result"
    },
    {
     "data": {
      "image/png": "[encoded data removed]",
      "text/plain": [
       "<Figure size 432x288 with 1 Axes>"
      ]
     },
     "metadata": {
      "needs_background": "light",
      "tags": []
     },
     "output_type": "display_data"
    }
   ],
   "source": [
    "df[\"Fatalities\"].sample(50).plot(kind=\"bar\")"
   ]
  },
  {
   "cell_type": "code",
   "execution_count": 0,
   "metadata": {
    "colab": {},
    "colab_type": "code",
    "id": "RwqzoycepXMp",
    "outputId": "a337ec18-648c-4e61-e386-3e5f18e75850"
   },
   "outputs": [
    {
     "data": {
      "image/png": "[encoded data removed]",
      "text/plain": [
       "<Figure size 432x288 with 1 Axes>"
      ]
     },
     "metadata": {
      "needs_background": "light",
      "tags": []
     },
     "output_type": "display_data"
    }
   ],
   "source": [
    "mean_fatalities= df['Fatalities'].mean()\n",
    "variance_fatalities = df['Fatalities'].var()\n",
    "sd_fatalities = math.sqrt(variance_fatalities)\n",
    "x = np.linspace(mean_fatalities - 3*sd_fatalities,mean_fatalities + 3*sd_fatalities, 100)\n",
    "plt.plot(x, stats.norm.pdf(x, mean_fatalities, sd_fatalities))\n",
    "plt.show()"
   ]
  },
  {
   "cell_type": "code",
   "execution_count": 0,
   "metadata": {
    "colab": {},
    "colab_type": "code",
    "id": "5OL89v7gpXMt"
   },
   "outputs": [],
   "source": [
    "standardScalerX = preprocessing.StandardScaler(copy=True,with_mean=True,with_std=True)\n",
    "\n",
    "x_scaled=df[\"Fatalities\"].values.reshape(-1,1)\n",
    "\n",
    "x_scaled = standardScalerX.fit_transform(x_scaled)\n",
    "\n",
    "df_normalized=pd.DataFrame(x_scaled,columns=[\"Fatalities\"])"
   ]
  },
  {
   "cell_type": "code",
   "execution_count": 0,
   "metadata": {
    "colab": {},
    "colab_type": "code",
    "id": "E6TCRnRWpXMz",
    "outputId": "2c26e2d4-c199-48cd-81e6-f0fcc4a1cde4"
   },
   "outputs": [
    {
     "data": {
      "text/plain": [
       "<matplotlib.axes._subplots.AxesSubplot at 0x13d5ed0>"
      ]
     },
     "execution_count": 32,
     "metadata": {
      "tags": []
     },
     "output_type": "execute_result"
    },
    {
     "data": {
      "image/png": "[encoded data removed]",
      "text/plain": [
       "<Figure size 432x288 with 1 Axes>"
      ]
     },
     "metadata": {
      "needs_background": "light",
      "tags": []
     },
     "output_type": "display_data"
    }
   ],
   "source": [
    "df_normalized.plot(kind=\"bar\")"
   ]
  },
  {
   "cell_type": "code",
   "execution_count": 0,
   "metadata": {
    "colab": {},
    "colab_type": "code",
    "id": "vcox1wM6pXM4"
   },
   "outputs": [],
   "source": [
    "x = df[['Fatalities']].values.astype(float)\n",
    "\n",
    "min_max_scaler = preprocessing.MinMaxScaler()\n",
    "\n",
    "x_scaled = min_max_scaler.fit_transform(x)\n",
    "\n",
    "df_normalized = pd.DataFrame(x_scaled,columns=[\"Fatalities\"])"
   ]
  },
  {
   "cell_type": "code",
   "execution_count": 0,
   "metadata": {
    "colab": {},
    "colab_type": "code",
    "id": "puj_V4JfpXM7",
    "outputId": "3a13755f-1b64-4a70-be38-2a6173015df7"
   },
   "outputs": [
    {
     "data": {
      "text/plain": [
       "<matplotlib.axes._subplots.AxesSubplot at 0x11e2aab0>"
      ]
     },
     "execution_count": 34,
     "metadata": {
      "tags": []
     },
     "output_type": "execute_result"
    },
    {
     "data": {
      "image/png": "[encoded data removed]",
      "text/plain": [
       "<Figure size 432x288 with 1 Axes>"
      ]
     },
     "metadata": {
      "needs_background": "light",
      "tags": []
     },
     "output_type": "display_data"
    }
   ],
   "source": [
    "df_normalized.plot(kind='bar')"
   ]
  },
  {
   "cell_type": "code",
   "execution_count": 0,
   "metadata": {
    "colab": {},
    "colab_type": "code",
    "id": "x1IBZSyhpXM_"
   },
   "outputs": [],
   "source": [
    "robust_scaler = preprocessing.RobustScaler()\n",
    "x_scaled=df[\"Fatalities\"].values.reshape(-1,1)\n",
    "df_normalized = robust_scaler.fit_transform(x_scaled)\n",
    "df_normalized = pd.DataFrame(df_normalized, columns=['Fatalities'])"
   ]
  },
  {
   "cell_type": "code",
   "execution_count": 0,
   "metadata": {
    "colab": {},
    "colab_type": "code",
    "id": "T0MWa4DXpXNB",
    "outputId": "4087ad90-812d-4d02-e97c-6dbf7ea97243"
   },
   "outputs": [
    {
     "data": {
      "text/plain": [
       "<matplotlib.axes._subplots.AxesSubplot at 0x18248110>"
      ]
     },
     "execution_count": 44,
     "metadata": {
      "tags": []
     },
     "output_type": "execute_result"
    },
    {
     "data": {
      "image/png": "[encoded data removed]",
      "text/plain": [
       "<Figure size 432x288 with 1 Axes>"
      ]
     },
     "metadata": {
      "needs_background": "light",
      "tags": []
     },
     "output_type": "display_data"
    }
   ],
   "source": [
    "df_normalized.plot(kind=\"bar\")"
   ]
  },
  {
   "cell_type": "code",
   "execution_count": 0,
   "metadata": {
    "colab": {},
    "colab_type": "code",
    "id": "3_Za5IPIpXNH"
   },
   "outputs": [],
   "source": [
    "scaler = preprocessing.Normalizer()\n",
    "x=pd.DataFrame({\"Fatalities\":df[\"Fatalities\"].astype(float),\"Aboard\":df[\"Aboard\"].astype(float)})"
   ]
  },
  {
   "cell_type": "code",
   "execution_count": 0,
   "metadata": {
    "colab": {},
    "colab_type": "code",
    "id": "0iCHk0hvpXNK"
   },
   "outputs": [],
   "source": [
    "scaled_df = scaler.fit_transform(x)\n",
    "scaled_df = pd.DataFrame(scaled_df, columns=x.columns)"
   ]
  },
  {
   "cell_type": "code",
   "execution_count": 0,
   "metadata": {
    "colab": {},
    "colab_type": "code",
    "id": "b0Nr_j85pXNT",
    "outputId": "443a8548-2e55-4f84-e0ac-ce25f35b32d5"
   },
   "outputs": [
    {
     "data": {
      "image/png": "[encoded data removed]",
      "text/plain": [
       "<Figure size 648x360 with 2 Axes>"
      ]
     },
     "metadata": {
      "needs_background": "light",
      "tags": []
     },
     "output_type": "display_data"
    }
   ],
   "source": [
    "fig = plt.figure(figsize=(9, 5))\n",
    "ax1 = fig.add_subplot(121, projection='3d')\n",
    "ax2 = fig.add_subplot(122, projection='3d')\n",
    "ax1.scatter(df[\"Fatalities\"],df[\"Aboard\"])\n",
    "ax2.scatter(scaled_df['Fatalities'],scaled_df[\"Aboard\"])\n",
    "plt.show()"
   ]
  },
  {
   "cell_type": "markdown",
   "metadata": {
    "colab_type": "text",
    "id": "xxnZaYzjpXNW"
   },
   "source": [
    "## Hypothesis Testing"
   ]
  },
  {
   "cell_type": "code",
   "execution_count": 0,
   "metadata": {
    "colab": {},
    "colab_type": "code",
    "id": "-HkIigSmpXNX"
   },
   "outputs": [],
   "source": [
    "def two_sided_hypo(sample_mean, pop_mean, std_dev, sample_size, alpha):\n",
    "    actual_z = abs(stats.norm.ppf(alpha/2))\n",
    "    hypo_z = (sample_mean - pop_mean) / (std_dev/math.sqrt(sample_size))\n",
    "    print('actual z value :', actual_z)\n",
    "    print('hypothesis z value :', hypo_z, '\\n')\n",
    "    if hypo_z >= actual_z or hypo_z <= -(actual_z):\n",
    "        return True\n",
    "    else:\n",
    "        return False"
   ]
  },
  {
   "cell_type": "code",
   "execution_count": 0,
   "metadata": {
    "colab": {},
    "colab_type": "code",
    "id": "t_2A0UudpXNa",
    "outputId": "1918826e-a130-4071-84c6-21deb2cd7024"
   },
   "outputs": [
    {
     "name": "stdout",
     "output_type": "stream",
     "text": [
      "H0 : μ = 20.08535577310811\n",
      "H1 : μ != 20.08535577310811\n",
      "alpha value is : 0.05 \n",
      "\n",
      "actual z value : 1.9599639845400545\n",
      "hypothesis z value : -0.7115682817296735 \n",
      "\n",
      "Failed to reject NULL hypothesis\n"
     ]
    }
   ],
   "source": [
    "alpha = 0.05\n",
    "sample_mean = df[\"Fatalities\"].sample(n=500).mean()\n",
    "pop_mean = df['Fatalities'].mean()\n",
    "sample_size=500\n",
    "variance=df[\"Fatalities\"].var()\n",
    "std_dev=math.sqrt(variance)\n",
    "print('H0 : μ =', pop_mean)\n",
    "print('H1 : μ !=', pop_mean)\n",
    "print('alpha value is :', alpha, '\\n')\n",
    "\n",
    "reject = two_sided_hypo(sample_mean, pop_mean, std_dev, sample_size, alpha)\n",
    "if reject:\n",
    "    print('Reject NULL hypothesis')\n",
    "else:\n",
    "    print('Failed to reject NULL hypothesis')"
   ]
  },
  {
   "cell_type": "markdown",
   "metadata": {
    "colab_type": "text",
    "id": "ql36QovmpXNd"
   },
   "source": [
    "## Correlation"
   ]
  },
  {
   "cell_type": "code",
   "execution_count": 0,
   "metadata": {
    "colab": {},
    "colab_type": "code",
    "id": "Ln3lS130pXNe",
    "outputId": "29c228de-16d1-4135-d993-6664fab2f3e0"
   },
   "outputs": [
    {
     "data": {
      "image/png": "[encoded data removed]",
      "text/plain": [
       "<Figure size 1080x1080 with 2 Axes>"
      ]
     },
     "metadata": {
      "needs_background": "light",
      "tags": []
     },
     "output_type": "display_data"
    }
   ],
   "source": [
    "plt.figure(figsize=(15,15))\n",
    "sns.heatmap(df.corr(),\n",
    "            vmin=-1,\n",
    "            cmap='coolwarm',\n",
    "            annot=True);"
   ]
  },
  {
   "cell_type": "code",
   "execution_count": 0,
   "metadata": {
    "colab": {},
    "colab_type": "code",
    "id": "D8w6tNPBpXNj"
   },
   "outputs": [],
   "source": []
  }
 ],
 "metadata": {
  "colab": {
   "collapsed_sections": [],
   "name": "ids.ipynb",
   "provenance": []
  },
  "kernelspec": {
   "display_name": "Python 3",
   "language": "python",
   "name": "python3"
  },
  "language_info": {
   "codemirror_mode": {
    "name": "ipython",
    "version": 3
   },
   "file_extension": ".py",
   "mimetype": "text/x-python",
   "name": "python",
   "nbconvert_exporter": "python",
   "pygments_lexer": "ipython3",
   "version": "3.7.3"
  }
 },
 "nbformat": 4,
 "nbformat_minor": 1
}
