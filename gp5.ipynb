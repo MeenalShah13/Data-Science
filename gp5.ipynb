{
 "cells": [
  {
   "cell_type": "code",
   "execution_count": 1,
   "metadata": {},
   "outputs": [
    {
     "data": {
      "text/html": [
       "        <script type=\"text/javascript\">\n",
       "        window.PlotlyConfig = {MathJaxConfig: 'local'};\n",
       "        if (window.MathJax) {MathJax.Hub.Config({SVG: {font: \"STIX-Web\"}});}\n",
       "        if (typeof require !== 'undefined') {\n",
       "        require.undef(\"plotly\");\n",
       "        requirejs.config({\n",
       "            paths: {\n",
       "                'plotly': ['https://cdn.plot.ly/plotly-latest.min']\n",
       "            }\n",
       "        });\n",
       "        require(['plotly'], function(Plotly) {\n",
       "            window._Plotly = Plotly;\n",
       "        });\n",
       "        }\n",
       "        </script>\n",
       "        "
      ]
     },
     "metadata": {},
     "output_type": "display_data"
    }
   ],
   "source": [
    "#Wranlging\n",
    "import pandas as pd\n",
    "import numpy as np\n",
    "\n",
    "#Visualization\n",
    "import matplotlib.pyplot as plt\n",
    "import seaborn as sns\n",
    "\n",
    "#Hypotheis testing\n",
    "from scipy.stats import ttest_1samp\n",
    "from scipy import stats\n",
    "\n",
    "#Classification\n",
    "from sklearn import preprocessing\n",
    "from sklearn.model_selection import train_test_split\n",
    "from sklearn.ensemble import RandomForestClassifier\n",
    "from sklearn.naive_bayes import GaussianNB\n",
    "from sklearn.metrics import accuracy_score\n",
    "import chart_studio.plotly as py\n",
    "from plotly.offline import init_notebook_mode, iplot\n",
    "init_notebook_mode(connected=True)\n",
    "import plotly.graph_objs as go"
   ]
  },
  {
   "cell_type": "code",
   "execution_count": null,
   "metadata": {},
   "outputs": [],
   "source": []
  },
  {
   "cell_type": "code",
   "execution_count": 2,
   "metadata": {},
   "outputs": [],
   "source": [
    "#importing the data set\n",
    "data=pd.read_csv(\"C:/Users/girish narayan.s/Documents/r project/IDS DATASET.csv\")"
   ]
  },
  {
   "cell_type": "code",
   "execution_count": 3,
   "metadata": {},
   "outputs": [
    {
     "name": "stdout",
     "output_type": "stream",
     "text": [
      "<class 'pandas.core.frame.DataFrame'>\n",
      "RangeIndex: 2200 entries, 0 to 2199\n",
      "Data columns (total 14 columns):\n",
      "world_rank              2200 non-null int64\n",
      "institution             2200 non-null object\n",
      "country                 2200 non-null object\n",
      "national_rank           2200 non-null int64\n",
      "quality_of_education    2200 non-null int64\n",
      "alumni_employment       2200 non-null int64\n",
      "quality_of_faculty      2200 non-null int64\n",
      "publications            2200 non-null int64\n",
      "influence               2200 non-null int64\n",
      "citations               2200 non-null int64\n",
      "broad_impact            2000 non-null float64\n",
      "patents                 2200 non-null int64\n",
      "score                   2200 non-null float64\n",
      "year                    2200 non-null int64\n",
      "dtypes: float64(2), int64(10), object(2)\n",
      "memory usage: 240.7+ KB\n"
     ]
    }
   ],
   "source": [
    "data.info()"
   ]
  },
  {
   "cell_type": "code",
   "execution_count": 4,
   "metadata": {},
   "outputs": [
    {
     "data": {
      "text/plain": [
       "(2200, 14)"
      ]
     },
     "execution_count": 4,
     "metadata": {},
     "output_type": "execute_result"
    }
   ],
   "source": [
    "#step 1 data info\n",
    "data.head()\n",
    "data.shape"
   ]
  },
  {
   "cell_type": "code",
   "execution_count": 5,
   "metadata": {},
   "outputs": [
    {
     "data": {
      "text/html": [
       "<div>\n",
       "<style scoped>\n",
       "    .dataframe tbody tr th:only-of-type {\n",
       "        vertical-align: middle;\n",
       "    }\n",
       "\n",
       "    .dataframe tbody tr th {\n",
       "        vertical-align: top;\n",
       "    }\n",
       "\n",
       "    .dataframe thead th {\n",
       "        text-align: right;\n",
       "    }\n",
       "</style>\n",
       "<table border=\"1\" class=\"dataframe\">\n",
       "  <thead>\n",
       "    <tr style=\"text-align: right;\">\n",
       "      <th></th>\n",
       "      <th>world_rank</th>\n",
       "      <th>institution</th>\n",
       "      <th>country</th>\n",
       "      <th>national_rank</th>\n",
       "      <th>quality_of_education</th>\n",
       "      <th>alumni_employment</th>\n",
       "      <th>quality_of_faculty</th>\n",
       "      <th>publications</th>\n",
       "      <th>influence</th>\n",
       "      <th>citations</th>\n",
       "      <th>broad_impact</th>\n",
       "      <th>patents</th>\n",
       "      <th>score</th>\n",
       "      <th>year</th>\n",
       "    </tr>\n",
       "  </thead>\n",
       "  <tbody>\n",
       "    <tr>\n",
       "      <th>0</th>\n",
       "      <td>1</td>\n",
       "      <td>Harvard University</td>\n",
       "      <td>USA</td>\n",
       "      <td>1</td>\n",
       "      <td>7</td>\n",
       "      <td>9</td>\n",
       "      <td>1</td>\n",
       "      <td>1</td>\n",
       "      <td>1</td>\n",
       "      <td>1</td>\n",
       "      <td>NaN</td>\n",
       "      <td>5</td>\n",
       "      <td>100.00</td>\n",
       "      <td>2012</td>\n",
       "    </tr>\n",
       "    <tr>\n",
       "      <th>1</th>\n",
       "      <td>2</td>\n",
       "      <td>Massachusetts Institute of Technology</td>\n",
       "      <td>USA</td>\n",
       "      <td>2</td>\n",
       "      <td>9</td>\n",
       "      <td>17</td>\n",
       "      <td>3</td>\n",
       "      <td>12</td>\n",
       "      <td>4</td>\n",
       "      <td>4</td>\n",
       "      <td>NaN</td>\n",
       "      <td>1</td>\n",
       "      <td>91.67</td>\n",
       "      <td>2012</td>\n",
       "    </tr>\n",
       "    <tr>\n",
       "      <th>2</th>\n",
       "      <td>3</td>\n",
       "      <td>Stanford University</td>\n",
       "      <td>USA</td>\n",
       "      <td>3</td>\n",
       "      <td>17</td>\n",
       "      <td>11</td>\n",
       "      <td>5</td>\n",
       "      <td>4</td>\n",
       "      <td>2</td>\n",
       "      <td>2</td>\n",
       "      <td>NaN</td>\n",
       "      <td>15</td>\n",
       "      <td>89.50</td>\n",
       "      <td>2012</td>\n",
       "    </tr>\n",
       "    <tr>\n",
       "      <th>3</th>\n",
       "      <td>4</td>\n",
       "      <td>University of Cambridge</td>\n",
       "      <td>United Kingdom</td>\n",
       "      <td>1</td>\n",
       "      <td>10</td>\n",
       "      <td>24</td>\n",
       "      <td>4</td>\n",
       "      <td>16</td>\n",
       "      <td>16</td>\n",
       "      <td>11</td>\n",
       "      <td>NaN</td>\n",
       "      <td>50</td>\n",
       "      <td>86.17</td>\n",
       "      <td>2012</td>\n",
       "    </tr>\n",
       "    <tr>\n",
       "      <th>4</th>\n",
       "      <td>5</td>\n",
       "      <td>California Institute of Technology</td>\n",
       "      <td>USA</td>\n",
       "      <td>4</td>\n",
       "      <td>2</td>\n",
       "      <td>29</td>\n",
       "      <td>7</td>\n",
       "      <td>37</td>\n",
       "      <td>22</td>\n",
       "      <td>22</td>\n",
       "      <td>NaN</td>\n",
       "      <td>18</td>\n",
       "      <td>85.21</td>\n",
       "      <td>2012</td>\n",
       "    </tr>\n",
       "    <tr>\n",
       "      <th>5</th>\n",
       "      <td>6</td>\n",
       "      <td>Princeton University</td>\n",
       "      <td>USA</td>\n",
       "      <td>5</td>\n",
       "      <td>8</td>\n",
       "      <td>14</td>\n",
       "      <td>2</td>\n",
       "      <td>53</td>\n",
       "      <td>33</td>\n",
       "      <td>26</td>\n",
       "      <td>NaN</td>\n",
       "      <td>101</td>\n",
       "      <td>82.50</td>\n",
       "      <td>2012</td>\n",
       "    </tr>\n",
       "    <tr>\n",
       "      <th>6</th>\n",
       "      <td>7</td>\n",
       "      <td>University of Oxford</td>\n",
       "      <td>United Kingdom</td>\n",
       "      <td>2</td>\n",
       "      <td>13</td>\n",
       "      <td>28</td>\n",
       "      <td>9</td>\n",
       "      <td>15</td>\n",
       "      <td>13</td>\n",
       "      <td>19</td>\n",
       "      <td>NaN</td>\n",
       "      <td>26</td>\n",
       "      <td>82.34</td>\n",
       "      <td>2012</td>\n",
       "    </tr>\n",
       "    <tr>\n",
       "      <th>7</th>\n",
       "      <td>8</td>\n",
       "      <td>Yale University</td>\n",
       "      <td>USA</td>\n",
       "      <td>6</td>\n",
       "      <td>14</td>\n",
       "      <td>31</td>\n",
       "      <td>12</td>\n",
       "      <td>14</td>\n",
       "      <td>6</td>\n",
       "      <td>15</td>\n",
       "      <td>NaN</td>\n",
       "      <td>66</td>\n",
       "      <td>79.14</td>\n",
       "      <td>2012</td>\n",
       "    </tr>\n",
       "    <tr>\n",
       "      <th>8</th>\n",
       "      <td>9</td>\n",
       "      <td>Columbia University</td>\n",
       "      <td>USA</td>\n",
       "      <td>7</td>\n",
       "      <td>23</td>\n",
       "      <td>21</td>\n",
       "      <td>10</td>\n",
       "      <td>13</td>\n",
       "      <td>12</td>\n",
       "      <td>14</td>\n",
       "      <td>NaN</td>\n",
       "      <td>5</td>\n",
       "      <td>78.86</td>\n",
       "      <td>2012</td>\n",
       "    </tr>\n",
       "    <tr>\n",
       "      <th>9</th>\n",
       "      <td>10</td>\n",
       "      <td>University of California, Berkeley</td>\n",
       "      <td>USA</td>\n",
       "      <td>8</td>\n",
       "      <td>16</td>\n",
       "      <td>52</td>\n",
       "      <td>6</td>\n",
       "      <td>6</td>\n",
       "      <td>5</td>\n",
       "      <td>3</td>\n",
       "      <td>NaN</td>\n",
       "      <td>16</td>\n",
       "      <td>78.55</td>\n",
       "      <td>2012</td>\n",
       "    </tr>\n",
       "    <tr>\n",
       "      <th>10</th>\n",
       "      <td>11</td>\n",
       "      <td>University of Chicago</td>\n",
       "      <td>USA</td>\n",
       "      <td>9</td>\n",
       "      <td>15</td>\n",
       "      <td>26</td>\n",
       "      <td>8</td>\n",
       "      <td>34</td>\n",
       "      <td>20</td>\n",
       "      <td>28</td>\n",
       "      <td>NaN</td>\n",
       "      <td>101</td>\n",
       "      <td>73.82</td>\n",
       "      <td>2012</td>\n",
       "    </tr>\n",
       "    <tr>\n",
       "      <th>11</th>\n",
       "      <td>12</td>\n",
       "      <td>Cornell University</td>\n",
       "      <td>USA</td>\n",
       "      <td>10</td>\n",
       "      <td>21</td>\n",
       "      <td>42</td>\n",
       "      <td>14</td>\n",
       "      <td>22</td>\n",
       "      <td>21</td>\n",
       "      <td>16</td>\n",
       "      <td>NaN</td>\n",
       "      <td>10</td>\n",
       "      <td>73.69</td>\n",
       "      <td>2012</td>\n",
       "    </tr>\n",
       "    <tr>\n",
       "      <th>12</th>\n",
       "      <td>13</td>\n",
       "      <td>University of Pennsylvania</td>\n",
       "      <td>USA</td>\n",
       "      <td>11</td>\n",
       "      <td>31</td>\n",
       "      <td>16</td>\n",
       "      <td>24</td>\n",
       "      <td>9</td>\n",
       "      <td>10</td>\n",
       "      <td>8</td>\n",
       "      <td>NaN</td>\n",
       "      <td>9</td>\n",
       "      <td>73.64</td>\n",
       "      <td>2012</td>\n",
       "    </tr>\n",
       "    <tr>\n",
       "      <th>13</th>\n",
       "      <td>14</td>\n",
       "      <td>University of Tokyo</td>\n",
       "      <td>Japan</td>\n",
       "      <td>1</td>\n",
       "      <td>32</td>\n",
       "      <td>19</td>\n",
       "      <td>31</td>\n",
       "      <td>8</td>\n",
       "      <td>19</td>\n",
       "      <td>23</td>\n",
       "      <td>NaN</td>\n",
       "      <td>3</td>\n",
       "      <td>69.49</td>\n",
       "      <td>2012</td>\n",
       "    </tr>\n",
       "    <tr>\n",
       "      <th>14</th>\n",
       "      <td>15</td>\n",
       "      <td>Johns Hopkins University</td>\n",
       "      <td>USA</td>\n",
       "      <td>12</td>\n",
       "      <td>34</td>\n",
       "      <td>77</td>\n",
       "      <td>20</td>\n",
       "      <td>11</td>\n",
       "      <td>9</td>\n",
       "      <td>9</td>\n",
       "      <td>NaN</td>\n",
       "      <td>7</td>\n",
       "      <td>66.94</td>\n",
       "      <td>2012</td>\n",
       "    </tr>\n",
       "    <tr>\n",
       "      <th>15</th>\n",
       "      <td>16</td>\n",
       "      <td>Swiss Federal Institute of Technology in Zurich</td>\n",
       "      <td>Switzerland</td>\n",
       "      <td>1</td>\n",
       "      <td>26</td>\n",
       "      <td>66</td>\n",
       "      <td>11</td>\n",
       "      <td>40</td>\n",
       "      <td>51</td>\n",
       "      <td>44</td>\n",
       "      <td>NaN</td>\n",
       "      <td>34</td>\n",
       "      <td>66.69</td>\n",
       "      <td>2012</td>\n",
       "    </tr>\n",
       "    <tr>\n",
       "      <th>16</th>\n",
       "      <td>17</td>\n",
       "      <td>Kyoto University</td>\n",
       "      <td>Japan</td>\n",
       "      <td>2</td>\n",
       "      <td>42</td>\n",
       "      <td>38</td>\n",
       "      <td>19</td>\n",
       "      <td>25</td>\n",
       "      <td>36</td>\n",
       "      <td>43</td>\n",
       "      <td>NaN</td>\n",
       "      <td>23</td>\n",
       "      <td>65.76</td>\n",
       "      <td>2012</td>\n",
       "    </tr>\n",
       "    <tr>\n",
       "      <th>17</th>\n",
       "      <td>18</td>\n",
       "      <td>Weizmann Institute of Science</td>\n",
       "      <td>Israel</td>\n",
       "      <td>1</td>\n",
       "      <td>4</td>\n",
       "      <td>101</td>\n",
       "      <td>22</td>\n",
       "      <td>101</td>\n",
       "      <td>67</td>\n",
       "      <td>101</td>\n",
       "      <td>NaN</td>\n",
       "      <td>29</td>\n",
       "      <td>65.09</td>\n",
       "      <td>2012</td>\n",
       "    </tr>\n",
       "    <tr>\n",
       "      <th>18</th>\n",
       "      <td>19</td>\n",
       "      <td>University of California, Los Angeles</td>\n",
       "      <td>USA</td>\n",
       "      <td>13</td>\n",
       "      <td>62</td>\n",
       "      <td>59</td>\n",
       "      <td>23</td>\n",
       "      <td>3</td>\n",
       "      <td>11</td>\n",
       "      <td>6</td>\n",
       "      <td>NaN</td>\n",
       "      <td>13</td>\n",
       "      <td>64.05</td>\n",
       "      <td>2012</td>\n",
       "    </tr>\n",
       "    <tr>\n",
       "      <th>19</th>\n",
       "      <td>20</td>\n",
       "      <td>University of California, San Diego</td>\n",
       "      <td>USA</td>\n",
       "      <td>14</td>\n",
       "      <td>61</td>\n",
       "      <td>101</td>\n",
       "      <td>15</td>\n",
       "      <td>10</td>\n",
       "      <td>8</td>\n",
       "      <td>10</td>\n",
       "      <td>NaN</td>\n",
       "      <td>22</td>\n",
       "      <td>63.11</td>\n",
       "      <td>2012</td>\n",
       "    </tr>\n",
       "    <tr>\n",
       "      <th>20</th>\n",
       "      <td>21</td>\n",
       "      <td>Rockefeller University</td>\n",
       "      <td>USA</td>\n",
       "      <td>15</td>\n",
       "      <td>1</td>\n",
       "      <td>101</td>\n",
       "      <td>16</td>\n",
       "      <td>101</td>\n",
       "      <td>28</td>\n",
       "      <td>96</td>\n",
       "      <td>NaN</td>\n",
       "      <td>101</td>\n",
       "      <td>61.74</td>\n",
       "      <td>2012</td>\n",
       "    </tr>\n",
       "    <tr>\n",
       "      <th>21</th>\n",
       "      <td>22</td>\n",
       "      <td>Hebrew University of Jerusalem</td>\n",
       "      <td>Israel</td>\n",
       "      <td>2</td>\n",
       "      <td>24</td>\n",
       "      <td>93</td>\n",
       "      <td>13</td>\n",
       "      <td>101</td>\n",
       "      <td>91</td>\n",
       "      <td>101</td>\n",
       "      <td>NaN</td>\n",
       "      <td>28</td>\n",
       "      <td>60.76</td>\n",
       "      <td>2012</td>\n",
       "    </tr>\n",
       "    <tr>\n",
       "      <th>22</th>\n",
       "      <td>23</td>\n",
       "      <td>New York University</td>\n",
       "      <td>USA</td>\n",
       "      <td>16</td>\n",
       "      <td>89</td>\n",
       "      <td>75</td>\n",
       "      <td>17</td>\n",
       "      <td>42</td>\n",
       "      <td>24</td>\n",
       "      <td>34</td>\n",
       "      <td>NaN</td>\n",
       "      <td>62</td>\n",
       "      <td>60.55</td>\n",
       "      <td>2012</td>\n",
       "    </tr>\n",
       "    <tr>\n",
       "      <th>23</th>\n",
       "      <td>24</td>\n",
       "      <td>University of California, San Francisco</td>\n",
       "      <td>USA</td>\n",
       "      <td>17</td>\n",
       "      <td>101</td>\n",
       "      <td>101</td>\n",
       "      <td>21</td>\n",
       "      <td>19</td>\n",
       "      <td>3</td>\n",
       "      <td>13</td>\n",
       "      <td>NaN</td>\n",
       "      <td>33</td>\n",
       "      <td>59.70</td>\n",
       "      <td>2012</td>\n",
       "    </tr>\n",
       "    <tr>\n",
       "      <th>24</th>\n",
       "      <td>25</td>\n",
       "      <td>University of Wisconsin–Madison</td>\n",
       "      <td>USA</td>\n",
       "      <td>18</td>\n",
       "      <td>64</td>\n",
       "      <td>63</td>\n",
       "      <td>33</td>\n",
       "      <td>17</td>\n",
       "      <td>30</td>\n",
       "      <td>21</td>\n",
       "      <td>NaN</td>\n",
       "      <td>21</td>\n",
       "      <td>59.66</td>\n",
       "      <td>2012</td>\n",
       "    </tr>\n",
       "    <tr>\n",
       "      <th>25</th>\n",
       "      <td>26</td>\n",
       "      <td>University of Illinois at Urbana–Champaign</td>\n",
       "      <td>USA</td>\n",
       "      <td>19</td>\n",
       "      <td>82</td>\n",
       "      <td>101</td>\n",
       "      <td>18</td>\n",
       "      <td>35</td>\n",
       "      <td>71</td>\n",
       "      <td>39</td>\n",
       "      <td>NaN</td>\n",
       "      <td>44</td>\n",
       "      <td>59.00</td>\n",
       "      <td>2012</td>\n",
       "    </tr>\n",
       "    <tr>\n",
       "      <th>26</th>\n",
       "      <td>27</td>\n",
       "      <td>Duke University</td>\n",
       "      <td>USA</td>\n",
       "      <td>20</td>\n",
       "      <td>65</td>\n",
       "      <td>43</td>\n",
       "      <td>55</td>\n",
       "      <td>20</td>\n",
       "      <td>15</td>\n",
       "      <td>12</td>\n",
       "      <td>NaN</td>\n",
       "      <td>20</td>\n",
       "      <td>58.37</td>\n",
       "      <td>2012</td>\n",
       "    </tr>\n",
       "    <tr>\n",
       "      <th>27</th>\n",
       "      <td>28</td>\n",
       "      <td>Imperial College London</td>\n",
       "      <td>United Kingdom</td>\n",
       "      <td>3</td>\n",
       "      <td>84</td>\n",
       "      <td>73</td>\n",
       "      <td>35</td>\n",
       "      <td>26</td>\n",
       "      <td>26</td>\n",
       "      <td>29</td>\n",
       "      <td>NaN</td>\n",
       "      <td>41</td>\n",
       "      <td>57.53</td>\n",
       "      <td>2012</td>\n",
       "    </tr>\n",
       "    <tr>\n",
       "      <th>28</th>\n",
       "      <td>29</td>\n",
       "      <td>University of Texas Southwestern Medical Center</td>\n",
       "      <td>USA</td>\n",
       "      <td>21</td>\n",
       "      <td>19</td>\n",
       "      <td>101</td>\n",
       "      <td>32</td>\n",
       "      <td>101</td>\n",
       "      <td>43</td>\n",
       "      <td>84</td>\n",
       "      <td>NaN</td>\n",
       "      <td>101</td>\n",
       "      <td>56.43</td>\n",
       "      <td>2012</td>\n",
       "    </tr>\n",
       "    <tr>\n",
       "      <th>29</th>\n",
       "      <td>30</td>\n",
       "      <td>University of Texas at Austin</td>\n",
       "      <td>USA</td>\n",
       "      <td>22</td>\n",
       "      <td>101</td>\n",
       "      <td>78</td>\n",
       "      <td>27</td>\n",
       "      <td>41</td>\n",
       "      <td>47</td>\n",
       "      <td>40</td>\n",
       "      <td>NaN</td>\n",
       "      <td>57</td>\n",
       "      <td>56.18</td>\n",
       "      <td>2012</td>\n",
       "    </tr>\n",
       "    <tr>\n",
       "      <th>...</th>\n",
       "      <td>...</td>\n",
       "      <td>...</td>\n",
       "      <td>...</td>\n",
       "      <td>...</td>\n",
       "      <td>...</td>\n",
       "      <td>...</td>\n",
       "      <td>...</td>\n",
       "      <td>...</td>\n",
       "      <td>...</td>\n",
       "      <td>...</td>\n",
       "      <td>...</td>\n",
       "      <td>...</td>\n",
       "      <td>...</td>\n",
       "      <td>...</td>\n",
       "    </tr>\n",
       "    <tr>\n",
       "      <th>2170</th>\n",
       "      <td>971</td>\n",
       "      <td>Fu Jen Catholic University</td>\n",
       "      <td>Taiwan</td>\n",
       "      <td>19</td>\n",
       "      <td>367</td>\n",
       "      <td>446</td>\n",
       "      <td>218</td>\n",
       "      <td>984</td>\n",
       "      <td>887</td>\n",
       "      <td>812</td>\n",
       "      <td>958.0</td>\n",
       "      <td>824</td>\n",
       "      <td>44.06</td>\n",
       "      <td>2015</td>\n",
       "    </tr>\n",
       "    <tr>\n",
       "      <th>2171</th>\n",
       "      <td>972</td>\n",
       "      <td>Hunan Normal University</td>\n",
       "      <td>China</td>\n",
       "      <td>74</td>\n",
       "      <td>367</td>\n",
       "      <td>567</td>\n",
       "      <td>218</td>\n",
       "      <td>923</td>\n",
       "      <td>917</td>\n",
       "      <td>812</td>\n",
       "      <td>932.0</td>\n",
       "      <td>871</td>\n",
       "      <td>44.06</td>\n",
       "      <td>2015</td>\n",
       "    </tr>\n",
       "    <tr>\n",
       "      <th>2172</th>\n",
       "      <td>973</td>\n",
       "      <td>Ulsan National Institute of Science and Techno...</td>\n",
       "      <td>South Korea</td>\n",
       "      <td>36</td>\n",
       "      <td>367</td>\n",
       "      <td>567</td>\n",
       "      <td>218</td>\n",
       "      <td>880</td>\n",
       "      <td>912</td>\n",
       "      <td>645</td>\n",
       "      <td>984.0</td>\n",
       "      <td>349</td>\n",
       "      <td>44.06</td>\n",
       "      <td>2015</td>\n",
       "    </tr>\n",
       "    <tr>\n",
       "      <th>2173</th>\n",
       "      <td>974</td>\n",
       "      <td>Federal University of Santa Maria</td>\n",
       "      <td>Brazil</td>\n",
       "      <td>16</td>\n",
       "      <td>367</td>\n",
       "      <td>396</td>\n",
       "      <td>218</td>\n",
       "      <td>954</td>\n",
       "      <td>974</td>\n",
       "      <td>812</td>\n",
       "      <td>975.0</td>\n",
       "      <td>871</td>\n",
       "      <td>44.05</td>\n",
       "      <td>2015</td>\n",
       "    </tr>\n",
       "    <tr>\n",
       "      <th>2174</th>\n",
       "      <td>975</td>\n",
       "      <td>Shenzhen University</td>\n",
       "      <td>China</td>\n",
       "      <td>75</td>\n",
       "      <td>367</td>\n",
       "      <td>410</td>\n",
       "      <td>218</td>\n",
       "      <td>976</td>\n",
       "      <td>778</td>\n",
       "      <td>645</td>\n",
       "      <td>999.0</td>\n",
       "      <td>318</td>\n",
       "      <td>44.05</td>\n",
       "      <td>2015</td>\n",
       "    </tr>\n",
       "    <tr>\n",
       "      <th>2175</th>\n",
       "      <td>976</td>\n",
       "      <td>Tianjin Medical University</td>\n",
       "      <td>China</td>\n",
       "      <td>76</td>\n",
       "      <td>367</td>\n",
       "      <td>567</td>\n",
       "      <td>218</td>\n",
       "      <td>885</td>\n",
       "      <td>857</td>\n",
       "      <td>812</td>\n",
       "      <td>946.0</td>\n",
       "      <td>839</td>\n",
       "      <td>44.05</td>\n",
       "      <td>2015</td>\n",
       "    </tr>\n",
       "    <tr>\n",
       "      <th>2176</th>\n",
       "      <td>977</td>\n",
       "      <td>Beijing University of Technology</td>\n",
       "      <td>China</td>\n",
       "      <td>77</td>\n",
       "      <td>367</td>\n",
       "      <td>567</td>\n",
       "      <td>218</td>\n",
       "      <td>780</td>\n",
       "      <td>950</td>\n",
       "      <td>812</td>\n",
       "      <td>969.0</td>\n",
       "      <td>512</td>\n",
       "      <td>44.05</td>\n",
       "      <td>2015</td>\n",
       "    </tr>\n",
       "    <tr>\n",
       "      <th>2177</th>\n",
       "      <td>978</td>\n",
       "      <td>University of Reims Champagne-Ardenne</td>\n",
       "      <td>France</td>\n",
       "      <td>48</td>\n",
       "      <td>367</td>\n",
       "      <td>567</td>\n",
       "      <td>218</td>\n",
       "      <td>967</td>\n",
       "      <td>884</td>\n",
       "      <td>645</td>\n",
       "      <td>958.0</td>\n",
       "      <td>544</td>\n",
       "      <td>44.05</td>\n",
       "      <td>2015</td>\n",
       "    </tr>\n",
       "    <tr>\n",
       "      <th>2178</th>\n",
       "      <td>979</td>\n",
       "      <td>Yuan Ze University</td>\n",
       "      <td>Taiwan</td>\n",
       "      <td>20</td>\n",
       "      <td>367</td>\n",
       "      <td>567</td>\n",
       "      <td>218</td>\n",
       "      <td>923</td>\n",
       "      <td>984</td>\n",
       "      <td>812</td>\n",
       "      <td>946.0</td>\n",
       "      <td>871</td>\n",
       "      <td>44.05</td>\n",
       "      <td>2015</td>\n",
       "    </tr>\n",
       "    <tr>\n",
       "      <th>2179</th>\n",
       "      <td>980</td>\n",
       "      <td>University of Chemistry and Technology, Prague</td>\n",
       "      <td>Czech Republic</td>\n",
       "      <td>5</td>\n",
       "      <td>367</td>\n",
       "      <td>567</td>\n",
       "      <td>218</td>\n",
       "      <td>991</td>\n",
       "      <td>868</td>\n",
       "      <td>812</td>\n",
       "      <td>946.0</td>\n",
       "      <td>778</td>\n",
       "      <td>44.05</td>\n",
       "      <td>2015</td>\n",
       "    </tr>\n",
       "    <tr>\n",
       "      <th>2180</th>\n",
       "      <td>981</td>\n",
       "      <td>University of Limerick</td>\n",
       "      <td>Ireland</td>\n",
       "      <td>8</td>\n",
       "      <td>367</td>\n",
       "      <td>529</td>\n",
       "      <td>218</td>\n",
       "      <td>892</td>\n",
       "      <td>863</td>\n",
       "      <td>812</td>\n",
       "      <td>969.0</td>\n",
       "      <td>516</td>\n",
       "      <td>44.05</td>\n",
       "      <td>2015</td>\n",
       "    </tr>\n",
       "    <tr>\n",
       "      <th>2181</th>\n",
       "      <td>982</td>\n",
       "      <td>China Medical University (PRC)</td>\n",
       "      <td>China</td>\n",
       "      <td>78</td>\n",
       "      <td>367</td>\n",
       "      <td>567</td>\n",
       "      <td>218</td>\n",
       "      <td>804</td>\n",
       "      <td>749</td>\n",
       "      <td>645</td>\n",
       "      <td>958.0</td>\n",
       "      <td>871</td>\n",
       "      <td>44.04</td>\n",
       "      <td>2015</td>\n",
       "    </tr>\n",
       "    <tr>\n",
       "      <th>2182</th>\n",
       "      <td>983</td>\n",
       "      <td>Feng Chia University</td>\n",
       "      <td>Taiwan</td>\n",
       "      <td>21</td>\n",
       "      <td>367</td>\n",
       "      <td>434</td>\n",
       "      <td>218</td>\n",
       "      <td>902</td>\n",
       "      <td>991</td>\n",
       "      <td>812</td>\n",
       "      <td>975.0</td>\n",
       "      <td>871</td>\n",
       "      <td>44.04</td>\n",
       "      <td>2015</td>\n",
       "    </tr>\n",
       "    <tr>\n",
       "      <th>2183</th>\n",
       "      <td>984</td>\n",
       "      <td>Zhejiang University of Technology</td>\n",
       "      <td>China</td>\n",
       "      <td>79</td>\n",
       "      <td>367</td>\n",
       "      <td>567</td>\n",
       "      <td>218</td>\n",
       "      <td>858</td>\n",
       "      <td>991</td>\n",
       "      <td>812</td>\n",
       "      <td>958.0</td>\n",
       "      <td>672</td>\n",
       "      <td>44.04</td>\n",
       "      <td>2015</td>\n",
       "    </tr>\n",
       "    <tr>\n",
       "      <th>2184</th>\n",
       "      <td>985</td>\n",
       "      <td>Novosibirsk State University</td>\n",
       "      <td>Russia</td>\n",
       "      <td>5</td>\n",
       "      <td>167</td>\n",
       "      <td>567</td>\n",
       "      <td>218</td>\n",
       "      <td>819</td>\n",
       "      <td>858</td>\n",
       "      <td>645</td>\n",
       "      <td>991.0</td>\n",
       "      <td>871</td>\n",
       "      <td>44.04</td>\n",
       "      <td>2015</td>\n",
       "    </tr>\n",
       "    <tr>\n",
       "      <th>2185</th>\n",
       "      <td>986</td>\n",
       "      <td>University of Bucharest</td>\n",
       "      <td>Romania</td>\n",
       "      <td>1</td>\n",
       "      <td>237</td>\n",
       "      <td>567</td>\n",
       "      <td>218</td>\n",
       "      <td>845</td>\n",
       "      <td>804</td>\n",
       "      <td>645</td>\n",
       "      <td>975.0</td>\n",
       "      <td>871</td>\n",
       "      <td>44.04</td>\n",
       "      <td>2015</td>\n",
       "    </tr>\n",
       "    <tr>\n",
       "      <th>2186</th>\n",
       "      <td>987</td>\n",
       "      <td>Babeș-Bolyai University</td>\n",
       "      <td>Romania</td>\n",
       "      <td>2</td>\n",
       "      <td>367</td>\n",
       "      <td>567</td>\n",
       "      <td>218</td>\n",
       "      <td>874</td>\n",
       "      <td>855</td>\n",
       "      <td>812</td>\n",
       "      <td>958.0</td>\n",
       "      <td>871</td>\n",
       "      <td>44.04</td>\n",
       "      <td>2015</td>\n",
       "    </tr>\n",
       "    <tr>\n",
       "      <th>2187</th>\n",
       "      <td>988</td>\n",
       "      <td>Mansoura University</td>\n",
       "      <td>Egypt</td>\n",
       "      <td>3</td>\n",
       "      <td>367</td>\n",
       "      <td>567</td>\n",
       "      <td>218</td>\n",
       "      <td>987</td>\n",
       "      <td>969</td>\n",
       "      <td>645</td>\n",
       "      <td>958.0</td>\n",
       "      <td>871</td>\n",
       "      <td>44.04</td>\n",
       "      <td>2015</td>\n",
       "    </tr>\n",
       "    <tr>\n",
       "      <th>2188</th>\n",
       "      <td>989</td>\n",
       "      <td>University of Pau and Pays de l'Adour</td>\n",
       "      <td>France</td>\n",
       "      <td>49</td>\n",
       "      <td>367</td>\n",
       "      <td>567</td>\n",
       "      <td>218</td>\n",
       "      <td>980</td>\n",
       "      <td>991</td>\n",
       "      <td>812</td>\n",
       "      <td>958.0</td>\n",
       "      <td>809</td>\n",
       "      <td>44.04</td>\n",
       "      <td>2015</td>\n",
       "    </tr>\n",
       "    <tr>\n",
       "      <th>2189</th>\n",
       "      <td>990</td>\n",
       "      <td>Henan Normal University</td>\n",
       "      <td>China</td>\n",
       "      <td>80</td>\n",
       "      <td>367</td>\n",
       "      <td>567</td>\n",
       "      <td>218</td>\n",
       "      <td>959</td>\n",
       "      <td>991</td>\n",
       "      <td>812</td>\n",
       "      <td>958.0</td>\n",
       "      <td>871</td>\n",
       "      <td>44.04</td>\n",
       "      <td>2015</td>\n",
       "    </tr>\n",
       "    <tr>\n",
       "      <th>2190</th>\n",
       "      <td>991</td>\n",
       "      <td>Xidian University</td>\n",
       "      <td>China</td>\n",
       "      <td>81</td>\n",
       "      <td>367</td>\n",
       "      <td>542</td>\n",
       "      <td>218</td>\n",
       "      <td>830</td>\n",
       "      <td>974</td>\n",
       "      <td>812</td>\n",
       "      <td>984.0</td>\n",
       "      <td>434</td>\n",
       "      <td>44.03</td>\n",
       "      <td>2015</td>\n",
       "    </tr>\n",
       "    <tr>\n",
       "      <th>2191</th>\n",
       "      <td>992</td>\n",
       "      <td>Federal University of Bahia</td>\n",
       "      <td>Brazil</td>\n",
       "      <td>17</td>\n",
       "      <td>367</td>\n",
       "      <td>540</td>\n",
       "      <td>218</td>\n",
       "      <td>962</td>\n",
       "      <td>865</td>\n",
       "      <td>645</td>\n",
       "      <td>969.0</td>\n",
       "      <td>774</td>\n",
       "      <td>44.03</td>\n",
       "      <td>2015</td>\n",
       "    </tr>\n",
       "    <tr>\n",
       "      <th>2192</th>\n",
       "      <td>993</td>\n",
       "      <td>Southwest Jiaotong University</td>\n",
       "      <td>China</td>\n",
       "      <td>82</td>\n",
       "      <td>367</td>\n",
       "      <td>327</td>\n",
       "      <td>218</td>\n",
       "      <td>937</td>\n",
       "      <td>962</td>\n",
       "      <td>812</td>\n",
       "      <td>998.0</td>\n",
       "      <td>861</td>\n",
       "      <td>44.03</td>\n",
       "      <td>2015</td>\n",
       "    </tr>\n",
       "    <tr>\n",
       "      <th>2193</th>\n",
       "      <td>994</td>\n",
       "      <td>Ryerson University</td>\n",
       "      <td>Canada</td>\n",
       "      <td>33</td>\n",
       "      <td>367</td>\n",
       "      <td>567</td>\n",
       "      <td>218</td>\n",
       "      <td>811</td>\n",
       "      <td>969</td>\n",
       "      <td>511</td>\n",
       "      <td>975.0</td>\n",
       "      <td>756</td>\n",
       "      <td>44.03</td>\n",
       "      <td>2015</td>\n",
       "    </tr>\n",
       "    <tr>\n",
       "      <th>2194</th>\n",
       "      <td>995</td>\n",
       "      <td>King Abdulaziz University</td>\n",
       "      <td>Saudi Arabia</td>\n",
       "      <td>4</td>\n",
       "      <td>367</td>\n",
       "      <td>449</td>\n",
       "      <td>218</td>\n",
       "      <td>595</td>\n",
       "      <td>430</td>\n",
       "      <td>645</td>\n",
       "      <td>994.0</td>\n",
       "      <td>839</td>\n",
       "      <td>44.03</td>\n",
       "      <td>2015</td>\n",
       "    </tr>\n",
       "    <tr>\n",
       "      <th>2195</th>\n",
       "      <td>996</td>\n",
       "      <td>University of the Algarve</td>\n",
       "      <td>Portugal</td>\n",
       "      <td>7</td>\n",
       "      <td>367</td>\n",
       "      <td>567</td>\n",
       "      <td>218</td>\n",
       "      <td>926</td>\n",
       "      <td>845</td>\n",
       "      <td>812</td>\n",
       "      <td>969.0</td>\n",
       "      <td>816</td>\n",
       "      <td>44.03</td>\n",
       "      <td>2015</td>\n",
       "    </tr>\n",
       "    <tr>\n",
       "      <th>2196</th>\n",
       "      <td>997</td>\n",
       "      <td>Alexandria University</td>\n",
       "      <td>Egypt</td>\n",
       "      <td>4</td>\n",
       "      <td>236</td>\n",
       "      <td>566</td>\n",
       "      <td>218</td>\n",
       "      <td>997</td>\n",
       "      <td>908</td>\n",
       "      <td>645</td>\n",
       "      <td>981.0</td>\n",
       "      <td>871</td>\n",
       "      <td>44.03</td>\n",
       "      <td>2015</td>\n",
       "    </tr>\n",
       "    <tr>\n",
       "      <th>2197</th>\n",
       "      <td>998</td>\n",
       "      <td>Federal University of Ceará</td>\n",
       "      <td>Brazil</td>\n",
       "      <td>18</td>\n",
       "      <td>367</td>\n",
       "      <td>549</td>\n",
       "      <td>218</td>\n",
       "      <td>830</td>\n",
       "      <td>823</td>\n",
       "      <td>812</td>\n",
       "      <td>975.0</td>\n",
       "      <td>824</td>\n",
       "      <td>44.03</td>\n",
       "      <td>2015</td>\n",
       "    </tr>\n",
       "    <tr>\n",
       "      <th>2198</th>\n",
       "      <td>999</td>\n",
       "      <td>University of A Coruña</td>\n",
       "      <td>Spain</td>\n",
       "      <td>40</td>\n",
       "      <td>367</td>\n",
       "      <td>567</td>\n",
       "      <td>218</td>\n",
       "      <td>886</td>\n",
       "      <td>974</td>\n",
       "      <td>812</td>\n",
       "      <td>975.0</td>\n",
       "      <td>651</td>\n",
       "      <td>44.02</td>\n",
       "      <td>2015</td>\n",
       "    </tr>\n",
       "    <tr>\n",
       "      <th>2199</th>\n",
       "      <td>1000</td>\n",
       "      <td>China Pharmaceutical University</td>\n",
       "      <td>China</td>\n",
       "      <td>83</td>\n",
       "      <td>367</td>\n",
       "      <td>567</td>\n",
       "      <td>218</td>\n",
       "      <td>861</td>\n",
       "      <td>991</td>\n",
       "      <td>812</td>\n",
       "      <td>981.0</td>\n",
       "      <td>547</td>\n",
       "      <td>44.02</td>\n",
       "      <td>2015</td>\n",
       "    </tr>\n",
       "  </tbody>\n",
       "</table>\n",
       "<p>2200 rows × 14 columns</p>\n",
       "</div>"
      ],
      "text/plain": [
       "      world_rank                                        institution  \\\n",
       "0              1                                 Harvard University   \n",
       "1              2              Massachusetts Institute of Technology   \n",
       "2              3                                Stanford University   \n",
       "3              4                            University of Cambridge   \n",
       "4              5                 California Institute of Technology   \n",
       "5              6                               Princeton University   \n",
       "6              7                               University of Oxford   \n",
       "7              8                                    Yale University   \n",
       "8              9                                Columbia University   \n",
       "9             10                 University of California, Berkeley   \n",
       "10            11                              University of Chicago   \n",
       "11            12                                 Cornell University   \n",
       "12            13                         University of Pennsylvania   \n",
       "13            14                                University of Tokyo   \n",
       "14            15                           Johns Hopkins University   \n",
       "15            16    Swiss Federal Institute of Technology in Zurich   \n",
       "16            17                                   Kyoto University   \n",
       "17            18                      Weizmann Institute of Science   \n",
       "18            19              University of California, Los Angeles   \n",
       "19            20                University of California, San Diego   \n",
       "20            21                             Rockefeller University   \n",
       "21            22                     Hebrew University of Jerusalem   \n",
       "22            23                                New York University   \n",
       "23            24            University of California, San Francisco   \n",
       "24            25                    University of Wisconsin–Madison   \n",
       "25            26         University of Illinois at Urbana–Champaign   \n",
       "26            27                                    Duke University   \n",
       "27            28                            Imperial College London   \n",
       "28            29    University of Texas Southwestern Medical Center   \n",
       "29            30                      University of Texas at Austin   \n",
       "...          ...                                                ...   \n",
       "2170         971                         Fu Jen Catholic University   \n",
       "2171         972                            Hunan Normal University   \n",
       "2172         973  Ulsan National Institute of Science and Techno...   \n",
       "2173         974                  Federal University of Santa Maria   \n",
       "2174         975                                Shenzhen University   \n",
       "2175         976                         Tianjin Medical University   \n",
       "2176         977                   Beijing University of Technology   \n",
       "2177         978              University of Reims Champagne-Ardenne   \n",
       "2178         979                                 Yuan Ze University   \n",
       "2179         980     University of Chemistry and Technology, Prague   \n",
       "2180         981                             University of Limerick   \n",
       "2181         982                     China Medical University (PRC)   \n",
       "2182         983                               Feng Chia University   \n",
       "2183         984                  Zhejiang University of Technology   \n",
       "2184         985                       Novosibirsk State University   \n",
       "2185         986                            University of Bucharest   \n",
       "2186         987                            Babeș-Bolyai University   \n",
       "2187         988                                Mansoura University   \n",
       "2188         989              University of Pau and Pays de l'Adour   \n",
       "2189         990                            Henan Normal University   \n",
       "2190         991                                  Xidian University   \n",
       "2191         992                        Federal University of Bahia   \n",
       "2192         993                      Southwest Jiaotong University   \n",
       "2193         994                                 Ryerson University   \n",
       "2194         995                          King Abdulaziz University   \n",
       "2195         996                          University of the Algarve   \n",
       "2196         997                              Alexandria University   \n",
       "2197         998                        Federal University of Ceará   \n",
       "2198         999                             University of A Coruña   \n",
       "2199        1000                    China Pharmaceutical University   \n",
       "\n",
       "             country  national_rank  quality_of_education  alumni_employment  \\\n",
       "0                USA              1                     7                  9   \n",
       "1                USA              2                     9                 17   \n",
       "2                USA              3                    17                 11   \n",
       "3     United Kingdom              1                    10                 24   \n",
       "4                USA              4                     2                 29   \n",
       "5                USA              5                     8                 14   \n",
       "6     United Kingdom              2                    13                 28   \n",
       "7                USA              6                    14                 31   \n",
       "8                USA              7                    23                 21   \n",
       "9                USA              8                    16                 52   \n",
       "10               USA              9                    15                 26   \n",
       "11               USA             10                    21                 42   \n",
       "12               USA             11                    31                 16   \n",
       "13             Japan              1                    32                 19   \n",
       "14               USA             12                    34                 77   \n",
       "15       Switzerland              1                    26                 66   \n",
       "16             Japan              2                    42                 38   \n",
       "17            Israel              1                     4                101   \n",
       "18               USA             13                    62                 59   \n",
       "19               USA             14                    61                101   \n",
       "20               USA             15                     1                101   \n",
       "21            Israel              2                    24                 93   \n",
       "22               USA             16                    89                 75   \n",
       "23               USA             17                   101                101   \n",
       "24               USA             18                    64                 63   \n",
       "25               USA             19                    82                101   \n",
       "26               USA             20                    65                 43   \n",
       "27    United Kingdom              3                    84                 73   \n",
       "28               USA             21                    19                101   \n",
       "29               USA             22                   101                 78   \n",
       "...              ...            ...                   ...                ...   \n",
       "2170          Taiwan             19                   367                446   \n",
       "2171           China             74                   367                567   \n",
       "2172     South Korea             36                   367                567   \n",
       "2173          Brazil             16                   367                396   \n",
       "2174           China             75                   367                410   \n",
       "2175           China             76                   367                567   \n",
       "2176           China             77                   367                567   \n",
       "2177          France             48                   367                567   \n",
       "2178          Taiwan             20                   367                567   \n",
       "2179  Czech Republic              5                   367                567   \n",
       "2180         Ireland              8                   367                529   \n",
       "2181           China             78                   367                567   \n",
       "2182          Taiwan             21                   367                434   \n",
       "2183           China             79                   367                567   \n",
       "2184          Russia              5                   167                567   \n",
       "2185         Romania              1                   237                567   \n",
       "2186         Romania              2                   367                567   \n",
       "2187           Egypt              3                   367                567   \n",
       "2188          France             49                   367                567   \n",
       "2189           China             80                   367                567   \n",
       "2190           China             81                   367                542   \n",
       "2191          Brazil             17                   367                540   \n",
       "2192           China             82                   367                327   \n",
       "2193          Canada             33                   367                567   \n",
       "2194    Saudi Arabia              4                   367                449   \n",
       "2195        Portugal              7                   367                567   \n",
       "2196           Egypt              4                   236                566   \n",
       "2197          Brazil             18                   367                549   \n",
       "2198           Spain             40                   367                567   \n",
       "2199           China             83                   367                567   \n",
       "\n",
       "      quality_of_faculty  publications  influence  citations  broad_impact  \\\n",
       "0                      1             1          1          1           NaN   \n",
       "1                      3            12          4          4           NaN   \n",
       "2                      5             4          2          2           NaN   \n",
       "3                      4            16         16         11           NaN   \n",
       "4                      7            37         22         22           NaN   \n",
       "5                      2            53         33         26           NaN   \n",
       "6                      9            15         13         19           NaN   \n",
       "7                     12            14          6         15           NaN   \n",
       "8                     10            13         12         14           NaN   \n",
       "9                      6             6          5          3           NaN   \n",
       "10                     8            34         20         28           NaN   \n",
       "11                    14            22         21         16           NaN   \n",
       "12                    24             9         10          8           NaN   \n",
       "13                    31             8         19         23           NaN   \n",
       "14                    20            11          9          9           NaN   \n",
       "15                    11            40         51         44           NaN   \n",
       "16                    19            25         36         43           NaN   \n",
       "17                    22           101         67        101           NaN   \n",
       "18                    23             3         11          6           NaN   \n",
       "19                    15            10          8         10           NaN   \n",
       "20                    16           101         28         96           NaN   \n",
       "21                    13           101         91        101           NaN   \n",
       "22                    17            42         24         34           NaN   \n",
       "23                    21            19          3         13           NaN   \n",
       "24                    33            17         30         21           NaN   \n",
       "25                    18            35         71         39           NaN   \n",
       "26                    55            20         15         12           NaN   \n",
       "27                    35            26         26         29           NaN   \n",
       "28                    32           101         43         84           NaN   \n",
       "29                    27            41         47         40           NaN   \n",
       "...                  ...           ...        ...        ...           ...   \n",
       "2170                 218           984        887        812         958.0   \n",
       "2171                 218           923        917        812         932.0   \n",
       "2172                 218           880        912        645         984.0   \n",
       "2173                 218           954        974        812         975.0   \n",
       "2174                 218           976        778        645         999.0   \n",
       "2175                 218           885        857        812         946.0   \n",
       "2176                 218           780        950        812         969.0   \n",
       "2177                 218           967        884        645         958.0   \n",
       "2178                 218           923        984        812         946.0   \n",
       "2179                 218           991        868        812         946.0   \n",
       "2180                 218           892        863        812         969.0   \n",
       "2181                 218           804        749        645         958.0   \n",
       "2182                 218           902        991        812         975.0   \n",
       "2183                 218           858        991        812         958.0   \n",
       "2184                 218           819        858        645         991.0   \n",
       "2185                 218           845        804        645         975.0   \n",
       "2186                 218           874        855        812         958.0   \n",
       "2187                 218           987        969        645         958.0   \n",
       "2188                 218           980        991        812         958.0   \n",
       "2189                 218           959        991        812         958.0   \n",
       "2190                 218           830        974        812         984.0   \n",
       "2191                 218           962        865        645         969.0   \n",
       "2192                 218           937        962        812         998.0   \n",
       "2193                 218           811        969        511         975.0   \n",
       "2194                 218           595        430        645         994.0   \n",
       "2195                 218           926        845        812         969.0   \n",
       "2196                 218           997        908        645         981.0   \n",
       "2197                 218           830        823        812         975.0   \n",
       "2198                 218           886        974        812         975.0   \n",
       "2199                 218           861        991        812         981.0   \n",
       "\n",
       "      patents   score  year  \n",
       "0           5  100.00  2012  \n",
       "1           1   91.67  2012  \n",
       "2          15   89.50  2012  \n",
       "3          50   86.17  2012  \n",
       "4          18   85.21  2012  \n",
       "5         101   82.50  2012  \n",
       "6          26   82.34  2012  \n",
       "7          66   79.14  2012  \n",
       "8           5   78.86  2012  \n",
       "9          16   78.55  2012  \n",
       "10        101   73.82  2012  \n",
       "11         10   73.69  2012  \n",
       "12          9   73.64  2012  \n",
       "13          3   69.49  2012  \n",
       "14          7   66.94  2012  \n",
       "15         34   66.69  2012  \n",
       "16         23   65.76  2012  \n",
       "17         29   65.09  2012  \n",
       "18         13   64.05  2012  \n",
       "19         22   63.11  2012  \n",
       "20        101   61.74  2012  \n",
       "21         28   60.76  2012  \n",
       "22         62   60.55  2012  \n",
       "23         33   59.70  2012  \n",
       "24         21   59.66  2012  \n",
       "25         44   59.00  2012  \n",
       "26         20   58.37  2012  \n",
       "27         41   57.53  2012  \n",
       "28        101   56.43  2012  \n",
       "29         57   56.18  2012  \n",
       "...       ...     ...   ...  \n",
       "2170      824   44.06  2015  \n",
       "2171      871   44.06  2015  \n",
       "2172      349   44.06  2015  \n",
       "2173      871   44.05  2015  \n",
       "2174      318   44.05  2015  \n",
       "2175      839   44.05  2015  \n",
       "2176      512   44.05  2015  \n",
       "2177      544   44.05  2015  \n",
       "2178      871   44.05  2015  \n",
       "2179      778   44.05  2015  \n",
       "2180      516   44.05  2015  \n",
       "2181      871   44.04  2015  \n",
       "2182      871   44.04  2015  \n",
       "2183      672   44.04  2015  \n",
       "2184      871   44.04  2015  \n",
       "2185      871   44.04  2015  \n",
       "2186      871   44.04  2015  \n",
       "2187      871   44.04  2015  \n",
       "2188      809   44.04  2015  \n",
       "2189      871   44.04  2015  \n",
       "2190      434   44.03  2015  \n",
       "2191      774   44.03  2015  \n",
       "2192      861   44.03  2015  \n",
       "2193      756   44.03  2015  \n",
       "2194      839   44.03  2015  \n",
       "2195      816   44.03  2015  \n",
       "2196      871   44.03  2015  \n",
       "2197      824   44.03  2015  \n",
       "2198      651   44.02  2015  \n",
       "2199      547   44.02  2015  \n",
       "\n",
       "[2200 rows x 14 columns]"
      ]
     },
     "execution_count": 5,
     "metadata": {},
     "output_type": "execute_result"
    }
   ],
   "source": [
    "#step 2 data cleaning\n",
    "#replacing the null values with NAN and also removing an empty column\n",
    "data\n"
   ]
  },
  {
   "cell_type": "code",
   "execution_count": 6,
   "metadata": {},
   "outputs": [
    {
     "name": "stdout",
     "output_type": "stream",
     "text": [
      "(2200, 13)\n"
     ]
    },
    {
     "data": {
      "text/html": [
       "<div>\n",
       "<style scoped>\n",
       "    .dataframe tbody tr th:only-of-type {\n",
       "        vertical-align: middle;\n",
       "    }\n",
       "\n",
       "    .dataframe tbody tr th {\n",
       "        vertical-align: top;\n",
       "    }\n",
       "\n",
       "    .dataframe thead th {\n",
       "        text-align: right;\n",
       "    }\n",
       "</style>\n",
       "<table border=\"1\" class=\"dataframe\">\n",
       "  <thead>\n",
       "    <tr style=\"text-align: right;\">\n",
       "      <th></th>\n",
       "      <th>world_rank</th>\n",
       "      <th>institution</th>\n",
       "      <th>country</th>\n",
       "      <th>national_rank</th>\n",
       "      <th>quality_of_education</th>\n",
       "      <th>alumni_employment</th>\n",
       "      <th>quality_of_faculty</th>\n",
       "      <th>publications</th>\n",
       "      <th>influence</th>\n",
       "      <th>citations</th>\n",
       "      <th>patents</th>\n",
       "      <th>score</th>\n",
       "      <th>year</th>\n",
       "    </tr>\n",
       "  </thead>\n",
       "  <tbody>\n",
       "    <tr>\n",
       "      <th>0</th>\n",
       "      <td>1</td>\n",
       "      <td>Harvard University</td>\n",
       "      <td>USA</td>\n",
       "      <td>1</td>\n",
       "      <td>7</td>\n",
       "      <td>9</td>\n",
       "      <td>1</td>\n",
       "      <td>1</td>\n",
       "      <td>1</td>\n",
       "      <td>1</td>\n",
       "      <td>5</td>\n",
       "      <td>100.00</td>\n",
       "      <td>2012</td>\n",
       "    </tr>\n",
       "    <tr>\n",
       "      <th>1</th>\n",
       "      <td>2</td>\n",
       "      <td>Massachusetts Institute of Technology</td>\n",
       "      <td>USA</td>\n",
       "      <td>2</td>\n",
       "      <td>9</td>\n",
       "      <td>17</td>\n",
       "      <td>3</td>\n",
       "      <td>12</td>\n",
       "      <td>4</td>\n",
       "      <td>4</td>\n",
       "      <td>1</td>\n",
       "      <td>91.67</td>\n",
       "      <td>2012</td>\n",
       "    </tr>\n",
       "    <tr>\n",
       "      <th>2</th>\n",
       "      <td>3</td>\n",
       "      <td>Stanford University</td>\n",
       "      <td>USA</td>\n",
       "      <td>3</td>\n",
       "      <td>17</td>\n",
       "      <td>11</td>\n",
       "      <td>5</td>\n",
       "      <td>4</td>\n",
       "      <td>2</td>\n",
       "      <td>2</td>\n",
       "      <td>15</td>\n",
       "      <td>89.50</td>\n",
       "      <td>2012</td>\n",
       "    </tr>\n",
       "    <tr>\n",
       "      <th>3</th>\n",
       "      <td>4</td>\n",
       "      <td>University of Cambridge</td>\n",
       "      <td>United Kingdom</td>\n",
       "      <td>1</td>\n",
       "      <td>10</td>\n",
       "      <td>24</td>\n",
       "      <td>4</td>\n",
       "      <td>16</td>\n",
       "      <td>16</td>\n",
       "      <td>11</td>\n",
       "      <td>50</td>\n",
       "      <td>86.17</td>\n",
       "      <td>2012</td>\n",
       "    </tr>\n",
       "    <tr>\n",
       "      <th>4</th>\n",
       "      <td>5</td>\n",
       "      <td>California Institute of Technology</td>\n",
       "      <td>USA</td>\n",
       "      <td>4</td>\n",
       "      <td>2</td>\n",
       "      <td>29</td>\n",
       "      <td>7</td>\n",
       "      <td>37</td>\n",
       "      <td>22</td>\n",
       "      <td>22</td>\n",
       "      <td>18</td>\n",
       "      <td>85.21</td>\n",
       "      <td>2012</td>\n",
       "    </tr>\n",
       "    <tr>\n",
       "      <th>5</th>\n",
       "      <td>6</td>\n",
       "      <td>Princeton University</td>\n",
       "      <td>USA</td>\n",
       "      <td>5</td>\n",
       "      <td>8</td>\n",
       "      <td>14</td>\n",
       "      <td>2</td>\n",
       "      <td>53</td>\n",
       "      <td>33</td>\n",
       "      <td>26</td>\n",
       "      <td>101</td>\n",
       "      <td>82.50</td>\n",
       "      <td>2012</td>\n",
       "    </tr>\n",
       "    <tr>\n",
       "      <th>6</th>\n",
       "      <td>7</td>\n",
       "      <td>University of Oxford</td>\n",
       "      <td>United Kingdom</td>\n",
       "      <td>2</td>\n",
       "      <td>13</td>\n",
       "      <td>28</td>\n",
       "      <td>9</td>\n",
       "      <td>15</td>\n",
       "      <td>13</td>\n",
       "      <td>19</td>\n",
       "      <td>26</td>\n",
       "      <td>82.34</td>\n",
       "      <td>2012</td>\n",
       "    </tr>\n",
       "    <tr>\n",
       "      <th>7</th>\n",
       "      <td>8</td>\n",
       "      <td>Yale University</td>\n",
       "      <td>USA</td>\n",
       "      <td>6</td>\n",
       "      <td>14</td>\n",
       "      <td>31</td>\n",
       "      <td>12</td>\n",
       "      <td>14</td>\n",
       "      <td>6</td>\n",
       "      <td>15</td>\n",
       "      <td>66</td>\n",
       "      <td>79.14</td>\n",
       "      <td>2012</td>\n",
       "    </tr>\n",
       "    <tr>\n",
       "      <th>8</th>\n",
       "      <td>9</td>\n",
       "      <td>Columbia University</td>\n",
       "      <td>USA</td>\n",
       "      <td>7</td>\n",
       "      <td>23</td>\n",
       "      <td>21</td>\n",
       "      <td>10</td>\n",
       "      <td>13</td>\n",
       "      <td>12</td>\n",
       "      <td>14</td>\n",
       "      <td>5</td>\n",
       "      <td>78.86</td>\n",
       "      <td>2012</td>\n",
       "    </tr>\n",
       "    <tr>\n",
       "      <th>9</th>\n",
       "      <td>10</td>\n",
       "      <td>University of California, Berkeley</td>\n",
       "      <td>USA</td>\n",
       "      <td>8</td>\n",
       "      <td>16</td>\n",
       "      <td>52</td>\n",
       "      <td>6</td>\n",
       "      <td>6</td>\n",
       "      <td>5</td>\n",
       "      <td>3</td>\n",
       "      <td>16</td>\n",
       "      <td>78.55</td>\n",
       "      <td>2012</td>\n",
       "    </tr>\n",
       "    <tr>\n",
       "      <th>10</th>\n",
       "      <td>11</td>\n",
       "      <td>University of Chicago</td>\n",
       "      <td>USA</td>\n",
       "      <td>9</td>\n",
       "      <td>15</td>\n",
       "      <td>26</td>\n",
       "      <td>8</td>\n",
       "      <td>34</td>\n",
       "      <td>20</td>\n",
       "      <td>28</td>\n",
       "      <td>101</td>\n",
       "      <td>73.82</td>\n",
       "      <td>2012</td>\n",
       "    </tr>\n",
       "    <tr>\n",
       "      <th>11</th>\n",
       "      <td>12</td>\n",
       "      <td>Cornell University</td>\n",
       "      <td>USA</td>\n",
       "      <td>10</td>\n",
       "      <td>21</td>\n",
       "      <td>42</td>\n",
       "      <td>14</td>\n",
       "      <td>22</td>\n",
       "      <td>21</td>\n",
       "      <td>16</td>\n",
       "      <td>10</td>\n",
       "      <td>73.69</td>\n",
       "      <td>2012</td>\n",
       "    </tr>\n",
       "    <tr>\n",
       "      <th>12</th>\n",
       "      <td>13</td>\n",
       "      <td>University of Pennsylvania</td>\n",
       "      <td>USA</td>\n",
       "      <td>11</td>\n",
       "      <td>31</td>\n",
       "      <td>16</td>\n",
       "      <td>24</td>\n",
       "      <td>9</td>\n",
       "      <td>10</td>\n",
       "      <td>8</td>\n",
       "      <td>9</td>\n",
       "      <td>73.64</td>\n",
       "      <td>2012</td>\n",
       "    </tr>\n",
       "    <tr>\n",
       "      <th>13</th>\n",
       "      <td>14</td>\n",
       "      <td>University of Tokyo</td>\n",
       "      <td>Japan</td>\n",
       "      <td>1</td>\n",
       "      <td>32</td>\n",
       "      <td>19</td>\n",
       "      <td>31</td>\n",
       "      <td>8</td>\n",
       "      <td>19</td>\n",
       "      <td>23</td>\n",
       "      <td>3</td>\n",
       "      <td>69.49</td>\n",
       "      <td>2012</td>\n",
       "    </tr>\n",
       "    <tr>\n",
       "      <th>14</th>\n",
       "      <td>15</td>\n",
       "      <td>Johns Hopkins University</td>\n",
       "      <td>USA</td>\n",
       "      <td>12</td>\n",
       "      <td>34</td>\n",
       "      <td>77</td>\n",
       "      <td>20</td>\n",
       "      <td>11</td>\n",
       "      <td>9</td>\n",
       "      <td>9</td>\n",
       "      <td>7</td>\n",
       "      <td>66.94</td>\n",
       "      <td>2012</td>\n",
       "    </tr>\n",
       "    <tr>\n",
       "      <th>15</th>\n",
       "      <td>16</td>\n",
       "      <td>Swiss Federal Institute of Technology in Zurich</td>\n",
       "      <td>Switzerland</td>\n",
       "      <td>1</td>\n",
       "      <td>26</td>\n",
       "      <td>66</td>\n",
       "      <td>11</td>\n",
       "      <td>40</td>\n",
       "      <td>51</td>\n",
       "      <td>44</td>\n",
       "      <td>34</td>\n",
       "      <td>66.69</td>\n",
       "      <td>2012</td>\n",
       "    </tr>\n",
       "    <tr>\n",
       "      <th>16</th>\n",
       "      <td>17</td>\n",
       "      <td>Kyoto University</td>\n",
       "      <td>Japan</td>\n",
       "      <td>2</td>\n",
       "      <td>42</td>\n",
       "      <td>38</td>\n",
       "      <td>19</td>\n",
       "      <td>25</td>\n",
       "      <td>36</td>\n",
       "      <td>43</td>\n",
       "      <td>23</td>\n",
       "      <td>65.76</td>\n",
       "      <td>2012</td>\n",
       "    </tr>\n",
       "    <tr>\n",
       "      <th>17</th>\n",
       "      <td>18</td>\n",
       "      <td>Weizmann Institute of Science</td>\n",
       "      <td>Israel</td>\n",
       "      <td>1</td>\n",
       "      <td>4</td>\n",
       "      <td>101</td>\n",
       "      <td>22</td>\n",
       "      <td>101</td>\n",
       "      <td>67</td>\n",
       "      <td>101</td>\n",
       "      <td>29</td>\n",
       "      <td>65.09</td>\n",
       "      <td>2012</td>\n",
       "    </tr>\n",
       "    <tr>\n",
       "      <th>18</th>\n",
       "      <td>19</td>\n",
       "      <td>University of California, Los Angeles</td>\n",
       "      <td>USA</td>\n",
       "      <td>13</td>\n",
       "      <td>62</td>\n",
       "      <td>59</td>\n",
       "      <td>23</td>\n",
       "      <td>3</td>\n",
       "      <td>11</td>\n",
       "      <td>6</td>\n",
       "      <td>13</td>\n",
       "      <td>64.05</td>\n",
       "      <td>2012</td>\n",
       "    </tr>\n",
       "    <tr>\n",
       "      <th>19</th>\n",
       "      <td>20</td>\n",
       "      <td>University of California, San Diego</td>\n",
       "      <td>USA</td>\n",
       "      <td>14</td>\n",
       "      <td>61</td>\n",
       "      <td>101</td>\n",
       "      <td>15</td>\n",
       "      <td>10</td>\n",
       "      <td>8</td>\n",
       "      <td>10</td>\n",
       "      <td>22</td>\n",
       "      <td>63.11</td>\n",
       "      <td>2012</td>\n",
       "    </tr>\n",
       "    <tr>\n",
       "      <th>20</th>\n",
       "      <td>21</td>\n",
       "      <td>Rockefeller University</td>\n",
       "      <td>USA</td>\n",
       "      <td>15</td>\n",
       "      <td>1</td>\n",
       "      <td>101</td>\n",
       "      <td>16</td>\n",
       "      <td>101</td>\n",
       "      <td>28</td>\n",
       "      <td>96</td>\n",
       "      <td>101</td>\n",
       "      <td>61.74</td>\n",
       "      <td>2012</td>\n",
       "    </tr>\n",
       "    <tr>\n",
       "      <th>21</th>\n",
       "      <td>22</td>\n",
       "      <td>Hebrew University of Jerusalem</td>\n",
       "      <td>Israel</td>\n",
       "      <td>2</td>\n",
       "      <td>24</td>\n",
       "      <td>93</td>\n",
       "      <td>13</td>\n",
       "      <td>101</td>\n",
       "      <td>91</td>\n",
       "      <td>101</td>\n",
       "      <td>28</td>\n",
       "      <td>60.76</td>\n",
       "      <td>2012</td>\n",
       "    </tr>\n",
       "    <tr>\n",
       "      <th>22</th>\n",
       "      <td>23</td>\n",
       "      <td>New York University</td>\n",
       "      <td>USA</td>\n",
       "      <td>16</td>\n",
       "      <td>89</td>\n",
       "      <td>75</td>\n",
       "      <td>17</td>\n",
       "      <td>42</td>\n",
       "      <td>24</td>\n",
       "      <td>34</td>\n",
       "      <td>62</td>\n",
       "      <td>60.55</td>\n",
       "      <td>2012</td>\n",
       "    </tr>\n",
       "    <tr>\n",
       "      <th>23</th>\n",
       "      <td>24</td>\n",
       "      <td>University of California, San Francisco</td>\n",
       "      <td>USA</td>\n",
       "      <td>17</td>\n",
       "      <td>101</td>\n",
       "      <td>101</td>\n",
       "      <td>21</td>\n",
       "      <td>19</td>\n",
       "      <td>3</td>\n",
       "      <td>13</td>\n",
       "      <td>33</td>\n",
       "      <td>59.70</td>\n",
       "      <td>2012</td>\n",
       "    </tr>\n",
       "    <tr>\n",
       "      <th>24</th>\n",
       "      <td>25</td>\n",
       "      <td>University of Wisconsin–Madison</td>\n",
       "      <td>USA</td>\n",
       "      <td>18</td>\n",
       "      <td>64</td>\n",
       "      <td>63</td>\n",
       "      <td>33</td>\n",
       "      <td>17</td>\n",
       "      <td>30</td>\n",
       "      <td>21</td>\n",
       "      <td>21</td>\n",
       "      <td>59.66</td>\n",
       "      <td>2012</td>\n",
       "    </tr>\n",
       "    <tr>\n",
       "      <th>25</th>\n",
       "      <td>26</td>\n",
       "      <td>University of Illinois at Urbana–Champaign</td>\n",
       "      <td>USA</td>\n",
       "      <td>19</td>\n",
       "      <td>82</td>\n",
       "      <td>101</td>\n",
       "      <td>18</td>\n",
       "      <td>35</td>\n",
       "      <td>71</td>\n",
       "      <td>39</td>\n",
       "      <td>44</td>\n",
       "      <td>59.00</td>\n",
       "      <td>2012</td>\n",
       "    </tr>\n",
       "    <tr>\n",
       "      <th>26</th>\n",
       "      <td>27</td>\n",
       "      <td>Duke University</td>\n",
       "      <td>USA</td>\n",
       "      <td>20</td>\n",
       "      <td>65</td>\n",
       "      <td>43</td>\n",
       "      <td>55</td>\n",
       "      <td>20</td>\n",
       "      <td>15</td>\n",
       "      <td>12</td>\n",
       "      <td>20</td>\n",
       "      <td>58.37</td>\n",
       "      <td>2012</td>\n",
       "    </tr>\n",
       "    <tr>\n",
       "      <th>27</th>\n",
       "      <td>28</td>\n",
       "      <td>Imperial College London</td>\n",
       "      <td>United Kingdom</td>\n",
       "      <td>3</td>\n",
       "      <td>84</td>\n",
       "      <td>73</td>\n",
       "      <td>35</td>\n",
       "      <td>26</td>\n",
       "      <td>26</td>\n",
       "      <td>29</td>\n",
       "      <td>41</td>\n",
       "      <td>57.53</td>\n",
       "      <td>2012</td>\n",
       "    </tr>\n",
       "    <tr>\n",
       "      <th>28</th>\n",
       "      <td>29</td>\n",
       "      <td>University of Texas Southwestern Medical Center</td>\n",
       "      <td>USA</td>\n",
       "      <td>21</td>\n",
       "      <td>19</td>\n",
       "      <td>101</td>\n",
       "      <td>32</td>\n",
       "      <td>101</td>\n",
       "      <td>43</td>\n",
       "      <td>84</td>\n",
       "      <td>101</td>\n",
       "      <td>56.43</td>\n",
       "      <td>2012</td>\n",
       "    </tr>\n",
       "    <tr>\n",
       "      <th>29</th>\n",
       "      <td>30</td>\n",
       "      <td>University of Texas at Austin</td>\n",
       "      <td>USA</td>\n",
       "      <td>22</td>\n",
       "      <td>101</td>\n",
       "      <td>78</td>\n",
       "      <td>27</td>\n",
       "      <td>41</td>\n",
       "      <td>47</td>\n",
       "      <td>40</td>\n",
       "      <td>57</td>\n",
       "      <td>56.18</td>\n",
       "      <td>2012</td>\n",
       "    </tr>\n",
       "    <tr>\n",
       "      <th>...</th>\n",
       "      <td>...</td>\n",
       "      <td>...</td>\n",
       "      <td>...</td>\n",
       "      <td>...</td>\n",
       "      <td>...</td>\n",
       "      <td>...</td>\n",
       "      <td>...</td>\n",
       "      <td>...</td>\n",
       "      <td>...</td>\n",
       "      <td>...</td>\n",
       "      <td>...</td>\n",
       "      <td>...</td>\n",
       "      <td>...</td>\n",
       "    </tr>\n",
       "    <tr>\n",
       "      <th>2170</th>\n",
       "      <td>971</td>\n",
       "      <td>Fu Jen Catholic University</td>\n",
       "      <td>Taiwan</td>\n",
       "      <td>19</td>\n",
       "      <td>367</td>\n",
       "      <td>446</td>\n",
       "      <td>218</td>\n",
       "      <td>984</td>\n",
       "      <td>887</td>\n",
       "      <td>812</td>\n",
       "      <td>824</td>\n",
       "      <td>44.06</td>\n",
       "      <td>2015</td>\n",
       "    </tr>\n",
       "    <tr>\n",
       "      <th>2171</th>\n",
       "      <td>972</td>\n",
       "      <td>Hunan Normal University</td>\n",
       "      <td>China</td>\n",
       "      <td>74</td>\n",
       "      <td>367</td>\n",
       "      <td>567</td>\n",
       "      <td>218</td>\n",
       "      <td>923</td>\n",
       "      <td>917</td>\n",
       "      <td>812</td>\n",
       "      <td>871</td>\n",
       "      <td>44.06</td>\n",
       "      <td>2015</td>\n",
       "    </tr>\n",
       "    <tr>\n",
       "      <th>2172</th>\n",
       "      <td>973</td>\n",
       "      <td>Ulsan National Institute of Science and Techno...</td>\n",
       "      <td>South Korea</td>\n",
       "      <td>36</td>\n",
       "      <td>367</td>\n",
       "      <td>567</td>\n",
       "      <td>218</td>\n",
       "      <td>880</td>\n",
       "      <td>912</td>\n",
       "      <td>645</td>\n",
       "      <td>349</td>\n",
       "      <td>44.06</td>\n",
       "      <td>2015</td>\n",
       "    </tr>\n",
       "    <tr>\n",
       "      <th>2173</th>\n",
       "      <td>974</td>\n",
       "      <td>Federal University of Santa Maria</td>\n",
       "      <td>Brazil</td>\n",
       "      <td>16</td>\n",
       "      <td>367</td>\n",
       "      <td>396</td>\n",
       "      <td>218</td>\n",
       "      <td>954</td>\n",
       "      <td>974</td>\n",
       "      <td>812</td>\n",
       "      <td>871</td>\n",
       "      <td>44.05</td>\n",
       "      <td>2015</td>\n",
       "    </tr>\n",
       "    <tr>\n",
       "      <th>2174</th>\n",
       "      <td>975</td>\n",
       "      <td>Shenzhen University</td>\n",
       "      <td>China</td>\n",
       "      <td>75</td>\n",
       "      <td>367</td>\n",
       "      <td>410</td>\n",
       "      <td>218</td>\n",
       "      <td>976</td>\n",
       "      <td>778</td>\n",
       "      <td>645</td>\n",
       "      <td>318</td>\n",
       "      <td>44.05</td>\n",
       "      <td>2015</td>\n",
       "    </tr>\n",
       "    <tr>\n",
       "      <th>2175</th>\n",
       "      <td>976</td>\n",
       "      <td>Tianjin Medical University</td>\n",
       "      <td>China</td>\n",
       "      <td>76</td>\n",
       "      <td>367</td>\n",
       "      <td>567</td>\n",
       "      <td>218</td>\n",
       "      <td>885</td>\n",
       "      <td>857</td>\n",
       "      <td>812</td>\n",
       "      <td>839</td>\n",
       "      <td>44.05</td>\n",
       "      <td>2015</td>\n",
       "    </tr>\n",
       "    <tr>\n",
       "      <th>2176</th>\n",
       "      <td>977</td>\n",
       "      <td>Beijing University of Technology</td>\n",
       "      <td>China</td>\n",
       "      <td>77</td>\n",
       "      <td>367</td>\n",
       "      <td>567</td>\n",
       "      <td>218</td>\n",
       "      <td>780</td>\n",
       "      <td>950</td>\n",
       "      <td>812</td>\n",
       "      <td>512</td>\n",
       "      <td>44.05</td>\n",
       "      <td>2015</td>\n",
       "    </tr>\n",
       "    <tr>\n",
       "      <th>2177</th>\n",
       "      <td>978</td>\n",
       "      <td>University of Reims Champagne-Ardenne</td>\n",
       "      <td>France</td>\n",
       "      <td>48</td>\n",
       "      <td>367</td>\n",
       "      <td>567</td>\n",
       "      <td>218</td>\n",
       "      <td>967</td>\n",
       "      <td>884</td>\n",
       "      <td>645</td>\n",
       "      <td>544</td>\n",
       "      <td>44.05</td>\n",
       "      <td>2015</td>\n",
       "    </tr>\n",
       "    <tr>\n",
       "      <th>2178</th>\n",
       "      <td>979</td>\n",
       "      <td>Yuan Ze University</td>\n",
       "      <td>Taiwan</td>\n",
       "      <td>20</td>\n",
       "      <td>367</td>\n",
       "      <td>567</td>\n",
       "      <td>218</td>\n",
       "      <td>923</td>\n",
       "      <td>984</td>\n",
       "      <td>812</td>\n",
       "      <td>871</td>\n",
       "      <td>44.05</td>\n",
       "      <td>2015</td>\n",
       "    </tr>\n",
       "    <tr>\n",
       "      <th>2179</th>\n",
       "      <td>980</td>\n",
       "      <td>University of Chemistry and Technology, Prague</td>\n",
       "      <td>Czech Republic</td>\n",
       "      <td>5</td>\n",
       "      <td>367</td>\n",
       "      <td>567</td>\n",
       "      <td>218</td>\n",
       "      <td>991</td>\n",
       "      <td>868</td>\n",
       "      <td>812</td>\n",
       "      <td>778</td>\n",
       "      <td>44.05</td>\n",
       "      <td>2015</td>\n",
       "    </tr>\n",
       "    <tr>\n",
       "      <th>2180</th>\n",
       "      <td>981</td>\n",
       "      <td>University of Limerick</td>\n",
       "      <td>Ireland</td>\n",
       "      <td>8</td>\n",
       "      <td>367</td>\n",
       "      <td>529</td>\n",
       "      <td>218</td>\n",
       "      <td>892</td>\n",
       "      <td>863</td>\n",
       "      <td>812</td>\n",
       "      <td>516</td>\n",
       "      <td>44.05</td>\n",
       "      <td>2015</td>\n",
       "    </tr>\n",
       "    <tr>\n",
       "      <th>2181</th>\n",
       "      <td>982</td>\n",
       "      <td>China Medical University (PRC)</td>\n",
       "      <td>China</td>\n",
       "      <td>78</td>\n",
       "      <td>367</td>\n",
       "      <td>567</td>\n",
       "      <td>218</td>\n",
       "      <td>804</td>\n",
       "      <td>749</td>\n",
       "      <td>645</td>\n",
       "      <td>871</td>\n",
       "      <td>44.04</td>\n",
       "      <td>2015</td>\n",
       "    </tr>\n",
       "    <tr>\n",
       "      <th>2182</th>\n",
       "      <td>983</td>\n",
       "      <td>Feng Chia University</td>\n",
       "      <td>Taiwan</td>\n",
       "      <td>21</td>\n",
       "      <td>367</td>\n",
       "      <td>434</td>\n",
       "      <td>218</td>\n",
       "      <td>902</td>\n",
       "      <td>991</td>\n",
       "      <td>812</td>\n",
       "      <td>871</td>\n",
       "      <td>44.04</td>\n",
       "      <td>2015</td>\n",
       "    </tr>\n",
       "    <tr>\n",
       "      <th>2183</th>\n",
       "      <td>984</td>\n",
       "      <td>Zhejiang University of Technology</td>\n",
       "      <td>China</td>\n",
       "      <td>79</td>\n",
       "      <td>367</td>\n",
       "      <td>567</td>\n",
       "      <td>218</td>\n",
       "      <td>858</td>\n",
       "      <td>991</td>\n",
       "      <td>812</td>\n",
       "      <td>672</td>\n",
       "      <td>44.04</td>\n",
       "      <td>2015</td>\n",
       "    </tr>\n",
       "    <tr>\n",
       "      <th>2184</th>\n",
       "      <td>985</td>\n",
       "      <td>Novosibirsk State University</td>\n",
       "      <td>Russia</td>\n",
       "      <td>5</td>\n",
       "      <td>167</td>\n",
       "      <td>567</td>\n",
       "      <td>218</td>\n",
       "      <td>819</td>\n",
       "      <td>858</td>\n",
       "      <td>645</td>\n",
       "      <td>871</td>\n",
       "      <td>44.04</td>\n",
       "      <td>2015</td>\n",
       "    </tr>\n",
       "    <tr>\n",
       "      <th>2185</th>\n",
       "      <td>986</td>\n",
       "      <td>University of Bucharest</td>\n",
       "      <td>Romania</td>\n",
       "      <td>1</td>\n",
       "      <td>237</td>\n",
       "      <td>567</td>\n",
       "      <td>218</td>\n",
       "      <td>845</td>\n",
       "      <td>804</td>\n",
       "      <td>645</td>\n",
       "      <td>871</td>\n",
       "      <td>44.04</td>\n",
       "      <td>2015</td>\n",
       "    </tr>\n",
       "    <tr>\n",
       "      <th>2186</th>\n",
       "      <td>987</td>\n",
       "      <td>Babeș-Bolyai University</td>\n",
       "      <td>Romania</td>\n",
       "      <td>2</td>\n",
       "      <td>367</td>\n",
       "      <td>567</td>\n",
       "      <td>218</td>\n",
       "      <td>874</td>\n",
       "      <td>855</td>\n",
       "      <td>812</td>\n",
       "      <td>871</td>\n",
       "      <td>44.04</td>\n",
       "      <td>2015</td>\n",
       "    </tr>\n",
       "    <tr>\n",
       "      <th>2187</th>\n",
       "      <td>988</td>\n",
       "      <td>Mansoura University</td>\n",
       "      <td>Egypt</td>\n",
       "      <td>3</td>\n",
       "      <td>367</td>\n",
       "      <td>567</td>\n",
       "      <td>218</td>\n",
       "      <td>987</td>\n",
       "      <td>969</td>\n",
       "      <td>645</td>\n",
       "      <td>871</td>\n",
       "      <td>44.04</td>\n",
       "      <td>2015</td>\n",
       "    </tr>\n",
       "    <tr>\n",
       "      <th>2188</th>\n",
       "      <td>989</td>\n",
       "      <td>University of Pau and Pays de l'Adour</td>\n",
       "      <td>France</td>\n",
       "      <td>49</td>\n",
       "      <td>367</td>\n",
       "      <td>567</td>\n",
       "      <td>218</td>\n",
       "      <td>980</td>\n",
       "      <td>991</td>\n",
       "      <td>812</td>\n",
       "      <td>809</td>\n",
       "      <td>44.04</td>\n",
       "      <td>2015</td>\n",
       "    </tr>\n",
       "    <tr>\n",
       "      <th>2189</th>\n",
       "      <td>990</td>\n",
       "      <td>Henan Normal University</td>\n",
       "      <td>China</td>\n",
       "      <td>80</td>\n",
       "      <td>367</td>\n",
       "      <td>567</td>\n",
       "      <td>218</td>\n",
       "      <td>959</td>\n",
       "      <td>991</td>\n",
       "      <td>812</td>\n",
       "      <td>871</td>\n",
       "      <td>44.04</td>\n",
       "      <td>2015</td>\n",
       "    </tr>\n",
       "    <tr>\n",
       "      <th>2190</th>\n",
       "      <td>991</td>\n",
       "      <td>Xidian University</td>\n",
       "      <td>China</td>\n",
       "      <td>81</td>\n",
       "      <td>367</td>\n",
       "      <td>542</td>\n",
       "      <td>218</td>\n",
       "      <td>830</td>\n",
       "      <td>974</td>\n",
       "      <td>812</td>\n",
       "      <td>434</td>\n",
       "      <td>44.03</td>\n",
       "      <td>2015</td>\n",
       "    </tr>\n",
       "    <tr>\n",
       "      <th>2191</th>\n",
       "      <td>992</td>\n",
       "      <td>Federal University of Bahia</td>\n",
       "      <td>Brazil</td>\n",
       "      <td>17</td>\n",
       "      <td>367</td>\n",
       "      <td>540</td>\n",
       "      <td>218</td>\n",
       "      <td>962</td>\n",
       "      <td>865</td>\n",
       "      <td>645</td>\n",
       "      <td>774</td>\n",
       "      <td>44.03</td>\n",
       "      <td>2015</td>\n",
       "    </tr>\n",
       "    <tr>\n",
       "      <th>2192</th>\n",
       "      <td>993</td>\n",
       "      <td>Southwest Jiaotong University</td>\n",
       "      <td>China</td>\n",
       "      <td>82</td>\n",
       "      <td>367</td>\n",
       "      <td>327</td>\n",
       "      <td>218</td>\n",
       "      <td>937</td>\n",
       "      <td>962</td>\n",
       "      <td>812</td>\n",
       "      <td>861</td>\n",
       "      <td>44.03</td>\n",
       "      <td>2015</td>\n",
       "    </tr>\n",
       "    <tr>\n",
       "      <th>2193</th>\n",
       "      <td>994</td>\n",
       "      <td>Ryerson University</td>\n",
       "      <td>Canada</td>\n",
       "      <td>33</td>\n",
       "      <td>367</td>\n",
       "      <td>567</td>\n",
       "      <td>218</td>\n",
       "      <td>811</td>\n",
       "      <td>969</td>\n",
       "      <td>511</td>\n",
       "      <td>756</td>\n",
       "      <td>44.03</td>\n",
       "      <td>2015</td>\n",
       "    </tr>\n",
       "    <tr>\n",
       "      <th>2194</th>\n",
       "      <td>995</td>\n",
       "      <td>King Abdulaziz University</td>\n",
       "      <td>Saudi Arabia</td>\n",
       "      <td>4</td>\n",
       "      <td>367</td>\n",
       "      <td>449</td>\n",
       "      <td>218</td>\n",
       "      <td>595</td>\n",
       "      <td>430</td>\n",
       "      <td>645</td>\n",
       "      <td>839</td>\n",
       "      <td>44.03</td>\n",
       "      <td>2015</td>\n",
       "    </tr>\n",
       "    <tr>\n",
       "      <th>2195</th>\n",
       "      <td>996</td>\n",
       "      <td>University of the Algarve</td>\n",
       "      <td>Portugal</td>\n",
       "      <td>7</td>\n",
       "      <td>367</td>\n",
       "      <td>567</td>\n",
       "      <td>218</td>\n",
       "      <td>926</td>\n",
       "      <td>845</td>\n",
       "      <td>812</td>\n",
       "      <td>816</td>\n",
       "      <td>44.03</td>\n",
       "      <td>2015</td>\n",
       "    </tr>\n",
       "    <tr>\n",
       "      <th>2196</th>\n",
       "      <td>997</td>\n",
       "      <td>Alexandria University</td>\n",
       "      <td>Egypt</td>\n",
       "      <td>4</td>\n",
       "      <td>236</td>\n",
       "      <td>566</td>\n",
       "      <td>218</td>\n",
       "      <td>997</td>\n",
       "      <td>908</td>\n",
       "      <td>645</td>\n",
       "      <td>871</td>\n",
       "      <td>44.03</td>\n",
       "      <td>2015</td>\n",
       "    </tr>\n",
       "    <tr>\n",
       "      <th>2197</th>\n",
       "      <td>998</td>\n",
       "      <td>Federal University of Ceará</td>\n",
       "      <td>Brazil</td>\n",
       "      <td>18</td>\n",
       "      <td>367</td>\n",
       "      <td>549</td>\n",
       "      <td>218</td>\n",
       "      <td>830</td>\n",
       "      <td>823</td>\n",
       "      <td>812</td>\n",
       "      <td>824</td>\n",
       "      <td>44.03</td>\n",
       "      <td>2015</td>\n",
       "    </tr>\n",
       "    <tr>\n",
       "      <th>2198</th>\n",
       "      <td>999</td>\n",
       "      <td>University of A Coruña</td>\n",
       "      <td>Spain</td>\n",
       "      <td>40</td>\n",
       "      <td>367</td>\n",
       "      <td>567</td>\n",
       "      <td>218</td>\n",
       "      <td>886</td>\n",
       "      <td>974</td>\n",
       "      <td>812</td>\n",
       "      <td>651</td>\n",
       "      <td>44.02</td>\n",
       "      <td>2015</td>\n",
       "    </tr>\n",
       "    <tr>\n",
       "      <th>2199</th>\n",
       "      <td>1000</td>\n",
       "      <td>China Pharmaceutical University</td>\n",
       "      <td>China</td>\n",
       "      <td>83</td>\n",
       "      <td>367</td>\n",
       "      <td>567</td>\n",
       "      <td>218</td>\n",
       "      <td>861</td>\n",
       "      <td>991</td>\n",
       "      <td>812</td>\n",
       "      <td>547</td>\n",
       "      <td>44.02</td>\n",
       "      <td>2015</td>\n",
       "    </tr>\n",
       "  </tbody>\n",
       "</table>\n",
       "<p>2200 rows × 13 columns</p>\n",
       "</div>"
      ],
      "text/plain": [
       "      world_rank                                        institution  \\\n",
       "0              1                                 Harvard University   \n",
       "1              2              Massachusetts Institute of Technology   \n",
       "2              3                                Stanford University   \n",
       "3              4                            University of Cambridge   \n",
       "4              5                 California Institute of Technology   \n",
       "5              6                               Princeton University   \n",
       "6              7                               University of Oxford   \n",
       "7              8                                    Yale University   \n",
       "8              9                                Columbia University   \n",
       "9             10                 University of California, Berkeley   \n",
       "10            11                              University of Chicago   \n",
       "11            12                                 Cornell University   \n",
       "12            13                         University of Pennsylvania   \n",
       "13            14                                University of Tokyo   \n",
       "14            15                           Johns Hopkins University   \n",
       "15            16    Swiss Federal Institute of Technology in Zurich   \n",
       "16            17                                   Kyoto University   \n",
       "17            18                      Weizmann Institute of Science   \n",
       "18            19              University of California, Los Angeles   \n",
       "19            20                University of California, San Diego   \n",
       "20            21                             Rockefeller University   \n",
       "21            22                     Hebrew University of Jerusalem   \n",
       "22            23                                New York University   \n",
       "23            24            University of California, San Francisco   \n",
       "24            25                    University of Wisconsin–Madison   \n",
       "25            26         University of Illinois at Urbana–Champaign   \n",
       "26            27                                    Duke University   \n",
       "27            28                            Imperial College London   \n",
       "28            29    University of Texas Southwestern Medical Center   \n",
       "29            30                      University of Texas at Austin   \n",
       "...          ...                                                ...   \n",
       "2170         971                         Fu Jen Catholic University   \n",
       "2171         972                            Hunan Normal University   \n",
       "2172         973  Ulsan National Institute of Science and Techno...   \n",
       "2173         974                  Federal University of Santa Maria   \n",
       "2174         975                                Shenzhen University   \n",
       "2175         976                         Tianjin Medical University   \n",
       "2176         977                   Beijing University of Technology   \n",
       "2177         978              University of Reims Champagne-Ardenne   \n",
       "2178         979                                 Yuan Ze University   \n",
       "2179         980     University of Chemistry and Technology, Prague   \n",
       "2180         981                             University of Limerick   \n",
       "2181         982                     China Medical University (PRC)   \n",
       "2182         983                               Feng Chia University   \n",
       "2183         984                  Zhejiang University of Technology   \n",
       "2184         985                       Novosibirsk State University   \n",
       "2185         986                            University of Bucharest   \n",
       "2186         987                            Babeș-Bolyai University   \n",
       "2187         988                                Mansoura University   \n",
       "2188         989              University of Pau and Pays de l'Adour   \n",
       "2189         990                            Henan Normal University   \n",
       "2190         991                                  Xidian University   \n",
       "2191         992                        Federal University of Bahia   \n",
       "2192         993                      Southwest Jiaotong University   \n",
       "2193         994                                 Ryerson University   \n",
       "2194         995                          King Abdulaziz University   \n",
       "2195         996                          University of the Algarve   \n",
       "2196         997                              Alexandria University   \n",
       "2197         998                        Federal University of Ceará   \n",
       "2198         999                             University of A Coruña   \n",
       "2199        1000                    China Pharmaceutical University   \n",
       "\n",
       "             country  national_rank  quality_of_education  alumni_employment  \\\n",
       "0                USA              1                     7                  9   \n",
       "1                USA              2                     9                 17   \n",
       "2                USA              3                    17                 11   \n",
       "3     United Kingdom              1                    10                 24   \n",
       "4                USA              4                     2                 29   \n",
       "5                USA              5                     8                 14   \n",
       "6     United Kingdom              2                    13                 28   \n",
       "7                USA              6                    14                 31   \n",
       "8                USA              7                    23                 21   \n",
       "9                USA              8                    16                 52   \n",
       "10               USA              9                    15                 26   \n",
       "11               USA             10                    21                 42   \n",
       "12               USA             11                    31                 16   \n",
       "13             Japan              1                    32                 19   \n",
       "14               USA             12                    34                 77   \n",
       "15       Switzerland              1                    26                 66   \n",
       "16             Japan              2                    42                 38   \n",
       "17            Israel              1                     4                101   \n",
       "18               USA             13                    62                 59   \n",
       "19               USA             14                    61                101   \n",
       "20               USA             15                     1                101   \n",
       "21            Israel              2                    24                 93   \n",
       "22               USA             16                    89                 75   \n",
       "23               USA             17                   101                101   \n",
       "24               USA             18                    64                 63   \n",
       "25               USA             19                    82                101   \n",
       "26               USA             20                    65                 43   \n",
       "27    United Kingdom              3                    84                 73   \n",
       "28               USA             21                    19                101   \n",
       "29               USA             22                   101                 78   \n",
       "...              ...            ...                   ...                ...   \n",
       "2170          Taiwan             19                   367                446   \n",
       "2171           China             74                   367                567   \n",
       "2172     South Korea             36                   367                567   \n",
       "2173          Brazil             16                   367                396   \n",
       "2174           China             75                   367                410   \n",
       "2175           China             76                   367                567   \n",
       "2176           China             77                   367                567   \n",
       "2177          France             48                   367                567   \n",
       "2178          Taiwan             20                   367                567   \n",
       "2179  Czech Republic              5                   367                567   \n",
       "2180         Ireland              8                   367                529   \n",
       "2181           China             78                   367                567   \n",
       "2182          Taiwan             21                   367                434   \n",
       "2183           China             79                   367                567   \n",
       "2184          Russia              5                   167                567   \n",
       "2185         Romania              1                   237                567   \n",
       "2186         Romania              2                   367                567   \n",
       "2187           Egypt              3                   367                567   \n",
       "2188          France             49                   367                567   \n",
       "2189           China             80                   367                567   \n",
       "2190           China             81                   367                542   \n",
       "2191          Brazil             17                   367                540   \n",
       "2192           China             82                   367                327   \n",
       "2193          Canada             33                   367                567   \n",
       "2194    Saudi Arabia              4                   367                449   \n",
       "2195        Portugal              7                   367                567   \n",
       "2196           Egypt              4                   236                566   \n",
       "2197          Brazil             18                   367                549   \n",
       "2198           Spain             40                   367                567   \n",
       "2199           China             83                   367                567   \n",
       "\n",
       "      quality_of_faculty  publications  influence  citations  patents   score  \\\n",
       "0                      1             1          1          1        5  100.00   \n",
       "1                      3            12          4          4        1   91.67   \n",
       "2                      5             4          2          2       15   89.50   \n",
       "3                      4            16         16         11       50   86.17   \n",
       "4                      7            37         22         22       18   85.21   \n",
       "5                      2            53         33         26      101   82.50   \n",
       "6                      9            15         13         19       26   82.34   \n",
       "7                     12            14          6         15       66   79.14   \n",
       "8                     10            13         12         14        5   78.86   \n",
       "9                      6             6          5          3       16   78.55   \n",
       "10                     8            34         20         28      101   73.82   \n",
       "11                    14            22         21         16       10   73.69   \n",
       "12                    24             9         10          8        9   73.64   \n",
       "13                    31             8         19         23        3   69.49   \n",
       "14                    20            11          9          9        7   66.94   \n",
       "15                    11            40         51         44       34   66.69   \n",
       "16                    19            25         36         43       23   65.76   \n",
       "17                    22           101         67        101       29   65.09   \n",
       "18                    23             3         11          6       13   64.05   \n",
       "19                    15            10          8         10       22   63.11   \n",
       "20                    16           101         28         96      101   61.74   \n",
       "21                    13           101         91        101       28   60.76   \n",
       "22                    17            42         24         34       62   60.55   \n",
       "23                    21            19          3         13       33   59.70   \n",
       "24                    33            17         30         21       21   59.66   \n",
       "25                    18            35         71         39       44   59.00   \n",
       "26                    55            20         15         12       20   58.37   \n",
       "27                    35            26         26         29       41   57.53   \n",
       "28                    32           101         43         84      101   56.43   \n",
       "29                    27            41         47         40       57   56.18   \n",
       "...                  ...           ...        ...        ...      ...     ...   \n",
       "2170                 218           984        887        812      824   44.06   \n",
       "2171                 218           923        917        812      871   44.06   \n",
       "2172                 218           880        912        645      349   44.06   \n",
       "2173                 218           954        974        812      871   44.05   \n",
       "2174                 218           976        778        645      318   44.05   \n",
       "2175                 218           885        857        812      839   44.05   \n",
       "2176                 218           780        950        812      512   44.05   \n",
       "2177                 218           967        884        645      544   44.05   \n",
       "2178                 218           923        984        812      871   44.05   \n",
       "2179                 218           991        868        812      778   44.05   \n",
       "2180                 218           892        863        812      516   44.05   \n",
       "2181                 218           804        749        645      871   44.04   \n",
       "2182                 218           902        991        812      871   44.04   \n",
       "2183                 218           858        991        812      672   44.04   \n",
       "2184                 218           819        858        645      871   44.04   \n",
       "2185                 218           845        804        645      871   44.04   \n",
       "2186                 218           874        855        812      871   44.04   \n",
       "2187                 218           987        969        645      871   44.04   \n",
       "2188                 218           980        991        812      809   44.04   \n",
       "2189                 218           959        991        812      871   44.04   \n",
       "2190                 218           830        974        812      434   44.03   \n",
       "2191                 218           962        865        645      774   44.03   \n",
       "2192                 218           937        962        812      861   44.03   \n",
       "2193                 218           811        969        511      756   44.03   \n",
       "2194                 218           595        430        645      839   44.03   \n",
       "2195                 218           926        845        812      816   44.03   \n",
       "2196                 218           997        908        645      871   44.03   \n",
       "2197                 218           830        823        812      824   44.03   \n",
       "2198                 218           886        974        812      651   44.02   \n",
       "2199                 218           861        991        812      547   44.02   \n",
       "\n",
       "      year  \n",
       "0     2012  \n",
       "1     2012  \n",
       "2     2012  \n",
       "3     2012  \n",
       "4     2012  \n",
       "5     2012  \n",
       "6     2012  \n",
       "7     2012  \n",
       "8     2012  \n",
       "9     2012  \n",
       "10    2012  \n",
       "11    2012  \n",
       "12    2012  \n",
       "13    2012  \n",
       "14    2012  \n",
       "15    2012  \n",
       "16    2012  \n",
       "17    2012  \n",
       "18    2012  \n",
       "19    2012  \n",
       "20    2012  \n",
       "21    2012  \n",
       "22    2012  \n",
       "23    2012  \n",
       "24    2012  \n",
       "25    2012  \n",
       "26    2012  \n",
       "27    2012  \n",
       "28    2012  \n",
       "29    2012  \n",
       "...    ...  \n",
       "2170  2015  \n",
       "2171  2015  \n",
       "2172  2015  \n",
       "2173  2015  \n",
       "2174  2015  \n",
       "2175  2015  \n",
       "2176  2015  \n",
       "2177  2015  \n",
       "2178  2015  \n",
       "2179  2015  \n",
       "2180  2015  \n",
       "2181  2015  \n",
       "2182  2015  \n",
       "2183  2015  \n",
       "2184  2015  \n",
       "2185  2015  \n",
       "2186  2015  \n",
       "2187  2015  \n",
       "2188  2015  \n",
       "2189  2015  \n",
       "2190  2015  \n",
       "2191  2015  \n",
       "2192  2015  \n",
       "2193  2015  \n",
       "2194  2015  \n",
       "2195  2015  \n",
       "2196  2015  \n",
       "2197  2015  \n",
       "2198  2015  \n",
       "2199  2015  \n",
       "\n",
       "[2200 rows x 13 columns]"
      ]
     },
     "execution_count": 6,
     "metadata": {},
     "output_type": "execute_result"
    }
   ],
   "source": [
    "data= data.replace('0',np.nan) #reaplcing all the nan with zeros\n",
    "data = data.dropna(axis=\"columns\", how=\"any\")\n",
    "print(data.shape)\n",
    "data\n"
   ]
  },
  {
   "cell_type": "code",
   "execution_count": 7,
   "metadata": {},
   "outputs": [],
   "source": [
    "#the data set now only has 13 columns with the empty column removed\n"
   ]
  },
  {
   "cell_type": "code",
   "execution_count": 8,
   "metadata": {},
   "outputs": [
    {
     "data": {
      "application/vnd.plotly.v1+json": {
       "config": {
        "linkText": "Export to plot.ly",
        "plotlyServerURL": "https://plot.ly",
        "showLink": false
       },
       "data": [
        {
         "marker": {
          "color": "rgba(12, 12, 140,.4)"
         },
         "mode": "lines",
         "name": "teaching",
         "text": [
          "Harvard University",
          "Massachusetts Institute of Technology",
          "Stanford University",
          "University of Cambridge",
          "California Institute of Technology",
          "Princeton University",
          "University of Oxford",
          "Yale University",
          "Columbia University",
          "University of California, Berkeley",
          "University of Chicago",
          "Cornell University",
          "University of Pennsylvania",
          "University of Tokyo",
          "Johns Hopkins University",
          "Swiss Federal Institute of Technology in Zurich",
          "Kyoto University",
          "Weizmann Institute of Science",
          "University of California, Los Angeles",
          "University of California, San Diego",
          "Rockefeller University",
          "Hebrew University of Jerusalem",
          "New York University",
          "University of California, San Francisco",
          "University of Wisconsin–Madison",
          "University of Illinois at Urbana–Champaign",
          "Duke University",
          "Imperial College London",
          "University of Texas Southwestern Medical Center",
          "University of Texas at Austin",
          "University College London",
          "Osaka University",
          "Northwestern University",
          "University of Michigan, Ann Arbor",
          "University of Toronto",
          "University of North Carolina at Chapel Hill",
          "Washington University in St. Louis",
          "University of Utah",
          "University of Washington - Seattle",
          "University of California, Santa Barbara",
          "McGill University",
          "Purdue University, West Lafayette",
          "Carnegie Mellon University",
          "University of Southern California",
          "University of California, Davis",
          "University of Colorado Boulder",
          "University of California, Irvine",
          "University of Paris-Sud",
          "University of Minnesota, Twin Cities",
          "University of Arizona",
          "Technion – Israel Institute of Technology",
          "Ohio State University, Columbus",
          "University of Rochester",
          "École normale supérieure - Paris",
          "University of Florida",
          "Tel Aviv University",
          "Rice University",
          "Dartmouth College",
          "Vanderbilt University",
          "University of Edinburgh",
          "École Polytechnique",
          "Boston University",
          "Pierre-and-Marie-Curie University",
          "Pennsylvania State University, University Park",
          "University of Geneva",
          "Brown University",
          "University of British Columbia",
          "University of Maryland, College Park",
          "Swiss Federal Institute of Technology in Lausanne",
          "Karolinska Institute",
          "University of Pittsburgh - Pittsburgh Campus",
          "Rutgers University-New Brunswick",
          "Texas A&M University, College Station",
          "Nagoya University",
          "Seoul National University",
          "University of Manchester",
          "Sapienza University of Rome",
          "Case Western Reserve University",
          "Tohoku University",
          "Arizona State University",
          "Emory University",
          "Ruprecht Karl University of Heidelberg",
          "Ludwig Maximilian University of Munich",
          "University of Virginia",
          "Leiden University",
          "Tufts University",
          "Georgia Institute of Technology",
          "University of Zurich",
          "University of Helsinki",
          "Technical University of Munich",
          "University of Oslo",
          "University of Queensland",
          "University of Copenhagen",
          "University of Sydney",
          "Williams College",
          "University of Texas MD Anderson Cancer Center",
          "University of Nottingham",
          "University of Bristol",
          "Utrecht University",
          "Mines ParisTech"
         ],
         "type": "scatter",
         "x": [
          1,
          2,
          3,
          4,
          5,
          6,
          7,
          8,
          9,
          10,
          11,
          12,
          13,
          14,
          15,
          16,
          17,
          18,
          19,
          20,
          21,
          22,
          23,
          24,
          25,
          26,
          27,
          28,
          29,
          30,
          31,
          32,
          33,
          34,
          35,
          36,
          37,
          38,
          39,
          40,
          41,
          42,
          43,
          44,
          45,
          46,
          47,
          48,
          49,
          50,
          51,
          52,
          53,
          54,
          55,
          56,
          57,
          58,
          59,
          60,
          61,
          62,
          63,
          64,
          65,
          66,
          67,
          68,
          69,
          70,
          71,
          72,
          73,
          74,
          75,
          76,
          77,
          78,
          79,
          80,
          81,
          82,
          83,
          84,
          85,
          86,
          87,
          88,
          89,
          90,
          91,
          92,
          93,
          94,
          95,
          96,
          97,
          98,
          99,
          100
         ],
         "y": [
          1,
          3,
          5,
          4,
          7,
          2,
          9,
          12,
          10,
          6,
          8,
          14,
          24,
          31,
          20,
          11,
          19,
          22,
          23,
          15,
          16,
          13,
          17,
          21,
          33,
          18,
          55,
          35,
          32,
          27,
          45,
          44,
          101,
          101,
          34,
          56,
          101,
          41,
          40,
          28,
          54,
          49,
          26,
          63,
          92,
          48,
          38,
          25,
          85,
          88,
          36,
          83,
          101,
          77,
          96,
          51,
          94,
          101,
          101,
          43,
          101,
          86,
          84,
          101,
          29,
          65,
          93,
          50,
          82,
          42,
          101,
          59,
          46,
          69,
          101,
          75,
          30,
          101,
          101,
          70,
          101,
          52,
          90,
          101,
          76,
          101,
          101,
          80,
          79,
          101,
          39,
          101,
          60,
          101,
          101,
          101,
          87,
          78,
          101,
          101
         ]
        },
        {
         "marker": {
          "color": "rgba(155,98,160,.6)"
         },
         "mode": "lines+markers",
         "name": "citation",
         "text": [
          "Harvard University",
          "Massachusetts Institute of Technology",
          "Stanford University",
          "University of Cambridge",
          "California Institute of Technology",
          "Princeton University",
          "University of Oxford",
          "Yale University",
          "Columbia University",
          "University of California, Berkeley",
          "University of Chicago",
          "Cornell University",
          "University of Pennsylvania",
          "University of Tokyo",
          "Johns Hopkins University",
          "Swiss Federal Institute of Technology in Zurich",
          "Kyoto University",
          "Weizmann Institute of Science",
          "University of California, Los Angeles",
          "University of California, San Diego",
          "Rockefeller University",
          "Hebrew University of Jerusalem",
          "New York University",
          "University of California, San Francisco",
          "University of Wisconsin–Madison",
          "University of Illinois at Urbana–Champaign",
          "Duke University",
          "Imperial College London",
          "University of Texas Southwestern Medical Center",
          "University of Texas at Austin",
          "University College London",
          "Osaka University",
          "Northwestern University",
          "University of Michigan, Ann Arbor",
          "University of Toronto",
          "University of North Carolina at Chapel Hill",
          "Washington University in St. Louis",
          "University of Utah",
          "University of Washington - Seattle",
          "University of California, Santa Barbara",
          "McGill University",
          "Purdue University, West Lafayette",
          "Carnegie Mellon University",
          "University of Southern California",
          "University of California, Davis",
          "University of Colorado Boulder",
          "University of California, Irvine",
          "University of Paris-Sud",
          "University of Minnesota, Twin Cities",
          "University of Arizona",
          "Technion – Israel Institute of Technology",
          "Ohio State University, Columbus",
          "University of Rochester",
          "École normale supérieure - Paris",
          "University of Florida",
          "Tel Aviv University",
          "Rice University",
          "Dartmouth College",
          "Vanderbilt University",
          "University of Edinburgh",
          "École Polytechnique",
          "Boston University",
          "Pierre-and-Marie-Curie University",
          "Pennsylvania State University, University Park",
          "University of Geneva",
          "Brown University",
          "University of British Columbia",
          "University of Maryland, College Park",
          "Swiss Federal Institute of Technology in Lausanne",
          "Karolinska Institute",
          "University of Pittsburgh - Pittsburgh Campus",
          "Rutgers University-New Brunswick",
          "Texas A&M University, College Station",
          "Nagoya University",
          "Seoul National University",
          "University of Manchester",
          "Sapienza University of Rome",
          "Case Western Reserve University",
          "Tohoku University",
          "Arizona State University",
          "Emory University",
          "Ruprecht Karl University of Heidelberg",
          "Ludwig Maximilian University of Munich",
          "University of Virginia",
          "Leiden University",
          "Tufts University",
          "Georgia Institute of Technology",
          "University of Zurich",
          "University of Helsinki",
          "Technical University of Munich",
          "University of Oslo",
          "University of Queensland",
          "University of Copenhagen",
          "University of Sydney",
          "Williams College",
          "University of Texas MD Anderson Cancer Center",
          "University of Nottingham",
          "University of Bristol",
          "Utrecht University",
          "Mines ParisTech"
         ],
         "type": "scatter",
         "x": [
          1,
          2,
          3,
          4,
          5,
          6,
          7,
          8,
          9,
          10,
          11,
          12,
          13,
          14,
          15,
          16,
          17,
          18,
          19,
          20,
          21,
          22,
          23,
          24,
          25,
          26,
          27,
          28,
          29,
          30,
          31,
          32,
          33,
          34,
          35,
          36,
          37,
          38,
          39,
          40,
          41,
          42,
          43,
          44,
          45,
          46,
          47,
          48,
          49,
          50,
          51,
          52,
          53,
          54,
          55,
          56,
          57,
          58,
          59,
          60,
          61,
          62,
          63,
          64,
          65,
          66,
          67,
          68,
          69,
          70,
          71,
          72,
          73,
          74,
          75,
          76,
          77,
          78,
          79,
          80,
          81,
          82,
          83,
          84,
          85,
          86,
          87,
          88,
          89,
          90,
          91,
          92,
          93,
          94,
          95,
          96,
          97,
          98,
          99,
          100
         ],
         "xaxis": "x2",
         "y": [
          1,
          4,
          2,
          11,
          22,
          26,
          19,
          15,
          14,
          3,
          28,
          16,
          8,
          23,
          9,
          44,
          43,
          101,
          6,
          10,
          96,
          101,
          34,
          13,
          21,
          39,
          12,
          29,
          84,
          40,
          33,
          51,
          20,
          7,
          18,
          31,
          30,
          67,
          5,
          36,
          47,
          58,
          61,
          32,
          25,
          56,
          52,
          101,
          17,
          45,
          101,
          35,
          54,
          101,
          42,
          101,
          53,
          101,
          49,
          70,
          101,
          37,
          78,
          27,
          101,
          92,
          48,
          41,
          101,
          95,
          24,
          72,
          80,
          101,
          69,
          63,
          101,
          65,
          67,
          77,
          50,
          100,
          62,
          57,
          101,
          75,
          46,
          99,
          54,
          94,
          101,
          89,
          101,
          85,
          101,
          66,
          101,
          86,
          60,
          101
         ],
         "yaxis": "y2"
        },
        {
         "marker": {
          "color": "rgba(36,120,153,.4)"
         },
         "mode": "lines",
         "name": "total",
         "text": [
          "Harvard University",
          "Massachusetts Institute of Technology",
          "Stanford University",
          "University of Cambridge",
          "California Institute of Technology",
          "Princeton University",
          "University of Oxford",
          "Yale University",
          "Columbia University",
          "University of California, Berkeley",
          "University of Chicago",
          "Cornell University",
          "University of Pennsylvania",
          "University of Tokyo",
          "Johns Hopkins University",
          "Swiss Federal Institute of Technology in Zurich",
          "Kyoto University",
          "Weizmann Institute of Science",
          "University of California, Los Angeles",
          "University of California, San Diego",
          "Rockefeller University",
          "Hebrew University of Jerusalem",
          "New York University",
          "University of California, San Francisco",
          "University of Wisconsin–Madison",
          "University of Illinois at Urbana–Champaign",
          "Duke University",
          "Imperial College London",
          "University of Texas Southwestern Medical Center",
          "University of Texas at Austin",
          "University College London",
          "Osaka University",
          "Northwestern University",
          "University of Michigan, Ann Arbor",
          "University of Toronto",
          "University of North Carolina at Chapel Hill",
          "Washington University in St. Louis",
          "University of Utah",
          "University of Washington - Seattle",
          "University of California, Santa Barbara",
          "McGill University",
          "Purdue University, West Lafayette",
          "Carnegie Mellon University",
          "University of Southern California",
          "University of California, Davis",
          "University of Colorado Boulder",
          "University of California, Irvine",
          "University of Paris-Sud",
          "University of Minnesota, Twin Cities",
          "University of Arizona",
          "Technion – Israel Institute of Technology",
          "Ohio State University, Columbus",
          "University of Rochester",
          "École normale supérieure - Paris",
          "University of Florida",
          "Tel Aviv University",
          "Rice University",
          "Dartmouth College",
          "Vanderbilt University",
          "University of Edinburgh",
          "École Polytechnique",
          "Boston University",
          "Pierre-and-Marie-Curie University",
          "Pennsylvania State University, University Park",
          "University of Geneva",
          "Brown University",
          "University of British Columbia",
          "University of Maryland, College Park",
          "Swiss Federal Institute of Technology in Lausanne",
          "Karolinska Institute",
          "University of Pittsburgh - Pittsburgh Campus",
          "Rutgers University-New Brunswick",
          "Texas A&M University, College Station",
          "Nagoya University",
          "Seoul National University",
          "University of Manchester",
          "Sapienza University of Rome",
          "Case Western Reserve University",
          "Tohoku University",
          "Arizona State University",
          "Emory University",
          "Ruprecht Karl University of Heidelberg",
          "Ludwig Maximilian University of Munich",
          "University of Virginia",
          "Leiden University",
          "Tufts University",
          "Georgia Institute of Technology",
          "University of Zurich",
          "University of Helsinki",
          "Technical University of Munich",
          "University of Oslo",
          "University of Queensland",
          "University of Copenhagen",
          "University of Sydney",
          "Williams College",
          "University of Texas MD Anderson Cancer Center",
          "University of Nottingham",
          "University of Bristol",
          "Utrecht University",
          "Mines ParisTech"
         ],
         "type": "scatter",
         "x": [
          1,
          2,
          3,
          4,
          5,
          6,
          7,
          8,
          9,
          10,
          11,
          12,
          13,
          14,
          15,
          16,
          17,
          18,
          19,
          20,
          21,
          22,
          23,
          24,
          25,
          26,
          27,
          28,
          29,
          30,
          31,
          32,
          33,
          34,
          35,
          36,
          37,
          38,
          39,
          40,
          41,
          42,
          43,
          44,
          45,
          46,
          47,
          48,
          49,
          50,
          51,
          52,
          53,
          54,
          55,
          56,
          57,
          58,
          59,
          60,
          61,
          62,
          63,
          64,
          65,
          66,
          67,
          68,
          69,
          70,
          71,
          72,
          73,
          74,
          75,
          76,
          77,
          78,
          79,
          80,
          81,
          82,
          83,
          84,
          85,
          86,
          87,
          88,
          89,
          90,
          91,
          92,
          93,
          94,
          95,
          96,
          97,
          98,
          99,
          100
         ],
         "xaxis": "x3",
         "y": [
          100,
          91.67,
          89.5,
          86.17,
          85.21,
          82.5,
          82.34,
          79.14,
          78.86,
          78.55,
          73.82,
          73.69,
          73.64,
          69.49,
          66.94,
          66.69,
          65.76,
          65.09,
          64.05,
          63.11,
          61.74,
          60.76,
          60.55,
          59.7,
          59.66,
          59,
          58.37,
          57.53,
          56.43,
          56.18,
          55.21,
          54.43,
          54.4,
          53.72,
          53.43,
          53.09,
          52.9,
          52.64,
          52.25,
          52.15,
          51.72,
          51.66,
          51.6,
          51.38,
          51.06,
          50.68,
          50.64,
          50.44,
          50.3,
          50.29,
          50.01,
          49.54,
          49.51,
          49.1,
          48.8,
          48.76,
          48.76,
          48.5,
          48.44,
          48.43,
          48.33,
          48.31,
          48.26,
          48.15,
          47.94,
          47.91,
          47.74,
          47.69,
          47.68,
          47.61,
          47.59,
          47.5,
          47.31,
          46.89,
          46.74,
          46.38,
          46.34,
          46.11,
          45.82,
          45.7,
          45.47,
          45.33,
          45.21,
          45.2,
          45.13,
          44.91,
          44.71,
          44.51,
          44.44,
          44.32,
          44.26,
          44.18,
          44.15,
          44.13,
          43.89,
          43.88,
          43.79,
          43.77,
          43.47,
          43.36
         ],
         "yaxis": "y3"
        },
        {
         "marker": {
          "color": "rgba(65,46,178,0.4)"
         },
         "mode": "lines+markers",
         "name": "placements",
         "text": [
          "Harvard University",
          "Massachusetts Institute of Technology",
          "Stanford University",
          "University of Cambridge",
          "California Institute of Technology",
          "Princeton University",
          "University of Oxford",
          "Yale University",
          "Columbia University",
          "University of California, Berkeley",
          "University of Chicago",
          "Cornell University",
          "University of Pennsylvania",
          "University of Tokyo",
          "Johns Hopkins University",
          "Swiss Federal Institute of Technology in Zurich",
          "Kyoto University",
          "Weizmann Institute of Science",
          "University of California, Los Angeles",
          "University of California, San Diego",
          "Rockefeller University",
          "Hebrew University of Jerusalem",
          "New York University",
          "University of California, San Francisco",
          "University of Wisconsin–Madison",
          "University of Illinois at Urbana–Champaign",
          "Duke University",
          "Imperial College London",
          "University of Texas Southwestern Medical Center",
          "University of Texas at Austin",
          "University College London",
          "Osaka University",
          "Northwestern University",
          "University of Michigan, Ann Arbor",
          "University of Toronto",
          "University of North Carolina at Chapel Hill",
          "Washington University in St. Louis",
          "University of Utah",
          "University of Washington - Seattle",
          "University of California, Santa Barbara",
          "McGill University",
          "Purdue University, West Lafayette",
          "Carnegie Mellon University",
          "University of Southern California",
          "University of California, Davis",
          "University of Colorado Boulder",
          "University of California, Irvine",
          "University of Paris-Sud",
          "University of Minnesota, Twin Cities",
          "University of Arizona",
          "Technion – Israel Institute of Technology",
          "Ohio State University, Columbus",
          "University of Rochester",
          "École normale supérieure - Paris",
          "University of Florida",
          "Tel Aviv University",
          "Rice University",
          "Dartmouth College",
          "Vanderbilt University",
          "University of Edinburgh",
          "École Polytechnique",
          "Boston University",
          "Pierre-and-Marie-Curie University",
          "Pennsylvania State University, University Park",
          "University of Geneva",
          "Brown University",
          "University of British Columbia",
          "University of Maryland, College Park",
          "Swiss Federal Institute of Technology in Lausanne",
          "Karolinska Institute",
          "University of Pittsburgh - Pittsburgh Campus",
          "Rutgers University-New Brunswick",
          "Texas A&M University, College Station",
          "Nagoya University",
          "Seoul National University",
          "University of Manchester",
          "Sapienza University of Rome",
          "Case Western Reserve University",
          "Tohoku University",
          "Arizona State University",
          "Emory University",
          "Ruprecht Karl University of Heidelberg",
          "Ludwig Maximilian University of Munich",
          "University of Virginia",
          "Leiden University",
          "Tufts University",
          "Georgia Institute of Technology",
          "University of Zurich",
          "University of Helsinki",
          "Technical University of Munich",
          "University of Oslo",
          "University of Queensland",
          "University of Copenhagen",
          "University of Sydney",
          "Williams College",
          "University of Texas MD Anderson Cancer Center",
          "University of Nottingham",
          "University of Bristol",
          "Utrecht University",
          "Mines ParisTech"
         ],
         "type": "scatter",
         "x": [
          1,
          2,
          3,
          4,
          5,
          6,
          7,
          8,
          9,
          10,
          11,
          12,
          13,
          14,
          15,
          16,
          17,
          18,
          19,
          20,
          21,
          22,
          23,
          24,
          25,
          26,
          27,
          28,
          29,
          30,
          31,
          32,
          33,
          34,
          35,
          36,
          37,
          38,
          39,
          40,
          41,
          42,
          43,
          44,
          45,
          46,
          47,
          48,
          49,
          50,
          51,
          52,
          53,
          54,
          55,
          56,
          57,
          58,
          59,
          60,
          61,
          62,
          63,
          64,
          65,
          66,
          67,
          68,
          69,
          70,
          71,
          72,
          73,
          74,
          75,
          76,
          77,
          78,
          79,
          80,
          81,
          82,
          83,
          84,
          85,
          86,
          87,
          88,
          89,
          90,
          91,
          92,
          93,
          94,
          95,
          96,
          97,
          98,
          99,
          100
         ],
         "xaxis": "x4",
         "y": [
          9,
          17,
          11,
          24,
          29,
          14,
          28,
          31,
          21,
          52,
          26,
          42,
          16,
          19,
          77,
          66,
          38,
          101,
          59,
          101,
          101,
          93,
          75,
          101,
          63,
          101,
          43,
          73,
          101,
          78,
          101,
          101,
          32,
          60,
          101,
          86,
          62,
          101,
          101,
          101,
          91,
          70,
          81,
          101,
          101,
          88,
          101,
          101,
          101,
          101,
          89,
          101,
          54,
          61,
          101,
          101,
          53,
          13,
          72,
          101,
          3,
          101,
          101,
          94,
          101,
          37,
          101,
          101,
          30,
          101,
          101,
          101,
          101,
          101,
          34,
          101,
          101,
          101,
          101,
          101,
          97,
          101,
          101,
          50,
          101,
          41,
          67,
          101,
          101,
          101,
          101,
          101,
          101,
          101,
          15,
          101,
          101,
          101,
          101,
          4
         ],
         "yaxis": "y4"
        }
       ],
       "layout": {
        "template": {
         "data": {
          "bar": [
           {
            "error_x": {
             "color": "#2a3f5f"
            },
            "error_y": {
             "color": "#2a3f5f"
            },
            "marker": {
             "line": {
              "color": "#E5ECF6",
              "width": 0.5
             }
            },
            "type": "bar"
           }
          ],
          "barpolar": [
           {
            "marker": {
             "line": {
              "color": "#E5ECF6",
              "width": 0.5
             }
            },
            "type": "barpolar"
           }
          ],
          "carpet": [
           {
            "aaxis": {
             "endlinecolor": "#2a3f5f",
             "gridcolor": "white",
             "linecolor": "white",
             "minorgridcolor": "white",
             "startlinecolor": "#2a3f5f"
            },
            "baxis": {
             "endlinecolor": "#2a3f5f",
             "gridcolor": "white",
             "linecolor": "white",
             "minorgridcolor": "white",
             "startlinecolor": "#2a3f5f"
            },
            "type": "carpet"
           }
          ],
          "choropleth": [
           {
            "colorbar": {
             "outlinewidth": 0,
             "ticks": ""
            },
            "type": "choropleth"
           }
          ],
          "contour": [
           {
            "colorbar": {
             "outlinewidth": 0,
             "ticks": ""
            },
            "colorscale": [
             [
              0,
              "#0d0887"
             ],
             [
              0.1111111111111111,
              "#46039f"
             ],
             [
              0.2222222222222222,
              "#7201a8"
             ],
             [
              0.3333333333333333,
              "#9c179e"
             ],
             [
              0.4444444444444444,
              "#bd3786"
             ],
             [
              0.5555555555555556,
              "#d8576b"
             ],
             [
              0.6666666666666666,
              "#ed7953"
             ],
             [
              0.7777777777777778,
              "#fb9f3a"
             ],
             [
              0.8888888888888888,
              "#fdca26"
             ],
             [
              1,
              "#f0f921"
             ]
            ],
            "type": "contour"
           }
          ],
          "contourcarpet": [
           {
            "colorbar": {
             "outlinewidth": 0,
             "ticks": ""
            },
            "type": "contourcarpet"
           }
          ],
          "heatmap": [
           {
            "colorbar": {
             "outlinewidth": 0,
             "ticks": ""
            },
            "colorscale": [
             [
              0,
              "#0d0887"
             ],
             [
              0.1111111111111111,
              "#46039f"
             ],
             [
              0.2222222222222222,
              "#7201a8"
             ],
             [
              0.3333333333333333,
              "#9c179e"
             ],
             [
              0.4444444444444444,
              "#bd3786"
             ],
             [
              0.5555555555555556,
              "#d8576b"
             ],
             [
              0.6666666666666666,
              "#ed7953"
             ],
             [
              0.7777777777777778,
              "#fb9f3a"
             ],
             [
              0.8888888888888888,
              "#fdca26"
             ],
             [
              1,
              "#f0f921"
             ]
            ],
            "type": "heatmap"
           }
          ],
          "heatmapgl": [
           {
            "colorbar": {
             "outlinewidth": 0,
             "ticks": ""
            },
            "colorscale": [
             [
              0,
              "#0d0887"
             ],
             [
              0.1111111111111111,
              "#46039f"
             ],
             [
              0.2222222222222222,
              "#7201a8"
             ],
             [
              0.3333333333333333,
              "#9c179e"
             ],
             [
              0.4444444444444444,
              "#bd3786"
             ],
             [
              0.5555555555555556,
              "#d8576b"
             ],
             [
              0.6666666666666666,
              "#ed7953"
             ],
             [
              0.7777777777777778,
              "#fb9f3a"
             ],
             [
              0.8888888888888888,
              "#fdca26"
             ],
             [
              1,
              "#f0f921"
             ]
            ],
            "type": "heatmapgl"
           }
          ],
          "histogram": [
           {
            "marker": {
             "colorbar": {
              "outlinewidth": 0,
              "ticks": ""
             }
            },
            "type": "histogram"
           }
          ],
          "histogram2d": [
           {
            "colorbar": {
             "outlinewidth": 0,
             "ticks": ""
            },
            "colorscale": [
             [
              0,
              "#0d0887"
             ],
             [
              0.1111111111111111,
              "#46039f"
             ],
             [
              0.2222222222222222,
              "#7201a8"
             ],
             [
              0.3333333333333333,
              "#9c179e"
             ],
             [
              0.4444444444444444,
              "#bd3786"
             ],
             [
              0.5555555555555556,
              "#d8576b"
             ],
             [
              0.6666666666666666,
              "#ed7953"
             ],
             [
              0.7777777777777778,
              "#fb9f3a"
             ],
             [
              0.8888888888888888,
              "#fdca26"
             ],
             [
              1,
              "#f0f921"
             ]
            ],
            "type": "histogram2d"
           }
          ],
          "histogram2dcontour": [
           {
            "colorbar": {
             "outlinewidth": 0,
             "ticks": ""
            },
            "colorscale": [
             [
              0,
              "#0d0887"
             ],
             [
              0.1111111111111111,
              "#46039f"
             ],
             [
              0.2222222222222222,
              "#7201a8"
             ],
             [
              0.3333333333333333,
              "#9c179e"
             ],
             [
              0.4444444444444444,
              "#bd3786"
             ],
             [
              0.5555555555555556,
              "#d8576b"
             ],
             [
              0.6666666666666666,
              "#ed7953"
             ],
             [
              0.7777777777777778,
              "#fb9f3a"
             ],
             [
              0.8888888888888888,
              "#fdca26"
             ],
             [
              1,
              "#f0f921"
             ]
            ],
            "type": "histogram2dcontour"
           }
          ],
          "mesh3d": [
           {
            "colorbar": {
             "outlinewidth": 0,
             "ticks": ""
            },
            "type": "mesh3d"
           }
          ],
          "parcoords": [
           {
            "line": {
             "colorbar": {
              "outlinewidth": 0,
              "ticks": ""
             }
            },
            "type": "parcoords"
           }
          ],
          "scatter": [
           {
            "marker": {
             "colorbar": {
              "outlinewidth": 0,
              "ticks": ""
             }
            },
            "type": "scatter"
           }
          ],
          "scatter3d": [
           {
            "line": {
             "colorbar": {
              "outlinewidth": 0,
              "ticks": ""
             }
            },
            "marker": {
             "colorbar": {
              "outlinewidth": 0,
              "ticks": ""
             }
            },
            "type": "scatter3d"
           }
          ],
          "scattercarpet": [
           {
            "marker": {
             "colorbar": {
              "outlinewidth": 0,
              "ticks": ""
             }
            },
            "type": "scattercarpet"
           }
          ],
          "scattergeo": [
           {
            "marker": {
             "colorbar": {
              "outlinewidth": 0,
              "ticks": ""
             }
            },
            "type": "scattergeo"
           }
          ],
          "scattergl": [
           {
            "marker": {
             "colorbar": {
              "outlinewidth": 0,
              "ticks": ""
             }
            },
            "type": "scattergl"
           }
          ],
          "scattermapbox": [
           {
            "marker": {
             "colorbar": {
              "outlinewidth": 0,
              "ticks": ""
             }
            },
            "type": "scattermapbox"
           }
          ],
          "scatterpolar": [
           {
            "marker": {
             "colorbar": {
              "outlinewidth": 0,
              "ticks": ""
             }
            },
            "type": "scatterpolar"
           }
          ],
          "scatterpolargl": [
           {
            "marker": {
             "colorbar": {
              "outlinewidth": 0,
              "ticks": ""
             }
            },
            "type": "scatterpolargl"
           }
          ],
          "scatterternary": [
           {
            "marker": {
             "colorbar": {
              "outlinewidth": 0,
              "ticks": ""
             }
            },
            "type": "scatterternary"
           }
          ],
          "surface": [
           {
            "colorbar": {
             "outlinewidth": 0,
             "ticks": ""
            },
            "colorscale": [
             [
              0,
              "#0d0887"
             ],
             [
              0.1111111111111111,
              "#46039f"
             ],
             [
              0.2222222222222222,
              "#7201a8"
             ],
             [
              0.3333333333333333,
              "#9c179e"
             ],
             [
              0.4444444444444444,
              "#bd3786"
             ],
             [
              0.5555555555555556,
              "#d8576b"
             ],
             [
              0.6666666666666666,
              "#ed7953"
             ],
             [
              0.7777777777777778,
              "#fb9f3a"
             ],
             [
              0.8888888888888888,
              "#fdca26"
             ],
             [
              1,
              "#f0f921"
             ]
            ],
            "type": "surface"
           }
          ],
          "table": [
           {
            "cells": {
             "fill": {
              "color": "#EBF0F8"
             },
             "line": {
              "color": "white"
             }
            },
            "header": {
             "fill": {
              "color": "#C8D4E3"
             },
             "line": {
              "color": "white"
             }
            },
            "type": "table"
           }
          ]
         },
         "layout": {
          "annotationdefaults": {
           "arrowcolor": "#2a3f5f",
           "arrowhead": 0,
           "arrowwidth": 1
          },
          "colorscale": {
           "diverging": [
            [
             0,
             "#8e0152"
            ],
            [
             0.1,
             "#c51b7d"
            ],
            [
             0.2,
             "#de77ae"
            ],
            [
             0.3,
             "#f1b6da"
            ],
            [
             0.4,
             "#fde0ef"
            ],
            [
             0.5,
             "#f7f7f7"
            ],
            [
             0.6,
             "#e6f5d0"
            ],
            [
             0.7,
             "#b8e186"
            ],
            [
             0.8,
             "#7fbc41"
            ],
            [
             0.9,
             "#4d9221"
            ],
            [
             1,
             "#276419"
            ]
           ],
           "sequential": [
            [
             0,
             "#0d0887"
            ],
            [
             0.1111111111111111,
             "#46039f"
            ],
            [
             0.2222222222222222,
             "#7201a8"
            ],
            [
             0.3333333333333333,
             "#9c179e"
            ],
            [
             0.4444444444444444,
             "#bd3786"
            ],
            [
             0.5555555555555556,
             "#d8576b"
            ],
            [
             0.6666666666666666,
             "#ed7953"
            ],
            [
             0.7777777777777778,
             "#fb9f3a"
            ],
            [
             0.8888888888888888,
             "#fdca26"
            ],
            [
             1,
             "#f0f921"
            ]
           ],
           "sequentialminus": [
            [
             0,
             "#0d0887"
            ],
            [
             0.1111111111111111,
             "#46039f"
            ],
            [
             0.2222222222222222,
             "#7201a8"
            ],
            [
             0.3333333333333333,
             "#9c179e"
            ],
            [
             0.4444444444444444,
             "#bd3786"
            ],
            [
             0.5555555555555556,
             "#d8576b"
            ],
            [
             0.6666666666666666,
             "#ed7953"
            ],
            [
             0.7777777777777778,
             "#fb9f3a"
            ],
            [
             0.8888888888888888,
             "#fdca26"
            ],
            [
             1,
             "#f0f921"
            ]
           ]
          },
          "colorway": [
           "#636efa",
           "#EF553B",
           "#00cc96",
           "#ab63fa",
           "#FFA15A",
           "#19d3f3",
           "#FF6692",
           "#B6E880",
           "#FF97FF",
           "#FECB52"
          ],
          "font": {
           "color": "#2a3f5f"
          },
          "geo": {
           "bgcolor": "white",
           "lakecolor": "white",
           "landcolor": "#E5ECF6",
           "showlakes": true,
           "showland": true,
           "subunitcolor": "white"
          },
          "hoverlabel": {
           "align": "left"
          },
          "hovermode": "closest",
          "mapbox": {
           "style": "light"
          },
          "paper_bgcolor": "white",
          "plot_bgcolor": "#E5ECF6",
          "polar": {
           "angularaxis": {
            "gridcolor": "white",
            "linecolor": "white",
            "ticks": ""
           },
           "bgcolor": "#E5ECF6",
           "radialaxis": {
            "gridcolor": "white",
            "linecolor": "white",
            "ticks": ""
           }
          },
          "scene": {
           "xaxis": {
            "backgroundcolor": "#E5ECF6",
            "gridcolor": "white",
            "gridwidth": 2,
            "linecolor": "white",
            "showbackground": true,
            "ticks": "",
            "zerolinecolor": "white"
           },
           "yaxis": {
            "backgroundcolor": "#E5ECF6",
            "gridcolor": "white",
            "gridwidth": 2,
            "linecolor": "white",
            "showbackground": true,
            "ticks": "",
            "zerolinecolor": "white"
           },
           "zaxis": {
            "backgroundcolor": "#E5ECF6",
            "gridcolor": "white",
            "gridwidth": 2,
            "linecolor": "white",
            "showbackground": true,
            "ticks": "",
            "zerolinecolor": "white"
           }
          },
          "shapedefaults": {
           "line": {
            "color": "#2a3f5f"
           }
          },
          "ternary": {
           "aaxis": {
            "gridcolor": "white",
            "linecolor": "white",
            "ticks": ""
           },
           "baxis": {
            "gridcolor": "white",
            "linecolor": "white",
            "ticks": ""
           },
           "bgcolor": "#E5ECF6",
           "caxis": {
            "gridcolor": "white",
            "linecolor": "white",
            "ticks": ""
           }
          },
          "title": {
           "x": 0.05
          },
          "xaxis": {
           "automargin": true,
           "gridcolor": "white",
           "linecolor": "white",
           "ticks": "",
           "zerolinecolor": "white",
           "zerolinewidth": 2
          },
          "yaxis": {
           "automargin": true,
           "gridcolor": "white",
           "linecolor": "white",
           "ticks": "",
           "zerolinecolor": "white",
           "zerolinewidth": 2
          }
         }
        },
        "title": {
         "text": "Multiple"
        },
        "xaxis": {
         "domain": [
          0,
          0.45
         ]
        },
        "xaxis2": {
         "domain": [
          0.55,
          1
         ]
        },
        "xaxis3": {
         "anchor": "y3",
         "domain": [
          0,
          0.45
         ]
        },
        "xaxis4": {
         "anchor": "y4",
         "domain": [
          0.55,
          1
         ]
        },
        "yaxis": {
         "domain": [
          0,
          0.45
         ]
        },
        "yaxis2": {
         "anchor": "x2",
         "domain": [
          0,
          0.45
         ]
        },
        "yaxis3": {
         "domain": [
          0.55,
          1
         ]
        },
        "yaxis4": {
         "anchor": "x4",
         "domain": [
          0.55,
          1
         ]
        }
       }
      },
      "text/html": [
       "<div>\n",
       "        \n",
       "        \n",
       "            <div id=\"72f0d29a-dcdc-48e4-bbb8-8b852cb1af2a\" class=\"plotly-graph-div\" style=\"height:525px; width:100%;\"></div>\n",
       "            <script type=\"text/javascript\">\n",
       "                require([\"plotly\"], function(Plotly) {\n",
       "                    window.PLOTLYENV=window.PLOTLYENV || {};\n",
       "                    \n",
       "                if (document.getElementById(\"72f0d29a-dcdc-48e4-bbb8-8b852cb1af2a\")) {\n",
       "                    Plotly.newPlot(\n",
       "                        '72f0d29a-dcdc-48e4-bbb8-8b852cb1af2a',\n",
       "                        [{\"marker\": {\"color\": \"rgba(12, 12, 140,.4)\"}, \"mode\": \"lines\", \"name\": \"teaching\", \"text\": [\"Harvard University\", \"Massachusetts Institute of Technology\", \"Stanford University\", \"University of Cambridge\", \"California Institute of Technology\", \"Princeton University\", \"University of Oxford\", \"Yale University\", \"Columbia University\", \"University of California, Berkeley\", \"University of Chicago\", \"Cornell University\", \"University of Pennsylvania\", \"University of Tokyo\", \"Johns Hopkins University\", \"Swiss Federal Institute of Technology in Zurich\", \"Kyoto University\", \"Weizmann Institute of Science\", \"University of California, Los Angeles\", \"University of California, San Diego\", \"Rockefeller University\", \"Hebrew University of Jerusalem\", \"New York University\", \"University of California, San Francisco\", \"University of Wisconsin\\u2013Madison\", \"University of Illinois at Urbana\\u2013Champaign\", \"Duke University\", \"Imperial College London\", \"University of Texas Southwestern Medical Center\", \"University of Texas at Austin\", \"University College London\", \"Osaka University\", \"Northwestern University\", \"University of Michigan, Ann Arbor\", \"University of Toronto\", \"University of North Carolina at Chapel Hill\", \"Washington University in St. Louis\", \"University of Utah\", \"University of Washington - Seattle\", \"University of California, Santa Barbara\", \"McGill University\", \"Purdue University, West Lafayette\", \"Carnegie Mellon University\", \"University of Southern California\", \"University of California, Davis\", \"University of Colorado Boulder\", \"University of California, Irvine\", \"University of Paris-Sud\", \"University of Minnesota, Twin Cities\", \"University of Arizona\", \"Technion \\u2013 Israel Institute of Technology\", \"Ohio State University, Columbus\", \"University of Rochester\", \"\\u00c9cole normale sup\\u00e9rieure - Paris\", \"University of Florida\", \"Tel Aviv University\", \"Rice University\", \"Dartmouth College\", \"Vanderbilt University\", \"University of Edinburgh\", \"\\u00c9cole Polytechnique\", \"Boston University\", \"Pierre-and-Marie-Curie University\", \"Pennsylvania State University, University Park\", \"University of Geneva\", \"Brown University\", \"University of British Columbia\", \"University of Maryland, College Park\", \"Swiss Federal Institute of Technology in Lausanne\", \"Karolinska Institute\", \"University of Pittsburgh - Pittsburgh Campus\", \"Rutgers University-New Brunswick\", \"Texas A&M University, College Station\", \"Nagoya University\", \"Seoul National University\", \"University of Manchester\", \"Sapienza University of Rome\", \"Case Western Reserve University\", \"Tohoku University\", \"Arizona State University\", \"Emory University\", \"Ruprecht Karl University of Heidelberg\", \"Ludwig Maximilian University of Munich\", \"University of Virginia\", \"Leiden University\", \"Tufts University\", \"Georgia Institute of Technology\", \"University of Zurich\", \"University of Helsinki\", \"Technical University of Munich\", \"University of Oslo\", \"University of Queensland\", \"University of Copenhagen\", \"University of Sydney\", \"Williams College\", \"University of Texas MD Anderson Cancer Center\", \"University of Nottingham\", \"University of Bristol\", \"Utrecht University\", \"Mines ParisTech\"], \"type\": \"scatter\", \"x\": [1, 2, 3, 4, 5, 6, 7, 8, 9, 10, 11, 12, 13, 14, 15, 16, 17, 18, 19, 20, 21, 22, 23, 24, 25, 26, 27, 28, 29, 30, 31, 32, 33, 34, 35, 36, 37, 38, 39, 40, 41, 42, 43, 44, 45, 46, 47, 48, 49, 50, 51, 52, 53, 54, 55, 56, 57, 58, 59, 60, 61, 62, 63, 64, 65, 66, 67, 68, 69, 70, 71, 72, 73, 74, 75, 76, 77, 78, 79, 80, 81, 82, 83, 84, 85, 86, 87, 88, 89, 90, 91, 92, 93, 94, 95, 96, 97, 98, 99, 100], \"y\": [1, 3, 5, 4, 7, 2, 9, 12, 10, 6, 8, 14, 24, 31, 20, 11, 19, 22, 23, 15, 16, 13, 17, 21, 33, 18, 55, 35, 32, 27, 45, 44, 101, 101, 34, 56, 101, 41, 40, 28, 54, 49, 26, 63, 92, 48, 38, 25, 85, 88, 36, 83, 101, 77, 96, 51, 94, 101, 101, 43, 101, 86, 84, 101, 29, 65, 93, 50, 82, 42, 101, 59, 46, 69, 101, 75, 30, 101, 101, 70, 101, 52, 90, 101, 76, 101, 101, 80, 79, 101, 39, 101, 60, 101, 101, 101, 87, 78, 101, 101]}, {\"marker\": {\"color\": \"rgba(155,98,160,.6)\"}, \"mode\": \"lines+markers\", \"name\": \"citation\", \"text\": [\"Harvard University\", \"Massachusetts Institute of Technology\", \"Stanford University\", \"University of Cambridge\", \"California Institute of Technology\", \"Princeton University\", \"University of Oxford\", \"Yale University\", \"Columbia University\", \"University of California, Berkeley\", \"University of Chicago\", \"Cornell University\", \"University of Pennsylvania\", \"University of Tokyo\", \"Johns Hopkins University\", \"Swiss Federal Institute of Technology in Zurich\", \"Kyoto University\", \"Weizmann Institute of Science\", \"University of California, Los Angeles\", \"University of California, San Diego\", \"Rockefeller University\", \"Hebrew University of Jerusalem\", \"New York University\", \"University of California, San Francisco\", \"University of Wisconsin\\u2013Madison\", \"University of Illinois at Urbana\\u2013Champaign\", \"Duke University\", \"Imperial College London\", \"University of Texas Southwestern Medical Center\", \"University of Texas at Austin\", \"University College London\", \"Osaka University\", \"Northwestern University\", \"University of Michigan, Ann Arbor\", \"University of Toronto\", \"University of North Carolina at Chapel Hill\", \"Washington University in St. Louis\", \"University of Utah\", \"University of Washington - Seattle\", \"University of California, Santa Barbara\", \"McGill University\", \"Purdue University, West Lafayette\", \"Carnegie Mellon University\", \"University of Southern California\", \"University of California, Davis\", \"University of Colorado Boulder\", \"University of California, Irvine\", \"University of Paris-Sud\", \"University of Minnesota, Twin Cities\", \"University of Arizona\", \"Technion \\u2013 Israel Institute of Technology\", \"Ohio State University, Columbus\", \"University of Rochester\", \"\\u00c9cole normale sup\\u00e9rieure - Paris\", \"University of Florida\", \"Tel Aviv University\", \"Rice University\", \"Dartmouth College\", \"Vanderbilt University\", \"University of Edinburgh\", \"\\u00c9cole Polytechnique\", \"Boston University\", \"Pierre-and-Marie-Curie University\", \"Pennsylvania State University, University Park\", \"University of Geneva\", \"Brown University\", \"University of British Columbia\", \"University of Maryland, College Park\", \"Swiss Federal Institute of Technology in Lausanne\", \"Karolinska Institute\", \"University of Pittsburgh - Pittsburgh Campus\", \"Rutgers University-New Brunswick\", \"Texas A&M University, College Station\", \"Nagoya University\", \"Seoul National University\", \"University of Manchester\", \"Sapienza University of Rome\", \"Case Western Reserve University\", \"Tohoku University\", \"Arizona State University\", \"Emory University\", \"Ruprecht Karl University of Heidelberg\", \"Ludwig Maximilian University of Munich\", \"University of Virginia\", \"Leiden University\", \"Tufts University\", \"Georgia Institute of Technology\", \"University of Zurich\", \"University of Helsinki\", \"Technical University of Munich\", \"University of Oslo\", \"University of Queensland\", \"University of Copenhagen\", \"University of Sydney\", \"Williams College\", \"University of Texas MD Anderson Cancer Center\", \"University of Nottingham\", \"University of Bristol\", \"Utrecht University\", \"Mines ParisTech\"], \"type\": \"scatter\", \"x\": [1, 2, 3, 4, 5, 6, 7, 8, 9, 10, 11, 12, 13, 14, 15, 16, 17, 18, 19, 20, 21, 22, 23, 24, 25, 26, 27, 28, 29, 30, 31, 32, 33, 34, 35, 36, 37, 38, 39, 40, 41, 42, 43, 44, 45, 46, 47, 48, 49, 50, 51, 52, 53, 54, 55, 56, 57, 58, 59, 60, 61, 62, 63, 64, 65, 66, 67, 68, 69, 70, 71, 72, 73, 74, 75, 76, 77, 78, 79, 80, 81, 82, 83, 84, 85, 86, 87, 88, 89, 90, 91, 92, 93, 94, 95, 96, 97, 98, 99, 100], \"xaxis\": \"x2\", \"y\": [1, 4, 2, 11, 22, 26, 19, 15, 14, 3, 28, 16, 8, 23, 9, 44, 43, 101, 6, 10, 96, 101, 34, 13, 21, 39, 12, 29, 84, 40, 33, 51, 20, 7, 18, 31, 30, 67, 5, 36, 47, 58, 61, 32, 25, 56, 52, 101, 17, 45, 101, 35, 54, 101, 42, 101, 53, 101, 49, 70, 101, 37, 78, 27, 101, 92, 48, 41, 101, 95, 24, 72, 80, 101, 69, 63, 101, 65, 67, 77, 50, 100, 62, 57, 101, 75, 46, 99, 54, 94, 101, 89, 101, 85, 101, 66, 101, 86, 60, 101], \"yaxis\": \"y2\"}, {\"marker\": {\"color\": \"rgba(36,120,153,.4)\"}, \"mode\": \"lines\", \"name\": \"total\", \"text\": [\"Harvard University\", \"Massachusetts Institute of Technology\", \"Stanford University\", \"University of Cambridge\", \"California Institute of Technology\", \"Princeton University\", \"University of Oxford\", \"Yale University\", \"Columbia University\", \"University of California, Berkeley\", \"University of Chicago\", \"Cornell University\", \"University of Pennsylvania\", \"University of Tokyo\", \"Johns Hopkins University\", \"Swiss Federal Institute of Technology in Zurich\", \"Kyoto University\", \"Weizmann Institute of Science\", \"University of California, Los Angeles\", \"University of California, San Diego\", \"Rockefeller University\", \"Hebrew University of Jerusalem\", \"New York University\", \"University of California, San Francisco\", \"University of Wisconsin\\u2013Madison\", \"University of Illinois at Urbana\\u2013Champaign\", \"Duke University\", \"Imperial College London\", \"University of Texas Southwestern Medical Center\", \"University of Texas at Austin\", \"University College London\", \"Osaka University\", \"Northwestern University\", \"University of Michigan, Ann Arbor\", \"University of Toronto\", \"University of North Carolina at Chapel Hill\", \"Washington University in St. Louis\", \"University of Utah\", \"University of Washington - Seattle\", \"University of California, Santa Barbara\", \"McGill University\", \"Purdue University, West Lafayette\", \"Carnegie Mellon University\", \"University of Southern California\", \"University of California, Davis\", \"University of Colorado Boulder\", \"University of California, Irvine\", \"University of Paris-Sud\", \"University of Minnesota, Twin Cities\", \"University of Arizona\", \"Technion \\u2013 Israel Institute of Technology\", \"Ohio State University, Columbus\", \"University of Rochester\", \"\\u00c9cole normale sup\\u00e9rieure - Paris\", \"University of Florida\", \"Tel Aviv University\", \"Rice University\", \"Dartmouth College\", \"Vanderbilt University\", \"University of Edinburgh\", \"\\u00c9cole Polytechnique\", \"Boston University\", \"Pierre-and-Marie-Curie University\", \"Pennsylvania State University, University Park\", \"University of Geneva\", \"Brown University\", \"University of British Columbia\", \"University of Maryland, College Park\", \"Swiss Federal Institute of Technology in Lausanne\", \"Karolinska Institute\", \"University of Pittsburgh - Pittsburgh Campus\", \"Rutgers University-New Brunswick\", \"Texas A&M University, College Station\", \"Nagoya University\", \"Seoul National University\", \"University of Manchester\", \"Sapienza University of Rome\", \"Case Western Reserve University\", \"Tohoku University\", \"Arizona State University\", \"Emory University\", \"Ruprecht Karl University of Heidelberg\", \"Ludwig Maximilian University of Munich\", \"University of Virginia\", \"Leiden University\", \"Tufts University\", \"Georgia Institute of Technology\", \"University of Zurich\", \"University of Helsinki\", \"Technical University of Munich\", \"University of Oslo\", \"University of Queensland\", \"University of Copenhagen\", \"University of Sydney\", \"Williams College\", \"University of Texas MD Anderson Cancer Center\", \"University of Nottingham\", \"University of Bristol\", \"Utrecht University\", \"Mines ParisTech\"], \"type\": \"scatter\", \"x\": [1, 2, 3, 4, 5, 6, 7, 8, 9, 10, 11, 12, 13, 14, 15, 16, 17, 18, 19, 20, 21, 22, 23, 24, 25, 26, 27, 28, 29, 30, 31, 32, 33, 34, 35, 36, 37, 38, 39, 40, 41, 42, 43, 44, 45, 46, 47, 48, 49, 50, 51, 52, 53, 54, 55, 56, 57, 58, 59, 60, 61, 62, 63, 64, 65, 66, 67, 68, 69, 70, 71, 72, 73, 74, 75, 76, 77, 78, 79, 80, 81, 82, 83, 84, 85, 86, 87, 88, 89, 90, 91, 92, 93, 94, 95, 96, 97, 98, 99, 100], \"xaxis\": \"x3\", \"y\": [100.0, 91.67, 89.5, 86.17, 85.21, 82.5, 82.34, 79.14, 78.86, 78.55, 73.82, 73.69, 73.64, 69.49, 66.94, 66.69, 65.76, 65.09, 64.05, 63.11, 61.74, 60.76, 60.55, 59.7, 59.66, 59.0, 58.37, 57.53, 56.43, 56.18, 55.21, 54.43, 54.4, 53.72, 53.43, 53.09, 52.9, 52.64, 52.25, 52.15, 51.72, 51.66, 51.6, 51.38, 51.06, 50.68, 50.64, 50.44, 50.3, 50.29, 50.01, 49.54, 49.51, 49.1, 48.8, 48.76, 48.76, 48.5, 48.44, 48.43, 48.33, 48.31, 48.26, 48.15, 47.94, 47.91, 47.74, 47.69, 47.68, 47.61, 47.59, 47.5, 47.31, 46.89, 46.74, 46.38, 46.34, 46.11, 45.82, 45.7, 45.47, 45.33, 45.21, 45.2, 45.13, 44.91, 44.71, 44.51, 44.44, 44.32, 44.26, 44.18, 44.15, 44.13, 43.89, 43.88, 43.79, 43.77, 43.47, 43.36], \"yaxis\": \"y3\"}, {\"marker\": {\"color\": \"rgba(65,46,178,0.4)\"}, \"mode\": \"lines+markers\", \"name\": \"placements\", \"text\": [\"Harvard University\", \"Massachusetts Institute of Technology\", \"Stanford University\", \"University of Cambridge\", \"California Institute of Technology\", \"Princeton University\", \"University of Oxford\", \"Yale University\", \"Columbia University\", \"University of California, Berkeley\", \"University of Chicago\", \"Cornell University\", \"University of Pennsylvania\", \"University of Tokyo\", \"Johns Hopkins University\", \"Swiss Federal Institute of Technology in Zurich\", \"Kyoto University\", \"Weizmann Institute of Science\", \"University of California, Los Angeles\", \"University of California, San Diego\", \"Rockefeller University\", \"Hebrew University of Jerusalem\", \"New York University\", \"University of California, San Francisco\", \"University of Wisconsin\\u2013Madison\", \"University of Illinois at Urbana\\u2013Champaign\", \"Duke University\", \"Imperial College London\", \"University of Texas Southwestern Medical Center\", \"University of Texas at Austin\", \"University College London\", \"Osaka University\", \"Northwestern University\", \"University of Michigan, Ann Arbor\", \"University of Toronto\", \"University of North Carolina at Chapel Hill\", \"Washington University in St. Louis\", \"University of Utah\", \"University of Washington - Seattle\", \"University of California, Santa Barbara\", \"McGill University\", \"Purdue University, West Lafayette\", \"Carnegie Mellon University\", \"University of Southern California\", \"University of California, Davis\", \"University of Colorado Boulder\", \"University of California, Irvine\", \"University of Paris-Sud\", \"University of Minnesota, Twin Cities\", \"University of Arizona\", \"Technion \\u2013 Israel Institute of Technology\", \"Ohio State University, Columbus\", \"University of Rochester\", \"\\u00c9cole normale sup\\u00e9rieure - Paris\", \"University of Florida\", \"Tel Aviv University\", \"Rice University\", \"Dartmouth College\", \"Vanderbilt University\", \"University of Edinburgh\", \"\\u00c9cole Polytechnique\", \"Boston University\", \"Pierre-and-Marie-Curie University\", \"Pennsylvania State University, University Park\", \"University of Geneva\", \"Brown University\", \"University of British Columbia\", \"University of Maryland, College Park\", \"Swiss Federal Institute of Technology in Lausanne\", \"Karolinska Institute\", \"University of Pittsburgh - Pittsburgh Campus\", \"Rutgers University-New Brunswick\", \"Texas A&M University, College Station\", \"Nagoya University\", \"Seoul National University\", \"University of Manchester\", \"Sapienza University of Rome\", \"Case Western Reserve University\", \"Tohoku University\", \"Arizona State University\", \"Emory University\", \"Ruprecht Karl University of Heidelberg\", \"Ludwig Maximilian University of Munich\", \"University of Virginia\", \"Leiden University\", \"Tufts University\", \"Georgia Institute of Technology\", \"University of Zurich\", \"University of Helsinki\", \"Technical University of Munich\", \"University of Oslo\", \"University of Queensland\", \"University of Copenhagen\", \"University of Sydney\", \"Williams College\", \"University of Texas MD Anderson Cancer Center\", \"University of Nottingham\", \"University of Bristol\", \"Utrecht University\", \"Mines ParisTech\"], \"type\": \"scatter\", \"x\": [1, 2, 3, 4, 5, 6, 7, 8, 9, 10, 11, 12, 13, 14, 15, 16, 17, 18, 19, 20, 21, 22, 23, 24, 25, 26, 27, 28, 29, 30, 31, 32, 33, 34, 35, 36, 37, 38, 39, 40, 41, 42, 43, 44, 45, 46, 47, 48, 49, 50, 51, 52, 53, 54, 55, 56, 57, 58, 59, 60, 61, 62, 63, 64, 65, 66, 67, 68, 69, 70, 71, 72, 73, 74, 75, 76, 77, 78, 79, 80, 81, 82, 83, 84, 85, 86, 87, 88, 89, 90, 91, 92, 93, 94, 95, 96, 97, 98, 99, 100], \"xaxis\": \"x4\", \"y\": [9, 17, 11, 24, 29, 14, 28, 31, 21, 52, 26, 42, 16, 19, 77, 66, 38, 101, 59, 101, 101, 93, 75, 101, 63, 101, 43, 73, 101, 78, 101, 101, 32, 60, 101, 86, 62, 101, 101, 101, 91, 70, 81, 101, 101, 88, 101, 101, 101, 101, 89, 101, 54, 61, 101, 101, 53, 13, 72, 101, 3, 101, 101, 94, 101, 37, 101, 101, 30, 101, 101, 101, 101, 101, 34, 101, 101, 101, 101, 101, 97, 101, 101, 50, 101, 41, 67, 101, 101, 101, 101, 101, 101, 101, 15, 101, 101, 101, 101, 4], \"yaxis\": \"y4\"}],\n",
       "                        {\"template\": {\"data\": {\"bar\": [{\"error_x\": {\"color\": \"#2a3f5f\"}, \"error_y\": {\"color\": \"#2a3f5f\"}, \"marker\": {\"line\": {\"color\": \"#E5ECF6\", \"width\": 0.5}}, \"type\": \"bar\"}], \"barpolar\": [{\"marker\": {\"line\": {\"color\": \"#E5ECF6\", \"width\": 0.5}}, \"type\": \"barpolar\"}], \"carpet\": [{\"aaxis\": {\"endlinecolor\": \"#2a3f5f\", \"gridcolor\": \"white\", \"linecolor\": \"white\", \"minorgridcolor\": \"white\", \"startlinecolor\": \"#2a3f5f\"}, \"baxis\": {\"endlinecolor\": \"#2a3f5f\", \"gridcolor\": \"white\", \"linecolor\": \"white\", \"minorgridcolor\": \"white\", \"startlinecolor\": \"#2a3f5f\"}, \"type\": \"carpet\"}], \"choropleth\": [{\"colorbar\": {\"outlinewidth\": 0, \"ticks\": \"\"}, \"type\": \"choropleth\"}], \"contour\": [{\"colorbar\": {\"outlinewidth\": 0, \"ticks\": \"\"}, \"colorscale\": [[0.0, \"#0d0887\"], [0.1111111111111111, \"#46039f\"], [0.2222222222222222, \"#7201a8\"], [0.3333333333333333, \"#9c179e\"], [0.4444444444444444, \"#bd3786\"], [0.5555555555555556, \"#d8576b\"], [0.6666666666666666, \"#ed7953\"], [0.7777777777777778, \"#fb9f3a\"], [0.8888888888888888, \"#fdca26\"], [1.0, \"#f0f921\"]], \"type\": \"contour\"}], \"contourcarpet\": [{\"colorbar\": {\"outlinewidth\": 0, \"ticks\": \"\"}, \"type\": \"contourcarpet\"}], \"heatmap\": [{\"colorbar\": {\"outlinewidth\": 0, \"ticks\": \"\"}, \"colorscale\": [[0.0, \"#0d0887\"], [0.1111111111111111, \"#46039f\"], [0.2222222222222222, \"#7201a8\"], [0.3333333333333333, \"#9c179e\"], [0.4444444444444444, \"#bd3786\"], [0.5555555555555556, \"#d8576b\"], [0.6666666666666666, \"#ed7953\"], [0.7777777777777778, \"#fb9f3a\"], [0.8888888888888888, \"#fdca26\"], [1.0, \"#f0f921\"]], \"type\": \"heatmap\"}], \"heatmapgl\": [{\"colorbar\": {\"outlinewidth\": 0, \"ticks\": \"\"}, \"colorscale\": [[0.0, \"#0d0887\"], [0.1111111111111111, \"#46039f\"], [0.2222222222222222, \"#7201a8\"], [0.3333333333333333, \"#9c179e\"], [0.4444444444444444, \"#bd3786\"], [0.5555555555555556, \"#d8576b\"], [0.6666666666666666, \"#ed7953\"], [0.7777777777777778, \"#fb9f3a\"], [0.8888888888888888, \"#fdca26\"], [1.0, \"#f0f921\"]], \"type\": \"heatmapgl\"}], \"histogram\": [{\"marker\": {\"colorbar\": {\"outlinewidth\": 0, \"ticks\": \"\"}}, \"type\": \"histogram\"}], \"histogram2d\": [{\"colorbar\": {\"outlinewidth\": 0, \"ticks\": \"\"}, \"colorscale\": [[0.0, \"#0d0887\"], [0.1111111111111111, \"#46039f\"], [0.2222222222222222, \"#7201a8\"], [0.3333333333333333, \"#9c179e\"], [0.4444444444444444, \"#bd3786\"], [0.5555555555555556, \"#d8576b\"], [0.6666666666666666, \"#ed7953\"], [0.7777777777777778, \"#fb9f3a\"], [0.8888888888888888, \"#fdca26\"], [1.0, \"#f0f921\"]], \"type\": \"histogram2d\"}], \"histogram2dcontour\": [{\"colorbar\": {\"outlinewidth\": 0, \"ticks\": \"\"}, \"colorscale\": [[0.0, \"#0d0887\"], [0.1111111111111111, \"#46039f\"], [0.2222222222222222, \"#7201a8\"], [0.3333333333333333, \"#9c179e\"], [0.4444444444444444, \"#bd3786\"], [0.5555555555555556, \"#d8576b\"], [0.6666666666666666, \"#ed7953\"], [0.7777777777777778, \"#fb9f3a\"], [0.8888888888888888, \"#fdca26\"], [1.0, \"#f0f921\"]], \"type\": \"histogram2dcontour\"}], \"mesh3d\": [{\"colorbar\": {\"outlinewidth\": 0, \"ticks\": \"\"}, \"type\": \"mesh3d\"}], \"parcoords\": [{\"line\": {\"colorbar\": {\"outlinewidth\": 0, \"ticks\": \"\"}}, \"type\": \"parcoords\"}], \"scatter\": [{\"marker\": {\"colorbar\": {\"outlinewidth\": 0, \"ticks\": \"\"}}, \"type\": \"scatter\"}], \"scatter3d\": [{\"line\": {\"colorbar\": {\"outlinewidth\": 0, \"ticks\": \"\"}}, \"marker\": {\"colorbar\": {\"outlinewidth\": 0, \"ticks\": \"\"}}, \"type\": \"scatter3d\"}], \"scattercarpet\": [{\"marker\": {\"colorbar\": {\"outlinewidth\": 0, \"ticks\": \"\"}}, \"type\": \"scattercarpet\"}], \"scattergeo\": [{\"marker\": {\"colorbar\": {\"outlinewidth\": 0, \"ticks\": \"\"}}, \"type\": \"scattergeo\"}], \"scattergl\": [{\"marker\": {\"colorbar\": {\"outlinewidth\": 0, \"ticks\": \"\"}}, \"type\": \"scattergl\"}], \"scattermapbox\": [{\"marker\": {\"colorbar\": {\"outlinewidth\": 0, \"ticks\": \"\"}}, \"type\": \"scattermapbox\"}], \"scatterpolar\": [{\"marker\": {\"colorbar\": {\"outlinewidth\": 0, \"ticks\": \"\"}}, \"type\": \"scatterpolar\"}], \"scatterpolargl\": [{\"marker\": {\"colorbar\": {\"outlinewidth\": 0, \"ticks\": \"\"}}, \"type\": \"scatterpolargl\"}], \"scatterternary\": [{\"marker\": {\"colorbar\": {\"outlinewidth\": 0, \"ticks\": \"\"}}, \"type\": \"scatterternary\"}], \"surface\": [{\"colorbar\": {\"outlinewidth\": 0, \"ticks\": \"\"}, \"colorscale\": [[0.0, \"#0d0887\"], [0.1111111111111111, \"#46039f\"], [0.2222222222222222, \"#7201a8\"], [0.3333333333333333, \"#9c179e\"], [0.4444444444444444, \"#bd3786\"], [0.5555555555555556, \"#d8576b\"], [0.6666666666666666, \"#ed7953\"], [0.7777777777777778, \"#fb9f3a\"], [0.8888888888888888, \"#fdca26\"], [1.0, \"#f0f921\"]], \"type\": \"surface\"}], \"table\": [{\"cells\": {\"fill\": {\"color\": \"#EBF0F8\"}, \"line\": {\"color\": \"white\"}}, \"header\": {\"fill\": {\"color\": \"#C8D4E3\"}, \"line\": {\"color\": \"white\"}}, \"type\": \"table\"}]}, \"layout\": {\"annotationdefaults\": {\"arrowcolor\": \"#2a3f5f\", \"arrowhead\": 0, \"arrowwidth\": 1}, \"colorscale\": {\"diverging\": [[0, \"#8e0152\"], [0.1, \"#c51b7d\"], [0.2, \"#de77ae\"], [0.3, \"#f1b6da\"], [0.4, \"#fde0ef\"], [0.5, \"#f7f7f7\"], [0.6, \"#e6f5d0\"], [0.7, \"#b8e186\"], [0.8, \"#7fbc41\"], [0.9, \"#4d9221\"], [1, \"#276419\"]], \"sequential\": [[0.0, \"#0d0887\"], [0.1111111111111111, \"#46039f\"], [0.2222222222222222, \"#7201a8\"], [0.3333333333333333, \"#9c179e\"], [0.4444444444444444, \"#bd3786\"], [0.5555555555555556, \"#d8576b\"], [0.6666666666666666, \"#ed7953\"], [0.7777777777777778, \"#fb9f3a\"], [0.8888888888888888, \"#fdca26\"], [1.0, \"#f0f921\"]], \"sequentialminus\": [[0.0, \"#0d0887\"], [0.1111111111111111, \"#46039f\"], [0.2222222222222222, \"#7201a8\"], [0.3333333333333333, \"#9c179e\"], [0.4444444444444444, \"#bd3786\"], [0.5555555555555556, \"#d8576b\"], [0.6666666666666666, \"#ed7953\"], [0.7777777777777778, \"#fb9f3a\"], [0.8888888888888888, \"#fdca26\"], [1.0, \"#f0f921\"]]}, \"colorway\": [\"#636efa\", \"#EF553B\", \"#00cc96\", \"#ab63fa\", \"#FFA15A\", \"#19d3f3\", \"#FF6692\", \"#B6E880\", \"#FF97FF\", \"#FECB52\"], \"font\": {\"color\": \"#2a3f5f\"}, \"geo\": {\"bgcolor\": \"white\", \"lakecolor\": \"white\", \"landcolor\": \"#E5ECF6\", \"showlakes\": true, \"showland\": true, \"subunitcolor\": \"white\"}, \"hoverlabel\": {\"align\": \"left\"}, \"hovermode\": \"closest\", \"mapbox\": {\"style\": \"light\"}, \"paper_bgcolor\": \"white\", \"plot_bgcolor\": \"#E5ECF6\", \"polar\": {\"angularaxis\": {\"gridcolor\": \"white\", \"linecolor\": \"white\", \"ticks\": \"\"}, \"bgcolor\": \"#E5ECF6\", \"radialaxis\": {\"gridcolor\": \"white\", \"linecolor\": \"white\", \"ticks\": \"\"}}, \"scene\": {\"xaxis\": {\"backgroundcolor\": \"#E5ECF6\", \"gridcolor\": \"white\", \"gridwidth\": 2, \"linecolor\": \"white\", \"showbackground\": true, \"ticks\": \"\", \"zerolinecolor\": \"white\"}, \"yaxis\": {\"backgroundcolor\": \"#E5ECF6\", \"gridcolor\": \"white\", \"gridwidth\": 2, \"linecolor\": \"white\", \"showbackground\": true, \"ticks\": \"\", \"zerolinecolor\": \"white\"}, \"zaxis\": {\"backgroundcolor\": \"#E5ECF6\", \"gridcolor\": \"white\", \"gridwidth\": 2, \"linecolor\": \"white\", \"showbackground\": true, \"ticks\": \"\", \"zerolinecolor\": \"white\"}}, \"shapedefaults\": {\"line\": {\"color\": \"#2a3f5f\"}}, \"ternary\": {\"aaxis\": {\"gridcolor\": \"white\", \"linecolor\": \"white\", \"ticks\": \"\"}, \"baxis\": {\"gridcolor\": \"white\", \"linecolor\": \"white\", \"ticks\": \"\"}, \"bgcolor\": \"#E5ECF6\", \"caxis\": {\"gridcolor\": \"white\", \"linecolor\": \"white\", \"ticks\": \"\"}}, \"title\": {\"x\": 0.05}, \"xaxis\": {\"automargin\": true, \"gridcolor\": \"white\", \"linecolor\": \"white\", \"ticks\": \"\", \"zerolinecolor\": \"white\", \"zerolinewidth\": 2}, \"yaxis\": {\"automargin\": true, \"gridcolor\": \"white\", \"linecolor\": \"white\", \"ticks\": \"\", \"zerolinecolor\": \"white\", \"zerolinewidth\": 2}}}, \"title\": {\"text\": \"Multiple\"}, \"xaxis\": {\"domain\": [0, 0.45]}, \"xaxis2\": {\"domain\": [0.55, 1]}, \"xaxis3\": {\"anchor\": \"y3\", \"domain\": [0, 0.45]}, \"xaxis4\": {\"anchor\": \"y4\", \"domain\": [0.55, 1]}, \"yaxis\": {\"domain\": [0, 0.45]}, \"yaxis2\": {\"anchor\": \"x2\", \"domain\": [0, 0.45]}, \"yaxis3\": {\"domain\": [0.55, 1]}, \"yaxis4\": {\"anchor\": \"x4\", \"domain\": [0.55, 1]}},\n",
       "                        {\"responsive\": true}\n",
       "                    ).then(function(){\n",
       "                            \n",
       "var gd = document.getElementById('72f0d29a-dcdc-48e4-bbb8-8b852cb1af2a');\n",
       "var x = new MutationObserver(function (mutations, observer) {{\n",
       "        var display = window.getComputedStyle(gd).display;\n",
       "        if (!display || display === 'none') {{\n",
       "            console.log([gd, 'removed!']);\n",
       "            Plotly.purge(gd);\n",
       "            observer.disconnect();\n",
       "        }}\n",
       "}});\n",
       "\n",
       "// Listen for the removal of the full notebook cells\n",
       "var notebookContainer = gd.closest('#notebook-container');\n",
       "if (notebookContainer) {{\n",
       "    x.observe(notebookContainer, {childList: true});\n",
       "}}\n",
       "\n",
       "// Listen for the clearing of the current output cell\n",
       "var outputEl = gd.closest('.output');\n",
       "if (outputEl) {{\n",
       "    x.observe(outputEl, {childList: true});\n",
       "}}\n",
       "\n",
       "                        })\n",
       "                };\n",
       "                });\n",
       "            </script>\n",
       "        </div>"
      ]
     },
     "metadata": {},
     "output_type": "display_data"
    }
   ],
   "source": [
    "#step 3 data visualization\n",
    "#graph 1 comparing citations,teaching,research and total score in same frame\n",
    "#We comparing citations,teaching,research and total score in same frame\n",
    "top_100 = data.iloc[:100,:]\n",
    "trace0 = go.Scatter(\n",
    "x = top_100.world_rank,\n",
    "y = top_100.quality_of_faculty,\n",
    "mode = \"lines\",\n",
    "name = \"teaching\",\n",
    "marker = dict(color = 'rgba(12, 12, 140,.4)'),\n",
    "text = top_100.institution\n",
    ")\n",
    "trace1 = go.Scatter(\n",
    "x = top_100.world_rank,\n",
    "y = top_100.citations,    \n",
    "mode =\"lines + markers\",\n",
    "name = \"citation\",\n",
    "marker = dict(color = \"rgba(155,98,160,.6)\"),\n",
    "xaxis = \"x2\",\n",
    "yaxis = \"y2\",\n",
    "text = top_100.institution\n",
    ")\n",
    "trace2 = go.Scatter(\n",
    "x = top_100.world_rank,\n",
    "y= top_100.score,\n",
    "mode = \"lines\",\n",
    "name = \"total\",\n",
    "marker = {\"color\":\"rgba(36,120,153,.4)\"},\n",
    "xaxis = \"x3\",\n",
    "yaxis = \"y3\",\n",
    "text = top_100.institution\n",
    ")\n",
    "trace3 = go.Scatter(\n",
    "x = top_100.world_rank,\n",
    "y = top_100.alumni_employment,\n",
    "mode = \"lines + markers\",\n",
    "name = \"placements\",\n",
    "marker = {\"color\":\"rgba(65,46,178,0.4)\"},\n",
    "xaxis = \"x4\",\n",
    "yaxis = \"y4\",\n",
    "text = top_100.institution\n",
    ")\n",
    "data9 = [trace0,trace1,trace2,trace3]\n",
    "layout = go.Layout(\n",
    "    xaxis=dict(\n",
    "        domain=[0, 0.45]\n",
    "    ),\n",
    "    yaxis=dict(\n",
    "        domain=[0, 0.45]\n",
    "    ),\n",
    "    xaxis2=dict(\n",
    "        domain=[0.55, 1]\n",
    "    ),\n",
    "    xaxis3=dict(\n",
    "        domain=[0, 0.45],\n",
    "        anchor='y3'\n",
    "    ),\n",
    "    xaxis4=dict(\n",
    "        domain=[0.55, 1],\n",
    "        anchor='y4'\n",
    "    ),\n",
    "    yaxis2=dict(\n",
    "        domain=[0, 0.45],\n",
    "        anchor='x2'\n",
    "    ),\n",
    "    yaxis3=dict(\n",
    "        domain=[0.55, 1]\n",
    "    ),\n",
    "    yaxis4=dict(\n",
    "        domain=[0.55, 1],\n",
    "        anchor='x4'\n",
    "    ),\n",
    "    title = \"Multiple\"\n",
    ")\n",
    "fig = go.Figure(data = data9,layout = layout)\n",
    "iplot(fig)"
   ]
  },
  {
   "cell_type": "code",
   "execution_count": 9,
   "metadata": {},
   "outputs": [
    {
     "data": {
      "application/vnd.plotly.v1+json": {
       "config": {
        "linkText": "Export to plot.ly",
        "plotlyServerURL": "https://plot.ly",
        "showLink": false
       },
       "data": [
        {
         "marker": {
          "color": "rgba(111,23,155,0.5)"
         },
         "name": "quality_of_education",
         "text": [
          "Harvard University",
          "Stanford University",
          "Massachusetts Institute of Technology",
          "University of Cambridge",
          "University of Oxford"
         ],
         "type": "bar",
         "x": [
          "Harvard University",
          "Stanford University",
          "Massachusetts Institute of Technology",
          "University of Cambridge",
          "University of Oxford"
         ],
         "y": [
          1,
          9,
          3,
          2,
          7
         ]
        },
        {
         "marker": {
          "color": "rgba(47,69,187)"
         },
         "name": "influence",
         "text": [
          "Harvard University",
          "Stanford University",
          "Massachusetts Institute of Technology",
          "University of Cambridge",
          "University of Oxford"
         ],
         "type": "bar",
         "x": [
          "Harvard University",
          "Stanford University",
          "Massachusetts Institute of Technology",
          "University of Cambridge",
          "University of Oxford"
         ],
         "y": [
          1,
          3,
          2,
          6,
          12
         ]
        }
       ],
       "layout": {
        "barmode": "group",
        "template": {
         "data": {
          "bar": [
           {
            "error_x": {
             "color": "#2a3f5f"
            },
            "error_y": {
             "color": "#2a3f5f"
            },
            "marker": {
             "line": {
              "color": "#E5ECF6",
              "width": 0.5
             }
            },
            "type": "bar"
           }
          ],
          "barpolar": [
           {
            "marker": {
             "line": {
              "color": "#E5ECF6",
              "width": 0.5
             }
            },
            "type": "barpolar"
           }
          ],
          "carpet": [
           {
            "aaxis": {
             "endlinecolor": "#2a3f5f",
             "gridcolor": "white",
             "linecolor": "white",
             "minorgridcolor": "white",
             "startlinecolor": "#2a3f5f"
            },
            "baxis": {
             "endlinecolor": "#2a3f5f",
             "gridcolor": "white",
             "linecolor": "white",
             "minorgridcolor": "white",
             "startlinecolor": "#2a3f5f"
            },
            "type": "carpet"
           }
          ],
          "choropleth": [
           {
            "colorbar": {
             "outlinewidth": 0,
             "ticks": ""
            },
            "type": "choropleth"
           }
          ],
          "contour": [
           {
            "colorbar": {
             "outlinewidth": 0,
             "ticks": ""
            },
            "colorscale": [
             [
              0,
              "#0d0887"
             ],
             [
              0.1111111111111111,
              "#46039f"
             ],
             [
              0.2222222222222222,
              "#7201a8"
             ],
             [
              0.3333333333333333,
              "#9c179e"
             ],
             [
              0.4444444444444444,
              "#bd3786"
             ],
             [
              0.5555555555555556,
              "#d8576b"
             ],
             [
              0.6666666666666666,
              "#ed7953"
             ],
             [
              0.7777777777777778,
              "#fb9f3a"
             ],
             [
              0.8888888888888888,
              "#fdca26"
             ],
             [
              1,
              "#f0f921"
             ]
            ],
            "type": "contour"
           }
          ],
          "contourcarpet": [
           {
            "colorbar": {
             "outlinewidth": 0,
             "ticks": ""
            },
            "type": "contourcarpet"
           }
          ],
          "heatmap": [
           {
            "colorbar": {
             "outlinewidth": 0,
             "ticks": ""
            },
            "colorscale": [
             [
              0,
              "#0d0887"
             ],
             [
              0.1111111111111111,
              "#46039f"
             ],
             [
              0.2222222222222222,
              "#7201a8"
             ],
             [
              0.3333333333333333,
              "#9c179e"
             ],
             [
              0.4444444444444444,
              "#bd3786"
             ],
             [
              0.5555555555555556,
              "#d8576b"
             ],
             [
              0.6666666666666666,
              "#ed7953"
             ],
             [
              0.7777777777777778,
              "#fb9f3a"
             ],
             [
              0.8888888888888888,
              "#fdca26"
             ],
             [
              1,
              "#f0f921"
             ]
            ],
            "type": "heatmap"
           }
          ],
          "heatmapgl": [
           {
            "colorbar": {
             "outlinewidth": 0,
             "ticks": ""
            },
            "colorscale": [
             [
              0,
              "#0d0887"
             ],
             [
              0.1111111111111111,
              "#46039f"
             ],
             [
              0.2222222222222222,
              "#7201a8"
             ],
             [
              0.3333333333333333,
              "#9c179e"
             ],
             [
              0.4444444444444444,
              "#bd3786"
             ],
             [
              0.5555555555555556,
              "#d8576b"
             ],
             [
              0.6666666666666666,
              "#ed7953"
             ],
             [
              0.7777777777777778,
              "#fb9f3a"
             ],
             [
              0.8888888888888888,
              "#fdca26"
             ],
             [
              1,
              "#f0f921"
             ]
            ],
            "type": "heatmapgl"
           }
          ],
          "histogram": [
           {
            "marker": {
             "colorbar": {
              "outlinewidth": 0,
              "ticks": ""
             }
            },
            "type": "histogram"
           }
          ],
          "histogram2d": [
           {
            "colorbar": {
             "outlinewidth": 0,
             "ticks": ""
            },
            "colorscale": [
             [
              0,
              "#0d0887"
             ],
             [
              0.1111111111111111,
              "#46039f"
             ],
             [
              0.2222222222222222,
              "#7201a8"
             ],
             [
              0.3333333333333333,
              "#9c179e"
             ],
             [
              0.4444444444444444,
              "#bd3786"
             ],
             [
              0.5555555555555556,
              "#d8576b"
             ],
             [
              0.6666666666666666,
              "#ed7953"
             ],
             [
              0.7777777777777778,
              "#fb9f3a"
             ],
             [
              0.8888888888888888,
              "#fdca26"
             ],
             [
              1,
              "#f0f921"
             ]
            ],
            "type": "histogram2d"
           }
          ],
          "histogram2dcontour": [
           {
            "colorbar": {
             "outlinewidth": 0,
             "ticks": ""
            },
            "colorscale": [
             [
              0,
              "#0d0887"
             ],
             [
              0.1111111111111111,
              "#46039f"
             ],
             [
              0.2222222222222222,
              "#7201a8"
             ],
             [
              0.3333333333333333,
              "#9c179e"
             ],
             [
              0.4444444444444444,
              "#bd3786"
             ],
             [
              0.5555555555555556,
              "#d8576b"
             ],
             [
              0.6666666666666666,
              "#ed7953"
             ],
             [
              0.7777777777777778,
              "#fb9f3a"
             ],
             [
              0.8888888888888888,
              "#fdca26"
             ],
             [
              1,
              "#f0f921"
             ]
            ],
            "type": "histogram2dcontour"
           }
          ],
          "mesh3d": [
           {
            "colorbar": {
             "outlinewidth": 0,
             "ticks": ""
            },
            "type": "mesh3d"
           }
          ],
          "parcoords": [
           {
            "line": {
             "colorbar": {
              "outlinewidth": 0,
              "ticks": ""
             }
            },
            "type": "parcoords"
           }
          ],
          "scatter": [
           {
            "marker": {
             "colorbar": {
              "outlinewidth": 0,
              "ticks": ""
             }
            },
            "type": "scatter"
           }
          ],
          "scatter3d": [
           {
            "line": {
             "colorbar": {
              "outlinewidth": 0,
              "ticks": ""
             }
            },
            "marker": {
             "colorbar": {
              "outlinewidth": 0,
              "ticks": ""
             }
            },
            "type": "scatter3d"
           }
          ],
          "scattercarpet": [
           {
            "marker": {
             "colorbar": {
              "outlinewidth": 0,
              "ticks": ""
             }
            },
            "type": "scattercarpet"
           }
          ],
          "scattergeo": [
           {
            "marker": {
             "colorbar": {
              "outlinewidth": 0,
              "ticks": ""
             }
            },
            "type": "scattergeo"
           }
          ],
          "scattergl": [
           {
            "marker": {
             "colorbar": {
              "outlinewidth": 0,
              "ticks": ""
             }
            },
            "type": "scattergl"
           }
          ],
          "scattermapbox": [
           {
            "marker": {
             "colorbar": {
              "outlinewidth": 0,
              "ticks": ""
             }
            },
            "type": "scattermapbox"
           }
          ],
          "scatterpolar": [
           {
            "marker": {
             "colorbar": {
              "outlinewidth": 0,
              "ticks": ""
             }
            },
            "type": "scatterpolar"
           }
          ],
          "scatterpolargl": [
           {
            "marker": {
             "colorbar": {
              "outlinewidth": 0,
              "ticks": ""
             }
            },
            "type": "scatterpolargl"
           }
          ],
          "scatterternary": [
           {
            "marker": {
             "colorbar": {
              "outlinewidth": 0,
              "ticks": ""
             }
            },
            "type": "scatterternary"
           }
          ],
          "surface": [
           {
            "colorbar": {
             "outlinewidth": 0,
             "ticks": ""
            },
            "colorscale": [
             [
              0,
              "#0d0887"
             ],
             [
              0.1111111111111111,
              "#46039f"
             ],
             [
              0.2222222222222222,
              "#7201a8"
             ],
             [
              0.3333333333333333,
              "#9c179e"
             ],
             [
              0.4444444444444444,
              "#bd3786"
             ],
             [
              0.5555555555555556,
              "#d8576b"
             ],
             [
              0.6666666666666666,
              "#ed7953"
             ],
             [
              0.7777777777777778,
              "#fb9f3a"
             ],
             [
              0.8888888888888888,
              "#fdca26"
             ],
             [
              1,
              "#f0f921"
             ]
            ],
            "type": "surface"
           }
          ],
          "table": [
           {
            "cells": {
             "fill": {
              "color": "#EBF0F8"
             },
             "line": {
              "color": "white"
             }
            },
            "header": {
             "fill": {
              "color": "#C8D4E3"
             },
             "line": {
              "color": "white"
             }
            },
            "type": "table"
           }
          ]
         },
         "layout": {
          "annotationdefaults": {
           "arrowcolor": "#2a3f5f",
           "arrowhead": 0,
           "arrowwidth": 1
          },
          "colorscale": {
           "diverging": [
            [
             0,
             "#8e0152"
            ],
            [
             0.1,
             "#c51b7d"
            ],
            [
             0.2,
             "#de77ae"
            ],
            [
             0.3,
             "#f1b6da"
            ],
            [
             0.4,
             "#fde0ef"
            ],
            [
             0.5,
             "#f7f7f7"
            ],
            [
             0.6,
             "#e6f5d0"
            ],
            [
             0.7,
             "#b8e186"
            ],
            [
             0.8,
             "#7fbc41"
            ],
            [
             0.9,
             "#4d9221"
            ],
            [
             1,
             "#276419"
            ]
           ],
           "sequential": [
            [
             0,
             "#0d0887"
            ],
            [
             0.1111111111111111,
             "#46039f"
            ],
            [
             0.2222222222222222,
             "#7201a8"
            ],
            [
             0.3333333333333333,
             "#9c179e"
            ],
            [
             0.4444444444444444,
             "#bd3786"
            ],
            [
             0.5555555555555556,
             "#d8576b"
            ],
            [
             0.6666666666666666,
             "#ed7953"
            ],
            [
             0.7777777777777778,
             "#fb9f3a"
            ],
            [
             0.8888888888888888,
             "#fdca26"
            ],
            [
             1,
             "#f0f921"
            ]
           ],
           "sequentialminus": [
            [
             0,
             "#0d0887"
            ],
            [
             0.1111111111111111,
             "#46039f"
            ],
            [
             0.2222222222222222,
             "#7201a8"
            ],
            [
             0.3333333333333333,
             "#9c179e"
            ],
            [
             0.4444444444444444,
             "#bd3786"
            ],
            [
             0.5555555555555556,
             "#d8576b"
            ],
            [
             0.6666666666666666,
             "#ed7953"
            ],
            [
             0.7777777777777778,
             "#fb9f3a"
            ],
            [
             0.8888888888888888,
             "#fdca26"
            ],
            [
             1,
             "#f0f921"
            ]
           ]
          },
          "colorway": [
           "#636efa",
           "#EF553B",
           "#00cc96",
           "#ab63fa",
           "#FFA15A",
           "#19d3f3",
           "#FF6692",
           "#B6E880",
           "#FF97FF",
           "#FECB52"
          ],
          "font": {
           "color": "#2a3f5f"
          },
          "geo": {
           "bgcolor": "white",
           "lakecolor": "white",
           "landcolor": "#E5ECF6",
           "showlakes": true,
           "showland": true,
           "subunitcolor": "white"
          },
          "hoverlabel": {
           "align": "left"
          },
          "hovermode": "closest",
          "mapbox": {
           "style": "light"
          },
          "paper_bgcolor": "white",
          "plot_bgcolor": "#E5ECF6",
          "polar": {
           "angularaxis": {
            "gridcolor": "white",
            "linecolor": "white",
            "ticks": ""
           },
           "bgcolor": "#E5ECF6",
           "radialaxis": {
            "gridcolor": "white",
            "linecolor": "white",
            "ticks": ""
           }
          },
          "scene": {
           "xaxis": {
            "backgroundcolor": "#E5ECF6",
            "gridcolor": "white",
            "gridwidth": 2,
            "linecolor": "white",
            "showbackground": true,
            "ticks": "",
            "zerolinecolor": "white"
           },
           "yaxis": {
            "backgroundcolor": "#E5ECF6",
            "gridcolor": "white",
            "gridwidth": 2,
            "linecolor": "white",
            "showbackground": true,
            "ticks": "",
            "zerolinecolor": "white"
           },
           "zaxis": {
            "backgroundcolor": "#E5ECF6",
            "gridcolor": "white",
            "gridwidth": 2,
            "linecolor": "white",
            "showbackground": true,
            "ticks": "",
            "zerolinecolor": "white"
           }
          },
          "shapedefaults": {
           "line": {
            "color": "#2a3f5f"
           }
          },
          "ternary": {
           "aaxis": {
            "gridcolor": "white",
            "linecolor": "white",
            "ticks": ""
           },
           "baxis": {
            "gridcolor": "white",
            "linecolor": "white",
            "ticks": ""
           },
           "bgcolor": "#E5ECF6",
           "caxis": {
            "gridcolor": "white",
            "linecolor": "white",
            "ticks": ""
           }
          },
          "title": {
           "x": 0.05
          },
          "xaxis": {
           "automargin": true,
           "gridcolor": "white",
           "linecolor": "white",
           "ticks": "",
           "zerolinecolor": "white",
           "zerolinewidth": 2
          },
          "yaxis": {
           "automargin": true,
           "gridcolor": "white",
           "linecolor": "white",
           "ticks": "",
           "zerolinecolor": "white",
           "zerolinewidth": 2
          }
         }
        }
       }
      },
      "text/html": [
       "<div>\n",
       "        \n",
       "        \n",
       "            <div id=\"0e026572-eb2b-4ae1-afa3-b4bb0f46b709\" class=\"plotly-graph-div\" style=\"height:525px; width:100%;\"></div>\n",
       "            <script type=\"text/javascript\">\n",
       "                require([\"plotly\"], function(Plotly) {\n",
       "                    window.PLOTLYENV=window.PLOTLYENV || {};\n",
       "                    \n",
       "                if (document.getElementById(\"0e026572-eb2b-4ae1-afa3-b4bb0f46b709\")) {\n",
       "                    Plotly.newPlot(\n",
       "                        '0e026572-eb2b-4ae1-afa3-b4bb0f46b709',\n",
       "                        [{\"marker\": {\"color\": \"rgba(111,23,155,0.5)\"}, \"name\": \"quality_of_education\", \"text\": [\"Harvard University\", \"Stanford University\", \"Massachusetts Institute of Technology\", \"University of Cambridge\", \"University of Oxford\"], \"type\": \"bar\", \"x\": [\"Harvard University\", \"Stanford University\", \"Massachusetts Institute of Technology\", \"University of Cambridge\", \"University of Oxford\"], \"y\": [1, 9, 3, 2, 7]}, {\"marker\": {\"color\": \"rgba(47,69,187)\"}, \"name\": \"influence\", \"text\": [\"Harvard University\", \"Stanford University\", \"Massachusetts Institute of Technology\", \"University of Cambridge\", \"University of Oxford\"], \"type\": \"bar\", \"x\": [\"Harvard University\", \"Stanford University\", \"Massachusetts Institute of Technology\", \"University of Cambridge\", \"University of Oxford\"], \"y\": [1, 3, 2, 6, 12]}],\n",
       "                        {\"barmode\": \"group\", \"template\": {\"data\": {\"bar\": [{\"error_x\": {\"color\": \"#2a3f5f\"}, \"error_y\": {\"color\": \"#2a3f5f\"}, \"marker\": {\"line\": {\"color\": \"#E5ECF6\", \"width\": 0.5}}, \"type\": \"bar\"}], \"barpolar\": [{\"marker\": {\"line\": {\"color\": \"#E5ECF6\", \"width\": 0.5}}, \"type\": \"barpolar\"}], \"carpet\": [{\"aaxis\": {\"endlinecolor\": \"#2a3f5f\", \"gridcolor\": \"white\", \"linecolor\": \"white\", \"minorgridcolor\": \"white\", \"startlinecolor\": \"#2a3f5f\"}, \"baxis\": {\"endlinecolor\": \"#2a3f5f\", \"gridcolor\": \"white\", \"linecolor\": \"white\", \"minorgridcolor\": \"white\", \"startlinecolor\": \"#2a3f5f\"}, \"type\": \"carpet\"}], \"choropleth\": [{\"colorbar\": {\"outlinewidth\": 0, \"ticks\": \"\"}, \"type\": \"choropleth\"}], \"contour\": [{\"colorbar\": {\"outlinewidth\": 0, \"ticks\": \"\"}, \"colorscale\": [[0.0, \"#0d0887\"], [0.1111111111111111, \"#46039f\"], [0.2222222222222222, \"#7201a8\"], [0.3333333333333333, \"#9c179e\"], [0.4444444444444444, \"#bd3786\"], [0.5555555555555556, \"#d8576b\"], [0.6666666666666666, \"#ed7953\"], [0.7777777777777778, \"#fb9f3a\"], [0.8888888888888888, \"#fdca26\"], [1.0, \"#f0f921\"]], \"type\": \"contour\"}], \"contourcarpet\": [{\"colorbar\": {\"outlinewidth\": 0, \"ticks\": \"\"}, \"type\": \"contourcarpet\"}], \"heatmap\": [{\"colorbar\": {\"outlinewidth\": 0, \"ticks\": \"\"}, \"colorscale\": [[0.0, \"#0d0887\"], [0.1111111111111111, \"#46039f\"], [0.2222222222222222, \"#7201a8\"], [0.3333333333333333, \"#9c179e\"], [0.4444444444444444, \"#bd3786\"], [0.5555555555555556, \"#d8576b\"], [0.6666666666666666, \"#ed7953\"], [0.7777777777777778, \"#fb9f3a\"], [0.8888888888888888, \"#fdca26\"], [1.0, \"#f0f921\"]], \"type\": \"heatmap\"}], \"heatmapgl\": [{\"colorbar\": {\"outlinewidth\": 0, \"ticks\": \"\"}, \"colorscale\": [[0.0, \"#0d0887\"], [0.1111111111111111, \"#46039f\"], [0.2222222222222222, \"#7201a8\"], [0.3333333333333333, \"#9c179e\"], [0.4444444444444444, \"#bd3786\"], [0.5555555555555556, \"#d8576b\"], [0.6666666666666666, \"#ed7953\"], [0.7777777777777778, \"#fb9f3a\"], [0.8888888888888888, \"#fdca26\"], [1.0, \"#f0f921\"]], \"type\": \"heatmapgl\"}], \"histogram\": [{\"marker\": {\"colorbar\": {\"outlinewidth\": 0, \"ticks\": \"\"}}, \"type\": \"histogram\"}], \"histogram2d\": [{\"colorbar\": {\"outlinewidth\": 0, \"ticks\": \"\"}, \"colorscale\": [[0.0, \"#0d0887\"], [0.1111111111111111, \"#46039f\"], [0.2222222222222222, \"#7201a8\"], [0.3333333333333333, \"#9c179e\"], [0.4444444444444444, \"#bd3786\"], [0.5555555555555556, \"#d8576b\"], [0.6666666666666666, \"#ed7953\"], [0.7777777777777778, \"#fb9f3a\"], [0.8888888888888888, \"#fdca26\"], [1.0, \"#f0f921\"]], \"type\": \"histogram2d\"}], \"histogram2dcontour\": [{\"colorbar\": {\"outlinewidth\": 0, \"ticks\": \"\"}, \"colorscale\": [[0.0, \"#0d0887\"], [0.1111111111111111, \"#46039f\"], [0.2222222222222222, \"#7201a8\"], [0.3333333333333333, \"#9c179e\"], [0.4444444444444444, \"#bd3786\"], [0.5555555555555556, \"#d8576b\"], [0.6666666666666666, \"#ed7953\"], [0.7777777777777778, \"#fb9f3a\"], [0.8888888888888888, \"#fdca26\"], [1.0, \"#f0f921\"]], \"type\": \"histogram2dcontour\"}], \"mesh3d\": [{\"colorbar\": {\"outlinewidth\": 0, \"ticks\": \"\"}, \"type\": \"mesh3d\"}], \"parcoords\": [{\"line\": {\"colorbar\": {\"outlinewidth\": 0, \"ticks\": \"\"}}, \"type\": \"parcoords\"}], \"scatter\": [{\"marker\": {\"colorbar\": {\"outlinewidth\": 0, \"ticks\": \"\"}}, \"type\": \"scatter\"}], \"scatter3d\": [{\"line\": {\"colorbar\": {\"outlinewidth\": 0, \"ticks\": \"\"}}, \"marker\": {\"colorbar\": {\"outlinewidth\": 0, \"ticks\": \"\"}}, \"type\": \"scatter3d\"}], \"scattercarpet\": [{\"marker\": {\"colorbar\": {\"outlinewidth\": 0, \"ticks\": \"\"}}, \"type\": \"scattercarpet\"}], \"scattergeo\": [{\"marker\": {\"colorbar\": {\"outlinewidth\": 0, \"ticks\": \"\"}}, \"type\": \"scattergeo\"}], \"scattergl\": [{\"marker\": {\"colorbar\": {\"outlinewidth\": 0, \"ticks\": \"\"}}, \"type\": \"scattergl\"}], \"scattermapbox\": [{\"marker\": {\"colorbar\": {\"outlinewidth\": 0, \"ticks\": \"\"}}, \"type\": \"scattermapbox\"}], \"scatterpolar\": [{\"marker\": {\"colorbar\": {\"outlinewidth\": 0, \"ticks\": \"\"}}, \"type\": \"scatterpolar\"}], \"scatterpolargl\": [{\"marker\": {\"colorbar\": {\"outlinewidth\": 0, \"ticks\": \"\"}}, \"type\": \"scatterpolargl\"}], \"scatterternary\": [{\"marker\": {\"colorbar\": {\"outlinewidth\": 0, \"ticks\": \"\"}}, \"type\": \"scatterternary\"}], \"surface\": [{\"colorbar\": {\"outlinewidth\": 0, \"ticks\": \"\"}, \"colorscale\": [[0.0, \"#0d0887\"], [0.1111111111111111, \"#46039f\"], [0.2222222222222222, \"#7201a8\"], [0.3333333333333333, \"#9c179e\"], [0.4444444444444444, \"#bd3786\"], [0.5555555555555556, \"#d8576b\"], [0.6666666666666666, \"#ed7953\"], [0.7777777777777778, \"#fb9f3a\"], [0.8888888888888888, \"#fdca26\"], [1.0, \"#f0f921\"]], \"type\": \"surface\"}], \"table\": [{\"cells\": {\"fill\": {\"color\": \"#EBF0F8\"}, \"line\": {\"color\": \"white\"}}, \"header\": {\"fill\": {\"color\": \"#C8D4E3\"}, \"line\": {\"color\": \"white\"}}, \"type\": \"table\"}]}, \"layout\": {\"annotationdefaults\": {\"arrowcolor\": \"#2a3f5f\", \"arrowhead\": 0, \"arrowwidth\": 1}, \"colorscale\": {\"diverging\": [[0, \"#8e0152\"], [0.1, \"#c51b7d\"], [0.2, \"#de77ae\"], [0.3, \"#f1b6da\"], [0.4, \"#fde0ef\"], [0.5, \"#f7f7f7\"], [0.6, \"#e6f5d0\"], [0.7, \"#b8e186\"], [0.8, \"#7fbc41\"], [0.9, \"#4d9221\"], [1, \"#276419\"]], \"sequential\": [[0.0, \"#0d0887\"], [0.1111111111111111, \"#46039f\"], [0.2222222222222222, \"#7201a8\"], [0.3333333333333333, \"#9c179e\"], [0.4444444444444444, \"#bd3786\"], [0.5555555555555556, \"#d8576b\"], [0.6666666666666666, \"#ed7953\"], [0.7777777777777778, \"#fb9f3a\"], [0.8888888888888888, \"#fdca26\"], [1.0, \"#f0f921\"]], \"sequentialminus\": [[0.0, \"#0d0887\"], [0.1111111111111111, \"#46039f\"], [0.2222222222222222, \"#7201a8\"], [0.3333333333333333, \"#9c179e\"], [0.4444444444444444, \"#bd3786\"], [0.5555555555555556, \"#d8576b\"], [0.6666666666666666, \"#ed7953\"], [0.7777777777777778, \"#fb9f3a\"], [0.8888888888888888, \"#fdca26\"], [1.0, \"#f0f921\"]]}, \"colorway\": [\"#636efa\", \"#EF553B\", \"#00cc96\", \"#ab63fa\", \"#FFA15A\", \"#19d3f3\", \"#FF6692\", \"#B6E880\", \"#FF97FF\", \"#FECB52\"], \"font\": {\"color\": \"#2a3f5f\"}, \"geo\": {\"bgcolor\": \"white\", \"lakecolor\": \"white\", \"landcolor\": \"#E5ECF6\", \"showlakes\": true, \"showland\": true, \"subunitcolor\": \"white\"}, \"hoverlabel\": {\"align\": \"left\"}, \"hovermode\": \"closest\", \"mapbox\": {\"style\": \"light\"}, \"paper_bgcolor\": \"white\", \"plot_bgcolor\": \"#E5ECF6\", \"polar\": {\"angularaxis\": {\"gridcolor\": \"white\", \"linecolor\": \"white\", \"ticks\": \"\"}, \"bgcolor\": \"#E5ECF6\", \"radialaxis\": {\"gridcolor\": \"white\", \"linecolor\": \"white\", \"ticks\": \"\"}}, \"scene\": {\"xaxis\": {\"backgroundcolor\": \"#E5ECF6\", \"gridcolor\": \"white\", \"gridwidth\": 2, \"linecolor\": \"white\", \"showbackground\": true, \"ticks\": \"\", \"zerolinecolor\": \"white\"}, \"yaxis\": {\"backgroundcolor\": \"#E5ECF6\", \"gridcolor\": \"white\", \"gridwidth\": 2, \"linecolor\": \"white\", \"showbackground\": true, \"ticks\": \"\", \"zerolinecolor\": \"white\"}, \"zaxis\": {\"backgroundcolor\": \"#E5ECF6\", \"gridcolor\": \"white\", \"gridwidth\": 2, \"linecolor\": \"white\", \"showbackground\": true, \"ticks\": \"\", \"zerolinecolor\": \"white\"}}, \"shapedefaults\": {\"line\": {\"color\": \"#2a3f5f\"}}, \"ternary\": {\"aaxis\": {\"gridcolor\": \"white\", \"linecolor\": \"white\", \"ticks\": \"\"}, \"baxis\": {\"gridcolor\": \"white\", \"linecolor\": \"white\", \"ticks\": \"\"}, \"bgcolor\": \"#E5ECF6\", \"caxis\": {\"gridcolor\": \"white\", \"linecolor\": \"white\", \"ticks\": \"\"}}, \"title\": {\"x\": 0.05}, \"xaxis\": {\"automargin\": true, \"gridcolor\": \"white\", \"linecolor\": \"white\", \"ticks\": \"\", \"zerolinecolor\": \"white\", \"zerolinewidth\": 2}, \"yaxis\": {\"automargin\": true, \"gridcolor\": \"white\", \"linecolor\": \"white\", \"ticks\": \"\", \"zerolinecolor\": \"white\", \"zerolinewidth\": 2}}}},\n",
       "                        {\"responsive\": true}\n",
       "                    ).then(function(){\n",
       "                            \n",
       "var gd = document.getElementById('0e026572-eb2b-4ae1-afa3-b4bb0f46b709');\n",
       "var x = new MutationObserver(function (mutations, observer) {{\n",
       "        var display = window.getComputedStyle(gd).display;\n",
       "        if (!display || display === 'none') {{\n",
       "            console.log([gd, 'removed!']);\n",
       "            Plotly.purge(gd);\n",
       "            observer.disconnect();\n",
       "        }}\n",
       "}});\n",
       "\n",
       "// Listen for the removal of the full notebook cells\n",
       "var notebookContainer = gd.closest('#notebook-container');\n",
       "if (notebookContainer) {{\n",
       "    x.observe(notebookContainer, {childList: true});\n",
       "}}\n",
       "\n",
       "// Listen for the clearing of the current output cell\n",
       "var outputEl = gd.closest('.output');\n",
       "if (outputEl) {{\n",
       "    x.observe(outputEl, {childList: true});\n",
       "}}\n",
       "\n",
       "                        })\n",
       "                };\n",
       "                });\n",
       "            </script>\n",
       "        </div>"
      ]
     },
     "metadata": {},
     "output_type": "display_data"
    }
   ],
   "source": [
    "#graph2 \n",
    "#seeing if for the top 5 univerisites in 2015 if the quality of eduaction or the influence plays more importance\n",
    "#We draw bar plot for showing influence and teaching top 5 universities\n",
    "x2015 = data[data.year == 2015].iloc[:5,:]\n",
    "trace1 = go.Bar(\n",
    "x = x2015.institution,\n",
    "y = x2015.quality_of_education,\n",
    "name=\"quality_of_education\",\n",
    "marker = {\"color\":\"rgba(111,23,155,0.5)\"},\n",
    "text=x2015.institution\n",
    ")\n",
    "trace2 = go.Bar(\n",
    "x = x2015.institution,\n",
    "y = x2015.influence,\n",
    "name=\"influence\",\n",
    "marker = {\"color\":\"rgba(47,69,187)\"},\n",
    "text = x2015.institution\n",
    ")\n",
    "data3 = [trace1,trace2]\n",
    "layout = go.Layout(barmode = \"group\")\n",
    "fig = go.Figure(data = data3, layout = layout)\n",
    "iplot(fig)"
   ]
  },
  {
   "cell_type": "code",
   "execution_count": 10,
   "metadata": {},
   "outputs": [
    {
     "data": {
      "application/vnd.plotly.v1+json": {
       "config": {
        "linkText": "Export to plot.ly",
        "plotlyServerURL": "https://plot.ly",
        "showLink": false
       },
       "data": [
        {
         "marker": {
          "color": "rgba(111,23,155,0.5)"
         },
         "name": "quality_of_education",
         "text": [
          "Harvard University",
          "Massachusetts Institute of Technology",
          "Stanford University",
          "University of Cambridge",
          "California Institute of Technology"
         ],
         "type": "bar",
         "x": [
          "Harvard University",
          "Massachusetts Institute of Technology",
          "Stanford University",
          "University of Cambridge",
          "California Institute of Technology"
         ],
         "y": [
          7,
          9,
          17,
          10,
          2
         ]
        },
        {
         "marker": {
          "color": "rgba(47,69,187)"
         },
         "name": "influence",
         "text": [
          "Harvard University",
          "Massachusetts Institute of Technology",
          "Stanford University",
          "University of Cambridge",
          "California Institute of Technology"
         ],
         "type": "bar",
         "x": [
          "Harvard University",
          "Massachusetts Institute of Technology",
          "Stanford University",
          "University of Cambridge",
          "California Institute of Technology"
         ],
         "y": [
          1,
          4,
          2,
          16,
          22
         ]
        }
       ],
       "layout": {
        "barmode": "group",
        "template": {
         "data": {
          "bar": [
           {
            "error_x": {
             "color": "#2a3f5f"
            },
            "error_y": {
             "color": "#2a3f5f"
            },
            "marker": {
             "line": {
              "color": "#E5ECF6",
              "width": 0.5
             }
            },
            "type": "bar"
           }
          ],
          "barpolar": [
           {
            "marker": {
             "line": {
              "color": "#E5ECF6",
              "width": 0.5
             }
            },
            "type": "barpolar"
           }
          ],
          "carpet": [
           {
            "aaxis": {
             "endlinecolor": "#2a3f5f",
             "gridcolor": "white",
             "linecolor": "white",
             "minorgridcolor": "white",
             "startlinecolor": "#2a3f5f"
            },
            "baxis": {
             "endlinecolor": "#2a3f5f",
             "gridcolor": "white",
             "linecolor": "white",
             "minorgridcolor": "white",
             "startlinecolor": "#2a3f5f"
            },
            "type": "carpet"
           }
          ],
          "choropleth": [
           {
            "colorbar": {
             "outlinewidth": 0,
             "ticks": ""
            },
            "type": "choropleth"
           }
          ],
          "contour": [
           {
            "colorbar": {
             "outlinewidth": 0,
             "ticks": ""
            },
            "colorscale": [
             [
              0,
              "#0d0887"
             ],
             [
              0.1111111111111111,
              "#46039f"
             ],
             [
              0.2222222222222222,
              "#7201a8"
             ],
             [
              0.3333333333333333,
              "#9c179e"
             ],
             [
              0.4444444444444444,
              "#bd3786"
             ],
             [
              0.5555555555555556,
              "#d8576b"
             ],
             [
              0.6666666666666666,
              "#ed7953"
             ],
             [
              0.7777777777777778,
              "#fb9f3a"
             ],
             [
              0.8888888888888888,
              "#fdca26"
             ],
             [
              1,
              "#f0f921"
             ]
            ],
            "type": "contour"
           }
          ],
          "contourcarpet": [
           {
            "colorbar": {
             "outlinewidth": 0,
             "ticks": ""
            },
            "type": "contourcarpet"
           }
          ],
          "heatmap": [
           {
            "colorbar": {
             "outlinewidth": 0,
             "ticks": ""
            },
            "colorscale": [
             [
              0,
              "#0d0887"
             ],
             [
              0.1111111111111111,
              "#46039f"
             ],
             [
              0.2222222222222222,
              "#7201a8"
             ],
             [
              0.3333333333333333,
              "#9c179e"
             ],
             [
              0.4444444444444444,
              "#bd3786"
             ],
             [
              0.5555555555555556,
              "#d8576b"
             ],
             [
              0.6666666666666666,
              "#ed7953"
             ],
             [
              0.7777777777777778,
              "#fb9f3a"
             ],
             [
              0.8888888888888888,
              "#fdca26"
             ],
             [
              1,
              "#f0f921"
             ]
            ],
            "type": "heatmap"
           }
          ],
          "heatmapgl": [
           {
            "colorbar": {
             "outlinewidth": 0,
             "ticks": ""
            },
            "colorscale": [
             [
              0,
              "#0d0887"
             ],
             [
              0.1111111111111111,
              "#46039f"
             ],
             [
              0.2222222222222222,
              "#7201a8"
             ],
             [
              0.3333333333333333,
              "#9c179e"
             ],
             [
              0.4444444444444444,
              "#bd3786"
             ],
             [
              0.5555555555555556,
              "#d8576b"
             ],
             [
              0.6666666666666666,
              "#ed7953"
             ],
             [
              0.7777777777777778,
              "#fb9f3a"
             ],
             [
              0.8888888888888888,
              "#fdca26"
             ],
             [
              1,
              "#f0f921"
             ]
            ],
            "type": "heatmapgl"
           }
          ],
          "histogram": [
           {
            "marker": {
             "colorbar": {
              "outlinewidth": 0,
              "ticks": ""
             }
            },
            "type": "histogram"
           }
          ],
          "histogram2d": [
           {
            "colorbar": {
             "outlinewidth": 0,
             "ticks": ""
            },
            "colorscale": [
             [
              0,
              "#0d0887"
             ],
             [
              0.1111111111111111,
              "#46039f"
             ],
             [
              0.2222222222222222,
              "#7201a8"
             ],
             [
              0.3333333333333333,
              "#9c179e"
             ],
             [
              0.4444444444444444,
              "#bd3786"
             ],
             [
              0.5555555555555556,
              "#d8576b"
             ],
             [
              0.6666666666666666,
              "#ed7953"
             ],
             [
              0.7777777777777778,
              "#fb9f3a"
             ],
             [
              0.8888888888888888,
              "#fdca26"
             ],
             [
              1,
              "#f0f921"
             ]
            ],
            "type": "histogram2d"
           }
          ],
          "histogram2dcontour": [
           {
            "colorbar": {
             "outlinewidth": 0,
             "ticks": ""
            },
            "colorscale": [
             [
              0,
              "#0d0887"
             ],
             [
              0.1111111111111111,
              "#46039f"
             ],
             [
              0.2222222222222222,
              "#7201a8"
             ],
             [
              0.3333333333333333,
              "#9c179e"
             ],
             [
              0.4444444444444444,
              "#bd3786"
             ],
             [
              0.5555555555555556,
              "#d8576b"
             ],
             [
              0.6666666666666666,
              "#ed7953"
             ],
             [
              0.7777777777777778,
              "#fb9f3a"
             ],
             [
              0.8888888888888888,
              "#fdca26"
             ],
             [
              1,
              "#f0f921"
             ]
            ],
            "type": "histogram2dcontour"
           }
          ],
          "mesh3d": [
           {
            "colorbar": {
             "outlinewidth": 0,
             "ticks": ""
            },
            "type": "mesh3d"
           }
          ],
          "parcoords": [
           {
            "line": {
             "colorbar": {
              "outlinewidth": 0,
              "ticks": ""
             }
            },
            "type": "parcoords"
           }
          ],
          "scatter": [
           {
            "marker": {
             "colorbar": {
              "outlinewidth": 0,
              "ticks": ""
             }
            },
            "type": "scatter"
           }
          ],
          "scatter3d": [
           {
            "line": {
             "colorbar": {
              "outlinewidth": 0,
              "ticks": ""
             }
            },
            "marker": {
             "colorbar": {
              "outlinewidth": 0,
              "ticks": ""
             }
            },
            "type": "scatter3d"
           }
          ],
          "scattercarpet": [
           {
            "marker": {
             "colorbar": {
              "outlinewidth": 0,
              "ticks": ""
             }
            },
            "type": "scattercarpet"
           }
          ],
          "scattergeo": [
           {
            "marker": {
             "colorbar": {
              "outlinewidth": 0,
              "ticks": ""
             }
            },
            "type": "scattergeo"
           }
          ],
          "scattergl": [
           {
            "marker": {
             "colorbar": {
              "outlinewidth": 0,
              "ticks": ""
             }
            },
            "type": "scattergl"
           }
          ],
          "scattermapbox": [
           {
            "marker": {
             "colorbar": {
              "outlinewidth": 0,
              "ticks": ""
             }
            },
            "type": "scattermapbox"
           }
          ],
          "scatterpolar": [
           {
            "marker": {
             "colorbar": {
              "outlinewidth": 0,
              "ticks": ""
             }
            },
            "type": "scatterpolar"
           }
          ],
          "scatterpolargl": [
           {
            "marker": {
             "colorbar": {
              "outlinewidth": 0,
              "ticks": ""
             }
            },
            "type": "scatterpolargl"
           }
          ],
          "scatterternary": [
           {
            "marker": {
             "colorbar": {
              "outlinewidth": 0,
              "ticks": ""
             }
            },
            "type": "scatterternary"
           }
          ],
          "surface": [
           {
            "colorbar": {
             "outlinewidth": 0,
             "ticks": ""
            },
            "colorscale": [
             [
              0,
              "#0d0887"
             ],
             [
              0.1111111111111111,
              "#46039f"
             ],
             [
              0.2222222222222222,
              "#7201a8"
             ],
             [
              0.3333333333333333,
              "#9c179e"
             ],
             [
              0.4444444444444444,
              "#bd3786"
             ],
             [
              0.5555555555555556,
              "#d8576b"
             ],
             [
              0.6666666666666666,
              "#ed7953"
             ],
             [
              0.7777777777777778,
              "#fb9f3a"
             ],
             [
              0.8888888888888888,
              "#fdca26"
             ],
             [
              1,
              "#f0f921"
             ]
            ],
            "type": "surface"
           }
          ],
          "table": [
           {
            "cells": {
             "fill": {
              "color": "#EBF0F8"
             },
             "line": {
              "color": "white"
             }
            },
            "header": {
             "fill": {
              "color": "#C8D4E3"
             },
             "line": {
              "color": "white"
             }
            },
            "type": "table"
           }
          ]
         },
         "layout": {
          "annotationdefaults": {
           "arrowcolor": "#2a3f5f",
           "arrowhead": 0,
           "arrowwidth": 1
          },
          "colorscale": {
           "diverging": [
            [
             0,
             "#8e0152"
            ],
            [
             0.1,
             "#c51b7d"
            ],
            [
             0.2,
             "#de77ae"
            ],
            [
             0.3,
             "#f1b6da"
            ],
            [
             0.4,
             "#fde0ef"
            ],
            [
             0.5,
             "#f7f7f7"
            ],
            [
             0.6,
             "#e6f5d0"
            ],
            [
             0.7,
             "#b8e186"
            ],
            [
             0.8,
             "#7fbc41"
            ],
            [
             0.9,
             "#4d9221"
            ],
            [
             1,
             "#276419"
            ]
           ],
           "sequential": [
            [
             0,
             "#0d0887"
            ],
            [
             0.1111111111111111,
             "#46039f"
            ],
            [
             0.2222222222222222,
             "#7201a8"
            ],
            [
             0.3333333333333333,
             "#9c179e"
            ],
            [
             0.4444444444444444,
             "#bd3786"
            ],
            [
             0.5555555555555556,
             "#d8576b"
            ],
            [
             0.6666666666666666,
             "#ed7953"
            ],
            [
             0.7777777777777778,
             "#fb9f3a"
            ],
            [
             0.8888888888888888,
             "#fdca26"
            ],
            [
             1,
             "#f0f921"
            ]
           ],
           "sequentialminus": [
            [
             0,
             "#0d0887"
            ],
            [
             0.1111111111111111,
             "#46039f"
            ],
            [
             0.2222222222222222,
             "#7201a8"
            ],
            [
             0.3333333333333333,
             "#9c179e"
            ],
            [
             0.4444444444444444,
             "#bd3786"
            ],
            [
             0.5555555555555556,
             "#d8576b"
            ],
            [
             0.6666666666666666,
             "#ed7953"
            ],
            [
             0.7777777777777778,
             "#fb9f3a"
            ],
            [
             0.8888888888888888,
             "#fdca26"
            ],
            [
             1,
             "#f0f921"
            ]
           ]
          },
          "colorway": [
           "#636efa",
           "#EF553B",
           "#00cc96",
           "#ab63fa",
           "#FFA15A",
           "#19d3f3",
           "#FF6692",
           "#B6E880",
           "#FF97FF",
           "#FECB52"
          ],
          "font": {
           "color": "#2a3f5f"
          },
          "geo": {
           "bgcolor": "white",
           "lakecolor": "white",
           "landcolor": "#E5ECF6",
           "showlakes": true,
           "showland": true,
           "subunitcolor": "white"
          },
          "hoverlabel": {
           "align": "left"
          },
          "hovermode": "closest",
          "mapbox": {
           "style": "light"
          },
          "paper_bgcolor": "white",
          "plot_bgcolor": "#E5ECF6",
          "polar": {
           "angularaxis": {
            "gridcolor": "white",
            "linecolor": "white",
            "ticks": ""
           },
           "bgcolor": "#E5ECF6",
           "radialaxis": {
            "gridcolor": "white",
            "linecolor": "white",
            "ticks": ""
           }
          },
          "scene": {
           "xaxis": {
            "backgroundcolor": "#E5ECF6",
            "gridcolor": "white",
            "gridwidth": 2,
            "linecolor": "white",
            "showbackground": true,
            "ticks": "",
            "zerolinecolor": "white"
           },
           "yaxis": {
            "backgroundcolor": "#E5ECF6",
            "gridcolor": "white",
            "gridwidth": 2,
            "linecolor": "white",
            "showbackground": true,
            "ticks": "",
            "zerolinecolor": "white"
           },
           "zaxis": {
            "backgroundcolor": "#E5ECF6",
            "gridcolor": "white",
            "gridwidth": 2,
            "linecolor": "white",
            "showbackground": true,
            "ticks": "",
            "zerolinecolor": "white"
           }
          },
          "shapedefaults": {
           "line": {
            "color": "#2a3f5f"
           }
          },
          "ternary": {
           "aaxis": {
            "gridcolor": "white",
            "linecolor": "white",
            "ticks": ""
           },
           "baxis": {
            "gridcolor": "white",
            "linecolor": "white",
            "ticks": ""
           },
           "bgcolor": "#E5ECF6",
           "caxis": {
            "gridcolor": "white",
            "linecolor": "white",
            "ticks": ""
           }
          },
          "title": {
           "x": 0.05
          },
          "xaxis": {
           "automargin": true,
           "gridcolor": "white",
           "linecolor": "white",
           "ticks": "",
           "zerolinecolor": "white",
           "zerolinewidth": 2
          },
          "yaxis": {
           "automargin": true,
           "gridcolor": "white",
           "linecolor": "white",
           "ticks": "",
           "zerolinecolor": "white",
           "zerolinewidth": 2
          }
         }
        }
       }
      },
      "text/html": [
       "<div>\n",
       "        \n",
       "        \n",
       "            <div id=\"a54293ec-7a21-4671-a685-c5cdc3bc79e6\" class=\"plotly-graph-div\" style=\"height:525px; width:100%;\"></div>\n",
       "            <script type=\"text/javascript\">\n",
       "                require([\"plotly\"], function(Plotly) {\n",
       "                    window.PLOTLYENV=window.PLOTLYENV || {};\n",
       "                    \n",
       "                if (document.getElementById(\"a54293ec-7a21-4671-a685-c5cdc3bc79e6\")) {\n",
       "                    Plotly.newPlot(\n",
       "                        'a54293ec-7a21-4671-a685-c5cdc3bc79e6',\n",
       "                        [{\"marker\": {\"color\": \"rgba(111,23,155,0.5)\"}, \"name\": \"quality_of_education\", \"text\": [\"Harvard University\", \"Massachusetts Institute of Technology\", \"Stanford University\", \"University of Cambridge\", \"California Institute of Technology\"], \"type\": \"bar\", \"x\": [\"Harvard University\", \"Massachusetts Institute of Technology\", \"Stanford University\", \"University of Cambridge\", \"California Institute of Technology\"], \"y\": [7, 9, 17, 10, 2]}, {\"marker\": {\"color\": \"rgba(47,69,187)\"}, \"name\": \"influence\", \"text\": [\"Harvard University\", \"Massachusetts Institute of Technology\", \"Stanford University\", \"University of Cambridge\", \"California Institute of Technology\"], \"type\": \"bar\", \"x\": [\"Harvard University\", \"Massachusetts Institute of Technology\", \"Stanford University\", \"University of Cambridge\", \"California Institute of Technology\"], \"y\": [1, 4, 2, 16, 22]}],\n",
       "                        {\"barmode\": \"group\", \"template\": {\"data\": {\"bar\": [{\"error_x\": {\"color\": \"#2a3f5f\"}, \"error_y\": {\"color\": \"#2a3f5f\"}, \"marker\": {\"line\": {\"color\": \"#E5ECF6\", \"width\": 0.5}}, \"type\": \"bar\"}], \"barpolar\": [{\"marker\": {\"line\": {\"color\": \"#E5ECF6\", \"width\": 0.5}}, \"type\": \"barpolar\"}], \"carpet\": [{\"aaxis\": {\"endlinecolor\": \"#2a3f5f\", \"gridcolor\": \"white\", \"linecolor\": \"white\", \"minorgridcolor\": \"white\", \"startlinecolor\": \"#2a3f5f\"}, \"baxis\": {\"endlinecolor\": \"#2a3f5f\", \"gridcolor\": \"white\", \"linecolor\": \"white\", \"minorgridcolor\": \"white\", \"startlinecolor\": \"#2a3f5f\"}, \"type\": \"carpet\"}], \"choropleth\": [{\"colorbar\": {\"outlinewidth\": 0, \"ticks\": \"\"}, \"type\": \"choropleth\"}], \"contour\": [{\"colorbar\": {\"outlinewidth\": 0, \"ticks\": \"\"}, \"colorscale\": [[0.0, \"#0d0887\"], [0.1111111111111111, \"#46039f\"], [0.2222222222222222, \"#7201a8\"], [0.3333333333333333, \"#9c179e\"], [0.4444444444444444, \"#bd3786\"], [0.5555555555555556, \"#d8576b\"], [0.6666666666666666, \"#ed7953\"], [0.7777777777777778, \"#fb9f3a\"], [0.8888888888888888, \"#fdca26\"], [1.0, \"#f0f921\"]], \"type\": \"contour\"}], \"contourcarpet\": [{\"colorbar\": {\"outlinewidth\": 0, \"ticks\": \"\"}, \"type\": \"contourcarpet\"}], \"heatmap\": [{\"colorbar\": {\"outlinewidth\": 0, \"ticks\": \"\"}, \"colorscale\": [[0.0, \"#0d0887\"], [0.1111111111111111, \"#46039f\"], [0.2222222222222222, \"#7201a8\"], [0.3333333333333333, \"#9c179e\"], [0.4444444444444444, \"#bd3786\"], [0.5555555555555556, \"#d8576b\"], [0.6666666666666666, \"#ed7953\"], [0.7777777777777778, \"#fb9f3a\"], [0.8888888888888888, \"#fdca26\"], [1.0, \"#f0f921\"]], \"type\": \"heatmap\"}], \"heatmapgl\": [{\"colorbar\": {\"outlinewidth\": 0, \"ticks\": \"\"}, \"colorscale\": [[0.0, \"#0d0887\"], [0.1111111111111111, \"#46039f\"], [0.2222222222222222, \"#7201a8\"], [0.3333333333333333, \"#9c179e\"], [0.4444444444444444, \"#bd3786\"], [0.5555555555555556, \"#d8576b\"], [0.6666666666666666, \"#ed7953\"], [0.7777777777777778, \"#fb9f3a\"], [0.8888888888888888, \"#fdca26\"], [1.0, \"#f0f921\"]], \"type\": \"heatmapgl\"}], \"histogram\": [{\"marker\": {\"colorbar\": {\"outlinewidth\": 0, \"ticks\": \"\"}}, \"type\": \"histogram\"}], \"histogram2d\": [{\"colorbar\": {\"outlinewidth\": 0, \"ticks\": \"\"}, \"colorscale\": [[0.0, \"#0d0887\"], [0.1111111111111111, \"#46039f\"], [0.2222222222222222, \"#7201a8\"], [0.3333333333333333, \"#9c179e\"], [0.4444444444444444, \"#bd3786\"], [0.5555555555555556, \"#d8576b\"], [0.6666666666666666, \"#ed7953\"], [0.7777777777777778, \"#fb9f3a\"], [0.8888888888888888, \"#fdca26\"], [1.0, \"#f0f921\"]], \"type\": \"histogram2d\"}], \"histogram2dcontour\": [{\"colorbar\": {\"outlinewidth\": 0, \"ticks\": \"\"}, \"colorscale\": [[0.0, \"#0d0887\"], [0.1111111111111111, \"#46039f\"], [0.2222222222222222, \"#7201a8\"], [0.3333333333333333, \"#9c179e\"], [0.4444444444444444, \"#bd3786\"], [0.5555555555555556, \"#d8576b\"], [0.6666666666666666, \"#ed7953\"], [0.7777777777777778, \"#fb9f3a\"], [0.8888888888888888, \"#fdca26\"], [1.0, \"#f0f921\"]], \"type\": \"histogram2dcontour\"}], \"mesh3d\": [{\"colorbar\": {\"outlinewidth\": 0, \"ticks\": \"\"}, \"type\": \"mesh3d\"}], \"parcoords\": [{\"line\": {\"colorbar\": {\"outlinewidth\": 0, \"ticks\": \"\"}}, \"type\": \"parcoords\"}], \"scatter\": [{\"marker\": {\"colorbar\": {\"outlinewidth\": 0, \"ticks\": \"\"}}, \"type\": \"scatter\"}], \"scatter3d\": [{\"line\": {\"colorbar\": {\"outlinewidth\": 0, \"ticks\": \"\"}}, \"marker\": {\"colorbar\": {\"outlinewidth\": 0, \"ticks\": \"\"}}, \"type\": \"scatter3d\"}], \"scattercarpet\": [{\"marker\": {\"colorbar\": {\"outlinewidth\": 0, \"ticks\": \"\"}}, \"type\": \"scattercarpet\"}], \"scattergeo\": [{\"marker\": {\"colorbar\": {\"outlinewidth\": 0, \"ticks\": \"\"}}, \"type\": \"scattergeo\"}], \"scattergl\": [{\"marker\": {\"colorbar\": {\"outlinewidth\": 0, \"ticks\": \"\"}}, \"type\": \"scattergl\"}], \"scattermapbox\": [{\"marker\": {\"colorbar\": {\"outlinewidth\": 0, \"ticks\": \"\"}}, \"type\": \"scattermapbox\"}], \"scatterpolar\": [{\"marker\": {\"colorbar\": {\"outlinewidth\": 0, \"ticks\": \"\"}}, \"type\": \"scatterpolar\"}], \"scatterpolargl\": [{\"marker\": {\"colorbar\": {\"outlinewidth\": 0, \"ticks\": \"\"}}, \"type\": \"scatterpolargl\"}], \"scatterternary\": [{\"marker\": {\"colorbar\": {\"outlinewidth\": 0, \"ticks\": \"\"}}, \"type\": \"scatterternary\"}], \"surface\": [{\"colorbar\": {\"outlinewidth\": 0, \"ticks\": \"\"}, \"colorscale\": [[0.0, \"#0d0887\"], [0.1111111111111111, \"#46039f\"], [0.2222222222222222, \"#7201a8\"], [0.3333333333333333, \"#9c179e\"], [0.4444444444444444, \"#bd3786\"], [0.5555555555555556, \"#d8576b\"], [0.6666666666666666, \"#ed7953\"], [0.7777777777777778, \"#fb9f3a\"], [0.8888888888888888, \"#fdca26\"], [1.0, \"#f0f921\"]], \"type\": \"surface\"}], \"table\": [{\"cells\": {\"fill\": {\"color\": \"#EBF0F8\"}, \"line\": {\"color\": \"white\"}}, \"header\": {\"fill\": {\"color\": \"#C8D4E3\"}, \"line\": {\"color\": \"white\"}}, \"type\": \"table\"}]}, \"layout\": {\"annotationdefaults\": {\"arrowcolor\": \"#2a3f5f\", \"arrowhead\": 0, \"arrowwidth\": 1}, \"colorscale\": {\"diverging\": [[0, \"#8e0152\"], [0.1, \"#c51b7d\"], [0.2, \"#de77ae\"], [0.3, \"#f1b6da\"], [0.4, \"#fde0ef\"], [0.5, \"#f7f7f7\"], [0.6, \"#e6f5d0\"], [0.7, \"#b8e186\"], [0.8, \"#7fbc41\"], [0.9, \"#4d9221\"], [1, \"#276419\"]], \"sequential\": [[0.0, \"#0d0887\"], [0.1111111111111111, \"#46039f\"], [0.2222222222222222, \"#7201a8\"], [0.3333333333333333, \"#9c179e\"], [0.4444444444444444, \"#bd3786\"], [0.5555555555555556, \"#d8576b\"], [0.6666666666666666, \"#ed7953\"], [0.7777777777777778, \"#fb9f3a\"], [0.8888888888888888, \"#fdca26\"], [1.0, \"#f0f921\"]], \"sequentialminus\": [[0.0, \"#0d0887\"], [0.1111111111111111, \"#46039f\"], [0.2222222222222222, \"#7201a8\"], [0.3333333333333333, \"#9c179e\"], [0.4444444444444444, \"#bd3786\"], [0.5555555555555556, \"#d8576b\"], [0.6666666666666666, \"#ed7953\"], [0.7777777777777778, \"#fb9f3a\"], [0.8888888888888888, \"#fdca26\"], [1.0, \"#f0f921\"]]}, \"colorway\": [\"#636efa\", \"#EF553B\", \"#00cc96\", \"#ab63fa\", \"#FFA15A\", \"#19d3f3\", \"#FF6692\", \"#B6E880\", \"#FF97FF\", \"#FECB52\"], \"font\": {\"color\": \"#2a3f5f\"}, \"geo\": {\"bgcolor\": \"white\", \"lakecolor\": \"white\", \"landcolor\": \"#E5ECF6\", \"showlakes\": true, \"showland\": true, \"subunitcolor\": \"white\"}, \"hoverlabel\": {\"align\": \"left\"}, \"hovermode\": \"closest\", \"mapbox\": {\"style\": \"light\"}, \"paper_bgcolor\": \"white\", \"plot_bgcolor\": \"#E5ECF6\", \"polar\": {\"angularaxis\": {\"gridcolor\": \"white\", \"linecolor\": \"white\", \"ticks\": \"\"}, \"bgcolor\": \"#E5ECF6\", \"radialaxis\": {\"gridcolor\": \"white\", \"linecolor\": \"white\", \"ticks\": \"\"}}, \"scene\": {\"xaxis\": {\"backgroundcolor\": \"#E5ECF6\", \"gridcolor\": \"white\", \"gridwidth\": 2, \"linecolor\": \"white\", \"showbackground\": true, \"ticks\": \"\", \"zerolinecolor\": \"white\"}, \"yaxis\": {\"backgroundcolor\": \"#E5ECF6\", \"gridcolor\": \"white\", \"gridwidth\": 2, \"linecolor\": \"white\", \"showbackground\": true, \"ticks\": \"\", \"zerolinecolor\": \"white\"}, \"zaxis\": {\"backgroundcolor\": \"#E5ECF6\", \"gridcolor\": \"white\", \"gridwidth\": 2, \"linecolor\": \"white\", \"showbackground\": true, \"ticks\": \"\", \"zerolinecolor\": \"white\"}}, \"shapedefaults\": {\"line\": {\"color\": \"#2a3f5f\"}}, \"ternary\": {\"aaxis\": {\"gridcolor\": \"white\", \"linecolor\": \"white\", \"ticks\": \"\"}, \"baxis\": {\"gridcolor\": \"white\", \"linecolor\": \"white\", \"ticks\": \"\"}, \"bgcolor\": \"#E5ECF6\", \"caxis\": {\"gridcolor\": \"white\", \"linecolor\": \"white\", \"ticks\": \"\"}}, \"title\": {\"x\": 0.05}, \"xaxis\": {\"automargin\": true, \"gridcolor\": \"white\", \"linecolor\": \"white\", \"ticks\": \"\", \"zerolinecolor\": \"white\", \"zerolinewidth\": 2}, \"yaxis\": {\"automargin\": true, \"gridcolor\": \"white\", \"linecolor\": \"white\", \"ticks\": \"\", \"zerolinecolor\": \"white\", \"zerolinewidth\": 2}}}},\n",
       "                        {\"responsive\": true}\n",
       "                    ).then(function(){\n",
       "                            \n",
       "var gd = document.getElementById('a54293ec-7a21-4671-a685-c5cdc3bc79e6');\n",
       "var x = new MutationObserver(function (mutations, observer) {{\n",
       "        var display = window.getComputedStyle(gd).display;\n",
       "        if (!display || display === 'none') {{\n",
       "            console.log([gd, 'removed!']);\n",
       "            Plotly.purge(gd);\n",
       "            observer.disconnect();\n",
       "        }}\n",
       "}});\n",
       "\n",
       "// Listen for the removal of the full notebook cells\n",
       "var notebookContainer = gd.closest('#notebook-container');\n",
       "if (notebookContainer) {{\n",
       "    x.observe(notebookContainer, {childList: true});\n",
       "}}\n",
       "\n",
       "// Listen for the clearing of the current output cell\n",
       "var outputEl = gd.closest('.output');\n",
       "if (outputEl) {{\n",
       "    x.observe(outputEl, {childList: true});\n",
       "}}\n",
       "\n",
       "                        })\n",
       "                };\n",
       "                });\n",
       "            </script>\n",
       "        </div>"
      ]
     },
     "metadata": {},
     "output_type": "display_data"
    }
   ],
   "source": [
    "#for 2012\n",
    "x2012 = data[data.year == 2012].iloc[:5,:]\n",
    "trace1 = go.Bar(\n",
    "x = x2012.institution,\n",
    "y = x2012.quality_of_education,\n",
    "name=\"quality_of_education\",\n",
    "marker = {\"color\":\"rgba(111,23,155,0.5)\"},\n",
    "text=x2012.institution\n",
    ")\n",
    "trace2 = go.Bar(\n",
    "x = x2012.institution,\n",
    "y = x2012.influence,\n",
    "name=\"influence\",\n",
    "marker = {\"color\":\"rgba(47,69,187)\"},\n",
    "text = x2012.institution\n",
    ")\n",
    "data3 = [trace1,trace2]\n",
    "layout = go.Layout(barmode = \"group\")\n",
    "fig = go.Figure(data = data3, layout = layout)\n",
    "iplot(fig)"
   ]
  },
  {
   "cell_type": "code",
   "execution_count": 11,
   "metadata": {},
   "outputs": [
    {
     "data": {
      "application/vnd.plotly.v1+json": {
       "config": {
        "linkText": "Export to plot.ly",
        "plotlyServerURL": "https://plot.ly",
        "showLink": false
       },
       "data": [
        {
         "marker": {
          "color": "rgba(131,26,93,0.4)"
         },
         "type": "bar",
         "x": [
          "USA",
          "Japan",
          "United Kingdom",
          "France",
          "Switzerland",
          "Canada",
          "Israel",
          "Netherlands",
          "Germany",
          "Australia",
          "South Korea",
          "China",
          "Taiwan",
          "Singapore",
          "Sweden",
          "Russia",
          "Denmark",
          "Belgium",
          "Norway"
         ],
         "y": [
          55,
          7,
          7,
          4,
          4,
          3,
          3,
          2,
          2,
          2,
          2,
          2,
          1,
          1,
          1,
          1,
          1,
          1,
          1
         ]
        }
       ],
       "layout": {
        "template": {
         "data": {
          "bar": [
           {
            "error_x": {
             "color": "#2a3f5f"
            },
            "error_y": {
             "color": "#2a3f5f"
            },
            "marker": {
             "line": {
              "color": "#E5ECF6",
              "width": 0.5
             }
            },
            "type": "bar"
           }
          ],
          "barpolar": [
           {
            "marker": {
             "line": {
              "color": "#E5ECF6",
              "width": 0.5
             }
            },
            "type": "barpolar"
           }
          ],
          "carpet": [
           {
            "aaxis": {
             "endlinecolor": "#2a3f5f",
             "gridcolor": "white",
             "linecolor": "white",
             "minorgridcolor": "white",
             "startlinecolor": "#2a3f5f"
            },
            "baxis": {
             "endlinecolor": "#2a3f5f",
             "gridcolor": "white",
             "linecolor": "white",
             "minorgridcolor": "white",
             "startlinecolor": "#2a3f5f"
            },
            "type": "carpet"
           }
          ],
          "choropleth": [
           {
            "colorbar": {
             "outlinewidth": 0,
             "ticks": ""
            },
            "type": "choropleth"
           }
          ],
          "contour": [
           {
            "colorbar": {
             "outlinewidth": 0,
             "ticks": ""
            },
            "colorscale": [
             [
              0,
              "#0d0887"
             ],
             [
              0.1111111111111111,
              "#46039f"
             ],
             [
              0.2222222222222222,
              "#7201a8"
             ],
             [
              0.3333333333333333,
              "#9c179e"
             ],
             [
              0.4444444444444444,
              "#bd3786"
             ],
             [
              0.5555555555555556,
              "#d8576b"
             ],
             [
              0.6666666666666666,
              "#ed7953"
             ],
             [
              0.7777777777777778,
              "#fb9f3a"
             ],
             [
              0.8888888888888888,
              "#fdca26"
             ],
             [
              1,
              "#f0f921"
             ]
            ],
            "type": "contour"
           }
          ],
          "contourcarpet": [
           {
            "colorbar": {
             "outlinewidth": 0,
             "ticks": ""
            },
            "type": "contourcarpet"
           }
          ],
          "heatmap": [
           {
            "colorbar": {
             "outlinewidth": 0,
             "ticks": ""
            },
            "colorscale": [
             [
              0,
              "#0d0887"
             ],
             [
              0.1111111111111111,
              "#46039f"
             ],
             [
              0.2222222222222222,
              "#7201a8"
             ],
             [
              0.3333333333333333,
              "#9c179e"
             ],
             [
              0.4444444444444444,
              "#bd3786"
             ],
             [
              0.5555555555555556,
              "#d8576b"
             ],
             [
              0.6666666666666666,
              "#ed7953"
             ],
             [
              0.7777777777777778,
              "#fb9f3a"
             ],
             [
              0.8888888888888888,
              "#fdca26"
             ],
             [
              1,
              "#f0f921"
             ]
            ],
            "type": "heatmap"
           }
          ],
          "heatmapgl": [
           {
            "colorbar": {
             "outlinewidth": 0,
             "ticks": ""
            },
            "colorscale": [
             [
              0,
              "#0d0887"
             ],
             [
              0.1111111111111111,
              "#46039f"
             ],
             [
              0.2222222222222222,
              "#7201a8"
             ],
             [
              0.3333333333333333,
              "#9c179e"
             ],
             [
              0.4444444444444444,
              "#bd3786"
             ],
             [
              0.5555555555555556,
              "#d8576b"
             ],
             [
              0.6666666666666666,
              "#ed7953"
             ],
             [
              0.7777777777777778,
              "#fb9f3a"
             ],
             [
              0.8888888888888888,
              "#fdca26"
             ],
             [
              1,
              "#f0f921"
             ]
            ],
            "type": "heatmapgl"
           }
          ],
          "histogram": [
           {
            "marker": {
             "colorbar": {
              "outlinewidth": 0,
              "ticks": ""
             }
            },
            "type": "histogram"
           }
          ],
          "histogram2d": [
           {
            "colorbar": {
             "outlinewidth": 0,
             "ticks": ""
            },
            "colorscale": [
             [
              0,
              "#0d0887"
             ],
             [
              0.1111111111111111,
              "#46039f"
             ],
             [
              0.2222222222222222,
              "#7201a8"
             ],
             [
              0.3333333333333333,
              "#9c179e"
             ],
             [
              0.4444444444444444,
              "#bd3786"
             ],
             [
              0.5555555555555556,
              "#d8576b"
             ],
             [
              0.6666666666666666,
              "#ed7953"
             ],
             [
              0.7777777777777778,
              "#fb9f3a"
             ],
             [
              0.8888888888888888,
              "#fdca26"
             ],
             [
              1,
              "#f0f921"
             ]
            ],
            "type": "histogram2d"
           }
          ],
          "histogram2dcontour": [
           {
            "colorbar": {
             "outlinewidth": 0,
             "ticks": ""
            },
            "colorscale": [
             [
              0,
              "#0d0887"
             ],
             [
              0.1111111111111111,
              "#46039f"
             ],
             [
              0.2222222222222222,
              "#7201a8"
             ],
             [
              0.3333333333333333,
              "#9c179e"
             ],
             [
              0.4444444444444444,
              "#bd3786"
             ],
             [
              0.5555555555555556,
              "#d8576b"
             ],
             [
              0.6666666666666666,
              "#ed7953"
             ],
             [
              0.7777777777777778,
              "#fb9f3a"
             ],
             [
              0.8888888888888888,
              "#fdca26"
             ],
             [
              1,
              "#f0f921"
             ]
            ],
            "type": "histogram2dcontour"
           }
          ],
          "mesh3d": [
           {
            "colorbar": {
             "outlinewidth": 0,
             "ticks": ""
            },
            "type": "mesh3d"
           }
          ],
          "parcoords": [
           {
            "line": {
             "colorbar": {
              "outlinewidth": 0,
              "ticks": ""
             }
            },
            "type": "parcoords"
           }
          ],
          "scatter": [
           {
            "marker": {
             "colorbar": {
              "outlinewidth": 0,
              "ticks": ""
             }
            },
            "type": "scatter"
           }
          ],
          "scatter3d": [
           {
            "line": {
             "colorbar": {
              "outlinewidth": 0,
              "ticks": ""
             }
            },
            "marker": {
             "colorbar": {
              "outlinewidth": 0,
              "ticks": ""
             }
            },
            "type": "scatter3d"
           }
          ],
          "scattercarpet": [
           {
            "marker": {
             "colorbar": {
              "outlinewidth": 0,
              "ticks": ""
             }
            },
            "type": "scattercarpet"
           }
          ],
          "scattergeo": [
           {
            "marker": {
             "colorbar": {
              "outlinewidth": 0,
              "ticks": ""
             }
            },
            "type": "scattergeo"
           }
          ],
          "scattergl": [
           {
            "marker": {
             "colorbar": {
              "outlinewidth": 0,
              "ticks": ""
             }
            },
            "type": "scattergl"
           }
          ],
          "scattermapbox": [
           {
            "marker": {
             "colorbar": {
              "outlinewidth": 0,
              "ticks": ""
             }
            },
            "type": "scattermapbox"
           }
          ],
          "scatterpolar": [
           {
            "marker": {
             "colorbar": {
              "outlinewidth": 0,
              "ticks": ""
             }
            },
            "type": "scatterpolar"
           }
          ],
          "scatterpolargl": [
           {
            "marker": {
             "colorbar": {
              "outlinewidth": 0,
              "ticks": ""
             }
            },
            "type": "scatterpolargl"
           }
          ],
          "scatterternary": [
           {
            "marker": {
             "colorbar": {
              "outlinewidth": 0,
              "ticks": ""
             }
            },
            "type": "scatterternary"
           }
          ],
          "surface": [
           {
            "colorbar": {
             "outlinewidth": 0,
             "ticks": ""
            },
            "colorscale": [
             [
              0,
              "#0d0887"
             ],
             [
              0.1111111111111111,
              "#46039f"
             ],
             [
              0.2222222222222222,
              "#7201a8"
             ],
             [
              0.3333333333333333,
              "#9c179e"
             ],
             [
              0.4444444444444444,
              "#bd3786"
             ],
             [
              0.5555555555555556,
              "#d8576b"
             ],
             [
              0.6666666666666666,
              "#ed7953"
             ],
             [
              0.7777777777777778,
              "#fb9f3a"
             ],
             [
              0.8888888888888888,
              "#fdca26"
             ],
             [
              1,
              "#f0f921"
             ]
            ],
            "type": "surface"
           }
          ],
          "table": [
           {
            "cells": {
             "fill": {
              "color": "#EBF0F8"
             },
             "line": {
              "color": "white"
             }
            },
            "header": {
             "fill": {
              "color": "#C8D4E3"
             },
             "line": {
              "color": "white"
             }
            },
            "type": "table"
           }
          ]
         },
         "layout": {
          "annotationdefaults": {
           "arrowcolor": "#2a3f5f",
           "arrowhead": 0,
           "arrowwidth": 1
          },
          "colorscale": {
           "diverging": [
            [
             0,
             "#8e0152"
            ],
            [
             0.1,
             "#c51b7d"
            ],
            [
             0.2,
             "#de77ae"
            ],
            [
             0.3,
             "#f1b6da"
            ],
            [
             0.4,
             "#fde0ef"
            ],
            [
             0.5,
             "#f7f7f7"
            ],
            [
             0.6,
             "#e6f5d0"
            ],
            [
             0.7,
             "#b8e186"
            ],
            [
             0.8,
             "#7fbc41"
            ],
            [
             0.9,
             "#4d9221"
            ],
            [
             1,
             "#276419"
            ]
           ],
           "sequential": [
            [
             0,
             "#0d0887"
            ],
            [
             0.1111111111111111,
             "#46039f"
            ],
            [
             0.2222222222222222,
             "#7201a8"
            ],
            [
             0.3333333333333333,
             "#9c179e"
            ],
            [
             0.4444444444444444,
             "#bd3786"
            ],
            [
             0.5555555555555556,
             "#d8576b"
            ],
            [
             0.6666666666666666,
             "#ed7953"
            ],
            [
             0.7777777777777778,
             "#fb9f3a"
            ],
            [
             0.8888888888888888,
             "#fdca26"
            ],
            [
             1,
             "#f0f921"
            ]
           ],
           "sequentialminus": [
            [
             0,
             "#0d0887"
            ],
            [
             0.1111111111111111,
             "#46039f"
            ],
            [
             0.2222222222222222,
             "#7201a8"
            ],
            [
             0.3333333333333333,
             "#9c179e"
            ],
            [
             0.4444444444444444,
             "#bd3786"
            ],
            [
             0.5555555555555556,
             "#d8576b"
            ],
            [
             0.6666666666666666,
             "#ed7953"
            ],
            [
             0.7777777777777778,
             "#fb9f3a"
            ],
            [
             0.8888888888888888,
             "#fdca26"
            ],
            [
             1,
             "#f0f921"
            ]
           ]
          },
          "colorway": [
           "#636efa",
           "#EF553B",
           "#00cc96",
           "#ab63fa",
           "#FFA15A",
           "#19d3f3",
           "#FF6692",
           "#B6E880",
           "#FF97FF",
           "#FECB52"
          ],
          "font": {
           "color": "#2a3f5f"
          },
          "geo": {
           "bgcolor": "white",
           "lakecolor": "white",
           "landcolor": "#E5ECF6",
           "showlakes": true,
           "showland": true,
           "subunitcolor": "white"
          },
          "hoverlabel": {
           "align": "left"
          },
          "hovermode": "closest",
          "mapbox": {
           "style": "light"
          },
          "paper_bgcolor": "white",
          "plot_bgcolor": "#E5ECF6",
          "polar": {
           "angularaxis": {
            "gridcolor": "white",
            "linecolor": "white",
            "ticks": ""
           },
           "bgcolor": "#E5ECF6",
           "radialaxis": {
            "gridcolor": "white",
            "linecolor": "white",
            "ticks": ""
           }
          },
          "scene": {
           "xaxis": {
            "backgroundcolor": "#E5ECF6",
            "gridcolor": "white",
            "gridwidth": 2,
            "linecolor": "white",
            "showbackground": true,
            "ticks": "",
            "zerolinecolor": "white"
           },
           "yaxis": {
            "backgroundcolor": "#E5ECF6",
            "gridcolor": "white",
            "gridwidth": 2,
            "linecolor": "white",
            "showbackground": true,
            "ticks": "",
            "zerolinecolor": "white"
           },
           "zaxis": {
            "backgroundcolor": "#E5ECF6",
            "gridcolor": "white",
            "gridwidth": 2,
            "linecolor": "white",
            "showbackground": true,
            "ticks": "",
            "zerolinecolor": "white"
           }
          },
          "shapedefaults": {
           "line": {
            "color": "#2a3f5f"
           }
          },
          "ternary": {
           "aaxis": {
            "gridcolor": "white",
            "linecolor": "white",
            "ticks": ""
           },
           "baxis": {
            "gridcolor": "white",
            "linecolor": "white",
            "ticks": ""
           },
           "bgcolor": "#E5ECF6",
           "caxis": {
            "gridcolor": "white",
            "linecolor": "white",
            "ticks": ""
           }
          },
          "title": {
           "x": 0.05
          },
          "xaxis": {
           "automargin": true,
           "gridcolor": "white",
           "linecolor": "white",
           "ticks": "",
           "zerolinecolor": "white",
           "zerolinewidth": 2
          },
          "yaxis": {
           "automargin": true,
           "gridcolor": "white",
           "linecolor": "white",
           "ticks": "",
           "zerolinecolor": "white",
           "zerolinewidth": 2
          }
         }
        }
       }
      },
      "text/html": [
       "<div>\n",
       "        \n",
       "        \n",
       "            <div id=\"4d82b9aa-970d-4e09-9acb-b7f5ff5425d1\" class=\"plotly-graph-div\" style=\"height:525px; width:100%;\"></div>\n",
       "            <script type=\"text/javascript\">\n",
       "                require([\"plotly\"], function(Plotly) {\n",
       "                    window.PLOTLYENV=window.PLOTLYENV || {};\n",
       "                    \n",
       "                if (document.getElementById(\"4d82b9aa-970d-4e09-9acb-b7f5ff5425d1\")) {\n",
       "                    Plotly.newPlot(\n",
       "                        '4d82b9aa-970d-4e09-9acb-b7f5ff5425d1',\n",
       "                        [{\"marker\": {\"color\": \"rgba(131,26,93,0.4)\"}, \"type\": \"bar\", \"x\": [\"USA\", \"Japan\", \"United Kingdom\", \"France\", \"Switzerland\", \"Canada\", \"Israel\", \"Netherlands\", \"Germany\", \"Australia\", \"South Korea\", \"China\", \"Taiwan\", \"Singapore\", \"Sweden\", \"Russia\", \"Denmark\", \"Belgium\", \"Norway\"], \"y\": [55, 7, 7, 4, 4, 3, 3, 2, 2, 2, 2, 2, 1, 1, 1, 1, 1, 1, 1]}],\n",
       "                        {\"template\": {\"data\": {\"bar\": [{\"error_x\": {\"color\": \"#2a3f5f\"}, \"error_y\": {\"color\": \"#2a3f5f\"}, \"marker\": {\"line\": {\"color\": \"#E5ECF6\", \"width\": 0.5}}, \"type\": \"bar\"}], \"barpolar\": [{\"marker\": {\"line\": {\"color\": \"#E5ECF6\", \"width\": 0.5}}, \"type\": \"barpolar\"}], \"carpet\": [{\"aaxis\": {\"endlinecolor\": \"#2a3f5f\", \"gridcolor\": \"white\", \"linecolor\": \"white\", \"minorgridcolor\": \"white\", \"startlinecolor\": \"#2a3f5f\"}, \"baxis\": {\"endlinecolor\": \"#2a3f5f\", \"gridcolor\": \"white\", \"linecolor\": \"white\", \"minorgridcolor\": \"white\", \"startlinecolor\": \"#2a3f5f\"}, \"type\": \"carpet\"}], \"choropleth\": [{\"colorbar\": {\"outlinewidth\": 0, \"ticks\": \"\"}, \"type\": \"choropleth\"}], \"contour\": [{\"colorbar\": {\"outlinewidth\": 0, \"ticks\": \"\"}, \"colorscale\": [[0.0, \"#0d0887\"], [0.1111111111111111, \"#46039f\"], [0.2222222222222222, \"#7201a8\"], [0.3333333333333333, \"#9c179e\"], [0.4444444444444444, \"#bd3786\"], [0.5555555555555556, \"#d8576b\"], [0.6666666666666666, \"#ed7953\"], [0.7777777777777778, \"#fb9f3a\"], [0.8888888888888888, \"#fdca26\"], [1.0, \"#f0f921\"]], \"type\": \"contour\"}], \"contourcarpet\": [{\"colorbar\": {\"outlinewidth\": 0, \"ticks\": \"\"}, \"type\": \"contourcarpet\"}], \"heatmap\": [{\"colorbar\": {\"outlinewidth\": 0, \"ticks\": \"\"}, \"colorscale\": [[0.0, \"#0d0887\"], [0.1111111111111111, \"#46039f\"], [0.2222222222222222, \"#7201a8\"], [0.3333333333333333, \"#9c179e\"], [0.4444444444444444, \"#bd3786\"], [0.5555555555555556, \"#d8576b\"], [0.6666666666666666, \"#ed7953\"], [0.7777777777777778, \"#fb9f3a\"], [0.8888888888888888, \"#fdca26\"], [1.0, \"#f0f921\"]], \"type\": \"heatmap\"}], \"heatmapgl\": [{\"colorbar\": {\"outlinewidth\": 0, \"ticks\": \"\"}, \"colorscale\": [[0.0, \"#0d0887\"], [0.1111111111111111, \"#46039f\"], [0.2222222222222222, \"#7201a8\"], [0.3333333333333333, \"#9c179e\"], [0.4444444444444444, \"#bd3786\"], [0.5555555555555556, \"#d8576b\"], [0.6666666666666666, \"#ed7953\"], [0.7777777777777778, \"#fb9f3a\"], [0.8888888888888888, \"#fdca26\"], [1.0, \"#f0f921\"]], \"type\": \"heatmapgl\"}], \"histogram\": [{\"marker\": {\"colorbar\": {\"outlinewidth\": 0, \"ticks\": \"\"}}, \"type\": \"histogram\"}], \"histogram2d\": [{\"colorbar\": {\"outlinewidth\": 0, \"ticks\": \"\"}, \"colorscale\": [[0.0, \"#0d0887\"], [0.1111111111111111, \"#46039f\"], [0.2222222222222222, \"#7201a8\"], [0.3333333333333333, \"#9c179e\"], [0.4444444444444444, \"#bd3786\"], [0.5555555555555556, \"#d8576b\"], [0.6666666666666666, \"#ed7953\"], [0.7777777777777778, \"#fb9f3a\"], [0.8888888888888888, \"#fdca26\"], [1.0, \"#f0f921\"]], \"type\": \"histogram2d\"}], \"histogram2dcontour\": [{\"colorbar\": {\"outlinewidth\": 0, \"ticks\": \"\"}, \"colorscale\": [[0.0, \"#0d0887\"], [0.1111111111111111, \"#46039f\"], [0.2222222222222222, \"#7201a8\"], [0.3333333333333333, \"#9c179e\"], [0.4444444444444444, \"#bd3786\"], [0.5555555555555556, \"#d8576b\"], [0.6666666666666666, \"#ed7953\"], [0.7777777777777778, \"#fb9f3a\"], [0.8888888888888888, \"#fdca26\"], [1.0, \"#f0f921\"]], \"type\": \"histogram2dcontour\"}], \"mesh3d\": [{\"colorbar\": {\"outlinewidth\": 0, \"ticks\": \"\"}, \"type\": \"mesh3d\"}], \"parcoords\": [{\"line\": {\"colorbar\": {\"outlinewidth\": 0, \"ticks\": \"\"}}, \"type\": \"parcoords\"}], \"scatter\": [{\"marker\": {\"colorbar\": {\"outlinewidth\": 0, \"ticks\": \"\"}}, \"type\": \"scatter\"}], \"scatter3d\": [{\"line\": {\"colorbar\": {\"outlinewidth\": 0, \"ticks\": \"\"}}, \"marker\": {\"colorbar\": {\"outlinewidth\": 0, \"ticks\": \"\"}}, \"type\": \"scatter3d\"}], \"scattercarpet\": [{\"marker\": {\"colorbar\": {\"outlinewidth\": 0, \"ticks\": \"\"}}, \"type\": \"scattercarpet\"}], \"scattergeo\": [{\"marker\": {\"colorbar\": {\"outlinewidth\": 0, \"ticks\": \"\"}}, \"type\": \"scattergeo\"}], \"scattergl\": [{\"marker\": {\"colorbar\": {\"outlinewidth\": 0, \"ticks\": \"\"}}, \"type\": \"scattergl\"}], \"scattermapbox\": [{\"marker\": {\"colorbar\": {\"outlinewidth\": 0, \"ticks\": \"\"}}, \"type\": \"scattermapbox\"}], \"scatterpolar\": [{\"marker\": {\"colorbar\": {\"outlinewidth\": 0, \"ticks\": \"\"}}, \"type\": \"scatterpolar\"}], \"scatterpolargl\": [{\"marker\": {\"colorbar\": {\"outlinewidth\": 0, \"ticks\": \"\"}}, \"type\": \"scatterpolargl\"}], \"scatterternary\": [{\"marker\": {\"colorbar\": {\"outlinewidth\": 0, \"ticks\": \"\"}}, \"type\": \"scatterternary\"}], \"surface\": [{\"colorbar\": {\"outlinewidth\": 0, \"ticks\": \"\"}, \"colorscale\": [[0.0, \"#0d0887\"], [0.1111111111111111, \"#46039f\"], [0.2222222222222222, \"#7201a8\"], [0.3333333333333333, \"#9c179e\"], [0.4444444444444444, \"#bd3786\"], [0.5555555555555556, \"#d8576b\"], [0.6666666666666666, \"#ed7953\"], [0.7777777777777778, \"#fb9f3a\"], [0.8888888888888888, \"#fdca26\"], [1.0, \"#f0f921\"]], \"type\": \"surface\"}], \"table\": [{\"cells\": {\"fill\": {\"color\": \"#EBF0F8\"}, \"line\": {\"color\": \"white\"}}, \"header\": {\"fill\": {\"color\": \"#C8D4E3\"}, \"line\": {\"color\": \"white\"}}, \"type\": \"table\"}]}, \"layout\": {\"annotationdefaults\": {\"arrowcolor\": \"#2a3f5f\", \"arrowhead\": 0, \"arrowwidth\": 1}, \"colorscale\": {\"diverging\": [[0, \"#8e0152\"], [0.1, \"#c51b7d\"], [0.2, \"#de77ae\"], [0.3, \"#f1b6da\"], [0.4, \"#fde0ef\"], [0.5, \"#f7f7f7\"], [0.6, \"#e6f5d0\"], [0.7, \"#b8e186\"], [0.8, \"#7fbc41\"], [0.9, \"#4d9221\"], [1, \"#276419\"]], \"sequential\": [[0.0, \"#0d0887\"], [0.1111111111111111, \"#46039f\"], [0.2222222222222222, \"#7201a8\"], [0.3333333333333333, \"#9c179e\"], [0.4444444444444444, \"#bd3786\"], [0.5555555555555556, \"#d8576b\"], [0.6666666666666666, \"#ed7953\"], [0.7777777777777778, \"#fb9f3a\"], [0.8888888888888888, \"#fdca26\"], [1.0, \"#f0f921\"]], \"sequentialminus\": [[0.0, \"#0d0887\"], [0.1111111111111111, \"#46039f\"], [0.2222222222222222, \"#7201a8\"], [0.3333333333333333, \"#9c179e\"], [0.4444444444444444, \"#bd3786\"], [0.5555555555555556, \"#d8576b\"], [0.6666666666666666, \"#ed7953\"], [0.7777777777777778, \"#fb9f3a\"], [0.8888888888888888, \"#fdca26\"], [1.0, \"#f0f921\"]]}, \"colorway\": [\"#636efa\", \"#EF553B\", \"#00cc96\", \"#ab63fa\", \"#FFA15A\", \"#19d3f3\", \"#FF6692\", \"#B6E880\", \"#FF97FF\", \"#FECB52\"], \"font\": {\"color\": \"#2a3f5f\"}, \"geo\": {\"bgcolor\": \"white\", \"lakecolor\": \"white\", \"landcolor\": \"#E5ECF6\", \"showlakes\": true, \"showland\": true, \"subunitcolor\": \"white\"}, \"hoverlabel\": {\"align\": \"left\"}, \"hovermode\": \"closest\", \"mapbox\": {\"style\": \"light\"}, \"paper_bgcolor\": \"white\", \"plot_bgcolor\": \"#E5ECF6\", \"polar\": {\"angularaxis\": {\"gridcolor\": \"white\", \"linecolor\": \"white\", \"ticks\": \"\"}, \"bgcolor\": \"#E5ECF6\", \"radialaxis\": {\"gridcolor\": \"white\", \"linecolor\": \"white\", \"ticks\": \"\"}}, \"scene\": {\"xaxis\": {\"backgroundcolor\": \"#E5ECF6\", \"gridcolor\": \"white\", \"gridwidth\": 2, \"linecolor\": \"white\", \"showbackground\": true, \"ticks\": \"\", \"zerolinecolor\": \"white\"}, \"yaxis\": {\"backgroundcolor\": \"#E5ECF6\", \"gridcolor\": \"white\", \"gridwidth\": 2, \"linecolor\": \"white\", \"showbackground\": true, \"ticks\": \"\", \"zerolinecolor\": \"white\"}, \"zaxis\": {\"backgroundcolor\": \"#E5ECF6\", \"gridcolor\": \"white\", \"gridwidth\": 2, \"linecolor\": \"white\", \"showbackground\": true, \"ticks\": \"\", \"zerolinecolor\": \"white\"}}, \"shapedefaults\": {\"line\": {\"color\": \"#2a3f5f\"}}, \"ternary\": {\"aaxis\": {\"gridcolor\": \"white\", \"linecolor\": \"white\", \"ticks\": \"\"}, \"baxis\": {\"gridcolor\": \"white\", \"linecolor\": \"white\", \"ticks\": \"\"}, \"bgcolor\": \"#E5ECF6\", \"caxis\": {\"gridcolor\": \"white\", \"linecolor\": \"white\", \"ticks\": \"\"}}, \"title\": {\"x\": 0.05}, \"xaxis\": {\"automargin\": true, \"gridcolor\": \"white\", \"linecolor\": \"white\", \"ticks\": \"\", \"zerolinecolor\": \"white\", \"zerolinewidth\": 2}, \"yaxis\": {\"automargin\": true, \"gridcolor\": \"white\", \"linecolor\": \"white\", \"ticks\": \"\", \"zerolinecolor\": \"white\", \"zerolinewidth\": 2}}}},\n",
       "                        {\"responsive\": true}\n",
       "                    ).then(function(){\n",
       "                            \n",
       "var gd = document.getElementById('4d82b9aa-970d-4e09-9acb-b7f5ff5425d1');\n",
       "var x = new MutationObserver(function (mutations, observer) {{\n",
       "        var display = window.getComputedStyle(gd).display;\n",
       "        if (!display || display === 'none') {{\n",
       "            console.log([gd, 'removed!']);\n",
       "            Plotly.purge(gd);\n",
       "            observer.disconnect();\n",
       "        }}\n",
       "}});\n",
       "\n",
       "// Listen for the removal of the full notebook cells\n",
       "var notebookContainer = gd.closest('#notebook-container');\n",
       "if (notebookContainer) {{\n",
       "    x.observe(notebookContainer, {childList: true});\n",
       "}}\n",
       "\n",
       "// Listen for the clearing of the current output cell\n",
       "var outputEl = gd.closest('.output');\n",
       "if (outputEl) {{\n",
       "    x.observe(outputEl, {childList: true});\n",
       "}}\n",
       "\n",
       "                        })\n",
       "                };\n",
       "                });\n",
       "            </script>\n",
       "        </div>"
      ]
     },
     "metadata": {},
     "output_type": "display_data"
    }
   ],
   "source": [
    "#graph 3\n",
    "#countries with the most number of rankings in 2015\n",
    "x2015 = data[data.year == 2015].iloc[:100,:]\n",
    "index = x2015[\"country\"].value_counts().head(100).index\n",
    "value = x2015[\"country\"].value_counts().head(100).values\n",
    "trace1 = go.Bar(\n",
    "x = index,\n",
    "y = value,\n",
    "marker = {\"color\":\"rgba(131,26,93,0.4)\"}    \n",
    ")\n",
    "data4 = [trace1]\n",
    "\n",
    "iplot(data4)"
   ]
  },
  {
   "cell_type": "code",
   "execution_count": 12,
   "metadata": {},
   "outputs": [
    {
     "data": {
      "text/plain": [
       "<matplotlib.axes._subplots.AxesSubplot at 0x22f59758da0>"
      ]
     },
     "execution_count": 12,
     "metadata": {},
     "output_type": "execute_result"
    },
    {
     "data": {
      "image/png": "[encoded data removed]",
      "text/plain": [
       "<Figure size 432x288 with 1 Axes>"
      ]
     },
     "metadata": {
      "needs_background": "light"
     },
     "output_type": "display_data"
    }
   ],
   "source": [
    "#graph5 checkign if the placements affect the rank or not\n",
    "data.plot(y='world_rank', x = 'alumni_employment', kind='scatter', xlim=(0,110))"
   ]
  },
  {
   "cell_type": "code",
   "execution_count": 13,
   "metadata": {},
   "outputs": [
    {
     "name": "stderr",
     "output_type": "stream",
     "text": [
      "C:\\Users\\girish narayan.s\\Anaconda3\\lib\\site-packages\\pandas\\core\\frame.py:3940: SettingWithCopyWarning:\n",
      "\n",
      "\n",
      "A value is trying to be set on a copy of a slice from a DataFrame\n",
      "\n",
      "See the caveats in the documentation: http://pandas.pydata.org/pandas-docs/stable/indexing.html#indexing-view-versus-copy\n",
      "\n"
     ]
    },
    {
     "data": {
      "text/html": [
       "<div>\n",
       "<style scoped>\n",
       "    .dataframe tbody tr th:only-of-type {\n",
       "        vertical-align: middle;\n",
       "    }\n",
       "\n",
       "    .dataframe tbody tr th {\n",
       "        vertical-align: top;\n",
       "    }\n",
       "\n",
       "    .dataframe thead th {\n",
       "        text-align: right;\n",
       "    }\n",
       "</style>\n",
       "<table border=\"1\" class=\"dataframe\">\n",
       "  <thead>\n",
       "    <tr style=\"text-align: right;\">\n",
       "      <th></th>\n",
       "      <th>world_rank</th>\n",
       "      <th>institution</th>\n",
       "      <th>quality_of_education</th>\n",
       "      <th>alumni_employment</th>\n",
       "      <th>quality_of_faculty</th>\n",
       "      <th>publications</th>\n",
       "      <th>influence</th>\n",
       "      <th>citations</th>\n",
       "      <th>patents</th>\n",
       "      <th>score</th>\n",
       "    </tr>\n",
       "  </thead>\n",
       "  <tbody>\n",
       "    <tr>\n",
       "      <th>1200</th>\n",
       "      <td>1</td>\n",
       "      <td>Harvard University</td>\n",
       "      <td>1</td>\n",
       "      <td>1</td>\n",
       "      <td>1</td>\n",
       "      <td>1</td>\n",
       "      <td>1</td>\n",
       "      <td>1</td>\n",
       "      <td>3</td>\n",
       "      <td>100.00</td>\n",
       "    </tr>\n",
       "    <tr>\n",
       "      <th>1201</th>\n",
       "      <td>2</td>\n",
       "      <td>Stanford University</td>\n",
       "      <td>9</td>\n",
       "      <td>2</td>\n",
       "      <td>4</td>\n",
       "      <td>5</td>\n",
       "      <td>3</td>\n",
       "      <td>3</td>\n",
       "      <td>10</td>\n",
       "      <td>98.66</td>\n",
       "    </tr>\n",
       "    <tr>\n",
       "      <th>1202</th>\n",
       "      <td>3</td>\n",
       "      <td>Massachusetts Institute of Technology</td>\n",
       "      <td>3</td>\n",
       "      <td>11</td>\n",
       "      <td>2</td>\n",
       "      <td>15</td>\n",
       "      <td>2</td>\n",
       "      <td>2</td>\n",
       "      <td>1</td>\n",
       "      <td>97.54</td>\n",
       "    </tr>\n",
       "    <tr>\n",
       "      <th>1203</th>\n",
       "      <td>4</td>\n",
       "      <td>University of Cambridge</td>\n",
       "      <td>2</td>\n",
       "      <td>10</td>\n",
       "      <td>5</td>\n",
       "      <td>11</td>\n",
       "      <td>6</td>\n",
       "      <td>12</td>\n",
       "      <td>48</td>\n",
       "      <td>96.81</td>\n",
       "    </tr>\n",
       "    <tr>\n",
       "      <th>1204</th>\n",
       "      <td>5</td>\n",
       "      <td>University of Oxford</td>\n",
       "      <td>7</td>\n",
       "      <td>13</td>\n",
       "      <td>10</td>\n",
       "      <td>7</td>\n",
       "      <td>12</td>\n",
       "      <td>7</td>\n",
       "      <td>15</td>\n",
       "      <td>96.46</td>\n",
       "    </tr>\n",
       "  </tbody>\n",
       "</table>\n",
       "</div>"
      ],
      "text/plain": [
       "      world_rank                            institution  quality_of_education  \\\n",
       "1200           1                     Harvard University                     1   \n",
       "1201           2                    Stanford University                     9   \n",
       "1202           3  Massachusetts Institute of Technology                     3   \n",
       "1203           4                University of Cambridge                     2   \n",
       "1204           5                   University of Oxford                     7   \n",
       "\n",
       "      alumni_employment  quality_of_faculty  publications  influence  \\\n",
       "1200                  1                   1             1          1   \n",
       "1201                  2                   4             5          3   \n",
       "1202                 11                   2            15          2   \n",
       "1203                 10                   5            11          6   \n",
       "1204                 13                  10             7         12   \n",
       "\n",
       "      citations  patents   score  \n",
       "1200          1        3  100.00  \n",
       "1201          3       10   98.66  \n",
       "1202          2        1   97.54  \n",
       "1203         12       48   96.81  \n",
       "1204          7       15   96.46  "
      ]
     },
     "execution_count": 13,
     "metadata": {},
     "output_type": "execute_result"
    }
   ],
   "source": [
    "#determing the factors that affect the rank the most\n",
    "data2015 = data[data.year==2015]\n",
    "data2015.drop(['country','national_rank','year'],axis = 1, inplace = True)\n",
    "data2015.head()"
   ]
  },
  {
   "cell_type": "code",
   "execution_count": 14,
   "metadata": {},
   "outputs": [
    {
     "data": {
      "text/plain": [
       "368"
      ]
     },
     "execution_count": 14,
     "metadata": {},
     "output_type": "execute_result"
    }
   ],
   "source": [
    "#has printed the top 5 ranks of the year 2015\n",
    "y = data2015.quality_of_education.max() + 1 #y has the moximum valye of the quality of education \n",
    "y"
   ]
  },
  {
   "cell_type": "code",
   "execution_count": 15,
   "metadata": {},
   "outputs": [
    {
     "data": {
      "text/plain": [
       "['quality_of_education',\n",
       " 'alumni_employment',\n",
       " 'quality_of_faculty',\n",
       " 'publications',\n",
       " 'influence',\n",
       " 'citations',\n",
       " 'patents']"
      ]
     },
     "execution_count": 15,
     "metadata": {},
     "output_type": "execute_result"
    }
   ],
   "source": [
    "#367 is highest value of the quality if eduaction\n",
    "\n",
    "factor = list(data2015.columns.values)[2:9] #skippinh the frst two columns\n",
    "factor"
   ]
  },
  {
   "cell_type": "code",
   "execution_count": 16,
   "metadata": {},
   "outputs": [],
   "source": [
    "\n",
    "#hypothesis testing\n",
    "#H0:that there is no signiffcant difference between the quality of eduaction and the teaching \n",
    "##basically meaning that the quality of eduaction only depends on the teaching"
   ]
  },
  {
   "cell_type": "code",
   "execution_count": 18,
   "metadata": {},
   "outputs": [
    {
     "name": "stdout",
     "output_type": "stream",
     "text": [
      "0.00891987405902934\n",
      "reject null hypothesis\n"
     ]
    }
   ],
   "source": [
    "df = pd.read_csv(\"C:/Users/girish narayan.s/Documents/r project/IDS DATASET.csv\")\n",
    "df[['quality_of_education','quality_of_faculty']].describe()\n",
    "ttest,pval = stats.ttest_rel(df['quality_of_education'][1:100], df['quality_of_faculty'][1:100])\n",
    "print(pval)\n",
    "if pval<0.05:\n",
    "    print(\"reject null hypothesis\")\n",
    "else:\n",
    "    print(\"accept null hypothesis\")\n"
   ]
  },
  {
   "cell_type": "code",
   "execution_count": 41,
   "metadata": {},
   "outputs": [
    {
     "name": "stdout",
     "output_type": "stream",
     "text": [
      "before normalization\n",
      "quality_of_education mean 275.10045454545457 \n",
      " quality_of_education variance 14868.168621894034\n",
      "alumni_employment mean 357.1168181818182 \n",
      " alumni_employment variance 34886.48884844285\n",
      "quality_of_faculty mean 178.8881818181818 \n",
      " quality_of_faculty variance 4102.515913018306\n",
      "after normalisation\n",
      "quality_of_education mean 0.7489083457526131 \n",
      " quality_of_education variance 0.11099292769188725\n",
      "alumni_employment mean 0.629181657565047 \n",
      " alumni_employment variance 0.10889912737218227\n",
      "quality_of_faculty mean 0.8197612065354004 \n",
      " quality_of_faculty variance 0.08712259578709544\n"
     ]
    }
   ],
   "source": [
    "#NORMALIZATION\n",
    "from sklearn.preprocessing import MinMaxScaler\n",
    "scaler=MinMaxScaler()\n",
    "cols=['quality_of_education','alumni_employment','quality_of_faculty']\n",
    "print('before normalization')\n",
    "for col in cols:\n",
    "    print(col,'mean',data[col].mean(),'\\n',col,'variance',data[col].var())\n",
    "for col in cols:\n",
    "    values=data[[col]].values.astype(float)\n",
    "    data[col]=pd.DataFrame(scaler.fit_transform(values))\n",
    "print('after normalisation')\n",
    "for col in cols:\n",
    "    print(col,'mean',data[col].mean(),'\\n',col,'variance',data[col].var())\n",
    "\n"
   ]
  },
  {
   "cell_type": "code",
   "execution_count": 42,
   "metadata": {},
   "outputs": [],
   "source": [
    "#applying models now\n",
    "score = data.score\n",
    "train = data[factor] \n",
    "lab_enc = preprocessing.LabelEncoder()\n",
    "score_encoded = lab_enc.fit_transform(score)"
   ]
  },
  {
   "cell_type": "code",
   "execution_count": 43,
   "metadata": {},
   "outputs": [],
   "source": [
    "x_train, y_train, x_test, y_test = train_test_split(train,score_encoded,train_size = 0.9, random_state = 2)"
   ]
  },
  {
   "cell_type": "code",
   "execution_count": 44,
   "metadata": {},
   "outputs": [
    {
     "name": "stderr",
     "output_type": "stream",
     "text": [
      "C:\\Users\\girish narayan.s\\Anaconda3\\lib\\site-packages\\sklearn\\ensemble\\forest.py:245: FutureWarning:\n",
      "\n",
      "The default value of n_estimators will change from 10 in version 0.20 to 100 in 0.22.\n",
      "\n"
     ]
    }
   ],
   "source": [
    "#random forest claassifier\n",
    "forest = RandomForestClassifier()\n",
    "forest.fit(x_train,x_test) #this is where the model trains\n",
    "y_pred = forest.predict(y_train)\n",
    "y1 = lab_enc.inverse_transform(y_test)\n",
    "y2 = lab_enc.inverse_transform(y_pred)"
   ]
  },
  {
   "cell_type": "code",
   "execution_count": 45,
   "metadata": {},
   "outputs": [
    {
     "data": {
      "text/plain": [
       "2"
      ]
     },
     "execution_count": 45,
     "metadata": {},
     "output_type": "execute_result"
    },
    {
     "data": {
      "image/png": "[encoded data removed]",
      "text/plain": [
       "<Figure size 432x288 with 1 Axes>"
      ]
     },
     "metadata": {
      "needs_background": "light"
     },
     "output_type": "display_data"
    }
   ],
   "source": [
    "sns.regplot(y1,y2)\n",
    "2#np.corrcoef(y1,y2)"
   ]
  },
  {
   "cell_type": "code",
   "execution_count": 46,
   "metadata": {},
   "outputs": [
    {
     "name": "stdout",
     "output_type": "stream",
     "text": [
      "0.7090909090909091\n"
     ]
    }
   ],
   "source": [
    "#the shaded region represnts the predicted value\n",
    "#calculating percentage accuarcy\n",
    "fit = 0\n",
    "for i in range(len(y1)):\n",
    "    if (y1[i] - 0.5) <= y2[i] <= (y1[i] + 0.5):\n",
    "        fit = fit + 1\n",
    "        \n",
    "print(fit/len(y1))"
   ]
  },
  {
   "cell_type": "code",
   "execution_count": 47,
   "metadata": {},
   "outputs": [],
   "source": [
    "\n",
    "#the end"
   ]
  },
  {
   "cell_type": "code",
   "execution_count": null,
   "metadata": {},
   "outputs": [],
   "source": []
  }
 ],
 "metadata": {
  "kernelspec": {
   "display_name": "Python 3",
   "language": "python",
   "name": "python3"
  },
  "language_info": {
   "codemirror_mode": {
    "name": "ipython",
    "version": 3
   },
   "file_extension": ".py",
   "mimetype": "text/x-python",
   "name": "python",
   "nbconvert_exporter": "python",
   "pygments_lexer": "ipython3",
   "version": "3.7.3"
  }
 },
 "nbformat": 4,
 "nbformat_minor": 2
}
