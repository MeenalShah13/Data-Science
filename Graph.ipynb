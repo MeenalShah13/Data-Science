{
 "cells": [
  {
   "cell_type": "code",
   "execution_count": 4,
   "metadata": {},
   "outputs": [],
   "source": [
    "import pandas as pd\n",
    "import numpy as nm\n",
    "import matplotlib.pyplot as plt"
   ]
  },
  {
   "cell_type": "code",
   "execution_count": 5,
   "metadata": {},
   "outputs": [],
   "source": [
    "%matplotlib inline"
   ]
  },
  {
   "cell_type": "code",
   "execution_count": 53,
   "metadata": {},
   "outputs": [],
   "source": [
    "df = pd.read_csv(\"C:/Users/HP/Downloads/cleanData2 (2).csv\")\n",
    "import csv"
   ]
  },
  {
   "cell_type": "code",
   "execution_count": 54,
   "metadata": {},
   "outputs": [
    {
     "name": "stdout",
     "output_type": "stream",
     "text": [
      "12.942482947804551\n"
     ]
    }
   ],
   "source": [
    "m1= df[\"st_optmag\"].mean()\n",
    "print(m1);\n"
   ]
  },
  {
   "cell_type": "code",
   "execution_count": 55,
   "metadata": {},
   "outputs": [
    {
     "name": "stdout",
     "output_type": "stream",
     "text": [
      "2.9334274703877106\n"
     ]
    }
   ],
   "source": [
    "s1=df.loc[:,\"st_optmag\"].std()\n",
    "print(s1);"
   ]
  },
  {
   "cell_type": "code",
   "execution_count": 56,
   "metadata": {},
   "outputs": [
    {
     "name": "stdout",
     "output_type": "stream",
     "text": [
      "3372\n"
     ]
    }
   ],
   "source": [
    "l1=df.shape[0]\n",
    "print(l1);"
   ]
  },
  {
   "cell_type": "code",
   "execution_count": 57,
   "metadata": {},
   "outputs": [
    {
     "data": {
      "text/plain": [
       "array([[<matplotlib.axes._subplots.AxesSubplot object at 0x00000269CDD18470>]],\n",
       "      dtype=object)"
      ]
     },
     "execution_count": 57,
     "metadata": {},
     "output_type": "execute_result"
    },
    {
     "data": {
      "image/png": "[encoded data removed]",
      "text/plain": [
       "<Figure size 432x288 with 1 Axes>"
      ]
     },
     "metadata": {
      "needs_background": "light"
     },
     "output_type": "display_data"
    }
   ],
   "source": [
    "#df.hist(column='pl_orbper')\n",
    "#df.plot(label='pl_orbper', legend=True)\n",
    "df.hist('st_optmag')"
   ]
  },
  {
   "cell_type": "code",
   "execution_count": 60,
   "metadata": {},
   "outputs": [],
   "source": [
    "df = pd.read_csv(\"C:/Users/HP/Downloads/Normalized1 (1).csv\")\n",
    "import csv"
   ]
  },
  {
   "cell_type": "code",
   "execution_count": 64,
   "metadata": {},
   "outputs": [
    {
     "data": {
      "text/plain": [
       "array([[<matplotlib.axes._subplots.AxesSubplot object at 0x00000269CE502B00>]],\n",
       "      dtype=object)"
      ]
     },
     "execution_count": 64,
     "metadata": {},
     "output_type": "execute_result"
    },
    {
     "data": {
      "image/png": "[encoded data removed]",
      "text/plain": [
       "<Figure size 432x288 with 1 Axes>"
      ]
     },
     "metadata": {
      "needs_background": "light"
     },
     "output_type": "display_data"
    }
   ],
   "source": [
    "df.hist('st_optmag')"
   ]
  },
  {
   "cell_type": "code",
   "execution_count": 65,
   "metadata": {},
   "outputs": [],
   "source": [
    "#DATA IS SKEWED"
   ]
  },
  {
   "cell_type": "code",
   "execution_count": 76,
   "metadata": {},
   "outputs": [],
   "source": [
    "#df.plot.bar()\n",
    "#plt.bar(df['pl_orbper'], df['st_dist']) \n",
    "#plt.xlabel(\"Orbit Period\") \n",
    "#plt.ylabel(\"Stellar Distance\") \n",
    "#plt.show()"
   ]
  },
  {
   "cell_type": "code",
   "execution_count": 9,
   "metadata": {},
   "outputs": [
    {
     "name": "stderr",
     "output_type": "stream",
     "text": [
      "C:\\Users\\Meenal\\Anaconda3\\lib\\site-packages\\ipykernel_launcher.py:4: MatplotlibDeprecationWarning: Adding an axes using the same arguments as a previous axes currently reuses the earlier instance.  In a future version, a new instance will always be created and returned.  Meanwhile, this warning can be suppressed, and the future behavior ensured, by passing a unique label to each axes instance.\n",
      "  after removing the cwd from sys.path.\n"
     ]
    },
    {
     "data": {
      "image/png": "[encoded data removed]",
      "text/plain": [
       "<Figure size 432x288 with 1 Axes>"
      ]
     },
     "metadata": {
      "needs_background": "light"
     },
     "output_type": "display_data"
    }
   ],
   "source": [
    "df = pd.read_csv(\"Normalized1.csv\")\n",
    "\n",
    "df.plot(x='pl_orbper', y='st_dist', kind='bar')\n",
    "ax1 = plt.axes()\n",
    "x_axis = ax1.axes.get_xaxis()\n",
    "x_axis.set_visible(False)\n",
    "plt.xlabel(\"Orbital Period\")\n",
    "plt.ylabel(\"Stellar Distance\")\n",
    "plt.show()"
   ]
  },
  {
   "cell_type": "markdown",
   "metadata": {
    "scrolled": true
   },
   "source": [
    "###### df.hist('pl_pnum')"
   ]
  },
  {
   "cell_type": "code",
   "execution_count": null,
   "metadata": {},
   "outputs": [],
   "source": [
    "df = pd.read_csv(\"C:/Users/HP/Downloads/Normalized1 (1).csv\")\n",
    "import csv\n"
   ]
  },
  {
   "cell_type": "code",
   "execution_count": 123,
   "metadata": {},
   "outputs": [],
   "source": [
    "df['pl_orbper1']=df.pl_orbper+(df.pl_orbpererr1+df.pl_orbpererr2)"
   ]
  },
  {
   "cell_type": "code",
   "execution_count": 100,
   "metadata": {},
   "outputs": [
    {
     "name": "stdout",
     "output_type": "stream",
     "text": [
      "      row_id                      pl_name              pl_discmethod  pl_pnum  \\\n",
      "0          1                     11 Com b            Radial Velocity        1   \n",
      "1          2                     11 UMi b            Radial Velocity        1   \n",
      "2          3                     14 And b            Radial Velocity        1   \n",
      "3          4                     14 Her b            Radial Velocity        1   \n",
      "4          5                   16 Cyg B b            Radial Velocity        1   \n",
      "5          6                     18 Del b            Radial Velocity        1   \n",
      "6          7      1RXS J160929.1-210524 b                    Imaging        1   \n",
      "7          8                     24 Sex b            Radial Velocity        2   \n",
      "8          9                     24 Sex c            Radial Velocity        2   \n",
      "9         10    2MASS J01225093-2439505 b                    Imaging        1   \n",
      "10        11    2MASS J02192210-3925225 b                    Imaging        1   \n",
      "11        12    2MASS J04414489+2301513 b                    Imaging        1   \n",
      "12        13    2MASS J12073346-3932539 b                    Imaging        1   \n",
      "13        14    2MASS J19383260+4603591 b  Eclipse Timing Variations        1   \n",
      "14        15  2MASS J21402931+1625183 A b                    Imaging        1   \n",
      "15        16                   30 Ari B b            Radial Velocity        1   \n",
      "16        17                      4 UMa b            Radial Velocity        1   \n",
      "17        18                     42 Dra b            Radial Velocity        1   \n",
      "18        19                     47 UMa b            Radial Velocity        3   \n",
      "19        20                     47 UMa c            Radial Velocity        3   \n",
      "20        21                     47 UMa d            Radial Velocity        3   \n",
      "21        22                     51 Eri b                    Imaging        1   \n",
      "22        23                     51 Peg b            Radial Velocity        1   \n",
      "23        24                     55 Cnc b            Radial Velocity        5   \n",
      "24        25                     55 Cnc c            Radial Velocity        5   \n",
      "25        26                     55 Cnc d            Radial Velocity        5   \n",
      "26        27                     55 Cnc e            Radial Velocity        5   \n",
      "27        28                     55 Cnc f            Radial Velocity        5   \n",
      "28        29                      6 Lyn b            Radial Velocity        1   \n",
      "29        30                     61 Vir b            Radial Velocity        3   \n",
      "...      ...                          ...                        ...      ...   \n",
      "3342    3343                     XO-2 S c            Radial Velocity        2   \n",
      "3343    3344                       XO-3 b                    Transit        1   \n",
      "3344    3345                       XO-4 b                    Transit        1   \n",
      "3345    3346                       XO-5 b                    Transit        1   \n",
      "3346    3347                    alf Ari b            Radial Velocity        1   \n",
      "3347    3348                    alf Tau b            Radial Velocity        1   \n",
      "3348    3349                    bet Cnc b            Radial Velocity        1   \n",
      "3349    3350                    bet Pic b                    Imaging        1   \n",
      "3350    3351                    bet UMi b            Radial Velocity        1   \n",
      "3351    3352                    eps CrB b            Radial Velocity        1   \n",
      "3352    3353                    eps Eri b            Radial Velocity        1   \n",
      "3353    3354                    eps Tau b            Radial Velocity        1   \n",
      "3354    3355                  gam 1 Leo b            Radial Velocity        1   \n",
      "3355    3356                    gam Cep b            Radial Velocity        1   \n",
      "3356    3357                    kap And b                    Imaging        1   \n",
      "3357    3358                    kap CrB b            Radial Velocity        1   \n",
      "3358    3359                     mu Leo b            Radial Velocity        1   \n",
      "3359    3360                     nu Oph b            Radial Velocity        2   \n",
      "3360    3361                     nu Oph c            Radial Velocity        2   \n",
      "3361    3362                    ome Ser b            Radial Velocity        1   \n",
      "3362    3363                    omi CrB b            Radial Velocity        1   \n",
      "3363    3364                    omi UMa b            Radial Velocity        1   \n",
      "3364    3365                  psi Dra B b            Radial Velocity        1   \n",
      "3365    3366                    tau Boo b            Radial Velocity        1   \n",
      "3366    3367                    tau Gem b            Radial Velocity        1   \n",
      "3367    3368                    ups And b            Radial Velocity        4   \n",
      "3368    3369                    ups And c            Radial Velocity        4   \n",
      "3369    3370                    ups And d            Radial Velocity        4   \n",
      "3370    3371                    ups And e            Radial Velocity        4   \n",
      "3371    3372                     xi Aql b            Radial Velocity        1   \n",
      "\n",
      "         pl_orbper  pl_orbpererr1  pl_orbpererr2        ra_str          ra  \\\n",
      "0       326.030000   3.200000e-01  -3.200000e-01  12h20m43.03s  185.179276   \n",
      "1       516.220000   3.250000e+00  -3.250000e+00  15h17m05.89s  229.274536   \n",
      "2       185.840000   2.300000e-01  -2.300000e-01  23h31m17.42s  352.822571   \n",
      "3      1773.400000   2.500000e+00  -2.500000e+00  16h10m24.31s  242.601303   \n",
      "4       798.500000   1.000000e+00  -1.000000e+00  19h41m51.97s  295.466553   \n",
      "5       993.300000   3.200000e+00  -3.200000e+00  20h58m25.94s  314.608063   \n",
      "6       723.050000   2.650000e+00  -3.850000e+00  16h09m30.30s  242.376268   \n",
      "7       452.800000   2.100000e+00  -4.500000e+00  10h23m28.37s  155.868210   \n",
      "8       883.000000   3.240000e+01  -1.380000e+01  10h23m28.37s  155.868210   \n",
      "9       789.600000   2.632000e+01  -1.144000e+01  01h22m50.94s   20.712243   \n",
      "10      696.200000   2.024000e+01  -9.080000e+00  02h19m22.11s   34.842106   \n",
      "11      602.800000   1.416000e+01  -6.720000e+00  04h41m44.90s   70.437073   \n",
      "12      509.400000   8.080000e+00  -4.360000e+00  12h07m33.47s  181.889447   \n",
      "13      416.000000   2.000000e+00  -2.000000e+00  19h38m32.61s  294.635865   \n",
      "14     7336.500000   1.934500e+03  -5.840000e+02  21h40m29.32s  325.122159   \n",
      "15      335.100000   2.500000e+00  -2.500000e+00  02h36m57.74s   39.240585   \n",
      "16      269.300000   1.960000e+00  -1.960000e+00  08h40m12.82s  130.053406   \n",
      "17      479.100000   6.200000e+00  -6.200000e+00  18h25m59.14s  276.496399   \n",
      "18     1078.000000   2.000000e+00  -2.000000e+00  10h59m27.97s  164.866562   \n",
      "19     2391.000000   1.000000e+02  -8.700000e+01  10h59m27.97s  164.866562   \n",
      "20    14002.000000   4.018000e+03  -5.095000e+03  10h59m27.97s  164.866562   \n",
      "21     7003.115393   2.009000e+03  -2.547500e+03  04h37m36.13s   69.400551   \n",
      "22        4.230785   3.600000e-05  -3.600000e-05  22h57m27.98s  344.366577   \n",
      "23       14.651520   1.500000e-04  -1.500000e-04  08h52m35.81s  133.149216   \n",
      "24       44.417500   7.300000e-03  -7.300000e-03  08h52m35.81s  133.149216   \n",
      "25     4825.000000   3.900000e+01  -3.900000e+01  08h52m35.81s  133.149216   \n",
      "26        0.736539   7.000000e-06  -7.000000e-06  08h52m35.81s  133.149216   \n",
      "27      262.000000   5.100000e-01  -5.100000e-01  08h52m35.81s  133.149216   \n",
      "28      874.774000   1.627000e+01  -8.470000e+00  06h30m47.11s   97.696281   \n",
      "29        4.215000   6.000000e-04  -6.000000e-04  13h18m24.32s  199.601318   \n",
      "...            ...            ...            ...           ...         ...   \n",
      "3342    120.800000   3.400000e-01  -3.400000e-01  07h48m07.48s  117.031174   \n",
      "3343      3.191524   6.800000e-06  -6.800000e-06  04h21m52.70s   65.469581   \n",
      "3344      4.125083   4.000000e-06  -4.000000e-06  07h21m33.17s  110.388223   \n",
      "3345      4.187756   6.000000e-07  -6.000000e-07  07h46m51.97s  116.716527   \n",
      "3346    380.800000   3.000000e-01  -3.000000e-01  02h07m10.41s   31.793364   \n",
      "3347    628.960000   9.000000e-01  -9.000000e-01  04h35m55.24s   68.980164   \n",
      "3348    605.200000   4.000000e+00  -4.000000e+00  08h16m30.92s  124.128838   \n",
      "3349   7665.000000   7.300000e+03  -7.300000e+02  05h47m17.09s   86.821198   \n",
      "3350    522.300000   2.700000e+00  -2.700000e+00  14h50m42.33s  222.676361   \n",
      "3351    417.900000   5.000000e-01  -5.000000e-01  15h57m35.25s  239.396881   \n",
      "3352   2502.000000   1.000000e+01  -1.000000e+01  03h32m55.84s   53.232685   \n",
      "3353    594.900000   5.300000e+00  -5.300000e+00  04h28m37.00s   67.154167   \n",
      "3354    428.500000   1.250000e+00  -1.250000e+00  10h19m58.36s  154.993149   \n",
      "3355    903.300000   1.500000e+00  -1.500000e+00  23h39m20.85s  354.836884   \n",
      "3356   1082.620000   1.520500e+01  -1.273500e+01  23h40m24.51s  355.102112   \n",
      "3357   1261.940000   2.891000e+01  -2.397000e+01  15h51m13.93s  237.808044   \n",
      "3358    357.800000   1.200000e+00  -1.200000e+00  09h52m45.82s  148.190903   \n",
      "3359    530.320000   3.500000e-01  -3.500000e-01  17h59m01.59s  269.756622   \n",
      "3360   3186.000000   1.400000e+01  -1.400000e+01  17h59m01.59s  269.756622   \n",
      "3361    277.020000   5.200000e-01  -5.100000e-01  15h50m17.55s  237.573105   \n",
      "3362    187.830000   5.400000e-01  -5.400000e-01  15h20m08.56s  230.035660   \n",
      "3363   1630.000000   3.500000e+01  -3.500000e+01  08h30m15.87s  127.566124   \n",
      "3364   3117.000000   4.200000e+01  -4.200000e+01  17h41m58.10s  265.492096   \n",
      "3365      3.312457   6.900000e-06  -6.900000e-06  13h47m15.74s  206.815598   \n",
      "3366    305.500000   1.000000e-01  -1.000000e-01  07h11m08.37s  107.784882   \n",
      "3367      4.617033   2.300000e-05  -2.300000e-05  01h36m47.84s   24.199345   \n",
      "3368    241.258000   6.400000e-02  -6.400000e-02  01h36m47.84s   24.199345   \n",
      "3369   1276.460000   5.700000e-01  -5.700000e-01  01h36m47.84s   24.199345   \n",
      "3370   3848.860000   7.400000e-01  -7.400000e-01  01h36m47.84s   24.199345   \n",
      "3371    136.750000   2.500000e-01  -2.500000e-01  19h54m14.88s  298.562012   \n",
      "\n",
      "           dec_str      ...        st_teff  st_tefferr1  st_tefferr2  st_mass  \\\n",
      "0     +17d47m34.3s      ...        4742.00       100.00  -100.000000     2.70   \n",
      "1     +71d49m26.0s      ...        4340.00        70.00   -70.000000     1.80   \n",
      "2     +39d14m10.3s      ...        4813.00        20.00   -20.000000     2.20   \n",
      "3     +43d49m03.5s      ...        5311.00        87.00   -87.000000     0.90   \n",
      "4     +50d31m03.1s      ...        5674.00        52.50   -52.500000     0.99   \n",
      "5     +10d50m21.4s      ...        4979.00        18.00   -18.000000     2.30   \n",
      "6     -21d04m58.9s      ...        4060.00       300.00  -200.000000     0.85   \n",
      "7     -00d54m08.1s      ...        5098.00        44.00   -44.000000     1.54   \n",
      "8     -00d54m08.1s      ...        5098.00        44.00   -44.000000     1.54   \n",
      "9     -24d39m50.6s      ...        3530.00        50.00   -50.000000     0.40   \n",
      "10    -39d25m22.5s      ...        3064.00        76.00   -76.000000     0.11   \n",
      "11    +23d01m51.4s      ...        2873.00        77.00   -77.000000     0.02   \n",
      "12    -39d32m54.0s      ...        2682.00        78.00   -78.000000     0.02   \n",
      "13    +46d03m59.1s      ...        2491.00        79.00   -79.000000     0.48   \n",
      "14    +16d25m18.3s      ...        2300.00        80.00   -80.000000     0.08   \n",
      "15    +24d38m53.0s      ...        6300.00        60.00   -60.000000     1.16   \n",
      "16    +64d19m40.6s      ...        4415.00        70.00   -70.000000     1.23   \n",
      "17    +65d33m48.5s      ...        4200.00        70.00   -70.000000     0.98   \n",
      "18    +40d25m48.9s      ...        5892.00        70.00   -70.000000     1.03   \n",
      "19    +40d25m48.9s      ...        5892.00        70.00   -70.000000     1.03   \n",
      "20    +40d25m48.9s      ...        5892.00        70.00   -70.000000     1.03   \n",
      "21    -02d28m24.8s      ...        5842.50        70.00   -70.000000     1.75   \n",
      "22    +20d46m07.8s      ...        5793.00        70.00   -70.000000     1.12   \n",
      "23    +28d19m50.9s      ...        5196.00        24.00   -24.000000     0.91   \n",
      "24    +28d19m50.9s      ...        5196.00        24.00   -24.000000     0.91   \n",
      "25    +28d19m50.9s      ...        5196.00        24.00   -24.000000     0.91   \n",
      "26    +28d19m50.9s      ...        5196.00        24.00   -24.000000     0.91   \n",
      "27    +28d19m50.9s      ...        5196.00        24.00   -24.000000     0.91   \n",
      "28    +58d09m45.5s      ...        4978.00        18.00   -18.000000     1.70   \n",
      "29    -18d18m40.3s      ...        5577.00        33.00   -33.000000     0.94   \n",
      "...            ...      ...            ...          ...          ...      ...   \n",
      "3342  +50d13m03.2s      ...        5399.00        55.00   -55.000000     0.98   \n",
      "3343  +57d49m01.9s      ...        6429.00       100.00   -62.500000     1.21   \n",
      "3344  +58d16m05.2s      ...        5700.00        70.00   -70.000000     1.32   \n",
      "3345  +39d05m40.5s      ...        5430.00        70.00   -70.000000     1.04   \n",
      "3346  +23d27m44.7s      ...        4553.00        15.00   -70.000000     1.50   \n",
      "3347  +16d30m33.5s      ...        4055.00        70.00   -70.000000     1.13   \n",
      "3348  +09d11m08.0s      ...        4092.10        17.50   -17.500000     1.70   \n",
      "3349  -51d03m59.4s      ...        4109.05        21.25   -21.250000     1.76   \n",
      "3350  +74d09m19.8s      ...        4126.00        25.00   -25.000000     1.40   \n",
      "3351  +26d52m40.4s      ...        4406.00        15.00   -15.000000     1.70   \n",
      "3352  -09d27m29.7s      ...        4653.50        17.50   -72.000000     0.83   \n",
      "3353  +19d10m49.6s      ...        4901.00        20.00  -129.000000     2.70   \n",
      "3354  +19d50m29.4s      ...        4330.00        15.00  -186.000000     1.23   \n",
      "3355  +77d37m56.2s      ...        7615.00       157.50  -243.000000     1.40   \n",
      "3356  +44d20m02.2s      ...       10900.00       300.00  -300.000000     2.60   \n",
      "3357  +35d39m26.6s      ...        4788.00        17.00   -17.000000     1.47   \n",
      "3358  +26d00m25.0s      ...        4538.20        27.50   -27.500000     1.50   \n",
      "3359  -09d46m25.1s      ...        4928.00        25.00   -21.666667     3.04   \n",
      "3360  -09d46m25.1s      ...        4928.00        25.00   -15.833333     3.04   \n",
      "3361  +02d11m47.4s      ...        4770.00        10.00   -10.000000     2.17   \n",
      "3362  +29d36m58.4s      ...        4749.00        20.00   -31.666667     2.13   \n",
      "3363  +60d43m05.4s      ...        5242.00        10.00   -53.333333     3.09   \n",
      "3364  +72d09m24.9s      ...        6212.00        75.00   -75.000000     1.19   \n",
      "3365  +17d27m24.9s      ...        6400.00        50.00   -50.000000     1.34   \n",
      "3366  +30d14m42.6s      ...        4388.00        25.00   -25.000000     2.30   \n",
      "3367  +41d24m19.7s      ...        4466.40        26.00   -26.000000     1.30   \n",
      "3368  +41d24m19.7s      ...        4544.80        27.00   -27.000000     1.30   \n",
      "3369  +41d24m19.7s      ...        4623.20        28.00   -28.000000     1.30   \n",
      "3370  +41d24m19.7s      ...        4701.60        29.00   -29.000000     1.30   \n",
      "3371  +08d27m41.2s      ...        4780.00        30.00   -30.000000     2.20   \n",
      "\n",
      "      st_masserr1 st_masserr2     st_rad  st_raderr1  st_raderr2    pl_orbper1  \n",
      "0        0.300000   -0.300000  19.000000    2.000000   -2.000000    326.030000  \n",
      "1        0.250000   -0.250000  24.080000    1.840000   -1.840000    516.220000  \n",
      "2        0.100000   -0.200000  11.000000    1.000000   -1.000000    185.840000  \n",
      "3        0.050000   -0.050000  10.166667    0.816000   -0.816000   1773.400000  \n",
      "4        0.100000   -0.066667   9.333333    0.632000   -0.632000    798.500000  \n",
      "5        0.150000   -0.083333   8.500000    0.448000   -0.448000    993.300000  \n",
      "6        0.200000   -0.100000   6.700000    0.264000   -0.264000    721.850000  \n",
      "7        0.080000   -0.080000   4.900000    0.080000   -0.080000    450.400000  \n",
      "8        0.080000   -0.080000   4.900000    0.080000   -0.080000    901.600000  \n",
      "9        0.050000   -0.050000   2.590000    0.045000   -0.045000    804.480000  \n",
      "10       0.010000   -0.010000   0.280000    0.010000   -0.010000    707.360000  \n",
      "11       0.016667   -0.016667   0.240000    0.020000   -0.017500    610.240000  \n",
      "12       0.023333   -0.023333   0.200000    0.030000   -0.025000    513.120000  \n",
      "13       0.030000   -0.030000   0.160000    0.040000   -0.032500    416.000000  \n",
      "14       0.060000   -0.060000   0.120000    0.050000   -0.040000   8687.000000  \n",
      "15       0.040000   -0.040000   1.130000    0.030000   -0.030000    335.100000  \n",
      "16       0.150000   -0.150000  18.110000    1.470000   -1.470000    269.300000  \n",
      "17       0.050000   -0.050000  22.030000    1.000000   -1.000000    479.100000  \n",
      "18       0.050000   -0.050000   1.230000    0.835000   -0.835000   1078.000000  \n",
      "19       0.050000   -0.050000   1.230000    0.670000   -0.670000   2404.000000  \n",
      "20       0.050000   -0.050000   1.230000    0.505000   -0.505000  12925.000000  \n",
      "21       0.050000   -0.050000   1.215000    0.340000   -0.340000   6464.615393  \n",
      "22       0.060000   -0.060000   1.200000    0.175000   -0.175000      4.230785  \n",
      "23       0.010000   -0.010000   0.940000    0.010000   -0.010000     14.651520  \n",
      "24       0.010000   -0.010000   0.940000    0.010000   -0.010000     44.417500  \n",
      "25       0.010000   -0.010000   0.940000    0.010000   -0.010000   4825.000000  \n",
      "26       0.010000   -0.010000   0.940000    0.010000   -0.010000      0.736539  \n",
      "27       0.010000   -0.010000   0.940000    0.010000   -0.010000    262.000000  \n",
      "28       0.100000   -0.200000   5.200000    0.400000   -0.300000    882.574000  \n",
      "29       0.030000   -0.030000   0.960000    0.010000   -0.010000      4.215000  \n",
      "...           ...         ...        ...         ...         ...           ...  \n",
      "3342     0.050000   -0.050000   1.020000    0.090000   -0.070000    120.800000  \n",
      "3343     0.070000   -0.035000   1.380000    0.080000   -0.060000      3.191524  \n",
      "3344     0.020000   -0.020000   1.550000    0.050000   -0.050000      4.125083  \n",
      "3345     0.030000   -0.030000   1.130000    0.030000   -0.030000      4.187756  \n",
      "3346     0.200000   -0.070000  13.900000    0.300000   -0.065000    380.800000  \n",
      "3347     0.110000   -0.110000  45.100000    0.100000   -0.100000    628.960000  \n",
      "3348     0.100000   -0.100000  47.200000    1.300000   -1.300000    605.200000  \n",
      "3349     0.180000   -0.170000  42.750000    1.200000   -1.200000  14235.000000  \n",
      "3350     0.200000   -0.200000  38.300000    1.100000   -1.100000    522.300000  \n",
      "3351     0.100000   -0.100000  21.000000    0.933333   -0.948571    417.900000  \n",
      "3352     0.050000   -0.050000  17.350000    0.766667   -0.797143   2502.000000  \n",
      "3353     0.100000   -0.073333  13.700000    0.600000   -0.645714    594.900000  \n",
      "3354     0.210000   -0.096667  31.880000    1.610000   -0.494286    428.500000  \n",
      "3355     0.120000   -0.120000   4.900000    1.086667   -0.342857    903.300000  \n",
      "3356     0.200000   -0.200000   4.980000    0.563333   -0.191429   1085.090000  \n",
      "3357     0.040000   -0.040000   5.060000    0.040000   -0.040000   1266.880000  \n",
      "3358     0.100000   -0.100000  11.400000    0.200000   -0.200000    357.800000  \n",
      "3359     0.060000   -0.163333  15.100000    1.100000   -0.406667    530.320000  \n",
      "3360     0.060000   -0.226667  15.100000    1.100000   -0.613333   3186.000000  \n",
      "3361     0.210000   -0.290000  12.300000    0.880000   -0.820000    277.030000  \n",
      "3362     0.230000   -0.216667  10.500000    0.700000   -0.627500    187.830000  \n",
      "3363     0.070000   -0.143333  14.100000    1.000000   -0.435000   1630.000000  \n",
      "3364     0.070000   -0.070000   7.780000    0.525000   -0.242500   3117.000000  \n",
      "3365     0.050000   -0.050000   1.460000    0.050000   -0.050000      3.312457  \n",
      "3366     0.300000   -0.300000  26.800000    0.700000   -0.700000    305.500000  \n",
      "3367     0.300000   -0.300000   1.560000    0.700000   -0.700000      4.617033  \n",
      "3368     0.300000   -0.300000   1.560000    0.700000   -0.700000    241.258000  \n",
      "3369     0.300000   -0.300000   1.560000    0.700000   -0.700000   1276.460000  \n",
      "3370     0.300000   -0.300000   1.560000    0.700000   -0.700000   3848.860000  \n",
      "3371     0.300000   -0.300000  12.000000    0.700000   -0.700000    136.750000  \n",
      "\n",
      "[3372 rows x 26 columns]\n"
     ]
    }
   ],
   "source": [
    "print(df)"
   ]
  },
  {
   "cell_type": "code",
   "execution_count": 124,
   "metadata": {},
   "outputs": [],
   "source": [
    "df['st_dist1']=df.st_dist+(df.st_disterr1+df.st_disterr2)"
   ]
  },
  {
   "cell_type": "code",
   "execution_count": 125,
   "metadata": {},
   "outputs": [],
   "source": [
    "df['st_teff1']=df.st_teff+(df.st_tefferr1+df.st_tefferr2)"
   ]
  },
  {
   "cell_type": "code",
   "execution_count": 126,
   "metadata": {},
   "outputs": [],
   "source": [
    "df['st_mass']=df.st_mass+(df.st_masserr1+df.st_masserr2)"
   ]
  },
  {
   "cell_type": "code",
   "execution_count": 108,
   "metadata": {},
   "outputs": [],
   "source": [
    "p= df[\"st_mass\"].mean()"
   ]
  },
  {
   "cell_type": "code",
   "execution_count": 110,
   "metadata": {},
   "outputs": [
    {
     "name": "stdout",
     "output_type": "stream",
     "text": [
      "0.996709667852907\n"
     ]
    }
   ],
   "source": [
    "print(p)"
   ]
  },
  {
   "cell_type": "code",
   "execution_count": 129,
   "metadata": {},
   "outputs": [
    {
     "name": "stdout",
     "output_type": "stream",
     "text": [
      "      row_id                      pl_name              pl_discmethod  pl_pnum  \\\n",
      "0          1                     11 Com b            Radial Velocity        1   \n",
      "1          2                     11 UMi b            Radial Velocity        1   \n",
      "2          3                     14 And b            Radial Velocity        1   \n",
      "3          4                     14 Her b            Radial Velocity        1   \n",
      "4          5                   16 Cyg B b            Radial Velocity        1   \n",
      "5          6                     18 Del b            Radial Velocity        1   \n",
      "6          7      1RXS J160929.1-210524 b                    Imaging        1   \n",
      "7          8                     24 Sex b            Radial Velocity        2   \n",
      "8          9                     24 Sex c            Radial Velocity        2   \n",
      "9         10    2MASS J01225093-2439505 b                    Imaging        1   \n",
      "10        11    2MASS J02192210-3925225 b                    Imaging        1   \n",
      "11        12    2MASS J04414489+2301513 b                    Imaging        1   \n",
      "12        13    2MASS J12073346-3932539 b                    Imaging        1   \n",
      "13        14    2MASS J19383260+4603591 b  Eclipse Timing Variations        1   \n",
      "14        15  2MASS J21402931+1625183 A b                    Imaging        1   \n",
      "15        16                   30 Ari B b            Radial Velocity        1   \n",
      "16        17                      4 UMa b            Radial Velocity        1   \n",
      "17        18                     42 Dra b            Radial Velocity        1   \n",
      "18        19                     47 UMa b            Radial Velocity        3   \n",
      "19        20                     47 UMa c            Radial Velocity        3   \n",
      "20        21                     47 UMa d            Radial Velocity        3   \n",
      "21        22                     51 Eri b                    Imaging        1   \n",
      "22        23                     51 Peg b            Radial Velocity        1   \n",
      "23        24                     55 Cnc b            Radial Velocity        5   \n",
      "24        25                     55 Cnc c            Radial Velocity        5   \n",
      "25        26                     55 Cnc d            Radial Velocity        5   \n",
      "26        27                     55 Cnc e            Radial Velocity        5   \n",
      "27        28                     55 Cnc f            Radial Velocity        5   \n",
      "28        29                      6 Lyn b            Radial Velocity        1   \n",
      "29        30                     61 Vir b            Radial Velocity        3   \n",
      "...      ...                          ...                        ...      ...   \n",
      "3342    3343                     XO-2 S c            Radial Velocity        2   \n",
      "3343    3344                       XO-3 b                    Transit        1   \n",
      "3344    3345                       XO-4 b                    Transit        1   \n",
      "3345    3346                       XO-5 b                    Transit        1   \n",
      "3346    3347                    alf Ari b            Radial Velocity        1   \n",
      "3347    3348                    alf Tau b            Radial Velocity        1   \n",
      "3348    3349                    bet Cnc b            Radial Velocity        1   \n",
      "3349    3350                    bet Pic b                    Imaging        1   \n",
      "3350    3351                    bet UMi b            Radial Velocity        1   \n",
      "3351    3352                    eps CrB b            Radial Velocity        1   \n",
      "3352    3353                    eps Eri b            Radial Velocity        1   \n",
      "3353    3354                    eps Tau b            Radial Velocity        1   \n",
      "3354    3355                  gam 1 Leo b            Radial Velocity        1   \n",
      "3355    3356                    gam Cep b            Radial Velocity        1   \n",
      "3356    3357                    kap And b                    Imaging        1   \n",
      "3357    3358                    kap CrB b            Radial Velocity        1   \n",
      "3358    3359                     mu Leo b            Radial Velocity        1   \n",
      "3359    3360                     nu Oph b            Radial Velocity        2   \n",
      "3360    3361                     nu Oph c            Radial Velocity        2   \n",
      "3361    3362                    ome Ser b            Radial Velocity        1   \n",
      "3362    3363                    omi CrB b            Radial Velocity        1   \n",
      "3363    3364                    omi UMa b            Radial Velocity        1   \n",
      "3364    3365                  psi Dra B b            Radial Velocity        1   \n",
      "3365    3366                    tau Boo b            Radial Velocity        1   \n",
      "3366    3367                    tau Gem b            Radial Velocity        1   \n",
      "3367    3368                    ups And b            Radial Velocity        4   \n",
      "3368    3369                    ups And c            Radial Velocity        4   \n",
      "3369    3370                    ups And d            Radial Velocity        4   \n",
      "3370    3371                    ups And e            Radial Velocity        4   \n",
      "3371    3372                     xi Aql b            Radial Velocity        1   \n",
      "\n",
      "         pl_orbper  pl_orbpererr1  pl_orbpererr2        ra_str          ra  \\\n",
      "0       326.030000   3.200000e-01  -3.200000e-01  12h20m43.03s  185.179276   \n",
      "1       516.220000   3.250000e+00  -3.250000e+00  15h17m05.89s  229.274536   \n",
      "2       185.840000   2.300000e-01  -2.300000e-01  23h31m17.42s  352.822571   \n",
      "3      1773.400000   2.500000e+00  -2.500000e+00  16h10m24.31s  242.601303   \n",
      "4       798.500000   1.000000e+00  -1.000000e+00  19h41m51.97s  295.466553   \n",
      "5       993.300000   3.200000e+00  -3.200000e+00  20h58m25.94s  314.608063   \n",
      "6       723.050000   2.650000e+00  -3.850000e+00  16h09m30.30s  242.376268   \n",
      "7       452.800000   2.100000e+00  -4.500000e+00  10h23m28.37s  155.868210   \n",
      "8       883.000000   3.240000e+01  -1.380000e+01  10h23m28.37s  155.868210   \n",
      "9       789.600000   2.632000e+01  -1.144000e+01  01h22m50.94s   20.712243   \n",
      "10      696.200000   2.024000e+01  -9.080000e+00  02h19m22.11s   34.842106   \n",
      "11      602.800000   1.416000e+01  -6.720000e+00  04h41m44.90s   70.437073   \n",
      "12      509.400000   8.080000e+00  -4.360000e+00  12h07m33.47s  181.889447   \n",
      "13      416.000000   2.000000e+00  -2.000000e+00  19h38m32.61s  294.635865   \n",
      "14     7336.500000   1.934500e+03  -5.840000e+02  21h40m29.32s  325.122159   \n",
      "15      335.100000   2.500000e+00  -2.500000e+00  02h36m57.74s   39.240585   \n",
      "16      269.300000   1.960000e+00  -1.960000e+00  08h40m12.82s  130.053406   \n",
      "17      479.100000   6.200000e+00  -6.200000e+00  18h25m59.14s  276.496399   \n",
      "18     1078.000000   2.000000e+00  -2.000000e+00  10h59m27.97s  164.866562   \n",
      "19     2391.000000   1.000000e+02  -8.700000e+01  10h59m27.97s  164.866562   \n",
      "20    14002.000000   4.018000e+03  -5.095000e+03  10h59m27.97s  164.866562   \n",
      "21     7003.115393   2.009000e+03  -2.547500e+03  04h37m36.13s   69.400551   \n",
      "22        4.230785   3.600000e-05  -3.600000e-05  22h57m27.98s  344.366577   \n",
      "23       14.651520   1.500000e-04  -1.500000e-04  08h52m35.81s  133.149216   \n",
      "24       44.417500   7.300000e-03  -7.300000e-03  08h52m35.81s  133.149216   \n",
      "25     4825.000000   3.900000e+01  -3.900000e+01  08h52m35.81s  133.149216   \n",
      "26        0.736539   7.000000e-06  -7.000000e-06  08h52m35.81s  133.149216   \n",
      "27      262.000000   5.100000e-01  -5.100000e-01  08h52m35.81s  133.149216   \n",
      "28      874.774000   1.627000e+01  -8.470000e+00  06h30m47.11s   97.696281   \n",
      "29        4.215000   6.000000e-04  -6.000000e-04  13h18m24.32s  199.601318   \n",
      "...            ...            ...            ...           ...         ...   \n",
      "3342    120.800000   3.400000e-01  -3.400000e-01  07h48m07.48s  117.031174   \n",
      "3343      3.191524   6.800000e-06  -6.800000e-06  04h21m52.70s   65.469581   \n",
      "3344      4.125083   4.000000e-06  -4.000000e-06  07h21m33.17s  110.388223   \n",
      "3345      4.187756   6.000000e-07  -6.000000e-07  07h46m51.97s  116.716527   \n",
      "3346    380.800000   3.000000e-01  -3.000000e-01  02h07m10.41s   31.793364   \n",
      "3347    628.960000   9.000000e-01  -9.000000e-01  04h35m55.24s   68.980164   \n",
      "3348    605.200000   4.000000e+00  -4.000000e+00  08h16m30.92s  124.128838   \n",
      "3349   7665.000000   7.300000e+03  -7.300000e+02  05h47m17.09s   86.821198   \n",
      "3350    522.300000   2.700000e+00  -2.700000e+00  14h50m42.33s  222.676361   \n",
      "3351    417.900000   5.000000e-01  -5.000000e-01  15h57m35.25s  239.396881   \n",
      "3352   2502.000000   1.000000e+01  -1.000000e+01  03h32m55.84s   53.232685   \n",
      "3353    594.900000   5.300000e+00  -5.300000e+00  04h28m37.00s   67.154167   \n",
      "3354    428.500000   1.250000e+00  -1.250000e+00  10h19m58.36s  154.993149   \n",
      "3355    903.300000   1.500000e+00  -1.500000e+00  23h39m20.85s  354.836884   \n",
      "3356   1082.620000   1.520500e+01  -1.273500e+01  23h40m24.51s  355.102112   \n",
      "3357   1261.940000   2.891000e+01  -2.397000e+01  15h51m13.93s  237.808044   \n",
      "3358    357.800000   1.200000e+00  -1.200000e+00  09h52m45.82s  148.190903   \n",
      "3359    530.320000   3.500000e-01  -3.500000e-01  17h59m01.59s  269.756622   \n",
      "3360   3186.000000   1.400000e+01  -1.400000e+01  17h59m01.59s  269.756622   \n",
      "3361    277.020000   5.200000e-01  -5.100000e-01  15h50m17.55s  237.573105   \n",
      "3362    187.830000   5.400000e-01  -5.400000e-01  15h20m08.56s  230.035660   \n",
      "3363   1630.000000   3.500000e+01  -3.500000e+01  08h30m15.87s  127.566124   \n",
      "3364   3117.000000   4.200000e+01  -4.200000e+01  17h41m58.10s  265.492096   \n",
      "3365      3.312457   6.900000e-06  -6.900000e-06  13h47m15.74s  206.815598   \n",
      "3366    305.500000   1.000000e-01  -1.000000e-01  07h11m08.37s  107.784882   \n",
      "3367      4.617033   2.300000e-05  -2.300000e-05  01h36m47.84s   24.199345   \n",
      "3368    241.258000   6.400000e-02  -6.400000e-02  01h36m47.84s   24.199345   \n",
      "3369   1276.460000   5.700000e-01  -5.700000e-01  01h36m47.84s   24.199345   \n",
      "3370   3848.860000   7.400000e-01  -7.400000e-01  01h36m47.84s   24.199345   \n",
      "3371    136.750000   2.500000e-01  -2.500000e-01  19h54m14.88s  298.562012   \n",
      "\n",
      "           dec_str    ...     st_tefferr2  st_mass  st_masserr1  st_masserr2  \\\n",
      "0     +17d47m34.3s    ...     -100.000000    2.700     0.300000    -0.300000   \n",
      "1     +71d49m26.0s    ...      -70.000000    1.800     0.250000    -0.250000   \n",
      "2     +39d14m10.3s    ...      -20.000000    1.900     0.100000    -0.200000   \n",
      "3     +43d49m03.5s    ...      -87.000000    0.900     0.050000    -0.050000   \n",
      "4     +50d31m03.1s    ...      -52.500000    1.090     0.100000    -0.066667   \n",
      "5     +10d50m21.4s    ...      -18.000000    2.500     0.150000    -0.083333   \n",
      "6     -21d04m58.9s    ...     -200.000000    1.150     0.200000    -0.100000   \n",
      "7     -00d54m08.1s    ...      -44.000000    1.540     0.080000    -0.080000   \n",
      "8     -00d54m08.1s    ...      -44.000000    1.540     0.080000    -0.080000   \n",
      "9     -24d39m50.6s    ...      -50.000000    0.400     0.050000    -0.050000   \n",
      "10    -39d25m22.5s    ...      -76.000000    0.110     0.010000    -0.010000   \n",
      "11    +23d01m51.4s    ...      -77.000000    0.020     0.016667    -0.016667   \n",
      "12    -39d32m54.0s    ...      -78.000000    0.020     0.023333    -0.023333   \n",
      "13    +46d03m59.1s    ...      -79.000000    0.480     0.030000    -0.030000   \n",
      "14    +16d25m18.3s    ...      -80.000000    0.080     0.060000    -0.060000   \n",
      "15    +24d38m53.0s    ...      -60.000000    1.160     0.040000    -0.040000   \n",
      "16    +64d19m40.6s    ...      -70.000000    1.230     0.150000    -0.150000   \n",
      "17    +65d33m48.5s    ...      -70.000000    0.980     0.050000    -0.050000   \n",
      "18    +40d25m48.9s    ...      -70.000000    1.030     0.050000    -0.050000   \n",
      "19    +40d25m48.9s    ...      -70.000000    1.030     0.050000    -0.050000   \n",
      "20    +40d25m48.9s    ...      -70.000000    1.030     0.050000    -0.050000   \n",
      "21    -02d28m24.8s    ...      -70.000000    1.750     0.050000    -0.050000   \n",
      "22    +20d46m07.8s    ...      -70.000000    1.120     0.060000    -0.060000   \n",
      "23    +28d19m50.9s    ...      -24.000000    0.910     0.010000    -0.010000   \n",
      "24    +28d19m50.9s    ...      -24.000000    0.910     0.010000    -0.010000   \n",
      "25    +28d19m50.9s    ...      -24.000000    0.910     0.010000    -0.010000   \n",
      "26    +28d19m50.9s    ...      -24.000000    0.910     0.010000    -0.010000   \n",
      "27    +28d19m50.9s    ...      -24.000000    0.910     0.010000    -0.010000   \n",
      "28    +58d09m45.5s    ...      -18.000000    1.400     0.100000    -0.200000   \n",
      "29    -18d18m40.3s    ...      -33.000000    0.940     0.030000    -0.030000   \n",
      "...            ...    ...             ...      ...          ...          ...   \n",
      "3342  +50d13m03.2s    ...      -55.000000    0.980     0.050000    -0.050000   \n",
      "3343  +57d49m01.9s    ...      -62.500000    1.315     0.070000    -0.035000   \n",
      "3344  +58d16m05.2s    ...      -70.000000    1.320     0.020000    -0.020000   \n",
      "3345  +39d05m40.5s    ...      -70.000000    1.040     0.030000    -0.030000   \n",
      "3346  +23d27m44.7s    ...      -70.000000    1.890     0.200000    -0.070000   \n",
      "3347  +16d30m33.5s    ...      -70.000000    1.130     0.110000    -0.110000   \n",
      "3348  +09d11m08.0s    ...      -17.500000    1.700     0.100000    -0.100000   \n",
      "3349  -51d03m59.4s    ...      -21.250000    1.790     0.180000    -0.170000   \n",
      "3350  +74d09m19.8s    ...      -25.000000    1.400     0.200000    -0.200000   \n",
      "3351  +26d52m40.4s    ...      -15.000000    1.700     0.100000    -0.100000   \n",
      "3352  -09d27m29.7s    ...      -72.000000    0.830     0.050000    -0.050000   \n",
      "3353  +19d10m49.6s    ...     -129.000000    2.780     0.100000    -0.073333   \n",
      "3354  +19d50m29.4s    ...     -186.000000    1.570     0.210000    -0.096667   \n",
      "3355  +77d37m56.2s    ...     -243.000000    1.400     0.120000    -0.120000   \n",
      "3356  +44d20m02.2s    ...     -300.000000    2.600     0.200000    -0.200000   \n",
      "3357  +35d39m26.6s    ...      -17.000000    1.470     0.040000    -0.040000   \n",
      "3358  +26d00m25.0s    ...      -27.500000    1.500     0.100000    -0.100000   \n",
      "3359  -09d46m25.1s    ...      -21.666667    2.730     0.060000    -0.163333   \n",
      "3360  -09d46m25.1s    ...      -15.833333    2.540     0.060000    -0.226667   \n",
      "3361  +02d11m47.4s    ...      -10.000000    1.930     0.210000    -0.290000   \n",
      "3362  +29d36m58.4s    ...      -31.666667    2.170     0.230000    -0.216667   \n",
      "3363  +60d43m05.4s    ...      -53.333333    2.870     0.070000    -0.143333   \n",
      "3364  +72d09m24.9s    ...      -75.000000    1.190     0.070000    -0.070000   \n",
      "3365  +17d27m24.9s    ...      -50.000000    1.340     0.050000    -0.050000   \n",
      "3366  +30d14m42.6s    ...      -25.000000    2.300     0.300000    -0.300000   \n",
      "3367  +41d24m19.7s    ...      -26.000000    1.300     0.300000    -0.300000   \n",
      "3368  +41d24m19.7s    ...      -27.000000    1.300     0.300000    -0.300000   \n",
      "3369  +41d24m19.7s    ...      -28.000000    1.300     0.300000    -0.300000   \n",
      "3370  +41d24m19.7s    ...      -29.000000    1.300     0.300000    -0.300000   \n",
      "3371  +08d27m41.2s    ...      -30.000000    2.200     0.300000    -0.300000   \n",
      "\n",
      "         st_rad st_raderr1  st_raderr2    pl_orbper1  st_dist1  st_teff1  \n",
      "0     19.000000   2.000000   -2.000000    326.030000   104.560   4742.00  \n",
      "1     24.080000   1.840000   -1.840000    516.220000   117.280   4340.00  \n",
      "2     11.000000   1.000000   -1.000000    185.840000    75.040   4813.00  \n",
      "3     10.166667   0.816000   -0.816000   1773.400000    18.120   5311.00  \n",
      "4      9.333333   0.632000   -0.632000    798.500000    21.410   5674.00  \n",
      "5      8.500000   0.448000   -0.448000    993.300000    71.960   4979.00  \n",
      "6      6.700000   0.264000   -0.264000    721.850000   145.000   4360.00  \n",
      "7      4.900000   0.080000   -0.080000    450.400000    72.870   5098.00  \n",
      "8      4.900000   0.080000   -0.080000    901.600000    72.870   5098.00  \n",
      "9      2.590000   0.045000   -0.045000    804.480000    36.000   3530.00  \n",
      "10     0.280000   0.010000   -0.010000    707.360000    39.400   3064.00  \n",
      "11     0.240000   0.020000   -0.017500    610.240000   140.000   2873.00  \n",
      "12     0.200000   0.030000   -0.025000    513.120000    52.400   2682.00  \n",
      "13     0.160000   0.040000   -0.032500    416.000000    38.700   2491.00  \n",
      "14     0.120000   0.050000   -0.040000   8687.000000    25.000   2300.00  \n",
      "15     1.130000   0.030000   -0.030000    335.100000    38.980   6300.00  \n",
      "16    18.110000   1.470000   -1.470000    269.300000    75.990   4415.00  \n",
      "17    22.030000   1.000000   -1.000000    479.100000    96.020   4200.00  \n",
      "18     1.230000   0.835000   -0.835000   1078.000000    14.080   5892.00  \n",
      "19     1.230000   0.670000   -0.670000   2404.000000    14.080   5892.00  \n",
      "20     1.230000   0.505000   -0.505000  12925.000000    14.080   5892.00  \n",
      "21     1.215000   0.340000   -0.340000   6464.615393    29.400   5842.50  \n",
      "22     1.200000   0.175000   -0.175000      4.230785    15.360   5793.00  \n",
      "23     0.940000   0.010000   -0.010000     14.651520    12.530   5196.00  \n",
      "24     0.940000   0.010000   -0.010000     44.417500    12.530   5196.00  \n",
      "25     0.940000   0.010000   -0.010000   4825.000000    12.530   5196.00  \n",
      "26     0.940000   0.010000   -0.010000      0.736539    12.530   5196.00  \n",
      "27     0.940000   0.010000   -0.010000    262.000000    12.530   5196.00  \n",
      "28     5.200000   0.400000   -0.300000    882.574000    56.290   4978.00  \n",
      "29     0.960000   0.010000   -0.010000      4.215000     8.520   5577.00  \n",
      "...         ...        ...         ...           ...       ...       ...  \n",
      "3342   1.020000   0.090000   -0.070000    120.800000   147.700   5399.00  \n",
      "3343   1.380000   0.080000   -0.060000      3.191524   174.000   6541.50  \n",
      "3344   1.550000   0.050000   -0.050000      4.125083   293.000   5700.00  \n",
      "3345   1.130000   0.030000   -0.030000      4.187756   260.000   5430.00  \n",
      "3346  13.900000   0.300000   -0.065000    380.800000    20.180   4388.00  \n",
      "3347  45.100000   0.100000   -0.100000    628.960000    20.430   4055.00  \n",
      "3348  47.200000   1.300000   -1.300000    605.200000    85.030   4092.10  \n",
      "3349  42.750000   1.200000   -1.200000  14235.000000    19.280   4109.05  \n",
      "3350  38.300000   1.100000   -1.100000    522.300000    38.690   4126.00  \n",
      "3351  21.000000   0.933333   -0.948571    417.900000    69.400   4406.00  \n",
      "3352  17.350000   0.766667   -0.797143   2502.000000     3.210   4490.00  \n",
      "3353  13.700000   0.600000   -0.645714    594.900000    47.080   4574.00  \n",
      "3354  31.880000   1.610000   -0.494286    428.500000    38.280   3817.00  \n",
      "3355   4.900000   1.086667   -0.342857    903.300000    13.790   7358.50  \n",
      "3356   4.980000   0.563333   -0.191429   1085.090000    51.670  10900.00  \n",
      "3357   5.060000   0.040000   -0.040000   1266.880000    30.500   4788.00  \n",
      "3358  11.400000   0.200000   -0.200000    357.800000    40.480   4538.20  \n",
      "3359  15.100000   1.100000   -0.406667    530.320000    46.450   4938.00  \n",
      "3360  15.100000   1.100000   -0.613333   3186.000000    46.450   4955.50  \n",
      "3361  12.300000   0.880000   -0.820000    277.030000    78.930   4770.00  \n",
      "3362  10.500000   0.700000   -0.627500    187.830000    82.080   4714.00  \n",
      "3363  14.100000   1.000000   -0.435000   1630.000000    55.860   5112.00  \n",
      "3364   7.780000   0.525000   -0.242500   3117.000000    21.935   6212.00  \n",
      "3365   1.460000   0.050000   -0.050000      3.312457    15.600   6400.00  \n",
      "3366  26.800000   0.700000   -0.700000    305.500000    88.010   4388.00  \n",
      "3367   1.560000   0.700000   -0.700000      4.617033    13.470   4466.40  \n",
      "3368   1.560000   0.700000   -0.700000    241.258000    13.470   4544.80  \n",
      "3369   1.560000   0.700000   -0.700000   1276.460000    13.470   4623.20  \n",
      "3370   1.560000   0.700000   -0.700000   3848.860000    13.470   4701.60  \n",
      "3371  12.000000   0.700000   -0.700000    136.750000    61.160   4780.00  \n",
      "\n",
      "[3372 rows x 28 columns]\n"
     ]
    }
   ],
   "source": [
    "print(df)"
   ]
  },
  {
   "cell_type": "code",
   "execution_count": 134,
   "metadata": {},
   "outputs": [
    {
     "ename": "SyntaxError",
     "evalue": "invalid syntax (<ipython-input-134-ec27f3a4710b>, line 2)",
     "output_type": "error",
     "traceback": [
      "\u001b[1;36m  File \u001b[1;32m\"<ipython-input-134-ec27f3a4710b>\"\u001b[1;36m, line \u001b[1;32m2\u001b[0m\n\u001b[1;33m    if((df['st_mass'][ind])>p)\u001b[0m\n\u001b[1;37m                              ^\u001b[0m\n\u001b[1;31mSyntaxError\u001b[0m\u001b[1;31m:\u001b[0m invalid syntax\n"
     ]
    }
   ],
   "source": [
    "for ind in df.st_mass:\n",
    "    if((df['st_mass'][ind])>p)\n",
    "       df['light_pl'][ind]=df['st_mass'][ind]"
   ]
  },
  {
   "cell_type": "code",
   "execution_count": 139,
   "metadata": {},
   "outputs": [
    {
     "data": {
      "image/png": "[encoded data removed]",
      "text/plain": [
       "<Figure size 432x288 with 1 Axes>"
      ]
     },
     "metadata": {},
     "output_type": "display_data"
    }
   ],
   "source": [
    "plt.pie(df['pl_pnum'],\n",
    "        \n",
    "                               \n",
    "autopct ='% 1.1f %%', shadow = True) \n",
    "plt.show() "
   ]
  },
  {
   "cell_type": "code",
   "execution_count": 146,
   "metadata": {},
   "outputs": [
    {
     "ename": "KeyError",
     "evalue": "1",
     "output_type": "error",
     "traceback": [
      "\u001b[1;31m---------------------------------------------------------------------------\u001b[0m",
      "\u001b[1;31mKeyError\u001b[0m                                  Traceback (most recent call last)",
      "\u001b[1;32m<ipython-input-146-ce45e6b9e341>\u001b[0m in \u001b[0;36m<module>\u001b[1;34m\u001b[0m\n\u001b[1;32m----> 1\u001b[1;33m \u001b[0mdf\u001b[0m\u001b[1;33m.\u001b[0m\u001b[0mgroupby\u001b[0m\u001b[1;33m(\u001b[0m\u001b[1;36m1\u001b[0m\u001b[1;33m)\u001b[0m\u001b[1;33m.\u001b[0m\u001b[0mpl_pnum\u001b[0m\u001b[1;33m.\u001b[0m\u001b[0mcount\u001b[0m\u001b[1;33m(\u001b[0m\u001b[1;33m)\u001b[0m\u001b[1;33m\u001b[0m\u001b[1;33m\u001b[0m\u001b[0m\n\u001b[0m",
      "\u001b[1;32m~\\Anaconda3\\lib\\site-packages\\pandas\\core\\generic.py\u001b[0m in \u001b[0;36mgroupby\u001b[1;34m(self, by, axis, level, as_index, sort, group_keys, squeeze, observed, **kwargs)\u001b[0m\n\u001b[0;32m   6663\u001b[0m         return groupby(self, by=by, axis=axis, level=level, as_index=as_index,\n\u001b[0;32m   6664\u001b[0m                        \u001b[0msort\u001b[0m\u001b[1;33m=\u001b[0m\u001b[0msort\u001b[0m\u001b[1;33m,\u001b[0m \u001b[0mgroup_keys\u001b[0m\u001b[1;33m=\u001b[0m\u001b[0mgroup_keys\u001b[0m\u001b[1;33m,\u001b[0m \u001b[0msqueeze\u001b[0m\u001b[1;33m=\u001b[0m\u001b[0msqueeze\u001b[0m\u001b[1;33m,\u001b[0m\u001b[1;33m\u001b[0m\u001b[1;33m\u001b[0m\u001b[0m\n\u001b[1;32m-> 6665\u001b[1;33m                        observed=observed, **kwargs)\n\u001b[0m\u001b[0;32m   6666\u001b[0m \u001b[1;33m\u001b[0m\u001b[0m\n\u001b[0;32m   6667\u001b[0m     def asfreq(self, freq, method=None, how=None, normalize=False,\n",
      "\u001b[1;32m~\\Anaconda3\\lib\\site-packages\\pandas\\core\\groupby\\groupby.py\u001b[0m in \u001b[0;36mgroupby\u001b[1;34m(obj, by, **kwds)\u001b[0m\n\u001b[0;32m   2150\u001b[0m         \u001b[1;32mraise\u001b[0m \u001b[0mTypeError\u001b[0m\u001b[1;33m(\u001b[0m\u001b[1;34m'invalid type: %s'\u001b[0m \u001b[1;33m%\u001b[0m \u001b[0mtype\u001b[0m\u001b[1;33m(\u001b[0m\u001b[0mobj\u001b[0m\u001b[1;33m)\u001b[0m\u001b[1;33m)\u001b[0m\u001b[1;33m\u001b[0m\u001b[1;33m\u001b[0m\u001b[0m\n\u001b[0;32m   2151\u001b[0m \u001b[1;33m\u001b[0m\u001b[0m\n\u001b[1;32m-> 2152\u001b[1;33m     \u001b[1;32mreturn\u001b[0m \u001b[0mklass\u001b[0m\u001b[1;33m(\u001b[0m\u001b[0mobj\u001b[0m\u001b[1;33m,\u001b[0m \u001b[0mby\u001b[0m\u001b[1;33m,\u001b[0m \u001b[1;33m**\u001b[0m\u001b[0mkwds\u001b[0m\u001b[1;33m)\u001b[0m\u001b[1;33m\u001b[0m\u001b[1;33m\u001b[0m\u001b[0m\n\u001b[0m\u001b[0;32m   2153\u001b[0m \u001b[1;33m\u001b[0m\u001b[0m\n\u001b[0;32m   2154\u001b[0m \u001b[1;33m\u001b[0m\u001b[0m\n",
      "\u001b[1;32m~\\Anaconda3\\lib\\site-packages\\pandas\\core\\groupby\\groupby.py\u001b[0m in \u001b[0;36m__init__\u001b[1;34m(self, obj, keys, axis, level, grouper, exclusions, selection, as_index, sort, group_keys, squeeze, observed, **kwargs)\u001b[0m\n\u001b[0;32m    597\u001b[0m                                                     \u001b[0msort\u001b[0m\u001b[1;33m=\u001b[0m\u001b[0msort\u001b[0m\u001b[1;33m,\u001b[0m\u001b[1;33m\u001b[0m\u001b[1;33m\u001b[0m\u001b[0m\n\u001b[0;32m    598\u001b[0m                                                     \u001b[0mobserved\u001b[0m\u001b[1;33m=\u001b[0m\u001b[0mobserved\u001b[0m\u001b[1;33m,\u001b[0m\u001b[1;33m\u001b[0m\u001b[1;33m\u001b[0m\u001b[0m\n\u001b[1;32m--> 599\u001b[1;33m                                                     mutated=self.mutated)\n\u001b[0m\u001b[0;32m    600\u001b[0m \u001b[1;33m\u001b[0m\u001b[0m\n\u001b[0;32m    601\u001b[0m         \u001b[0mself\u001b[0m\u001b[1;33m.\u001b[0m\u001b[0mobj\u001b[0m \u001b[1;33m=\u001b[0m \u001b[0mobj\u001b[0m\u001b[1;33m\u001b[0m\u001b[1;33m\u001b[0m\u001b[0m\n",
      "\u001b[1;32m~\\Anaconda3\\lib\\site-packages\\pandas\\core\\groupby\\groupby.py\u001b[0m in \u001b[0;36m_get_grouper\u001b[1;34m(obj, key, axis, level, sort, observed, mutated, validate)\u001b[0m\n\u001b[0;32m   3289\u001b[0m                 \u001b[0min_axis\u001b[0m\u001b[1;33m,\u001b[0m \u001b[0mname\u001b[0m\u001b[1;33m,\u001b[0m \u001b[0mlevel\u001b[0m\u001b[1;33m,\u001b[0m \u001b[0mgpr\u001b[0m \u001b[1;33m=\u001b[0m \u001b[1;32mFalse\u001b[0m\u001b[1;33m,\u001b[0m \u001b[1;32mNone\u001b[0m\u001b[1;33m,\u001b[0m \u001b[0mgpr\u001b[0m\u001b[1;33m,\u001b[0m \u001b[1;32mNone\u001b[0m\u001b[1;33m\u001b[0m\u001b[1;33m\u001b[0m\u001b[0m\n\u001b[0;32m   3290\u001b[0m             \u001b[1;32melse\u001b[0m\u001b[1;33m:\u001b[0m\u001b[1;33m\u001b[0m\u001b[1;33m\u001b[0m\u001b[0m\n\u001b[1;32m-> 3291\u001b[1;33m                 \u001b[1;32mraise\u001b[0m \u001b[0mKeyError\u001b[0m\u001b[1;33m(\u001b[0m\u001b[0mgpr\u001b[0m\u001b[1;33m)\u001b[0m\u001b[1;33m\u001b[0m\u001b[1;33m\u001b[0m\u001b[0m\n\u001b[0m\u001b[0;32m   3292\u001b[0m         \u001b[1;32melif\u001b[0m \u001b[0misinstance\u001b[0m\u001b[1;33m(\u001b[0m\u001b[0mgpr\u001b[0m\u001b[1;33m,\u001b[0m \u001b[0mGrouper\u001b[0m\u001b[1;33m)\u001b[0m \u001b[1;32mand\u001b[0m \u001b[0mgpr\u001b[0m\u001b[1;33m.\u001b[0m\u001b[0mkey\u001b[0m \u001b[1;32mis\u001b[0m \u001b[1;32mnot\u001b[0m \u001b[1;32mNone\u001b[0m\u001b[1;33m:\u001b[0m\u001b[1;33m\u001b[0m\u001b[1;33m\u001b[0m\u001b[0m\n\u001b[0;32m   3293\u001b[0m             \u001b[1;31m# Add key to exclusions\u001b[0m\u001b[1;33m\u001b[0m\u001b[1;33m\u001b[0m\u001b[1;33m\u001b[0m\u001b[0m\n",
      "\u001b[1;31mKeyError\u001b[0m: 1"
     ]
    }
   ],
   "source": [
    "df.groupby(1).pl_pnum.count()"
   ]
  }
 ],
 "metadata": {
  "kernelspec": {
   "display_name": "Python 3",
   "language": "python",
   "name": "python3"
  },
  "language_info": {
   "codemirror_mode": {
    "name": "ipython",
    "version": 3
   },
   "file_extension": ".py",
   "mimetype": "text/x-python",
   "name": "python",
   "nbconvert_exporter": "python",
   "pygments_lexer": "ipython3",
   "version": "3.7.3"
  }
 },
 "nbformat": 4,
 "nbformat_minor": 2
}
